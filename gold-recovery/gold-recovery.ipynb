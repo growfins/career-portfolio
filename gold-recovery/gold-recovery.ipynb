{
 "cells": [
  {
   "cell_type": "markdown",
   "metadata": {},
   "source": [
    "## Подготовка данных"
   ]
  },
  {
   "cell_type": "code",
   "execution_count": 2,
   "metadata": {},
   "outputs": [],
   "source": [
    "train = pd.read_csv('/gold_recovery_train_new.csv')\n",
    "test = pd.read_csv('/gold_recovery_test_new.csv')\n",
    "full = pd.read_csv('/gold_recovery_full_new.csv')"
   ]
  },
  {
   "cell_type": "code",
   "execution_count": 3,
   "metadata": {},
   "outputs": [
    {
     "name": "stdout",
     "output_type": "stream",
     "text": [
      "<class 'pandas.core.frame.DataFrame'>\n",
      "RangeIndex: 19439 entries, 0 to 19438\n",
      "Data columns (total 87 columns):\n",
      " #   Column                                              Non-Null Count  Dtype  \n",
      "---  ------                                              --------------  -----  \n",
      " 0   date                                                19439 non-null  object \n",
      " 1   final.output.concentrate_ag                         19438 non-null  float64\n",
      " 2   final.output.concentrate_pb                         19438 non-null  float64\n",
      " 3   final.output.concentrate_sol                        19228 non-null  float64\n",
      " 4   final.output.concentrate_au                         19439 non-null  float64\n",
      " 5   final.output.recovery                               19439 non-null  float64\n",
      " 6   final.output.tail_ag                                19438 non-null  float64\n",
      " 7   final.output.tail_pb                                19338 non-null  float64\n",
      " 8   final.output.tail_sol                               19433 non-null  float64\n",
      " 9   final.output.tail_au                                19439 non-null  float64\n",
      " 10  primary_cleaner.input.sulfate                       19415 non-null  float64\n",
      " 11  primary_cleaner.input.depressant                    19402 non-null  float64\n",
      " 12  primary_cleaner.input.feed_size                     19439 non-null  float64\n",
      " 13  primary_cleaner.input.xanthate                      19335 non-null  float64\n",
      " 14  primary_cleaner.output.concentrate_ag               19439 non-null  float64\n",
      " 15  primary_cleaner.output.concentrate_pb               19323 non-null  float64\n",
      " 16  primary_cleaner.output.concentrate_sol              19069 non-null  float64\n",
      " 17  primary_cleaner.output.concentrate_au               19439 non-null  float64\n",
      " 18  primary_cleaner.output.tail_ag                      19435 non-null  float64\n",
      " 19  primary_cleaner.output.tail_pb                      19418 non-null  float64\n",
      " 20  primary_cleaner.output.tail_sol                     19377 non-null  float64\n",
      " 21  primary_cleaner.output.tail_au                      19439 non-null  float64\n",
      " 22  primary_cleaner.state.floatbank8_a_air              19435 non-null  float64\n",
      " 23  primary_cleaner.state.floatbank8_a_level            19438 non-null  float64\n",
      " 24  primary_cleaner.state.floatbank8_b_air              19435 non-null  float64\n",
      " 25  primary_cleaner.state.floatbank8_b_level            19438 non-null  float64\n",
      " 26  primary_cleaner.state.floatbank8_c_air              19437 non-null  float64\n",
      " 27  primary_cleaner.state.floatbank8_c_level            19438 non-null  float64\n",
      " 28  primary_cleaner.state.floatbank8_d_air              19436 non-null  float64\n",
      " 29  primary_cleaner.state.floatbank8_d_level            19438 non-null  float64\n",
      " 30  rougher.calculation.sulfate_to_au_concentrate       19437 non-null  float64\n",
      " 31  rougher.calculation.floatbank10_sulfate_to_au_feed  19437 non-null  float64\n",
      " 32  rougher.calculation.floatbank11_sulfate_to_au_feed  19437 non-null  float64\n",
      " 33  rougher.calculation.au_pb_ratio                     19439 non-null  float64\n",
      " 34  rougher.input.feed_ag                               19439 non-null  float64\n",
      " 35  rougher.input.feed_pb                               19339 non-null  float64\n",
      " 36  rougher.input.feed_rate                             19428 non-null  float64\n",
      " 37  rougher.input.feed_size                             19294 non-null  float64\n",
      " 38  rougher.input.feed_sol                              19340 non-null  float64\n",
      " 39  rougher.input.feed_au                               19439 non-null  float64\n",
      " 40  rougher.input.floatbank10_sulfate                   19405 non-null  float64\n",
      " 41  rougher.input.floatbank10_xanthate                  19431 non-null  float64\n",
      " 42  rougher.input.floatbank11_sulfate                   19395 non-null  float64\n",
      " 43  rougher.input.floatbank11_xanthate                  18986 non-null  float64\n",
      " 44  rougher.output.concentrate_ag                       19439 non-null  float64\n",
      " 45  rougher.output.concentrate_pb                       19439 non-null  float64\n",
      " 46  rougher.output.concentrate_sol                      19416 non-null  float64\n",
      " 47  rougher.output.concentrate_au                       19439 non-null  float64\n",
      " 48  rougher.output.recovery                             19439 non-null  float64\n",
      " 49  rougher.output.tail_ag                              19438 non-null  float64\n",
      " 50  rougher.output.tail_pb                              19439 non-null  float64\n",
      " 51  rougher.output.tail_sol                             19439 non-null  float64\n",
      " 52  rougher.output.tail_au                              19439 non-null  float64\n",
      " 53  rougher.state.floatbank10_a_air                     19438 non-null  float64\n",
      " 54  rougher.state.floatbank10_a_level                   19438 non-null  float64\n",
      " 55  rougher.state.floatbank10_b_air                     19438 non-null  float64\n",
      " 56  rougher.state.floatbank10_b_level                   19438 non-null  float64\n",
      " 57  rougher.state.floatbank10_c_air                     19438 non-null  float64\n",
      " 58  rougher.state.floatbank10_c_level                   19438 non-null  float64\n",
      " 59  rougher.state.floatbank10_d_air                     19439 non-null  float64\n",
      " 60  rougher.state.floatbank10_d_level                   19439 non-null  float64\n",
      " 61  rougher.state.floatbank10_e_air                     19003 non-null  float64\n",
      " 62  rougher.state.floatbank10_e_level                   19439 non-null  float64\n",
      " 63  rougher.state.floatbank10_f_air                     19439 non-null  float64\n",
      " 64  rougher.state.floatbank10_f_level                   19439 non-null  float64\n",
      " 65  secondary_cleaner.output.tail_ag                    19437 non-null  float64\n",
      " 66  secondary_cleaner.output.tail_pb                    19427 non-null  float64\n",
      " 67  secondary_cleaner.output.tail_sol                   17691 non-null  float64\n",
      " 68  secondary_cleaner.output.tail_au                    19439 non-null  float64\n",
      " 69  secondary_cleaner.state.floatbank2_a_air            19219 non-null  float64\n",
      " 70  secondary_cleaner.state.floatbank2_a_level          19438 non-null  float64\n",
      " 71  secondary_cleaner.state.floatbank2_b_air            19416 non-null  float64\n",
      " 72  secondary_cleaner.state.floatbank2_b_level          19438 non-null  float64\n",
      " 73  secondary_cleaner.state.floatbank3_a_air            19426 non-null  float64\n",
      " 74  secondary_cleaner.state.floatbank3_a_level          19438 non-null  float64\n",
      " 75  secondary_cleaner.state.floatbank3_b_air            19438 non-null  float64\n",
      " 76  secondary_cleaner.state.floatbank3_b_level          19438 non-null  float64\n",
      " 77  secondary_cleaner.state.floatbank4_a_air            19433 non-null  float64\n",
      " 78  secondary_cleaner.state.floatbank4_a_level          19438 non-null  float64\n",
      " 79  secondary_cleaner.state.floatbank4_b_air            19438 non-null  float64\n",
      " 80  secondary_cleaner.state.floatbank4_b_level          19438 non-null  float64\n",
      " 81  secondary_cleaner.state.floatbank5_a_air            19438 non-null  float64\n",
      " 82  secondary_cleaner.state.floatbank5_a_level          19438 non-null  float64\n",
      " 83  secondary_cleaner.state.floatbank5_b_air            19438 non-null  float64\n",
      " 84  secondary_cleaner.state.floatbank5_b_level          19438 non-null  float64\n",
      " 85  secondary_cleaner.state.floatbank6_a_air            19437 non-null  float64\n",
      " 86  secondary_cleaner.state.floatbank6_a_level          19438 non-null  float64\n",
      "dtypes: float64(86), object(1)\n",
      "memory usage: 12.9+ MB\n"
     ]
    }
   ],
   "source": [
    "full.info()"
   ]
  },
  {
   "cell_type": "markdown",
   "metadata": {},
   "source": [
    "Имеем три датасета - сырые данные выгружены прямиком с датчиков флотационных установок. Они не обработаны и не подготовлены для исследования, однако уже разделены заказчиком на три датасета:  \n",
    "1. **`Train.`** Представляет собой датасет с набором объектов и признаков этих объектов. Содержит внушительное число столбцов - 87, а также огромное количество пропущенных значений. \n",
    "2. **`Test`** Датасет для проверки постоенной модели. Содержит небольшое, относительно Train, число солбцов. Также содержит пропуски\n",
    "3. **`Full`** Датасет со всеми значениями. содержит еще больше столбцов, чем Train также (91), пропущенных значения имеютсся.\n",
    "\n",
    "По итогам можно сформировать несколько наблюдений и выводов:    \n",
    "\n",
    "1. **Целевой признак — Recovery золота после флотации и в финальном концентрате.**  Понятна важность Recovery  в финальном концентрате. Важность Recovery после флотации объясняется, на мой взгляд, тем, что  на результат флотации влияет множество переменных (количества и соотношение реактивов, качество пульпы, параметры флотационных установок. Один невзрачный на первый взгляд параметр флотации может оказывать выраженное влияние на качество обогащения вцелом (final), в то время как очистка более простой и предсказуемый процесс.  Кроме того, данные огромны и непонятны. Важность или неважность каждого из признаков нужно устанавливать самостоятельно. В боевых условиях, конечно, потребовался бы более глубокий заплыв в методические материалы, которые, возможно, могут быть получены или порекомендованы заказчиком. \n",
    "2. **Восстановить целевой признак на тестовой выборке возможно только по дате.** Дата - своебразный уникальный индекс для этого исследования. Замечено, что данные, близкие по дате (например, снятые с разницей в час) оченьпохожи друг на друга - это хорошие новости, значит в них есть закономерность, которая пригодится при восстановлении пропущенных значений. \n",
    "3. **Столбцы перемешаны относительно стадий технологического процесса** - необходима работа по восстановлению потрядка и приведению признаков к некой системности, которая внесёт в ясность в данные, лежащие перед нами.\n",
    "4. Процитирую слова старшего студента нашей когорты: \n",
    "> При работе с выбросами, нет рекомендаций к их удалению, говорят так 'на усмотрение бизнеса'.  Ведь выбросы - это и есть реальная концентрация. И нам важно, чтобы модель умела и их тоже видеть и обрабатывать. Если их убрать из модели, то получится, что у нас она станет как бы искусственной. Т.е. будет работать только в небольших диапазонах - потому что обучалась только в них.\n",
    "\n",
    "    **Из чего следует, что выбросы удалять не нужно.**\n",
    "   \n",
    "      "
   ]
  },
  {
   "cell_type": "markdown",
   "metadata": {},
   "source": [
    "*Промежуточные итоги*\n",
    "\n",
    "На первый взгляд целевые признаки могут показаться связанными друг с другом: Recovery после флотациии - важный промежуточный этап, посмотрев на результаты которого, можно многое сказать о ходе процесса. Имеет место слабовыраженная корреляция."
   ]
  },
  {
   "cell_type": "code",
   "execution_count": 4,
   "metadata": {},
   "outputs": [
    {
     "data": {
      "text/plain": [
       "0.3270587324133113"
      ]
     },
     "execution_count": 4,
     "metadata": {},
     "output_type": "execute_result"
    }
   ],
   "source": [
    "full['rougher.output.recovery'].corr(full['final.output.recovery'])"
   ]
  },
  {
   "attachments": {
    "image-2.png": {
     "image/png": "[encoded data removed]"
    }
   },
   "cell_type": "markdown",
   "metadata": {},
   "source": [
    "### Восстановление последовательности технологического процесса\n",
    "\n",
    "Итак, в ходе изучения данных все столбцы были раделены по этапам и выстроены согласно последовательности технологического процесса.\n",
    "\n",
    "![image-2.png](attachment:image-2.png)"
   ]
  },
  {
   "cell_type": "markdown",
   "metadata": {},
   "source": [
    "Заметно, например, что самый подробно представленный этап в наших данных - это флотация. Про этап вторичной очистки и про финальные показатели информации не очень много.  \n",
    "Расчётные характеристики выделяются только для флотации, параметры сырья и продукта известны только для первых двух этапов.   \n",
    "\n",
    " \n",
    " Для дальнейших исследований необходимо заполнить пропуски. "
   ]
  },
  {
   "cell_type": "markdown",
   "metadata": {},
   "source": [
    "### Заполнение пропусков \n",
    "\n",
    "Пропуски типа MAR, их восстановление или заполнение возможно на основе имеющихся данных. \n",
    "Обратимся к ad-hoc методам  для заполнения пропущенных значений: нам пригодится свойство столбца `date`.  \n",
    "Нетрудно заметить, что близкие по дате и времени значения похожи. \n",
    " - `ffil()` заполнит пропуски последним наблюдаемым объектом; \n",
    " - `interpolate()` - интерполируемой величиной, рассчитанной с соседних значений. \n",
    " \n",
    "Выберем интерполяцию, чтобы не плодить в датасете пары одинаковых значений."
   ]
  },
  {
   "cell_type": "code",
   "execution_count": 5,
   "metadata": {},
   "outputs": [
    {
     "name": "stdout",
     "output_type": "stream",
     "text": [
      "<class 'pandas.core.frame.DataFrame'>\n",
      "RangeIndex: 14149 entries, 0 to 14148\n",
      "Data columns (total 87 columns):\n",
      " #   Column                                              Non-Null Count  Dtype  \n",
      "---  ------                                              --------------  -----  \n",
      " 0   date                                                14149 non-null  object \n",
      " 1   final.output.concentrate_ag                         14149 non-null  float64\n",
      " 2   final.output.concentrate_pb                         14149 non-null  float64\n",
      " 3   final.output.concentrate_sol                        14149 non-null  float64\n",
      " 4   final.output.concentrate_au                         14149 non-null  float64\n",
      " 5   final.output.recovery                               14149 non-null  float64\n",
      " 6   final.output.tail_ag                                14149 non-null  float64\n",
      " 7   final.output.tail_pb                                14149 non-null  float64\n",
      " 8   final.output.tail_sol                               14149 non-null  float64\n",
      " 9   final.output.tail_au                                14149 non-null  float64\n",
      " 10  primary_cleaner.input.sulfate                       14149 non-null  float64\n",
      " 11  primary_cleaner.input.depressant                    14149 non-null  float64\n",
      " 12  primary_cleaner.input.feed_size                     14149 non-null  float64\n",
      " 13  primary_cleaner.input.xanthate                      14149 non-null  float64\n",
      " 14  primary_cleaner.output.concentrate_ag               14149 non-null  float64\n",
      " 15  primary_cleaner.output.concentrate_pb               14149 non-null  float64\n",
      " 16  primary_cleaner.output.concentrate_sol              14149 non-null  float64\n",
      " 17  primary_cleaner.output.concentrate_au               14149 non-null  float64\n",
      " 18  primary_cleaner.output.tail_ag                      14149 non-null  float64\n",
      " 19  primary_cleaner.output.tail_pb                      14149 non-null  float64\n",
      " 20  primary_cleaner.output.tail_sol                     14149 non-null  float64\n",
      " 21  primary_cleaner.output.tail_au                      14149 non-null  float64\n",
      " 22  primary_cleaner.state.floatbank8_a_air              14149 non-null  float64\n",
      " 23  primary_cleaner.state.floatbank8_a_level            14149 non-null  float64\n",
      " 24  primary_cleaner.state.floatbank8_b_air              14149 non-null  float64\n",
      " 25  primary_cleaner.state.floatbank8_b_level            14149 non-null  float64\n",
      " 26  primary_cleaner.state.floatbank8_c_air              14149 non-null  float64\n",
      " 27  primary_cleaner.state.floatbank8_c_level            14149 non-null  float64\n",
      " 28  primary_cleaner.state.floatbank8_d_air              14149 non-null  float64\n",
      " 29  primary_cleaner.state.floatbank8_d_level            14149 non-null  float64\n",
      " 30  rougher.calculation.sulfate_to_au_concentrate       14149 non-null  float64\n",
      " 31  rougher.calculation.floatbank10_sulfate_to_au_feed  14149 non-null  float64\n",
      " 32  rougher.calculation.floatbank11_sulfate_to_au_feed  14149 non-null  float64\n",
      " 33  rougher.calculation.au_pb_ratio                     14149 non-null  float64\n",
      " 34  rougher.input.feed_ag                               14149 non-null  float64\n",
      " 35  rougher.input.feed_pb                               14149 non-null  float64\n",
      " 36  rougher.input.feed_rate                             14149 non-null  float64\n",
      " 37  rougher.input.feed_size                             14149 non-null  float64\n",
      " 38  rougher.input.feed_sol                              14149 non-null  float64\n",
      " 39  rougher.input.feed_au                               14149 non-null  float64\n",
      " 40  rougher.input.floatbank10_sulfate                   14149 non-null  float64\n",
      " 41  rougher.input.floatbank10_xanthate                  14149 non-null  float64\n",
      " 42  rougher.input.floatbank11_sulfate                   14149 non-null  float64\n",
      " 43  rougher.input.floatbank11_xanthate                  14149 non-null  float64\n",
      " 44  rougher.output.concentrate_ag                       14149 non-null  float64\n",
      " 45  rougher.output.concentrate_pb                       14149 non-null  float64\n",
      " 46  rougher.output.concentrate_sol                      14149 non-null  float64\n",
      " 47  rougher.output.concentrate_au                       14149 non-null  float64\n",
      " 48  rougher.output.recovery                             14149 non-null  float64\n",
      " 49  rougher.output.tail_ag                              14149 non-null  float64\n",
      " 50  rougher.output.tail_pb                              14149 non-null  float64\n",
      " 51  rougher.output.tail_sol                             14149 non-null  float64\n",
      " 52  rougher.output.tail_au                              14149 non-null  float64\n",
      " 53  rougher.state.floatbank10_a_air                     14149 non-null  float64\n",
      " 54  rougher.state.floatbank10_a_level                   14149 non-null  float64\n",
      " 55  rougher.state.floatbank10_b_air                     14149 non-null  float64\n",
      " 56  rougher.state.floatbank10_b_level                   14149 non-null  float64\n",
      " 57  rougher.state.floatbank10_c_air                     14149 non-null  float64\n",
      " 58  rougher.state.floatbank10_c_level                   14149 non-null  float64\n",
      " 59  rougher.state.floatbank10_d_air                     14149 non-null  float64\n",
      " 60  rougher.state.floatbank10_d_level                   14149 non-null  float64\n",
      " 61  rougher.state.floatbank10_e_air                     14149 non-null  float64\n",
      " 62  rougher.state.floatbank10_e_level                   14149 non-null  float64\n",
      " 63  rougher.state.floatbank10_f_air                     14149 non-null  float64\n",
      " 64  rougher.state.floatbank10_f_level                   14149 non-null  float64\n",
      " 65  secondary_cleaner.output.tail_ag                    14149 non-null  float64\n",
      " 66  secondary_cleaner.output.tail_pb                    14149 non-null  float64\n",
      " 67  secondary_cleaner.output.tail_sol                   14149 non-null  float64\n",
      " 68  secondary_cleaner.output.tail_au                    14149 non-null  float64\n",
      " 69  secondary_cleaner.state.floatbank2_a_air            14149 non-null  float64\n",
      " 70  secondary_cleaner.state.floatbank2_a_level          14149 non-null  float64\n",
      " 71  secondary_cleaner.state.floatbank2_b_air            14149 non-null  float64\n",
      " 72  secondary_cleaner.state.floatbank2_b_level          14149 non-null  float64\n",
      " 73  secondary_cleaner.state.floatbank3_a_air            14149 non-null  float64\n",
      " 74  secondary_cleaner.state.floatbank3_a_level          14149 non-null  float64\n",
      " 75  secondary_cleaner.state.floatbank3_b_air            14149 non-null  float64\n",
      " 76  secondary_cleaner.state.floatbank3_b_level          14149 non-null  float64\n",
      " 77  secondary_cleaner.state.floatbank4_a_air            14149 non-null  float64\n",
      " 78  secondary_cleaner.state.floatbank4_a_level          14149 non-null  float64\n",
      " 79  secondary_cleaner.state.floatbank4_b_air            14149 non-null  float64\n",
      " 80  secondary_cleaner.state.floatbank4_b_level          14149 non-null  float64\n",
      " 81  secondary_cleaner.state.floatbank5_a_air            14149 non-null  float64\n",
      " 82  secondary_cleaner.state.floatbank5_a_level          14149 non-null  float64\n",
      " 83  secondary_cleaner.state.floatbank5_b_air            14149 non-null  float64\n",
      " 84  secondary_cleaner.state.floatbank5_b_level          14149 non-null  float64\n",
      " 85  secondary_cleaner.state.floatbank6_a_air            14149 non-null  float64\n",
      " 86  secondary_cleaner.state.floatbank6_a_level          14149 non-null  float64\n",
      "dtypes: float64(86), object(1)\n",
      "memory usage: 9.4+ MB\n"
     ]
    }
   ],
   "source": [
    "train.interpolate(inplace = True)\n",
    "test.interpolate(inplace = True)\n",
    "full.interpolate(inplace = True)\n",
    "train.info()"
   ]
  },
  {
   "attachments": {
    "image.png": {
     "image/png": "[encoded data removed]"
    }
   },
   "cell_type": "markdown",
   "metadata": {},
   "source": [
    "### Проверка правильности рассчёта эффективности обогащения\n",
    "\n",
    "выполняется для целевого признака `rougher.output.recovery` по формуле, предоставленной заказчиком. Вычислим recovery на обучающей выборке, а после сравним её с реальным значением признака.\n",
    "\n",
    "Для начала проанализируем полученную нами формулу:\n",
    "\n",
    "![image.png](attachment:image.png)\n",
    "\n",
    "C — доля золота в концентрате после флотации/очистки;  \n",
    "F — доля золота в сырье/концентрате до флотации/очистки;  \n",
    "T — доля золота в отвальных хвостах после флотации/очистки.  "
   ]
  },
  {
   "cell_type": "markdown",
   "metadata": {},
   "source": [
    "Recovery **увеличивается** с ростом доли золота в итоговом продукте **С**, а также с увеличением разницы **(F - T)**, то есть с увеличением разрыва между концентрациями золота в сырье и отвальных хвостах. \n",
    "\n",
    "Recovery **уменьшается** с ростом доли золота в сырье **F**, а также с увеличением разницы **(С-Т)**, т.е. с увеличением разрыва между концентрацией золота в концентрате  и в отвальных хвостах.\n",
    "\n",
    "Соответственно, recovery нам надо **уменьшать**"
   ]
  },
  {
   "cell_type": "code",
   "execution_count": 6,
   "metadata": {},
   "outputs": [
    {
     "name": "stdout",
     "output_type": "stream",
     "text": [
      "MAE: 1.1131451184435918e-14\n"
     ]
    }
   ],
   "source": [
    "# Воспользуемся условными обозначениями:\n",
    "#C = rougher.output.concentrate_au\n",
    "#F = rougher.input.feed_au\n",
    "#T = rougher.output.tail_au\n",
    "recovery = []\n",
    "for i in range(train.shape[0]):\n",
    "    C = train['rougher.output.concentrate_au'][i]\n",
    "    F = train['rougher.input.feed_au'][i]\n",
    "    T = train['rougher.output.tail_au'][i]\n",
    "    value = (C * (F - T) * 100) / (F * (C - T))\n",
    "    recovery.append(value)\n",
    "print('MAE:', mean_absolute_error(train['rougher.output.recovery'], recovery))"
   ]
  },
  {
   "cell_type": "code",
   "execution_count": 7,
   "metadata": {},
   "outputs": [
    {
     "data": {
      "text/plain": [
       "0"
      ]
     },
     "execution_count": 7,
     "metadata": {},
     "output_type": "execute_result"
    }
   ],
   "source": [
    "full.duplicated().sum()"
   ]
  },
  {
   "cell_type": "markdown",
   "metadata": {},
   "source": [
    "Быстрая проверка на дупликаты — таковых не обнаружено."
   ]
  },
  {
   "cell_type": "markdown",
   "metadata": {},
   "source": [
    "<b>ВЫВОД:</b> формула достаточно чётко описывает реальный процесс. Неизвестно, как замеряли recovery. Вполне возможно,что показатель был автоматически рассчитан на соответствующих данных в момент их получения или замера — таким образом, можно сделать вывод о том, что зная три признака из столбцов <code>rougher.output.concentrate_au, rougher.input.feed_au, rougher.output.tail_au</code>, математическим путём можно получить очень близкое к реальному значение, а также то, что четыре признака будут выраженно коррелировать между собой (что естественно, ведь их зависимость даже описана формулой!). Это нужно будет иметь ввиду при построении модели.  "
   ]
  },
  {
   "attachments": {
    "image.png": {
     "image/png": "[encoded data removed]"
    }
   },
   "cell_type": "markdown",
   "metadata": {},
   "source": [
    "_____________________________\n",
    "### Анализ признаков, недоступных в тестовой выборке\n",
    "\n",
    "При разборе каждого столбца в отдельности, на тестовой выборке были замечены несколько закономерностей.\n",
    "\n",
    "![image.png](attachment:image.png)"
   ]
  },
  {
   "cell_type": "markdown",
   "metadata": {},
   "source": [
    "Из теста убрали:\n",
    "1. Вообще все признаки, которые мы обознчили как **С, F** и **Т**, не только для золота, но и для остальных металлов.  \n",
    "2. Все признаки всех продуктов  \n",
    "3. Все расчётные характеристики  \n",
    "4. Все финальные зарактеристики  \n",
    "\n",
    "Одним словом всё, что может повлиять на результат или сильно с ним коррелировать, а также всё, что самим результатом и является (все характеристики продукта). \n",
    "Оставили характеристки, влияние которых на конечный продкт представляет интерес: \n",
    "  - например, расчётных характеристики реагентов, пенообразователей и депрессантов, размера частиц, а также физических условий проведения флотации и очистки - важно посмотреть, как такое сочетание веществ скажется на результатах обогащения.\n",
    "  \n",
    "*Примечание: во время выполнения проекта мне было не совсем ясно, что такое sol. Преподаватель сказал, что это сульфат, но я не совсем согласна. Сульфат (sulf) и sol имеют разные частотные отрезкт в химической номенклатуре, и sol скорее подходит под растворитель, раствор или золь. Металлом это тоже скорее всего не будет. Также преподаватель упомянул, что это бесполезный для исследования признак, наряду с концентрацией свинца и серебра. С удалением этого признака я частично не согласна, далее будет обоснование*"
   ]
  },
  {
   "cell_type": "code",
   "execution_count": 8,
   "metadata": {},
   "outputs": [
    {
     "name": "stdout",
     "output_type": "stream",
     "text": [
      "<class 'pandas.core.frame.DataFrame'>\n",
      "RangeIndex: 5290 entries, 0 to 5289\n",
      "Data columns (total 53 columns):\n",
      " #   Column                                      Non-Null Count  Dtype  \n",
      "---  ------                                      --------------  -----  \n",
      " 0   date                                        5290 non-null   object \n",
      " 1   primary_cleaner.input.sulfate               5290 non-null   float64\n",
      " 2   primary_cleaner.input.depressant            5290 non-null   float64\n",
      " 3   primary_cleaner.input.feed_size             5290 non-null   float64\n",
      " 4   primary_cleaner.input.xanthate              5290 non-null   float64\n",
      " 5   primary_cleaner.state.floatbank8_a_air      5290 non-null   float64\n",
      " 6   primary_cleaner.state.floatbank8_a_level    5290 non-null   float64\n",
      " 7   primary_cleaner.state.floatbank8_b_air      5290 non-null   float64\n",
      " 8   primary_cleaner.state.floatbank8_b_level    5290 non-null   float64\n",
      " 9   primary_cleaner.state.floatbank8_c_air      5290 non-null   float64\n",
      " 10  primary_cleaner.state.floatbank8_c_level    5290 non-null   float64\n",
      " 11  primary_cleaner.state.floatbank8_d_air      5290 non-null   float64\n",
      " 12  primary_cleaner.state.floatbank8_d_level    5290 non-null   float64\n",
      " 13  rougher.input.feed_ag                       5290 non-null   float64\n",
      " 14  rougher.input.feed_pb                       5290 non-null   float64\n",
      " 15  rougher.input.feed_rate                     5290 non-null   float64\n",
      " 16  rougher.input.feed_size                     5290 non-null   float64\n",
      " 17  rougher.input.feed_sol                      5290 non-null   float64\n",
      " 18  rougher.input.feed_au                       5290 non-null   float64\n",
      " 19  rougher.input.floatbank10_sulfate           5290 non-null   float64\n",
      " 20  rougher.input.floatbank10_xanthate          5290 non-null   float64\n",
      " 21  rougher.input.floatbank11_sulfate           5290 non-null   float64\n",
      " 22  rougher.input.floatbank11_xanthate          5290 non-null   float64\n",
      " 23  rougher.state.floatbank10_a_air             5290 non-null   float64\n",
      " 24  rougher.state.floatbank10_a_level           5290 non-null   float64\n",
      " 25  rougher.state.floatbank10_b_air             5290 non-null   float64\n",
      " 26  rougher.state.floatbank10_b_level           5290 non-null   float64\n",
      " 27  rougher.state.floatbank10_c_air             5290 non-null   float64\n",
      " 28  rougher.state.floatbank10_c_level           5290 non-null   float64\n",
      " 29  rougher.state.floatbank10_d_air             5290 non-null   float64\n",
      " 30  rougher.state.floatbank10_d_level           5290 non-null   float64\n",
      " 31  rougher.state.floatbank10_e_air             5290 non-null   float64\n",
      " 32  rougher.state.floatbank10_e_level           5290 non-null   float64\n",
      " 33  rougher.state.floatbank10_f_air             5290 non-null   float64\n",
      " 34  rougher.state.floatbank10_f_level           5290 non-null   float64\n",
      " 35  secondary_cleaner.state.floatbank2_a_air    5290 non-null   float64\n",
      " 36  secondary_cleaner.state.floatbank2_a_level  5290 non-null   float64\n",
      " 37  secondary_cleaner.state.floatbank2_b_air    5290 non-null   float64\n",
      " 38  secondary_cleaner.state.floatbank2_b_level  5290 non-null   float64\n",
      " 39  secondary_cleaner.state.floatbank3_a_air    5290 non-null   float64\n",
      " 40  secondary_cleaner.state.floatbank3_a_level  5290 non-null   float64\n",
      " 41  secondary_cleaner.state.floatbank3_b_air    5290 non-null   float64\n",
      " 42  secondary_cleaner.state.floatbank3_b_level  5290 non-null   float64\n",
      " 43  secondary_cleaner.state.floatbank4_a_air    5290 non-null   float64\n",
      " 44  secondary_cleaner.state.floatbank4_a_level  5290 non-null   float64\n",
      " 45  secondary_cleaner.state.floatbank4_b_air    5290 non-null   float64\n",
      " 46  secondary_cleaner.state.floatbank4_b_level  5290 non-null   float64\n",
      " 47  secondary_cleaner.state.floatbank5_a_air    5290 non-null   float64\n",
      " 48  secondary_cleaner.state.floatbank5_a_level  5290 non-null   float64\n",
      " 49  secondary_cleaner.state.floatbank5_b_air    5290 non-null   float64\n",
      " 50  secondary_cleaner.state.floatbank5_b_level  5290 non-null   float64\n",
      " 51  secondary_cleaner.state.floatbank6_a_air    5290 non-null   float64\n",
      " 52  secondary_cleaner.state.floatbank6_a_level  5290 non-null   float64\n",
      "dtypes: float64(52), object(1)\n",
      "memory usage: 2.1+ MB\n"
     ]
    }
   ],
   "source": [
    "test.info()"
   ]
  },
  {
   "cell_type": "markdown",
   "metadata": {},
   "source": [
    "\n",
    "<b>ВЫВОД:</b> Закончен этап ознакомления с датасетами и частичной предобработки данных."
   ]
  },
  {
   "cell_type": "markdown",
   "metadata": {},
   "source": [
    "## Анализ данных\n",
    "\n",
    "### Изменение концентрации металлов на различных этапах обогащения руды\n",
    "Задача: посмотреть, как меняется концентрация металлов (Au, Ag, Pb) на различных этапах очистки.   \n",
    "Используемые стобцы: \n",
    "  \n",
    "**Флотация:**           `rougher.output.cooncentrate_ag, pb, au`  \n",
    "**Первичная очистка:**  `primary_cleaner.output.concentrate_ag, pb, au`  \n",
    "**Вторичная очистка:**  `secondary_cleaner.output.concentrate_ag, pb, au`  \n",
    "**Финал:**              `final.output.concentrate_ag, pb, au`  "
   ]
  },
  {
   "cell_type": "markdown",
   "metadata": {},
   "source": [
    "_______________"
   ]
  },
  {
   "cell_type": "code",
   "execution_count": 9,
   "metadata": {},
   "outputs": [
    {
     "data": {
      "image/png": "[encoded data removed]",
      "text/plain": [
       "<Figure size 1440x1080 with 3 Axes>"
      ]
     },
     "metadata": {
      "needs_background": "light"
     },
     "output_type": "display_data"
    }
   ],
   "source": [
    "fig = plt.figure()\n",
    "fig.suptitle('Изменение общей концентрации металлов на разных этапах очистки', fontsize=20)\n",
    "\n",
    "ax1 = fig.add_subplot(3,1,1)\n",
    "ax2 = fig.add_subplot(3,1,2)\n",
    "ax3 = fig.add_subplot(3,1,3)\n",
    "\n",
    "all_rougher = pd.Series(train['rougher.output.concentrate_ag'] +\n",
    "                        train['rougher.output.concentrate_pb'] +\n",
    "                        train['rougher.output.concentrate_au'])\n",
    "all_primary = pd.Series(train['primary_cleaner.output.concentrate_ag'] +\n",
    "                        train['primary_cleaner.output.concentrate_pb'] +\n",
    "                        train['primary_cleaner.output.concentrate_au'])\n",
    "all_final = pd.Series(train['final.output.concentrate_ag'] +\n",
    "                        train['final.output.concentrate_pb'] +\n",
    "                        train['final.output.concentrate_au'])\n",
    "\n",
    "\n",
    "all_rougher.hist(ax = ax1, bins = 200, figsize = (5, 10))\n",
    "all_primary.hist(ax = ax2, bins = 200, figsize = (20, 15))\n",
    "all_final.hist(ax = ax3, bins = 200, figsize = (20, 15))\n",
    "\n",
    "\n",
    "ax1.set_title('Этап флотации')\n",
    "\n",
    "ax2.set_title('Этап первичной очистки')\n",
    "ax3.set_title('Финал')\n",
    "\n",
    "ax1.set_ylabel('Частота')\n",
    "ax2.set_ylabel('Частота')\n",
    "ax3.set_ylabel('Частота')\n",
    "\n",
    "ax3.set_xlabel('Суммарная концентрация металлов')\n",
    "\n",
    "plt.show()"
   ]
  },
  {
   "cell_type": "markdown",
   "metadata": {},
   "source": [
    "**Вывод:** от этапа флотации до финала суммарная концентрация металлов увеличивается - в этом и заключается смысл обогащения руды.\n",
    "Распределение близко к нормальному, симметрично, или немного смещено влево (имеет \"хвост\" в области низких концентраций)."
   ]
  },
  {
   "cell_type": "code",
   "execution_count": 10,
   "metadata": {},
   "outputs": [
    {
     "data": {
      "image/png": "[encoded data removed]",
      "text/plain": [
       "<Figure size 1440x1080 with 3 Axes>"
      ]
     },
     "metadata": {
      "needs_background": "light"
     },
     "output_type": "display_data"
    }
   ],
   "source": [
    "fig = plt.figure()\n",
    "fig.suptitle('Изменение концентрации серебра (Ag) на разных этапах очистки', fontsize=20)\n",
    "\n",
    "ax1 = fig.add_subplot(3,1,1)\n",
    "ax2 = fig.add_subplot(3,1,2)\n",
    "ax3 = fig.add_subplot(3,1,3)\n",
    "\n",
    "\n",
    "train['final.output.tail_ag'].hist(ax = ax3, bins = 200, figsize = (20, 15), label = 'tails')\n",
    "train['rougher.output.tail_ag'].hist(ax = ax2, bins = 200, figsize = (20, 15), label = 'tails')\n",
    "train['primary_cleaner.output.tail_ag'].hist(ax = ax1, bins = 200, figsize = (20, 15), label = 'tails')\n",
    "train['rougher.output.concentrate_ag'].hist(ax = ax1, bins = 200, figsize = (20, 15), label = 'heads')\n",
    "train['primary_cleaner.output.concentrate_ag'].hist(ax = ax2, bins = 200, figsize = (20, 15), label = 'heads')\n",
    "train['final.output.concentrate_ag'].hist(ax = ax3, bins = 200, figsize = (20, 15), label = 'heads')\n",
    "\n",
    "ax1.legend()\n",
    "ax2.legend()\n",
    "ax3.legend()\n",
    "\n",
    "ax1.set_title('Этап флотации')\n",
    "ax2.set_title('Этап первичной очистки')\n",
    "ax3.set_title('Финал')\n",
    "\n",
    "ax1.set_ylabel('Частота')\n",
    "ax2.set_ylabel('Частота')\n",
    "ax3.set_ylabel('Частота')\n",
    "\n",
    "ax3.set_xlabel('Суммарная концентрация серебра')\n",
    "ax2.set_xlim(0, 25)\n",
    "ax3.set_xlim(0, 25)\n",
    "\n",
    "plt.show()"
   ]
  },
  {
   "cell_type": "markdown",
   "metadata": {},
   "source": [
    "**Вывод:** может флотация - не самый выгодный способ обогащения серебросодержащей руды? В хвостах концентрация металла чаще всего выше, чем в финальном продукте."
   ]
  },
  {
   "cell_type": "code",
   "execution_count": 11,
   "metadata": {},
   "outputs": [
    {
     "data": {
      "image/png": "[encoded data removed]",
      "text/plain": [
       "<Figure size 1440x1080 with 3 Axes>"
      ]
     },
     "metadata": {
      "needs_background": "light"
     },
     "output_type": "display_data"
    }
   ],
   "source": [
    "fig = plt.figure()\n",
    "fig.suptitle('Изменение концентрации свинца (Pb) на разных этапах очистки', fontsize=20)\n",
    "\n",
    "ax1 = fig.add_subplot(3,1,1)\n",
    "ax2 = fig.add_subplot(3,1,2)\n",
    "ax3 = fig.add_subplot(3,1,3)\n",
    "\n",
    "\n",
    "train['final.output.tail_pb'].hist(ax = ax3, bins = 200, figsize = (20, 15), label = 'tails')\n",
    "train['rougher.output.tail_pb'].hist(ax = ax2, bins = 200, figsize = (20, 15), label = 'tails')\n",
    "train['primary_cleaner.output.tail_pb'].hist(ax = ax1, bins = 200, figsize = (20, 15), label = 'tails')\n",
    "train['rougher.output.concentrate_pb'].hist(ax = ax1, bins = 200, figsize = (20, 15), label = 'heads')\n",
    "train['primary_cleaner.output.concentrate_pb'].hist(ax = ax2, bins = 200, figsize = (20, 15), label = 'heads')\n",
    "train['final.output.concentrate_pb'].hist(ax = ax3, bins = 200, figsize = (20, 15), label = 'heads')\n",
    "\n",
    "ax1.legend()\n",
    "ax2.legend()\n",
    "ax3.legend()\n",
    "\n",
    "ax1.set_title('Этап флотации')\n",
    "ax2.set_title('Этап первичной очистки')\n",
    "ax3.set_title('Финал')\n",
    "\n",
    "ax1.set_ylabel('Частота')\n",
    "ax2.set_ylabel('Частота')\n",
    "ax3.set_ylabel('Частота')\n",
    "\n",
    "ax3.set_xlabel('Суммарная концентрация свинца')\n",
    "ax1.set_xlim(0, 25)\n",
    "ax2.set_xlim(0, 25)\n",
    "ax3.set_xlim(0, 25)\n",
    "\n",
    "plt.show()"
   ]
  },
  {
   "cell_type": "markdown",
   "metadata": {},
   "source": [
    "**Вывод:** совсем не похоже на серебро. Эффективность выделения свинца с использованием флотации очевидно даёт лучшие результаты - концентрация увеличивается от этапа к этапу, она \"концентрирутся\" в районе 10 ед. Хвосты в целом менее богаты металлом. "
   ]
  },
  {
   "cell_type": "code",
   "execution_count": 12,
   "metadata": {},
   "outputs": [
    {
     "data": {
      "image/png": "[encoded data removed]",
      "text/plain": [
       "<Figure size 1440x1080 with 3 Axes>"
      ]
     },
     "metadata": {
      "needs_background": "light"
     },
     "output_type": "display_data"
    }
   ],
   "source": [
    "fig = plt.figure()\n",
    "fig.suptitle('Изменение концентрации золота (Au) на разных этапах очистки', fontsize=20)\n",
    "\n",
    "ax1 = fig.add_subplot(3,1,1)\n",
    "ax2 = fig.add_subplot(3,1,2)\n",
    "ax3 = fig.add_subplot(3,1,3)\n",
    "\n",
    "\n",
    "train['final.output.tail_au'].hist(ax = ax3, bins = 200, figsize = (20, 15), label = 'tails')\n",
    "train['rougher.output.tail_au'].hist(ax = ax2, bins = 200, figsize = (20, 15), label = 'tails')\n",
    "train['primary_cleaner.output.tail_au'].hist(ax = ax1, bins = 200, figsize = (20, 15), label = 'tails')\n",
    "train['rougher.output.concentrate_au'].hist(ax = ax1, bins = 200, figsize = (20, 15), label = 'heads')\n",
    "train['primary_cleaner.output.concentrate_au'].hist(ax = ax2, bins = 200, figsize = (20, 15), label = 'heads')\n",
    "train['final.output.concentrate_au'].hist(ax = ax3, bins = 200, figsize = (20, 15), label = 'heads')\n",
    "\n",
    "ax1.legend()\n",
    "ax2.legend()\n",
    "ax3.legend()\n",
    "\n",
    "ax1.set_title('Этап флотации')\n",
    "ax2.set_title('Этап первичной очистки')\n",
    "ax3.set_title('Финал')\n",
    "\n",
    "ax1.set_ylabel('Частота')\n",
    "ax2.set_ylabel('Частота')\n",
    "ax3.set_ylabel('Частота')\n",
    "\n",
    "ax3.set_xlabel('Суммарная концентрация золота')\n",
    "ax1.set_xlim(0, 60)\n",
    "ax2.set_xlim(0, 60)\n",
    "ax3.set_xlim(0, 60)\n",
    "\n",
    "plt.show()"
   ]
  },
  {
   "cell_type": "markdown",
   "metadata": {},
   "source": [
    "**Вывод:** эффективность разделения золота не вызывает сомнений. В среднем от этапа к этапу концентрация золота в продукте увеличивается. В хвостах ценного металла остаётся совсем немного."
   ]
  },
  {
   "cell_type": "markdown",
   "metadata": {},
   "source": [
    "<b>ВЫВОД:</b> Исслевованные нами распределения имеет аномалию: суммарная концентрация металлов не может быть равна нулю. \n",
    "    \n",
    "Эта ситуация требует уточнения у заказчика. "
   ]
  },
  {
   "cell_type": "markdown",
   "metadata": {},
   "source": [
    "### Проверка схожести распределения признаков размеров гранул в признаках обучающей и тестовой выборках \n",
    "**Задача:** сравнить распределения размеров гранул сырья на обучающей и тестовой выборках. Если распределения сильно отличаются друг от друга, оценка модели будет неправильной.   \n",
    "\n",
    "**Используемые стобцы:**\n",
    "`rougher.input.feed_size` и `primary_cleaner.input_feed_size` на выборках `train ` и `test`\n",
    "\n",
    "Результаты дополним ttest-ом."
   ]
  },
  {
   "cell_type": "code",
   "execution_count": 13,
   "metadata": {},
   "outputs": [
    {
     "data": {
      "image/png": "[encoded data removed]",
      "text/plain": [
       "<Figure size 1440x1080 with 2 Axes>"
      ]
     },
     "metadata": {
      "needs_background": "light"
     },
     "output_type": "display_data"
    }
   ],
   "source": [
    "fig = plt.figure()\n",
    "fig.suptitle('Сравнение распределения размера частиц в двух выборках (этап флотации)', fontsize=20)\n",
    "ax1 = fig.add_subplot(3,1,1)\n",
    "ax2 = fig.add_subplot(3,1,2)\n",
    "\n",
    "train['rougher.input.feed_size'].hist(ax = ax1, bins = 300, figsize = (20, 15), label = 'Этап флотации - обучающая', density = True)\n",
    "test['rougher.input.feed_size'].hist(ax = ax2, bins = 300, figsize = (20, 15), label = 'Этап флотации - тестовая', density = True)\n",
    "\n",
    "ax1.set_title('Train')\n",
    "ax2.set_title('Test')\n",
    "\n",
    "ax1.set_ylabel('Частота')\n",
    "ax2.set_ylabel('Частота')\n",
    "\n",
    "# в обоих распределениях имеются выбросы - крупные куски материала, их размер доходит до 300. \n",
    "# здесь ограничимся пределами размера частиц 0-100\n",
    "ax2.set_xlabel('Размер частиц сырья')\n",
    "ax1.set_xlim(0, 100)\n",
    "ax2.set_xlim(0, 100)\n",
    "\n",
    "plt.show()"
   ]
  },
  {
   "cell_type": "markdown",
   "metadata": {},
   "source": [
    "**Рабочие гипотезы**  \n",
    "\n",
    "   **H0:** распределения признака размера частиц на двух выборках не отличаются один от другого  \n",
    "   **H1:** распределения признака размера частиц на двух выборках различны"
   ]
  },
  {
   "cell_type": "code",
   "execution_count": 14,
   "metadata": {},
   "outputs": [
    {
     "name": "stdout",
     "output_type": "stream",
     "text": [
      "p-значение: 2.0469277188265707e-31\n",
      "Отвергаем нулевую гипотезу\n"
     ]
    }
   ],
   "source": [
    "alpha = 0.05 \n",
    "results = st.ttest_ind(train['rougher.input.feed_size'], test['rougher.input.feed_size'], \n",
    "                       equal_var = True, alternative='two-sided')\n",
    "print('p-значение:', results.pvalue)\n",
    "\n",
    "if results.pvalue < alpha:\n",
    "    print('Отвергаем нулевую гипотезу')\n",
    "else:\n",
    "    print('Не получилось отвергнуть нулевую гипотезу') "
   ]
  },
  {
   "cell_type": "markdown",
   "metadata": {},
   "source": [
    "**Вывод:** различия, обнаруженные в распределении двух выборок статистически значимы. Распределения не похоже на нормальное, и друг на друга похожи только отчасти. В обоих графиках наблюдаются два пика, которые на тестовой выборке как будто становятся \"ближе\""
   ]
  },
  {
   "cell_type": "code",
   "execution_count": 15,
   "metadata": {},
   "outputs": [
    {
     "data": {
      "image/png": "[encoded data removed]",
      "text/plain": [
       "<Figure size 1440x1080 with 2 Axes>"
      ]
     },
     "metadata": {
      "needs_background": "light"
     },
     "output_type": "display_data"
    }
   ],
   "source": [
    "fig = plt.figure()\n",
    "fig.suptitle('Сравнение распределения размера частиц в двух выборках (этап первичной очистки)', fontsize=20)\n",
    "ax1 = fig.add_subplot(3,1,1)\n",
    "ax2 = fig.add_subplot(3,1,2)\n",
    "\n",
    "train['primary_cleaner.input.feed_size'].hist(ax = ax1, bins = 100, figsize = (20, 15), density = True)\n",
    "test['primary_cleaner.input.feed_size'].hist(ax = ax2, bins = 100, figsize = (20, 15), density = True)\n",
    "\n",
    "ax1.set_title('Train')\n",
    "ax2.set_title('Test')\n",
    "\n",
    "ax1.set_ylabel('Частота')\n",
    "ax2.set_ylabel('Частота')\n",
    "\n",
    "ax2.set_xlabel('Размер частиц сырья')\n",
    "ax1.set_xlim(0, 10)\n",
    "ax2.set_xlim(0, 10)\n",
    "\n",
    "plt.show()"
   ]
  },
  {
   "cell_type": "code",
   "execution_count": 16,
   "metadata": {},
   "outputs": [
    {
     "name": "stdout",
     "output_type": "stream",
     "text": [
      "p-значение: 1.4864182925957636e-08\n",
      "Отвергаем нулевую гипотезу\n"
     ]
    }
   ],
   "source": [
    "alpha = 0.05 \n",
    "results = st.ttest_ind(train['primary_cleaner.input.feed_size'], test['primary_cleaner.input.feed_size'],\n",
    "                       equal_var = True, alternative='two-sided')\n",
    "print('p-значение:', results.pvalue)\n",
    "\n",
    "if results.pvalue < alpha:\n",
    "    print('Отвергаем нулевую гипотезу')\n",
    "else:\n",
    "    print('Не получилось отвергнуть нулевую гипотезу') "
   ]
  },
  {
   "cell_type": "markdown",
   "metadata": {},
   "source": [
    "<b>ВЫВОД:</b> крайне желательно свести различия между двумя выборками к минимуму - это позволит построить более точную модель. Распределение для тестовой выборки немного отличается от такового для обучающей - первое сдвинуто немного в меньшую сторону. НО в целом размеры большинства частиц лежат в оптимальном интервале  40—100 мкм  («Флотация руды»: ООО \"Техноаналитприбор\", информация с https://techade.ru/stati/flotatsiya-rudy) для обоих выборок. Будем считать, что выборки подходят для оценки."
   ]
  },
  {
   "cell_type": "markdown",
   "metadata": {},
   "source": [
    "### Иссдедование суммарной концентрации веществ\n",
    "\n",
    "**Задача:** исследовать суммарную концентрацию всех веществ на разных стадиях: в сырье, в черновом и финальном концентратах."
   ]
  },
  {
   "cell_type": "code",
   "execution_count": 17,
   "metadata": {},
   "outputs": [],
   "source": [
    "full['rougher.output.concentrate_all'] = full['rougher.output.concentrate_au'] + full['rougher.output.concentrate_pb'] + full['rougher.output.concentrate_ag'] \n",
    "full['rougher.input.feed_all'] = full['rougher.input.feed_au'] + full['rougher.input.feed_pb'] + full['rougher.input.feed_ag'] \n",
    "full['primary_cleaner.output.concentrate_all'] = full['primary_cleaner.output.concentrate_au'] + full['primary_cleaner.output.concentrate_pb'] + full['primary_cleaner.output.concentrate_ag'] \n",
    "full['final.output.concentrate_all'] = full['final.output.concentrate_au'] + full['final.output.concentrate_pb'] + full['final.output.concentrate_ag'] "
   ]
  },
  {
   "cell_type": "code",
   "execution_count": 18,
   "metadata": {},
   "outputs": [
    {
     "data": {
      "image/png": "[encoded data removed]",
      "text/plain": [
       "<Figure size 1440x1080 with 4 Axes>"
      ]
     },
     "metadata": {
      "needs_background": "light"
     },
     "output_type": "display_data"
    }
   ],
   "source": [
    "fig = plt.figure()\n",
    "ax_1 = fig.add_subplot(4, 1, 1)\n",
    "ax_2 = fig.add_subplot(4, 1, 2)\n",
    "ax_3 = fig.add_subplot(4, 1, 3)\n",
    "ax_4 = fig.add_subplot(4, 1, 4)\n",
    "\n",
    "all_rougher_output = pd.Series(full['rougher.output.concentrate_au'] + \n",
    "                               full['rougher.output.concentrate_pb'] + \n",
    "                               full['rougher.output.concentrate_ag']) \n",
    "all_rougher_input = pd.Series(full['rougher.input.feed_au'] + \n",
    "                              full['rougher.input.feed_pb'] + \n",
    "                              full['rougher.input.feed_ag'])\n",
    "all_primary_cleaner_output = pd.Series(full['primary_cleaner.output.concentrate_au'] + \n",
    "                                       full['primary_cleaner.output.concentrate_pb'] + \n",
    "                                       full['primary_cleaner.output.concentrate_ag']) \n",
    "all_final_output = pd.Series(full['final.output.concentrate_au'] + \n",
    "                             full['final.output.concentrate_pb'] + \n",
    "                             full['final.output.concentrate_ag']) \n",
    "\n",
    "all_rougher_input.hist(ax = ax_1, bins = 100, figsize = (20, 15), bottom = 0.05, label = 'после флотации', density = True)\n",
    "all_rougher_output.hist(ax = ax_2, bins = 100, figsize = (20, 15), bottom = 0.05, label = 'до флотации', density = True)\n",
    "all_primary_cleaner_output.hist(ax = ax_3, bins = 100, figsize = (20, 15), bottom = 0.05, label = 'после первичной очистки', density = True)\n",
    "all_final_output.hist(ax = ax_4, bins = 100, figsize = (20, 15), bottom = 0.05, label = 'финал', density = True)\n",
    "\n",
    "\n",
    "ax_1.set_title('Сырьё')\n",
    "ax_2.set_title('Этап флотации')\n",
    "ax_3.set_title('Этап первичной очистки')\n",
    "ax_4.set_title('Финал')\n",
    "\n",
    "ax_1.set_ylabel('Частота')\n",
    "ax_2.set_ylabel('Частота')\n",
    "ax_3.set_ylabel('Частота')\n",
    "ax_4.set_ylabel('Частота')\n",
    "\n",
    "ax3.set_xlabel('Суммарная концентрация металлов')\n",
    "\n",
    "\n",
    "plt.show()"
   ]
  },
  {
   "cell_type": "markdown",
   "metadata": {},
   "source": [
    "<b>ВЫВОД:</b> в течение процесса обогащения руды концентрация металлов увеличивается, а также плотнее \"концентрируется\" вокруг среднего. Распределение концентрации металлов в сырье не похоже на нормальное, остальные +/- приближены к гауссовскому, или дополнительно имеют  короткий хвост в области низких относительно среднего значений.  "
   ]
  },
  {
   "cell_type": "markdown",
   "metadata": {},
   "source": [
    "---------\n",
    "\n",
    "**Разбор выбросов:**\n",
    "\n",
    "1) Нулевые аномалии в суммарных концентрациях должны быть удалены. Дело в том, что  *нулевые*  концентрации в \"суммарной руде\" (соли+золото+серебро+свинец) невозможны. А если мы имеем ноль, значит большая вероятность неточности измерений.\n",
    "   \n",
    "2) Предложу свою концепцию: вроде явный выброс виден только на all_rougher_output. Остальные жмутся к верхним краям \"усов\", как градиентом - что выглядит естественно и логично. Не выброс - а просто необычно большое, но закономерное значение. Тем более с нижней границей усов то же самое происходит *(см. ниже)*. \n",
    "\n",
    "3) Вопрос с выбросами в принципе должен будет вынести на обсуждение. Обращаемся к цели исследования: предсказывать модель на реальных данных. Выбросы - это и есть реальная концентрация. И важно, чтобы модель умела и их тоже видеть и обрабатывать. Если их убрать из модели, то получится, что у нас она станет как бы искусственной. Т.е. будет работать только в небольших диапазонах - потому что обучалась только в них."
   ]
  },
  {
   "cell_type": "code",
   "execution_count": 19,
   "metadata": {},
   "outputs": [
    {
     "data": {
      "image/png": "[encoded data removed]",
      "text/plain": [
       "<Figure size 1440x1440 with 1 Axes>"
      ]
     },
     "metadata": {
      "needs_background": "light"
     },
     "output_type": "display_data"
    }
   ],
   "source": [
    "a = pd.DataFrame(all_rougher_output)\n",
    "a = a.rename(columns = {0:'all_rougher_output'})\n",
    "\n",
    "b = pd.DataFrame(all_rougher_input)\n",
    "b = b.rename(columns = {0:'all_rougher_input'})\n",
    "\n",
    "c = pd.DataFrame(all_primary_cleaner_output)\n",
    "c = c.rename(columns = {0:'all_primary_cleaner_output'})\n",
    "\n",
    "d = pd.DataFrame(all_final_output)\n",
    "d = d.rename(columns = {0:'all_final_output'})\n",
    "\n",
    "all_data = pd.concat([a, b, c, d], axis=1)\n",
    "all_data.boxplot(figsize = (20, 20))\n",
    "plt.show()\n"
   ]
  },
  {
   "cell_type": "markdown",
   "metadata": {},
   "source": [
    "## Построение прототипа модели\n",
    "\n",
    "Переходим к построению модели. В исследовании применим мультитаргетную модель линейной регрессии или случайного леса (целевойй признако - числовой). Качество модели будем оценивать кросс-валидацией (небольшое количество данных), ориентируясь на кастомную метрику sMAPE. \n",
    "\n",
    "**Задача:** \n",
    "1. Подготовить обучающие признаки и целевой признак:\n",
    "    - Из датасета `train` удалить все столбцы, которых нет в `test`.\n",
    "    - По дате восстановить ответы, или реальные значения, целевого признака выборки `test`.\n",
    "2. Написать формулу расчёта sMAPE. \n",
    "3. Протестировать несколько моделей и оценить их качество и выбрать лучшую. \n",
    "4. Оценить модель на тестовой выборке.\n",
    "_______________________________________\n",
    "### Подготовка признаков"
   ]
  },
  {
   "cell_type": "code",
   "execution_count": 20,
   "metadata": {},
   "outputs": [],
   "source": [
    "#некоторые подготовительные работы\n",
    "columns_list = test.columns.tolist()\n",
    "datelist = test['date'].tolist()\n",
    "\n",
    "# обозначим целевой признак и признаки для обучения\n",
    "features_train = train[columns_list].drop('date', axis = 1)\n",
    "target_train = train[['rougher.output.recovery', 'final.output.recovery']]\n",
    "features_test = test.drop('date', axis = 1)\n",
    "target_test = full.loc[full['date'].isin(datelist)][['rougher.output.recovery', 'final.output.recovery']]"
   ]
  },
  {
   "cell_type": "code",
   "execution_count": 21,
   "metadata": {},
   "outputs": [
    {
     "data": {
      "text/plain": [
       "((14149, 52), (5290, 52))"
      ]
     },
     "execution_count": 21,
     "metadata": {},
     "output_type": "execute_result"
    }
   ],
   "source": [
    "features_train.shape, features_test.shape"
   ]
  },
  {
   "cell_type": "markdown",
   "metadata": {},
   "source": [
    "### Кастомная метрика для оценки качества"
   ]
  },
  {
   "cell_type": "code",
   "execution_count": 22,
   "metadata": {},
   "outputs": [],
   "source": [
    "def smape(y_true, y_pred):\n",
    "    error = abs(y_true - y_pred)\n",
    "    scale = abs(y_true) + abs(y_pred) / 2\n",
    "    result = (error / scale).mean()\n",
    "    return result\n",
    " \n",
    "\n",
    "def resulting_smape(y_true, y_pred):\n",
    "    y_true.reset_index(drop=True, inplace=True)\n",
    "    y_pred = pd.DataFrame(data=y_pred)\n",
    "    rougher = smape(y_true.iloc[:, 0], y_pred.iloc[:, 0])\n",
    "    final = smape(y_true.iloc[:, 1], y_pred.iloc[:, 1])\n",
    "    return 0.25 * rougher + 0.75 * final"
   ]
  },
  {
   "cell_type": "markdown",
   "metadata": {},
   "source": [
    "### Выбор модели"
   ]
  },
  {
   "cell_type": "code",
   "execution_count": 23,
   "metadata": {},
   "outputs": [],
   "source": [
    "model1 = LinearRegression()\n",
    "model2 = RandomForestRegressor(random_state = 123)"
   ]
  },
  {
   "cell_type": "code",
   "execution_count": 24,
   "metadata": {},
   "outputs": [],
   "source": [
    "smape_score = make_scorer(resulting_smape, greater_is_better=False)"
   ]
  },
  {
   "cell_type": "code",
   "execution_count": 25,
   "metadata": {},
   "outputs": [
    {
     "name": "stdout",
     "output_type": "stream",
     "text": [
      "sMAPE линейной регрессии: 8.90249369725408\n"
     ]
    }
   ],
   "source": [
    "scores1 = cross_val_score(model1, features_train, target_train, cv=5, scoring = smape_score)\n",
    "print('sMAPE линейной регрессии:', scores1.mean()*-100)"
   ]
  },
  {
   "cell_type": "code",
   "execution_count": 26,
   "metadata": {},
   "outputs": [
    {
     "name": "stdout",
     "output_type": "stream",
     "text": [
      "sMAPE случайного леса: 8.486687728270327\n"
     ]
    }
   ],
   "source": [
    "scores2 = cross_val_score(model2, features_train, target_train, cv=5, scoring = smape_score)\n",
    "print('sMAPE случайного леса:', scores2.mean()*-100)"
   ]
  },
  {
   "cell_type": "markdown",
   "metadata": {},
   "source": [
    "______________________________________\n",
    "### Подбор гиперпараметров"
   ]
  },
  {
   "cell_type": "code",
   "execution_count": 27,
   "metadata": {},
   "outputs": [
    {
     "name": "stdout",
     "output_type": "stream",
     "text": [
      "7.586295718321632\n"
     ]
    }
   ],
   "source": [
    "#до подбора гиперпараметров\n",
    "model2 = RandomForestRegressor(random_state = 123)\n",
    "model2.fit(features_train, target_train)\n",
    "predictions = model2.predict(features_test)\n",
    "print(resulting_smape(target_test, predictions)*100)"
   ]
  },
  {
   "cell_type": "code",
   "execution_count": 28,
   "metadata": {},
   "outputs": [
    {
     "name": "stdout",
     "output_type": "stream",
     "text": [
      "sMARE: 7.277634515717183\n"
     ]
    }
   ],
   "source": [
    "#после подбора гиперпараметров\n",
    "model2 = RandomForestRegressor(random_state = 123, max_depth = 2)\n",
    "scores1 = cross_val_score(model2, features_test, target_test, cv=5, scoring = smape_score)\n",
    "print('sMARE:', scores1.mean()*-100)"
   ]
  },
  {
   "cell_type": "markdown",
   "metadata": {},
   "source": [
    "<b>ВЫВОД:</b> мы уменьшили метрику с 9 до 7.27 т.е. улучшили качество модели."
   ]
  },
  {
   "cell_type": "code",
   "execution_count": null,
   "metadata": {},
   "outputs": [],
   "source": []
  }
 ],
 "metadata": {
  "ExecuteTimeLog": [
   {
    "duration": 780,
    "start_time": "2021-09-29T13:36:18.873Z"
   },
   {
    "duration": 3411,
    "start_time": "2021-09-29T13:38:20.730Z"
   },
   {
    "duration": 5644,
    "start_time": "2021-09-29T13:39:20.519Z"
   },
   {
    "duration": 1038,
    "start_time": "2021-09-29T13:39:49.854Z"
   },
   {
    "duration": 51,
    "start_time": "2021-09-29T13:40:34.425Z"
   },
   {
    "duration": 39,
    "start_time": "2021-09-29T13:51:46.182Z"
   },
   {
    "duration": 64,
    "start_time": "2021-09-29T13:56:06.631Z"
   },
   {
    "duration": 26,
    "start_time": "2021-09-29T13:56:12.367Z"
   },
   {
    "duration": 16,
    "start_time": "2021-09-29T16:07:44.232Z"
   },
   {
    "duration": 298,
    "start_time": "2021-09-30T10:14:19.777Z"
   },
   {
    "duration": 1267,
    "start_time": "2021-09-30T10:14:29.112Z"
   },
   {
    "duration": 294,
    "start_time": "2021-09-30T10:14:33.598Z"
   },
   {
    "duration": 740,
    "start_time": "2021-09-30T10:14:39.572Z"
   },
   {
    "duration": 889,
    "start_time": "2021-09-30T10:14:41.997Z"
   },
   {
    "duration": 27,
    "start_time": "2021-09-30T10:14:45.364Z"
   },
   {
    "duration": 93,
    "start_time": "2021-09-30T10:23:21.135Z"
   },
   {
    "duration": 320,
    "start_time": "2021-09-30T10:25:43.100Z"
   },
   {
    "duration": 5,
    "start_time": "2021-09-30T10:26:07.821Z"
   },
   {
    "duration": 4,
    "start_time": "2021-09-30T10:26:37.920Z"
   },
   {
    "duration": 627,
    "start_time": "2021-09-30T10:26:40.958Z"
   },
   {
    "duration": 998,
    "start_time": "2021-09-30T10:27:12.709Z"
   },
   {
    "duration": 4,
    "start_time": "2021-09-30T10:27:23.494Z"
   },
   {
    "duration": 17,
    "start_time": "2021-09-30T10:27:25.351Z"
   },
   {
    "duration": 6980,
    "start_time": "2021-09-30T10:27:33.367Z"
   },
   {
    "duration": 8,
    "start_time": "2021-09-30T10:29:16.784Z"
   },
   {
    "duration": 7074,
    "start_time": "2021-09-30T10:30:00.344Z"
   },
   {
    "duration": 6,
    "start_time": "2021-09-30T10:30:18.376Z"
   },
   {
    "duration": 6,
    "start_time": "2021-09-30T10:35:51.693Z"
   },
   {
    "duration": 5,
    "start_time": "2021-09-30T10:36:39.558Z"
   },
   {
    "duration": 7,
    "start_time": "2021-09-30T10:36:40.764Z"
   },
   {
    "duration": 594,
    "start_time": "2021-09-30T10:37:19.973Z"
   },
   {
    "duration": 250,
    "start_time": "2021-09-30T10:39:54.921Z"
   },
   {
    "duration": 1300,
    "start_time": "2021-09-30T10:40:41.768Z"
   },
   {
    "duration": 461,
    "start_time": "2021-09-30T10:41:10.689Z"
   },
   {
    "duration": 4,
    "start_time": "2021-09-30T10:41:17.975Z"
   },
   {
    "duration": 6,
    "start_time": "2021-09-30T10:42:29.200Z"
   },
   {
    "duration": 376,
    "start_time": "2021-09-30T10:43:39.505Z"
   },
   {
    "duration": 414,
    "start_time": "2021-09-30T10:43:49.209Z"
   },
   {
    "duration": 1210,
    "start_time": "2021-09-30T10:44:16.635Z"
   },
   {
    "duration": 415,
    "start_time": "2021-09-30T10:44:31.291Z"
   },
   {
    "duration": 5,
    "start_time": "2021-09-30T10:45:44.346Z"
   },
   {
    "duration": 270,
    "start_time": "2021-09-30T10:46:00.371Z"
   },
   {
    "duration": 79,
    "start_time": "2021-09-30T10:46:14.779Z"
   },
   {
    "duration": 1183,
    "start_time": "2021-09-30T10:46:25.779Z"
   },
   {
    "duration": 1310,
    "start_time": "2021-09-30T10:46:45.254Z"
   },
   {
    "duration": 899,
    "start_time": "2021-09-30T10:46:46.568Z"
   },
   {
    "duration": 25,
    "start_time": "2021-09-30T10:46:47.470Z"
   },
   {
    "duration": 36,
    "start_time": "2021-09-30T10:46:47.499Z"
   },
   {
    "duration": 32,
    "start_time": "2021-09-30T10:46:47.538Z"
   },
   {
    "duration": 18,
    "start_time": "2021-09-30T10:46:47.573Z"
   },
   {
    "duration": 40,
    "start_time": "2021-09-30T10:46:47.593Z"
   },
   {
    "duration": 1559,
    "start_time": "2021-09-30T10:46:47.636Z"
   },
   {
    "duration": 2277,
    "start_time": "2021-09-30T10:46:46.921Z"
   },
   {
    "duration": 455,
    "start_time": "2021-09-30T14:18:37.235Z"
   },
   {
    "duration": 1638,
    "start_time": "2021-09-30T14:18:44.235Z"
   },
   {
    "duration": 1211,
    "start_time": "2021-09-30T14:18:45.877Z"
   },
   {
    "duration": 48,
    "start_time": "2021-09-30T14:18:47.093Z"
   },
   {
    "duration": 43,
    "start_time": "2021-09-30T14:18:47.145Z"
   },
   {
    "duration": 56,
    "start_time": "2021-09-30T14:18:47.191Z"
   },
   {
    "duration": 6,
    "start_time": "2021-09-30T14:18:47.251Z"
   },
   {
    "duration": 28,
    "start_time": "2021-09-30T14:18:47.260Z"
   },
   {
    "duration": 11082,
    "start_time": "2021-09-30T14:18:47.293Z"
   },
   {
    "duration": -14726465,
    "start_time": "2021-09-30T18:24:24.844Z"
   },
   {
    "duration": 1921,
    "start_time": "2021-09-30T14:24:09.473Z"
   },
   {
    "duration": 419,
    "start_time": "2021-09-30T14:24:21.971Z"
   },
   {
    "duration": 2459,
    "start_time": "2021-09-30T14:24:30.256Z"
   },
   {
    "duration": 1635,
    "start_time": "2021-09-30T14:25:00.911Z"
   },
   {
    "duration": 13,
    "start_time": "2021-09-30T14:26:42.089Z"
   },
   {
    "duration": 42,
    "start_time": "2021-09-30T14:27:46.741Z"
   },
   {
    "duration": 73,
    "start_time": "2021-09-30T14:27:57.210Z"
   },
   {
    "duration": 154527,
    "start_time": "2021-09-30T14:28:04.429Z"
   },
   {
    "duration": -14726514,
    "start_time": "2021-09-30T18:36:05.477Z"
   },
   {
    "duration": 144,
    "start_time": "2021-09-30T14:31:51.098Z"
   },
   {
    "duration": 11483,
    "start_time": "2021-09-30T14:31:58.229Z"
   },
   {
    "duration": 52,
    "start_time": "2021-09-30T14:32:19.703Z"
   },
   {
    "duration": 1406,
    "start_time": "2021-09-30T14:32:31.311Z"
   },
   {
    "duration": 1250,
    "start_time": "2021-09-30T14:32:32.720Z"
   },
   {
    "duration": 52,
    "start_time": "2021-09-30T14:32:33.974Z"
   },
   {
    "duration": 42,
    "start_time": "2021-09-30T14:32:34.030Z"
   },
   {
    "duration": 97,
    "start_time": "2021-09-30T14:32:34.075Z"
   },
   {
    "duration": 6,
    "start_time": "2021-09-30T14:32:34.175Z"
   },
   {
    "duration": 6,
    "start_time": "2021-09-30T14:32:34.184Z"
   },
   {
    "duration": 39,
    "start_time": "2021-09-30T14:32:34.195Z"
   },
   {
    "duration": -14726499,
    "start_time": "2021-09-30T18:40:34.699Z"
   },
   {
    "duration": -14726502,
    "start_time": "2021-09-30T18:40:34.704Z"
   },
   {
    "duration": -14726508,
    "start_time": "2021-09-30T18:40:34.712Z"
   },
   {
    "duration": 44,
    "start_time": "2021-09-30T14:36:38.019Z"
   },
   {
    "duration": 5,
    "start_time": "2021-09-30T14:38:24.347Z"
   },
   {
    "duration": 6,
    "start_time": "2021-09-30T14:38:26.473Z"
   },
   {
    "duration": 3669,
    "start_time": "2021-09-30T14:38:30.049Z"
   },
   {
    "duration": -14726553,
    "start_time": "2021-09-30T18:44:00.273Z"
   },
   {
    "duration": 415,
    "start_time": "2021-09-30T14:38:57.869Z"
   },
   {
    "duration": 43,
    "start_time": "2021-09-30T14:39:06.640Z"
   },
   {
    "duration": 7,
    "start_time": "2021-09-30T14:40:47.954Z"
   },
   {
    "duration": 3510,
    "start_time": "2021-09-30T14:40:50.300Z"
   },
   {
    "duration": 44,
    "start_time": "2021-09-30T14:41:10.502Z"
   },
   {
    "duration": 3070,
    "start_time": "2021-09-30T14:42:59.339Z"
   },
   {
    "duration": 49,
    "start_time": "2021-09-30T14:43:31.784Z"
   },
   {
    "duration": 3577,
    "start_time": "2021-09-30T14:43:44.599Z"
   },
   {
    "duration": 2820,
    "start_time": "2021-09-30T14:45:57.218Z"
   },
   {
    "duration": 3050,
    "start_time": "2021-09-30T14:46:09.767Z"
   },
   {
    "duration": 3429,
    "start_time": "2021-09-30T14:46:47.062Z"
   },
   {
    "duration": 392,
    "start_time": "2021-09-30T14:48:40.500Z"
   },
   {
    "duration": 152982,
    "start_time": "2021-09-30T14:48:45.998Z"
   },
   {
    "duration": 43,
    "start_time": "2021-09-30T14:53:18.289Z"
   },
   {
    "duration": 199424,
    "start_time": "2021-09-30T14:53:26.898Z"
   },
   {
    "duration": 188,
    "start_time": "2021-09-30T14:57:40.183Z"
   },
   {
    "duration": 182,
    "start_time": "2021-09-30T14:57:45.200Z"
   },
   {
    "duration": 227,
    "start_time": "2021-09-30T14:58:07.984Z"
   },
   {
    "duration": 182,
    "start_time": "2021-09-30T14:58:17.178Z"
   },
   {
    "duration": 51634,
    "start_time": "2021-09-30T14:58:20.963Z"
   },
   {
    "duration": 4,
    "start_time": "2021-09-30T14:59:26.649Z"
   },
   {
    "duration": 29,
    "start_time": "2021-09-30T14:59:45.505Z"
   },
   {
    "duration": 51,
    "start_time": "2021-09-30T14:59:58.587Z"
   },
   {
    "duration": 25,
    "start_time": "2021-09-30T15:00:02.617Z"
   },
   {
    "duration": 46995,
    "start_time": "2021-09-30T15:00:24.447Z"
   },
   {
    "duration": -14726498,
    "start_time": "2021-09-30T19:06:37.944Z"
   },
   {
    "duration": -14726502,
    "start_time": "2021-09-30T19:06:37.949Z"
   },
   {
    "duration": -14726502,
    "start_time": "2021-09-30T19:06:37.951Z"
   },
   {
    "duration": 5,
    "start_time": "2021-09-30T15:01:11.692Z"
   },
   {
    "duration": 55,
    "start_time": "2021-09-30T15:01:13.458Z"
   },
   {
    "duration": 19,
    "start_time": "2021-09-30T15:01:35.800Z"
   },
   {
    "duration": 174989,
    "start_time": "2021-09-30T15:01:38.762Z"
   },
   {
    "duration": 1645,
    "start_time": "2021-09-30T15:06:35.336Z"
   },
   {
    "duration": 2294,
    "start_time": "2021-09-30T15:06:45.130Z"
   },
   {
    "duration": 413,
    "start_time": "2021-09-30T15:07:25.731Z"
   },
   {
    "duration": 414,
    "start_time": "2021-09-30T15:07:33.243Z"
   },
   {
    "duration": 1575,
    "start_time": "2021-09-30T15:07:49.720Z"
   },
   {
    "duration": 4,
    "start_time": "2021-09-30T15:09:13.549Z"
   },
   {
    "duration": 1578,
    "start_time": "2021-09-30T15:09:17.308Z"
   },
   {
    "duration": 403,
    "start_time": "2021-09-30T15:09:34.732Z"
   },
   {
    "duration": 10820,
    "start_time": "2021-09-30T15:09:54.554Z"
   },
   {
    "duration": 473,
    "start_time": "2021-09-30T15:14:41.230Z"
   },
   {
    "duration": 150,
    "start_time": "2021-09-30T15:15:37.704Z"
   },
   {
    "duration": 496,
    "start_time": "2021-09-30T15:15:43.538Z"
   },
   {
    "duration": 10093,
    "start_time": "2021-09-30T15:17:21.694Z"
   },
   {
    "duration": 12453,
    "start_time": "2021-09-30T15:17:46.223Z"
   },
   {
    "duration": 10182,
    "start_time": "2021-09-30T15:18:16.043Z"
   },
   {
    "duration": 41,
    "start_time": "2021-09-30T15:18:36.852Z"
   },
   {
    "duration": 4040,
    "start_time": "2021-09-30T15:19:08.931Z"
   },
   {
    "duration": 665,
    "start_time": "2021-09-30T15:20:24.021Z"
   },
   {
    "duration": 6,
    "start_time": "2021-09-30T15:20:51.913Z"
   },
   {
    "duration": 245,
    "start_time": "2021-09-30T15:35:53.774Z"
   },
   {
    "duration": 290,
    "start_time": "2021-09-30T15:36:45.088Z"
   },
   {
    "duration": 467,
    "start_time": "2021-09-30T15:39:18.303Z"
   },
   {
    "duration": 115,
    "start_time": "2021-09-30T15:39:24.012Z"
   },
   {
    "duration": 244,
    "start_time": "2021-09-30T16:03:07.429Z"
   },
   {
    "duration": 795,
    "start_time": "2021-09-30T16:05:14.400Z"
   },
   {
    "duration": 10230,
    "start_time": "2021-09-30T16:05:24.778Z"
   },
   {
    "duration": 11998,
    "start_time": "2021-09-30T16:05:59.432Z"
   },
   {
    "duration": 11111,
    "start_time": "2021-09-30T16:06:17.650Z"
   },
   {
    "duration": 287,
    "start_time": "2021-09-30T16:07:01.458Z"
   },
   {
    "duration": 639,
    "start_time": "2021-09-30T16:07:07.193Z"
   },
   {
    "duration": 272,
    "start_time": "2021-09-30T16:07:22.968Z"
   },
   {
    "duration": 940,
    "start_time": "2021-09-30T16:07:53.819Z"
   },
   {
    "duration": 134,
    "start_time": "2021-09-30T16:09:13.250Z"
   },
   {
    "duration": 951,
    "start_time": "2021-09-30T16:09:18.617Z"
   },
   {
    "duration": 240,
    "start_time": "2021-09-30T16:10:18.879Z"
   },
   {
    "duration": 1214,
    "start_time": "2021-09-30T16:10:23.332Z"
   },
   {
    "duration": 936,
    "start_time": "2021-09-30T16:10:35.962Z"
   },
   {
    "duration": 940,
    "start_time": "2021-09-30T16:11:30.922Z"
   },
   {
    "duration": 3254,
    "start_time": "2021-09-30T16:11:39.294Z"
   },
   {
    "duration": 282,
    "start_time": "2021-09-30T16:11:48.618Z"
   },
   {
    "duration": 1599,
    "start_time": "2021-09-30T16:11:53.782Z"
   },
   {
    "duration": 721,
    "start_time": "2021-09-30T16:12:00.818Z"
   },
   {
    "duration": 638,
    "start_time": "2021-09-30T16:12:06.662Z"
   },
   {
    "duration": 1057,
    "start_time": "2021-09-30T16:12:27.431Z"
   },
   {
    "duration": 835,
    "start_time": "2021-09-30T16:13:00.928Z"
   },
   {
    "duration": 784,
    "start_time": "2021-09-30T16:13:15.239Z"
   },
   {
    "duration": 817,
    "start_time": "2021-09-30T16:13:22.846Z"
   },
   {
    "duration": 931,
    "start_time": "2021-09-30T16:13:28.494Z"
   },
   {
    "duration": 969,
    "start_time": "2021-09-30T16:13:46.742Z"
   },
   {
    "duration": 947,
    "start_time": "2021-09-30T16:13:53.236Z"
   },
   {
    "duration": 4,
    "start_time": "2021-10-01T13:35:24.730Z"
   },
   {
    "duration": 1169,
    "start_time": "2021-10-01T13:35:32.439Z"
   },
   {
    "duration": 746,
    "start_time": "2021-10-01T13:35:33.610Z"
   },
   {
    "duration": 27,
    "start_time": "2021-10-01T13:35:34.358Z"
   },
   {
    "duration": 16,
    "start_time": "2021-10-01T13:35:34.387Z"
   },
   {
    "duration": 36,
    "start_time": "2021-10-01T13:35:34.404Z"
   },
   {
    "duration": 424,
    "start_time": "2021-10-01T13:35:34.442Z"
   },
   {
    "duration": 34,
    "start_time": "2021-10-01T13:35:34.867Z"
   },
   {
    "duration": 28,
    "start_time": "2021-10-01T13:35:34.903Z"
   },
   {
    "duration": 2,
    "start_time": "2021-10-01T13:35:34.933Z"
   },
   {
    "duration": 41,
    "start_time": "2021-10-01T13:35:34.937Z"
   },
   {
    "duration": 3,
    "start_time": "2021-10-01T13:35:34.980Z"
   },
   {
    "duration": 6,
    "start_time": "2021-10-01T13:35:34.984Z"
   },
   {
    "duration": 4,
    "start_time": "2021-10-01T13:35:34.991Z"
   },
   {
    "duration": 582,
    "start_time": "2021-10-01T13:35:34.997Z"
   },
   {
    "duration": 577,
    "start_time": "2021-10-01T13:35:35.581Z"
   },
   {
    "duration": 746,
    "start_time": "2021-10-01T13:35:36.160Z"
   },
   {
    "duration": 577,
    "start_time": "2021-10-01T13:35:36.908Z"
   },
   {
    "duration": 562,
    "start_time": "2021-10-01T13:38:18.044Z"
   },
   {
    "duration": 725,
    "start_time": "2021-10-01T13:38:36.775Z"
   },
   {
    "duration": 884,
    "start_time": "2021-10-01T13:40:55.261Z"
   },
   {
    "duration": 697,
    "start_time": "2021-10-01T13:41:11.068Z"
   },
   {
    "duration": 684,
    "start_time": "2021-10-01T13:41:21.037Z"
   },
   {
    "duration": 1569,
    "start_time": "2021-10-01T13:41:28.131Z"
   },
   {
    "duration": 2320,
    "start_time": "2021-10-01T13:43:35.009Z"
   },
   {
    "duration": 1471,
    "start_time": "2021-10-01T13:44:00.364Z"
   },
   {
    "duration": 1664,
    "start_time": "2021-10-01T13:45:16.775Z"
   },
   {
    "duration": 1816,
    "start_time": "2021-10-01T13:45:44.885Z"
   },
   {
    "duration": 1423,
    "start_time": "2021-10-01T13:45:56.866Z"
   },
   {
    "duration": 2144,
    "start_time": "2021-10-01T13:46:09.750Z"
   },
   {
    "duration": 2966,
    "start_time": "2021-10-01T13:46:31.611Z"
   },
   {
    "duration": 429,
    "start_time": "2021-10-01T13:59:07.073Z"
   },
   {
    "duration": 9318,
    "start_time": "2021-10-01T14:03:32.851Z"
   },
   {
    "duration": 9671,
    "start_time": "2021-10-01T14:04:18.168Z"
   },
   {
    "duration": 10087,
    "start_time": "2021-10-01T14:04:55.737Z"
   },
   {
    "duration": 2120,
    "start_time": "2021-10-01T14:05:57.496Z"
   },
   {
    "duration": 268,
    "start_time": "2021-10-02T06:08:41.615Z"
   },
   {
    "duration": 1209,
    "start_time": "2021-10-02T06:08:49.918Z"
   },
   {
    "duration": 757,
    "start_time": "2021-10-02T06:08:51.129Z"
   },
   {
    "duration": 20,
    "start_time": "2021-10-02T06:08:51.888Z"
   },
   {
    "duration": 19,
    "start_time": "2021-10-02T06:08:51.910Z"
   },
   {
    "duration": 53,
    "start_time": "2021-10-02T06:08:51.932Z"
   },
   {
    "duration": 384,
    "start_time": "2021-10-02T06:08:51.987Z"
   },
   {
    "duration": 31,
    "start_time": "2021-10-02T06:08:52.372Z"
   },
   {
    "duration": 45,
    "start_time": "2021-10-02T06:08:52.406Z"
   },
   {
    "duration": 2,
    "start_time": "2021-10-02T06:08:52.452Z"
   },
   {
    "duration": 18,
    "start_time": "2021-10-02T06:08:52.456Z"
   },
   {
    "duration": 10,
    "start_time": "2021-10-02T06:08:52.475Z"
   },
   {
    "duration": 7,
    "start_time": "2021-10-02T06:08:52.487Z"
   },
   {
    "duration": 6,
    "start_time": "2021-10-02T06:08:52.495Z"
   },
   {
    "duration": 1664,
    "start_time": "2021-10-02T06:08:52.503Z"
   },
   {
    "duration": 1936,
    "start_time": "2021-10-02T06:08:54.169Z"
   },
   {
    "duration": 689,
    "start_time": "2021-10-02T06:08:56.107Z"
   },
   {
    "duration": 537,
    "start_time": "2021-10-02T06:08:56.798Z"
   },
   {
    "duration": 2095,
    "start_time": "2021-10-02T06:09:33.704Z"
   },
   {
    "duration": 1088,
    "start_time": "2021-10-02T06:10:07.264Z"
   },
   {
    "duration": 544,
    "start_time": "2021-10-02T06:11:35.319Z"
   },
   {
    "duration": 1124,
    "start_time": "2021-10-02T06:13:39.671Z"
   },
   {
    "duration": 388,
    "start_time": "2021-10-02T06:14:09.950Z"
   },
   {
    "duration": 413,
    "start_time": "2021-10-02T06:15:06.231Z"
   },
   {
    "duration": 373,
    "start_time": "2021-10-02T06:15:21.781Z"
   },
   {
    "duration": 685,
    "start_time": "2021-10-02T06:18:13.608Z"
   },
   {
    "duration": 179,
    "start_time": "2021-10-02T06:19:07.453Z"
   },
   {
    "duration": 407,
    "start_time": "2021-10-02T06:23:57.058Z"
   },
   {
    "duration": 671,
    "start_time": "2021-10-02T06:25:53.952Z"
   },
   {
    "duration": 5279,
    "start_time": "2021-10-02T06:25:58.652Z"
   },
   {
    "duration": 5245,
    "start_time": "2021-10-02T06:26:07.349Z"
   },
   {
    "duration": 497,
    "start_time": "2021-10-02T06:26:29.060Z"
   },
   {
    "duration": 989,
    "start_time": "2021-10-02T06:30:19.044Z"
   },
   {
    "duration": 1035,
    "start_time": "2021-10-02T06:32:02.141Z"
   },
   {
    "duration": 1807,
    "start_time": "2021-10-02T06:32:43.666Z"
   },
   {
    "duration": 1828,
    "start_time": "2021-10-02T06:32:55.930Z"
   },
   {
    "duration": 1668,
    "start_time": "2021-10-02T06:33:14.772Z"
   },
   {
    "duration": 1658,
    "start_time": "2021-10-02T06:41:07.684Z"
   },
   {
    "duration": 1879,
    "start_time": "2021-10-02T06:41:29.743Z"
   },
   {
    "duration": 1904,
    "start_time": "2021-10-02T06:41:47.434Z"
   },
   {
    "duration": 2264,
    "start_time": "2021-10-02T06:42:19.203Z"
   },
   {
    "duration": 1886,
    "start_time": "2021-10-02T06:43:37.728Z"
   },
   {
    "duration": 1235,
    "start_time": "2021-10-02T06:43:49.089Z"
   },
   {
    "duration": 1374,
    "start_time": "2021-10-02T06:43:59.340Z"
   },
   {
    "duration": 1932,
    "start_time": "2021-10-02T06:50:08.244Z"
   },
   {
    "duration": 6193,
    "start_time": "2021-10-02T06:57:29.434Z"
   },
   {
    "duration": 6080,
    "start_time": "2021-10-02T06:59:43.332Z"
   },
   {
    "duration": 7,
    "start_time": "2021-10-02T07:00:12.976Z"
   },
   {
    "duration": 7304,
    "start_time": "2021-10-02T07:02:28.185Z"
   },
   {
    "duration": 10460,
    "start_time": "2021-10-02T07:03:17.674Z"
   },
   {
    "duration": 7,
    "start_time": "2021-10-02T07:03:47.332Z"
   },
   {
    "duration": 373,
    "start_time": "2021-10-02T07:04:05.664Z"
   },
   {
    "duration": 756,
    "start_time": "2021-10-02T07:06:59.137Z"
   },
   {
    "duration": 499,
    "start_time": "2021-10-02T07:07:04.386Z"
   },
   {
    "duration": 491,
    "start_time": "2021-10-02T07:07:20.308Z"
   },
   {
    "duration": 1436,
    "start_time": "2021-10-02T07:08:47.975Z"
   },
   {
    "duration": 1899,
    "start_time": "2021-10-02T07:10:44.050Z"
   },
   {
    "duration": 1596,
    "start_time": "2021-10-02T07:11:21.478Z"
   },
   {
    "duration": 92,
    "start_time": "2021-10-03T13:05:21.108Z"
   },
   {
    "duration": 298,
    "start_time": "2021-10-03T13:11:31.896Z"
   },
   {
    "duration": 255,
    "start_time": "2021-10-03T13:11:45.276Z"
   },
   {
    "duration": 334,
    "start_time": "2021-10-03T13:12:02.085Z"
   },
   {
    "duration": 533,
    "start_time": "2021-10-03T13:12:12.337Z"
   },
   {
    "duration": 418,
    "start_time": "2021-10-03T13:12:24.509Z"
   },
   {
    "duration": 245,
    "start_time": "2021-10-03T13:12:27.358Z"
   },
   {
    "duration": 8,
    "start_time": "2021-10-03T13:12:34.255Z"
   },
   {
    "duration": 1082,
    "start_time": "2021-10-03T13:15:13.448Z"
   },
   {
    "duration": 87,
    "start_time": "2021-10-03T13:28:10.230Z"
   },
   {
    "duration": 303,
    "start_time": "2021-10-03T13:28:26.879Z"
   },
   {
    "duration": 1085,
    "start_time": "2021-10-03T13:28:36.921Z"
   },
   {
    "duration": 678,
    "start_time": "2021-10-03T13:28:38.008Z"
   },
   {
    "duration": 14,
    "start_time": "2021-10-03T13:28:38.688Z"
   },
   {
    "duration": 15,
    "start_time": "2021-10-03T13:28:38.704Z"
   },
   {
    "duration": 55,
    "start_time": "2021-10-03T13:28:38.720Z"
   },
   {
    "duration": 400,
    "start_time": "2021-10-03T13:28:38.776Z"
   },
   {
    "duration": 27,
    "start_time": "2021-10-03T13:28:39.178Z"
   },
   {
    "duration": 40,
    "start_time": "2021-10-03T13:28:39.207Z"
   },
   {
    "duration": 3,
    "start_time": "2021-10-03T13:28:39.249Z"
   },
   {
    "duration": 13,
    "start_time": "2021-10-03T13:28:39.254Z"
   },
   {
    "duration": 4,
    "start_time": "2021-10-03T13:28:39.269Z"
   },
   {
    "duration": 7,
    "start_time": "2021-10-03T13:28:39.275Z"
   },
   {
    "duration": 5,
    "start_time": "2021-10-03T13:28:39.283Z"
   },
   {
    "duration": 1626,
    "start_time": "2021-10-03T13:28:39.289Z"
   },
   {
    "duration": 1524,
    "start_time": "2021-10-03T13:28:40.916Z"
   },
   {
    "duration": 15,
    "start_time": "2021-10-03T13:28:42.445Z"
   },
   {
    "duration": 1655,
    "start_time": "2021-10-03T13:28:42.462Z"
   },
   {
    "duration": 3,
    "start_time": "2021-10-03T13:28:44.118Z"
   },
   {
    "duration": 94,
    "start_time": "2021-10-03T13:28:44.122Z"
   },
   {
    "duration": -14728363,
    "start_time": "2021-10-03T17:34:12.581Z"
   },
   {
    "duration": 6665,
    "start_time": "2021-10-03T13:29:06.169Z"
   },
   {
    "duration": 6718,
    "start_time": "2021-10-03T13:29:41.547Z"
   },
   {
    "duration": 291,
    "start_time": "2021-10-03T13:34:01.075Z"
   },
   {
    "duration": 256,
    "start_time": "2021-10-03T13:36:57.997Z"
   },
   {
    "duration": 5,
    "start_time": "2021-10-03T13:37:07.381Z"
   },
   {
    "duration": 265,
    "start_time": "2021-10-03T13:37:21.078Z"
   },
   {
    "duration": 7507,
    "start_time": "2021-10-03T13:39:19.314Z"
   },
   {
    "duration": 6704,
    "start_time": "2021-10-03T13:42:26.819Z"
   },
   {
    "duration": 19,
    "start_time": "2021-10-03T13:45:59.390Z"
   },
   {
    "duration": 48,
    "start_time": "2021-10-03T13:46:21.011Z"
   },
   {
    "duration": 94,
    "start_time": "2021-10-03T13:46:25.735Z"
   },
   {
    "duration": 42,
    "start_time": "2021-10-03T13:46:28.048Z"
   },
   {
    "duration": 46,
    "start_time": "2021-10-03T13:46:42.227Z"
   },
   {
    "duration": 39,
    "start_time": "2021-10-03T13:47:21.167Z"
   },
   {
    "duration": 123,
    "start_time": "2021-10-03T13:50:45.294Z"
   },
   {
    "duration": -14728337,
    "start_time": "2021-10-03T17:56:26.177Z"
   },
   {
    "duration": 5,
    "start_time": "2021-10-03T13:51:04.438Z"
   },
   {
    "duration": 8,
    "start_time": "2021-10-03T13:51:17.152Z"
   },
   {
    "duration": -14728316,
    "start_time": "2021-10-03T17:58:08.449Z"
   },
   {
    "duration": 4931,
    "start_time": "2021-10-03T13:52:51.516Z"
   },
   {
    "duration": 4634,
    "start_time": "2021-10-03T13:53:19.308Z"
   },
   {
    "duration": 4,
    "start_time": "2021-10-03T13:53:37.833Z"
   },
   {
    "duration": 81,
    "start_time": "2021-10-03T13:53:48.314Z"
   },
   {
    "duration": 82,
    "start_time": "2021-10-03T13:53:51.396Z"
   },
   {
    "duration": 5,
    "start_time": "2021-10-03T13:53:53.263Z"
   },
   {
    "duration": 4,
    "start_time": "2021-10-03T13:53:59.117Z"
   },
   {
    "duration": 4,
    "start_time": "2021-10-03T13:54:00.917Z"
   },
   {
    "duration": 4,
    "start_time": "2021-10-03T13:54:03.658Z"
   },
   {
    "duration": 5,
    "start_time": "2021-10-03T13:58:30.450Z"
   },
   {
    "duration": 3,
    "start_time": "2021-10-03T13:58:34.699Z"
   },
   {
    "duration": 4,
    "start_time": "2021-10-03T13:58:37.059Z"
   },
   {
    "duration": 4,
    "start_time": "2021-10-03T13:58:56.239Z"
   },
   {
    "duration": 4,
    "start_time": "2021-10-03T13:59:22.657Z"
   },
   {
    "duration": 6284,
    "start_time": "2021-10-03T14:01:08.048Z"
   },
   {
    "duration": 4,
    "start_time": "2021-10-03T14:01:36.366Z"
   },
   {
    "duration": 12,
    "start_time": "2021-10-03T14:02:24.101Z"
   },
   {
    "duration": 258,
    "start_time": "2021-10-03T14:03:29.963Z"
   },
   {
    "duration": 273,
    "start_time": "2021-10-03T14:05:18.152Z"
   },
   {
    "duration": 488,
    "start_time": "2021-10-03T14:10:58.738Z"
   },
   {
    "duration": 313,
    "start_time": "2021-10-03T14:11:13.153Z"
   },
   {
    "duration": 505,
    "start_time": "2021-10-03T14:11:34.452Z"
   },
   {
    "duration": 481,
    "start_time": "2021-10-03T14:11:58.774Z"
   },
   {
    "duration": 258,
    "start_time": "2021-10-03T14:13:57.172Z"
   },
   {
    "duration": 4,
    "start_time": "2021-10-03T14:22:38.463Z"
   },
   {
    "duration": 4,
    "start_time": "2021-10-03T14:22:47.063Z"
   },
   {
    "duration": 3,
    "start_time": "2021-10-03T14:22:55.228Z"
   },
   {
    "duration": 250,
    "start_time": "2021-10-03T14:23:25.259Z"
   },
   {
    "duration": 2,
    "start_time": "2021-10-03T14:23:28.360Z"
   },
   {
    "duration": 271,
    "start_time": "2021-10-03T14:23:29.965Z"
   },
   {
    "duration": 2,
    "start_time": "2021-10-03T14:23:51.656Z"
   },
   {
    "duration": 4,
    "start_time": "2021-10-03T14:23:58.205Z"
   },
   {
    "duration": 5,
    "start_time": "2021-10-03T14:24:35.124Z"
   },
   {
    "duration": 619,
    "start_time": "2021-10-03T14:24:54.635Z"
   },
   {
    "duration": 8,
    "start_time": "2021-10-03T14:25:00.936Z"
   },
   {
    "duration": 6901,
    "start_time": "2021-10-03T14:26:48.008Z"
   },
   {
    "duration": 8,
    "start_time": "2021-10-03T14:27:09.491Z"
   },
   {
    "duration": 66,
    "start_time": "2021-10-03T14:30:33.547Z"
   },
   {
    "duration": 3,
    "start_time": "2021-10-03T14:31:06.997Z"
   },
   {
    "duration": 3,
    "start_time": "2021-10-03T14:31:25.778Z"
   },
   {
    "duration": 417,
    "start_time": "2021-10-03T14:33:03.592Z"
   },
   {
    "duration": 270,
    "start_time": "2021-10-03T14:33:14.872Z"
   },
   {
    "duration": 8,
    "start_time": "2021-10-03T14:33:35.333Z"
   },
   {
    "duration": 84,
    "start_time": "2021-10-03T15:03:54.102Z"
   },
   {
    "duration": 85,
    "start_time": "2021-10-03T15:03:58.969Z"
   },
   {
    "duration": 82,
    "start_time": "2021-10-03T15:04:11.445Z"
   },
   {
    "duration": 4,
    "start_time": "2021-10-03T15:04:19.545Z"
   },
   {
    "duration": 7892,
    "start_time": "2021-10-03T15:04:45.539Z"
   },
   {
    "duration": 5,
    "start_time": "2021-10-03T15:05:07.802Z"
   },
   {
    "duration": 1828,
    "start_time": "2021-10-03T15:05:12.770Z"
   },
   {
    "duration": 5,
    "start_time": "2021-10-03T15:06:10.004Z"
   },
   {
    "duration": 1888,
    "start_time": "2021-10-03T15:06:12.279Z"
   },
   {
    "duration": 5,
    "start_time": "2021-10-03T15:06:38.998Z"
   },
   {
    "duration": 1766,
    "start_time": "2021-10-03T15:06:41.716Z"
   },
   {
    "duration": 5,
    "start_time": "2021-10-03T15:07:01.888Z"
   },
   {
    "duration": 1510,
    "start_time": "2021-10-03T15:07:03.537Z"
   },
   {
    "duration": 5,
    "start_time": "2021-10-03T15:08:01.921Z"
   },
   {
    "duration": 9246,
    "start_time": "2021-10-03T15:08:04.694Z"
   },
   {
    "duration": 10243,
    "start_time": "2021-10-03T15:08:40.072Z"
   },
   {
    "duration": 1459,
    "start_time": "2021-10-03T15:11:14.641Z"
   },
   {
    "duration": 1436,
    "start_time": "2021-10-03T15:14:24.419Z"
   },
   {
    "duration": 5,
    "start_time": "2021-10-03T15:14:57.688Z"
   },
   {
    "duration": 1669,
    "start_time": "2021-10-03T15:15:00.057Z"
   },
   {
    "duration": 257,
    "start_time": "2021-10-03T15:17:54.321Z"
   },
   {
    "duration": 246,
    "start_time": "2021-10-03T15:17:58.519Z"
   },
   {
    "duration": 93,
    "start_time": "2021-10-03T15:18:03.202Z"
   },
   {
    "duration": 9489,
    "start_time": "2021-10-03T15:18:05.650Z"
   },
   {
    "duration": 861,
    "start_time": "2021-10-03T15:22:03.623Z"
   },
   {
    "duration": 268,
    "start_time": "2021-10-03T15:22:16.873Z"
   },
   {
    "duration": 8,
    "start_time": "2021-10-03T15:23:06.785Z"
   },
   {
    "duration": 340,
    "start_time": "2021-10-03T15:23:50.885Z"
   },
   {
    "duration": 1257,
    "start_time": "2021-10-03T15:25:34.216Z"
   },
   {
    "duration": 12956,
    "start_time": "2021-10-03T15:25:46.082Z"
   },
   {
    "duration": 10,
    "start_time": "2021-10-03T15:26:48.626Z"
   },
   {
    "duration": 89,
    "start_time": "2021-10-03T15:29:31.379Z"
   },
   {
    "duration": 4,
    "start_time": "2021-10-03T15:29:36.727Z"
   },
   {
    "duration": 7448,
    "start_time": "2021-10-03T15:29:41.385Z"
   },
   {
    "duration": 10645,
    "start_time": "2021-10-03T15:31:31.858Z"
   },
   {
    "duration": 4,
    "start_time": "2021-10-03T15:32:56.634Z"
   },
   {
    "duration": 7634,
    "start_time": "2021-10-03T15:33:00.007Z"
   },
   {
    "duration": 3,
    "start_time": "2021-10-03T15:33:47.526Z"
   },
   {
    "duration": 935,
    "start_time": "2021-10-03T15:34:09.897Z"
   },
   {
    "duration": 1221,
    "start_time": "2021-10-03T15:35:46.495Z"
   },
   {
    "duration": 8612,
    "start_time": "2021-10-03T15:35:52.796Z"
   },
   {
    "duration": 7167,
    "start_time": "2021-10-03T15:37:22.565Z"
   },
   {
    "duration": 941,
    "start_time": "2021-10-03T15:37:52.069Z"
   },
   {
    "duration": 7823,
    "start_time": "2021-10-03T15:38:11.747Z"
   },
   {
    "duration": 8015,
    "start_time": "2021-10-03T15:39:25.554Z"
   },
   {
    "duration": 7395,
    "start_time": "2021-10-03T15:39:57.925Z"
   },
   {
    "duration": 8364,
    "start_time": "2021-10-03T15:41:31.911Z"
   },
   {
    "duration": 5297,
    "start_time": "2021-10-03T15:42:07.434Z"
   },
   {
    "duration": 5,
    "start_time": "2021-10-03T15:44:14.257Z"
   },
   {
    "duration": 5,
    "start_time": "2021-10-03T15:44:23.028Z"
   },
   {
    "duration": 9,
    "start_time": "2021-10-03T15:44:24.994Z"
   },
   {
    "duration": 4900,
    "start_time": "2021-10-03T15:44:31.137Z"
   },
   {
    "duration": 645,
    "start_time": "2021-10-03T15:45:13.528Z"
   },
   {
    "duration": 8050,
    "start_time": "2021-10-03T15:45:40.601Z"
   },
   {
    "duration": 5112,
    "start_time": "2021-10-03T15:51:27.195Z"
   },
   {
    "duration": 5253,
    "start_time": "2021-10-03T15:51:57.697Z"
   },
   {
    "duration": 1300,
    "start_time": "2021-10-03T15:53:12.318Z"
   },
   {
    "duration": 739,
    "start_time": "2021-10-03T16:02:53.519Z"
   },
   {
    "duration": 868,
    "start_time": "2021-10-03T16:03:32.166Z"
   },
   {
    "duration": 869,
    "start_time": "2021-10-03T16:03:42.237Z"
   },
   {
    "duration": 7418,
    "start_time": "2021-10-03T16:03:59.289Z"
   },
   {
    "duration": 4,
    "start_time": "2021-10-03T16:04:22.108Z"
   },
   {
    "duration": 4711,
    "start_time": "2021-10-03T16:04:25.190Z"
   },
   {
    "duration": 89,
    "start_time": "2021-10-03T16:08:18.857Z"
   },
   {
    "duration": 5,
    "start_time": "2021-10-03T16:08:27.555Z"
   },
   {
    "duration": 6,
    "start_time": "2021-10-03T16:08:37.860Z"
   },
   {
    "duration": 4625,
    "start_time": "2021-10-03T16:08:46.924Z"
   },
   {
    "duration": 5356,
    "start_time": "2021-10-03T16:09:31.617Z"
   },
   {
    "duration": 612,
    "start_time": "2021-10-03T16:10:57.436Z"
   },
   {
    "duration": 941,
    "start_time": "2021-10-03T16:11:19.099Z"
   },
   {
    "duration": 647,
    "start_time": "2021-10-03T16:11:47.654Z"
   },
   {
    "duration": 839,
    "start_time": "2021-10-03T16:11:56.705Z"
   },
   {
    "duration": 815,
    "start_time": "2021-10-03T16:14:05.109Z"
   },
   {
    "duration": 799,
    "start_time": "2021-10-03T16:14:10.230Z"
   },
   {
    "duration": 5080,
    "start_time": "2021-10-03T16:14:32.154Z"
   },
   {
    "duration": 6314,
    "start_time": "2021-10-03T16:15:48.243Z"
   },
   {
    "duration": 4849,
    "start_time": "2021-10-03T16:16:12.410Z"
   },
   {
    "duration": 649,
    "start_time": "2021-10-03T16:16:40.939Z"
   },
   {
    "duration": 5335,
    "start_time": "2021-10-03T16:17:11.948Z"
   },
   {
    "duration": 4950,
    "start_time": "2021-10-03T16:17:24.745Z"
   },
   {
    "duration": 6115,
    "start_time": "2021-10-03T16:18:02.918Z"
   },
   {
    "duration": 913,
    "start_time": "2021-10-03T16:19:05.556Z"
   },
   {
    "duration": 619,
    "start_time": "2021-10-03T16:19:10.083Z"
   },
   {
    "duration": 906,
    "start_time": "2021-10-03T16:19:25.434Z"
   },
   {
    "duration": 628,
    "start_time": "2021-10-03T16:19:31.359Z"
   },
   {
    "duration": 6112,
    "start_time": "2021-10-03T16:21:18.444Z"
   },
   {
    "duration": 112,
    "start_time": "2021-10-03T16:22:52.955Z"
   },
   {
    "duration": 699,
    "start_time": "2021-10-03T16:22:56.994Z"
   },
   {
    "duration": 1781,
    "start_time": "2021-10-03T16:23:03.470Z"
   },
   {
    "duration": 774,
    "start_time": "2021-10-03T16:23:17.060Z"
   },
   {
    "duration": 761,
    "start_time": "2021-10-03T16:24:03.423Z"
   },
   {
    "duration": 6345,
    "start_time": "2021-10-03T16:26:45.876Z"
   },
   {
    "duration": 828,
    "start_time": "2021-10-03T16:29:12.924Z"
   },
   {
    "duration": 5,
    "start_time": "2021-10-03T16:34:27.431Z"
   },
   {
    "duration": 260,
    "start_time": "2021-10-03T16:34:31.301Z"
   },
   {
    "duration": 784,
    "start_time": "2021-10-03T16:35:29.570Z"
   },
   {
    "duration": 286,
    "start_time": "2021-10-03T16:35:40.573Z"
   },
   {
    "duration": 908,
    "start_time": "2021-10-03T16:35:48.119Z"
   },
   {
    "duration": 4,
    "start_time": "2021-10-03T16:41:19.684Z"
   },
   {
    "duration": 1326,
    "start_time": "2021-10-03T16:41:22.655Z"
   },
   {
    "duration": 3,
    "start_time": "2021-10-03T16:42:40.500Z"
   },
   {
    "duration": 3439,
    "start_time": "2021-10-03T16:42:42.807Z"
   },
   {
    "duration": 3416,
    "start_time": "2021-10-03T16:42:58.880Z"
   },
   {
    "duration": 1293,
    "start_time": "2021-10-03T16:44:22.587Z"
   },
   {
    "duration": 1263,
    "start_time": "2021-10-03T16:44:43.203Z"
   },
   {
    "duration": 91,
    "start_time": "2021-10-03T16:44:49.487Z"
   },
   {
    "duration": 19955,
    "start_time": "2021-10-03T16:45:06.172Z"
   },
   {
    "duration": 4,
    "start_time": "2021-10-03T16:46:10.005Z"
   },
   {
    "duration": 3670,
    "start_time": "2021-10-03T16:46:12.462Z"
   },
   {
    "duration": 1497,
    "start_time": "2021-10-03T16:46:16.133Z"
   },
   {
    "duration": 20070,
    "start_time": "2021-10-03T16:46:17.644Z"
   },
   {
    "duration": 4,
    "start_time": "2021-10-03T16:47:27.164Z"
   },
   {
    "duration": 1242,
    "start_time": "2021-10-03T16:47:32.981Z"
   },
   {
    "duration": 4,
    "start_time": "2021-10-03T16:48:09.864Z"
   },
   {
    "duration": 1296,
    "start_time": "2021-10-03T16:48:16.348Z"
   },
   {
    "duration": 4,
    "start_time": "2021-10-03T16:49:15.235Z"
   },
   {
    "duration": 1195,
    "start_time": "2021-10-03T16:49:17.984Z"
   },
   {
    "duration": 3,
    "start_time": "2021-10-03T16:55:35.081Z"
   },
   {
    "duration": 1273,
    "start_time": "2021-10-03T16:55:40.905Z"
   },
   {
    "duration": 3,
    "start_time": "2021-10-03T16:55:58.172Z"
   },
   {
    "duration": 1259,
    "start_time": "2021-10-03T16:56:00.099Z"
   },
   {
    "duration": 5,
    "start_time": "2021-10-03T16:57:54.632Z"
   },
   {
    "duration": 1259,
    "start_time": "2021-10-03T16:57:59.659Z"
   },
   {
    "duration": 3,
    "start_time": "2021-10-03T16:58:24.607Z"
   },
   {
    "duration": 7156,
    "start_time": "2021-10-03T16:58:28.404Z"
   },
   {
    "duration": 4,
    "start_time": "2021-10-03T16:59:39.928Z"
   },
   {
    "duration": 3,
    "start_time": "2021-10-03T16:59:45.272Z"
   },
   {
    "duration": 4,
    "start_time": "2021-10-03T16:59:49.390Z"
   },
   {
    "duration": 1171,
    "start_time": "2021-10-03T16:59:51.675Z"
   },
   {
    "duration": 4,
    "start_time": "2021-10-03T17:02:00.123Z"
   },
   {
    "duration": 1309,
    "start_time": "2021-10-03T17:02:02.189Z"
   },
   {
    "duration": 4,
    "start_time": "2021-10-03T17:02:11.981Z"
   },
   {
    "duration": 1218,
    "start_time": "2021-10-03T17:02:14.173Z"
   },
   {
    "duration": 3,
    "start_time": "2021-10-03T17:02:31.817Z"
   },
   {
    "duration": 8252,
    "start_time": "2021-10-03T17:02:35.053Z"
   },
   {
    "duration": 4,
    "start_time": "2021-10-03T17:08:39.501Z"
   },
   {
    "duration": 1180,
    "start_time": "2021-10-03T17:08:42.057Z"
   },
   {
    "duration": 3,
    "start_time": "2021-10-03T17:09:08.167Z"
   },
   {
    "duration": 1177,
    "start_time": "2021-10-03T17:09:12.052Z"
   },
   {
    "duration": 4,
    "start_time": "2021-10-03T17:09:22.718Z"
   },
   {
    "duration": 1256,
    "start_time": "2021-10-03T17:09:24.977Z"
   },
   {
    "duration": 3,
    "start_time": "2021-10-03T17:10:09.792Z"
   },
   {
    "duration": 1309,
    "start_time": "2021-10-03T17:10:12.206Z"
   },
   {
    "duration": 3,
    "start_time": "2021-10-03T17:10:38.314Z"
   },
   {
    "duration": 4,
    "start_time": "2021-10-03T17:10:41.249Z"
   },
   {
    "duration": 1208,
    "start_time": "2021-10-03T17:10:44.029Z"
   },
   {
    "duration": 4,
    "start_time": "2021-10-03T17:11:07.518Z"
   },
   {
    "duration": 4,
    "start_time": "2021-10-03T17:11:21.915Z"
   },
   {
    "duration": 1316,
    "start_time": "2021-10-03T17:11:26.536Z"
   },
   {
    "duration": 4,
    "start_time": "2021-10-03T17:12:06.503Z"
   },
   {
    "duration": 645,
    "start_time": "2021-10-03T17:12:12.164Z"
   },
   {
    "duration": 1233,
    "start_time": "2021-10-03T17:12:15.122Z"
   },
   {
    "duration": 4,
    "start_time": "2021-10-03T17:13:22.800Z"
   },
   {
    "duration": 1252,
    "start_time": "2021-10-03T17:13:25.203Z"
   },
   {
    "duration": 4,
    "start_time": "2021-10-03T17:13:37.220Z"
   },
   {
    "duration": 1155,
    "start_time": "2021-10-03T17:13:39.361Z"
   },
   {
    "duration": 3,
    "start_time": "2021-10-03T17:14:04.185Z"
   },
   {
    "duration": 1176,
    "start_time": "2021-10-03T17:14:06.558Z"
   },
   {
    "duration": 5,
    "start_time": "2021-10-03T17:14:36.162Z"
   },
   {
    "duration": 1175,
    "start_time": "2021-10-03T17:14:37.796Z"
   },
   {
    "duration": 4,
    "start_time": "2021-10-03T17:15:53.428Z"
   },
   {
    "duration": 4,
    "start_time": "2021-10-03T17:16:00.343Z"
   },
   {
    "duration": 1184,
    "start_time": "2021-10-03T17:16:04.449Z"
   },
   {
    "duration": 4,
    "start_time": "2021-10-03T17:16:18.741Z"
   },
   {
    "duration": 1254,
    "start_time": "2021-10-03T17:16:23.255Z"
   },
   {
    "duration": 9,
    "start_time": "2021-10-03T17:16:40.310Z"
   },
   {
    "duration": 1215,
    "start_time": "2021-10-03T17:16:42.096Z"
   },
   {
    "duration": 4,
    "start_time": "2021-10-03T17:18:09.692Z"
   },
   {
    "duration": 1187,
    "start_time": "2021-10-03T17:18:11.850Z"
   },
   {
    "duration": 3,
    "start_time": "2021-10-03T17:18:38.520Z"
   },
   {
    "duration": 1287,
    "start_time": "2021-10-03T17:18:40.079Z"
   },
   {
    "duration": 85,
    "start_time": "2021-10-03T17:19:01.027Z"
   },
   {
    "duration": 79,
    "start_time": "2021-10-03T17:19:19.625Z"
   },
   {
    "duration": 3,
    "start_time": "2021-10-03T17:19:56.276Z"
   },
   {
    "duration": 1184,
    "start_time": "2021-10-03T17:19:58.923Z"
   },
   {
    "duration": 4,
    "start_time": "2021-10-03T17:20:55.989Z"
   },
   {
    "duration": 1417,
    "start_time": "2021-10-03T17:20:57.494Z"
   },
   {
    "duration": 5,
    "start_time": "2021-10-03T17:21:53.770Z"
   },
   {
    "duration": 4,
    "start_time": "2021-10-03T17:22:36.476Z"
   },
   {
    "duration": 1188,
    "start_time": "2021-10-03T17:22:38.065Z"
   },
   {
    "duration": 667,
    "start_time": "2021-10-03T17:23:14.829Z"
   },
   {
    "duration": 4,
    "start_time": "2021-10-03T17:23:57.724Z"
   },
   {
    "duration": 5,
    "start_time": "2021-10-03T17:24:12.919Z"
   },
   {
    "duration": 84,
    "start_time": "2021-10-03T17:24:36.664Z"
   },
   {
    "duration": 4,
    "start_time": "2021-10-03T17:24:39.182Z"
   },
   {
    "duration": 6,
    "start_time": "2021-10-03T17:25:05.775Z"
   },
   {
    "duration": 19,
    "start_time": "2021-10-03T17:25:37.036Z"
   },
   {
    "duration": 5,
    "start_time": "2021-10-03T17:25:52.365Z"
   },
   {
    "duration": 4,
    "start_time": "2021-10-03T17:25:57.356Z"
   },
   {
    "duration": 4,
    "start_time": "2021-10-03T17:27:22.213Z"
   },
   {
    "duration": 1168,
    "start_time": "2021-10-03T17:27:23.818Z"
   },
   {
    "duration": 4,
    "start_time": "2021-10-03T17:27:41.321Z"
   },
   {
    "duration": 4,
    "start_time": "2021-10-03T17:28:23.607Z"
   },
   {
    "duration": 1142,
    "start_time": "2021-10-03T17:28:25.051Z"
   },
   {
    "duration": 4,
    "start_time": "2021-10-03T17:28:54.459Z"
   },
   {
    "duration": 3350,
    "start_time": "2021-10-03T17:28:56.354Z"
   },
   {
    "duration": 4,
    "start_time": "2021-10-03T17:29:26.765Z"
   },
   {
    "duration": 3290,
    "start_time": "2021-10-03T17:29:28.498Z"
   },
   {
    "duration": 4,
    "start_time": "2021-10-03T17:30:07.188Z"
   },
   {
    "duration": 1455,
    "start_time": "2021-10-03T17:30:10.232Z"
   },
   {
    "duration": 4,
    "start_time": "2021-10-03T17:31:44.828Z"
   },
   {
    "duration": 4,
    "start_time": "2021-10-03T17:31:47.582Z"
   },
   {
    "duration": 4,
    "start_time": "2021-10-03T17:31:56.174Z"
   },
   {
    "duration": 17,
    "start_time": "2021-10-03T17:32:06.525Z"
   },
   {
    "duration": 4,
    "start_time": "2021-10-03T17:33:00.515Z"
   },
   {
    "duration": 1254,
    "start_time": "2021-10-03T17:33:02.076Z"
   },
   {
    "duration": 3,
    "start_time": "2021-10-03T17:33:30.056Z"
   },
   {
    "duration": 3198,
    "start_time": "2021-10-03T17:33:31.526Z"
   },
   {
    "duration": 3769,
    "start_time": "2021-10-03T17:33:44.045Z"
   },
   {
    "duration": 4,
    "start_time": "2021-10-03T17:33:59.548Z"
   },
   {
    "duration": 3212,
    "start_time": "2021-10-03T17:34:04.498Z"
   },
   {
    "duration": 4,
    "start_time": "2021-10-03T17:34:32.773Z"
   },
   {
    "duration": 3212,
    "start_time": "2021-10-03T17:34:36.000Z"
   },
   {
    "duration": 4,
    "start_time": "2021-10-03T17:35:14.569Z"
   },
   {
    "duration": 3567,
    "start_time": "2021-10-03T17:35:19.426Z"
   },
   {
    "duration": 4,
    "start_time": "2021-10-03T17:36:06.881Z"
   },
   {
    "duration": 1277,
    "start_time": "2021-10-03T17:36:08.455Z"
   },
   {
    "duration": 3,
    "start_time": "2021-10-03T17:38:00.839Z"
   },
   {
    "duration": 5732,
    "start_time": "2021-10-03T17:38:02.826Z"
   },
   {
    "duration": 10,
    "start_time": "2021-10-03T17:38:19.126Z"
   },
   {
    "duration": 5659,
    "start_time": "2021-10-03T17:38:22.032Z"
   },
   {
    "duration": 4,
    "start_time": "2021-10-03T17:39:25.929Z"
   },
   {
    "duration": 5368,
    "start_time": "2021-10-03T17:39:27.812Z"
   },
   {
    "duration": 1534,
    "start_time": "2021-10-04T13:27:05.120Z"
   },
   {
    "duration": 902,
    "start_time": "2021-10-04T13:27:06.657Z"
   },
   {
    "duration": 25,
    "start_time": "2021-10-04T13:27:07.562Z"
   },
   {
    "duration": 28,
    "start_time": "2021-10-04T13:27:07.590Z"
   },
   {
    "duration": 80,
    "start_time": "2021-10-04T13:27:07.621Z"
   },
   {
    "duration": 683,
    "start_time": "2021-10-04T13:27:07.703Z"
   },
   {
    "duration": 44,
    "start_time": "2021-10-04T13:27:08.389Z"
   },
   {
    "duration": 42,
    "start_time": "2021-10-04T13:27:08.457Z"
   },
   {
    "duration": 3,
    "start_time": "2021-10-04T13:27:08.503Z"
   },
   {
    "duration": 21,
    "start_time": "2021-10-04T13:27:08.508Z"
   },
   {
    "duration": 4,
    "start_time": "2021-10-04T13:27:08.557Z"
   },
   {
    "duration": 8,
    "start_time": "2021-10-04T13:27:08.563Z"
   },
   {
    "duration": 8,
    "start_time": "2021-10-04T13:27:08.573Z"
   },
   {
    "duration": 2875,
    "start_time": "2021-10-04T13:27:08.584Z"
   },
   {
    "duration": 2794,
    "start_time": "2021-10-04T13:27:11.463Z"
   },
   {
    "duration": 17,
    "start_time": "2021-10-04T13:27:14.259Z"
   },
   {
    "duration": 3006,
    "start_time": "2021-10-04T13:27:14.279Z"
   },
   {
    "duration": 5,
    "start_time": "2021-10-04T13:27:17.288Z"
   },
   {
    "duration": 10,
    "start_time": "2021-10-04T13:27:17.296Z"
   },
   {
    "duration": 6,
    "start_time": "2021-10-04T13:27:17.309Z"
   },
   {
    "duration": 40,
    "start_time": "2021-10-04T13:27:17.318Z"
   },
   {
    "duration": 886,
    "start_time": "2021-10-04T13:27:17.360Z"
   },
   {
    "duration": -14728866,
    "start_time": "2021-10-04T17:32:47.116Z"
   },
   {
    "duration": -14728876,
    "start_time": "2021-10-04T17:32:47.127Z"
   },
   {
    "duration": -14728884,
    "start_time": "2021-10-04T17:32:47.137Z"
   },
   {
    "duration": -14728888,
    "start_time": "2021-10-04T17:32:47.143Z"
   },
   {
    "duration": -14728893,
    "start_time": "2021-10-04T17:32:47.149Z"
   },
   {
    "duration": -14728935,
    "start_time": "2021-10-04T17:32:47.192Z"
   },
   {
    "duration": -14728948,
    "start_time": "2021-10-04T17:32:47.207Z"
   },
   {
    "duration": -14728953,
    "start_time": "2021-10-04T17:32:47.213Z"
   },
   {
    "duration": -14728959,
    "start_time": "2021-10-04T17:32:47.220Z"
   },
   {
    "duration": -14728963,
    "start_time": "2021-10-04T17:32:47.225Z"
   },
   {
    "duration": -14728968,
    "start_time": "2021-10-04T17:32:47.231Z"
   },
   {
    "duration": -14728971,
    "start_time": "2021-10-04T17:32:47.236Z"
   },
   {
    "duration": 857,
    "start_time": "2021-10-04T13:27:32.406Z"
   },
   {
    "duration": 15,
    "start_time": "2021-10-04T13:27:36.537Z"
   },
   {
    "duration": 4651,
    "start_time": "2021-10-04T13:27:38.101Z"
   },
   {
    "duration": 531,
    "start_time": "2021-10-04T13:35:02.639Z"
   },
   {
    "duration": 133,
    "start_time": "2021-10-04T13:35:12.098Z"
   },
   {
    "duration": 136,
    "start_time": "2021-10-04T13:35:27.465Z"
   },
   {
    "duration": 140,
    "start_time": "2021-10-04T13:35:31.542Z"
   },
   {
    "duration": 126,
    "start_time": "2021-10-04T13:36:02.776Z"
   },
   {
    "duration": -14728850,
    "start_time": "2021-10-04T17:42:12.404Z"
   },
   {
    "duration": 9462,
    "start_time": "2021-10-04T13:36:55.719Z"
   },
   {
    "duration": 10372,
    "start_time": "2021-10-04T13:37:25.235Z"
   },
   {
    "duration": -14728825,
    "start_time": "2021-10-04T17:43:20.803Z"
   },
   {
    "duration": 24,
    "start_time": "2021-10-04T13:37:54.401Z"
   },
   {
    "duration": 6,
    "start_time": "2021-10-04T13:38:35.156Z"
   },
   {
    "duration": 360,
    "start_time": "2021-10-04T13:38:39.359Z"
   },
   {
    "duration": 372,
    "start_time": "2021-10-04T13:38:49.807Z"
   },
   {
    "duration": 30,
    "start_time": "2021-10-04T13:38:57.357Z"
   },
   {
    "duration": 9617,
    "start_time": "2021-10-04T13:40:39.848Z"
   },
   {
    "duration": 45,
    "start_time": "2021-10-04T13:42:35.240Z"
   },
   {
    "duration": 24,
    "start_time": "2021-10-04T13:43:53.941Z"
   },
   {
    "duration": 22,
    "start_time": "2021-10-04T13:44:51.229Z"
   },
   {
    "duration": 1006,
    "start_time": "2021-10-04T13:45:27.240Z"
   },
   {
    "duration": 21,
    "start_time": "2021-10-04T13:45:56.377Z"
   },
   {
    "duration": 42,
    "start_time": "2021-10-04T13:46:01.265Z"
   },
   {
    "duration": 392,
    "start_time": "2021-10-04T13:46:23.634Z"
   },
   {
    "duration": 21,
    "start_time": "2021-10-04T13:46:38.482Z"
   },
   {
    "duration": 53,
    "start_time": "2021-10-04T13:46:44.806Z"
   },
   {
    "duration": 14,
    "start_time": "2021-10-04T13:47:08.114Z"
   },
   {
    "duration": -14728811,
    "start_time": "2021-10-04T17:53:25.434Z"
   },
   {
    "duration": 9964,
    "start_time": "2021-10-04T13:48:15.909Z"
   },
   {
    "duration": 11,
    "start_time": "2021-10-04T13:48:37.517Z"
   },
   {
    "duration": 17,
    "start_time": "2021-10-04T13:49:07.125Z"
   },
   {
    "duration": 15,
    "start_time": "2021-10-04T13:49:19.038Z"
   },
   {
    "duration": 14,
    "start_time": "2021-10-04T13:50:08.326Z"
   },
   {
    "duration": 21,
    "start_time": "2021-10-04T13:50:16.961Z"
   },
   {
    "duration": 12,
    "start_time": "2021-10-04T13:50:45.762Z"
   },
   {
    "duration": 22,
    "start_time": "2021-10-04T13:51:00.974Z"
   },
   {
    "duration": 5162,
    "start_time": "2021-10-04T13:53:12.903Z"
   },
   {
    "duration": 16,
    "start_time": "2021-10-04T13:53:21.174Z"
   },
   {
    "duration": 388,
    "start_time": "2021-10-04T13:53:28.236Z"
   },
   {
    "duration": 10160,
    "start_time": "2021-10-04T13:54:33.577Z"
   },
   {
    "duration": 47,
    "start_time": "2021-10-04T13:54:57.658Z"
   },
   {
    "duration": 13,
    "start_time": "2021-10-04T13:55:13.094Z"
   },
   {
    "duration": 22,
    "start_time": "2021-10-04T13:56:01.055Z"
   },
   {
    "duration": 11,
    "start_time": "2021-10-04T13:56:11.919Z"
   },
   {
    "duration": 21,
    "start_time": "2021-10-04T13:56:20.186Z"
   },
   {
    "duration": 15,
    "start_time": "2021-10-04T14:04:21.167Z"
   },
   {
    "duration": 16,
    "start_time": "2021-10-04T14:04:26.978Z"
   },
   {
    "duration": 364,
    "start_time": "2021-10-04T14:04:36.694Z"
   },
   {
    "duration": 394,
    "start_time": "2021-10-04T14:04:42.485Z"
   },
   {
    "duration": 128,
    "start_time": "2021-10-04T14:05:08.881Z"
   },
   {
    "duration": 523,
    "start_time": "2021-10-04T14:05:12.270Z"
   },
   {
    "duration": 20,
    "start_time": "2021-10-04T14:05:28.904Z"
   },
   {
    "duration": 13,
    "start_time": "2021-10-04T14:06:40.891Z"
   },
   {
    "duration": 5,
    "start_time": "2021-10-04T14:07:07.274Z"
   },
   {
    "duration": 1590,
    "start_time": "2021-10-04T14:07:07.281Z"
   },
   {
    "duration": 5,
    "start_time": "2021-10-04T14:08:28.035Z"
   },
   {
    "duration": 1892,
    "start_time": "2021-10-04T14:10:09.167Z"
   },
   {
    "duration": 397,
    "start_time": "2021-10-04T14:10:42.834Z"
   },
   {
    "duration": 388,
    "start_time": "2021-10-04T14:10:53.560Z"
   },
   {
    "duration": 15,
    "start_time": "2021-10-04T14:11:21.573Z"
   },
   {
    "duration": 1579,
    "start_time": "2021-10-04T14:11:24.288Z"
   },
   {
    "duration": 16,
    "start_time": "2021-10-04T14:12:14.292Z"
   },
   {
    "duration": 1408,
    "start_time": "2021-10-04T14:12:25.786Z"
   },
   {
    "duration": 899,
    "start_time": "2021-10-04T14:12:27.197Z"
   },
   {
    "duration": 23,
    "start_time": "2021-10-04T14:12:28.099Z"
   },
   {
    "duration": 37,
    "start_time": "2021-10-04T14:12:28.125Z"
   },
   {
    "duration": 49,
    "start_time": "2021-10-04T14:12:28.164Z"
   },
   {
    "duration": 681,
    "start_time": "2021-10-04T14:12:28.215Z"
   },
   {
    "duration": 58,
    "start_time": "2021-10-04T14:12:28.899Z"
   },
   {
    "duration": 45,
    "start_time": "2021-10-04T14:12:28.961Z"
   },
   {
    "duration": 3,
    "start_time": "2021-10-04T14:12:29.009Z"
   },
   {
    "duration": 44,
    "start_time": "2021-10-04T14:12:29.015Z"
   },
   {
    "duration": 6,
    "start_time": "2021-10-04T14:12:29.061Z"
   },
   {
    "duration": 32,
    "start_time": "2021-10-04T14:12:29.069Z"
   },
   {
    "duration": 19,
    "start_time": "2021-10-04T14:12:29.104Z"
   },
   {
    "duration": 2754,
    "start_time": "2021-10-04T14:12:29.126Z"
   },
   {
    "duration": 2675,
    "start_time": "2021-10-04T14:12:31.883Z"
   },
   {
    "duration": 16,
    "start_time": "2021-10-04T14:12:34.561Z"
   },
   {
    "duration": 2800,
    "start_time": "2021-10-04T14:12:34.580Z"
   },
   {
    "duration": 4,
    "start_time": "2021-10-04T14:12:37.382Z"
   },
   {
    "duration": 15,
    "start_time": "2021-10-04T14:12:37.388Z"
   },
   {
    "duration": 44,
    "start_time": "2021-10-04T14:12:37.405Z"
   },
   {
    "duration": 9,
    "start_time": "2021-10-04T14:12:37.451Z"
   },
   {
    "duration": 6,
    "start_time": "2021-10-04T14:12:37.463Z"
   },
   {
    "duration": 21,
    "start_time": "2021-10-04T14:12:37.474Z"
   },
   {
    "duration": 19,
    "start_time": "2021-10-04T14:12:37.498Z"
   },
   {
    "duration": 1658,
    "start_time": "2021-10-04T14:12:37.519Z"
   },
   {
    "duration": -14728773,
    "start_time": "2021-10-04T18:18:07.953Z"
   },
   {
    "duration": -14728792,
    "start_time": "2021-10-04T18:18:07.973Z"
   },
   {
    "duration": -14728796,
    "start_time": "2021-10-04T18:18:07.978Z"
   },
   {
    "duration": -14728801,
    "start_time": "2021-10-04T18:18:07.985Z"
   },
   {
    "duration": -14728804,
    "start_time": "2021-10-04T18:18:07.989Z"
   },
   {
    "duration": -14728808,
    "start_time": "2021-10-04T18:18:07.994Z"
   },
   {
    "duration": -14728810,
    "start_time": "2021-10-04T18:18:07.998Z"
   },
   {
    "duration": -14728812,
    "start_time": "2021-10-04T18:18:08.001Z"
   },
   {
    "duration": -14728814,
    "start_time": "2021-10-04T18:18:08.005Z"
   },
   {
    "duration": -14728816,
    "start_time": "2021-10-04T18:18:08.008Z"
   },
   {
    "duration": -14728819,
    "start_time": "2021-10-04T18:18:08.013Z"
   },
   {
    "duration": -14728822,
    "start_time": "2021-10-04T18:18:08.017Z"
   },
   {
    "duration": 37,
    "start_time": "2021-10-04T14:18:10.988Z"
   },
   {
    "duration": 16,
    "start_time": "2021-10-04T14:18:20.804Z"
   },
   {
    "duration": 7,
    "start_time": "2021-10-04T14:19:16.392Z"
   },
   {
    "duration": 6,
    "start_time": "2021-10-04T14:19:54.624Z"
   },
   {
    "duration": 12762,
    "start_time": "2021-10-04T14:19:59.238Z"
   },
   {
    "duration": -14728790,
    "start_time": "2021-10-04T18:25:40.793Z"
   },
   {
    "duration": -14728792,
    "start_time": "2021-10-04T18:25:40.797Z"
   },
   {
    "duration": 585,
    "start_time": "2021-10-04T14:20:51.218Z"
   },
   {
    "duration": 391,
    "start_time": "2021-10-04T14:21:05.717Z"
   },
   {
    "duration": 416,
    "start_time": "2021-10-04T14:21:11.566Z"
   },
   {
    "duration": 383,
    "start_time": "2021-10-04T14:21:25.903Z"
   },
   {
    "duration": 1534,
    "start_time": "2021-10-04T14:21:32.832Z"
   },
   {
    "duration": 372,
    "start_time": "2021-10-04T14:21:34.627Z"
   },
   {
    "duration": 14,
    "start_time": "2021-10-04T14:21:41.620Z"
   },
   {
    "duration": 1095,
    "start_time": "2021-10-04T14:21:44.685Z"
   },
   {
    "duration": 393,
    "start_time": "2021-10-04T14:21:55.930Z"
   },
   {
    "duration": 399,
    "start_time": "2021-10-04T14:21:59.787Z"
   },
   {
    "duration": 10,
    "start_time": "2021-10-04T14:22:13.939Z"
   },
   {
    "duration": 16,
    "start_time": "2021-10-04T14:22:16.999Z"
   },
   {
    "duration": 12,
    "start_time": "2021-10-04T14:22:19.935Z"
   },
   {
    "duration": 1601,
    "start_time": "2021-10-04T14:22:22.287Z"
   },
   {
    "duration": 799,
    "start_time": "2021-10-04T14:22:25.432Z"
   },
   {
    "duration": 391,
    "start_time": "2021-10-04T14:26:13.689Z"
   },
   {
    "duration": 365,
    "start_time": "2021-10-04T14:26:36.700Z"
   },
   {
    "duration": 1593,
    "start_time": "2021-10-04T14:26:39.764Z"
   },
   {
    "duration": 8,
    "start_time": "2021-10-04T14:26:41.359Z"
   },
   {
    "duration": 371,
    "start_time": "2021-10-04T14:27:35.997Z"
   },
   {
    "duration": 17,
    "start_time": "2021-10-04T14:27:57.587Z"
   },
   {
    "duration": 17,
    "start_time": "2021-10-04T14:28:06.043Z"
   },
   {
    "duration": 15,
    "start_time": "2021-10-04T14:28:14.085Z"
   },
   {
    "duration": 5,
    "start_time": "2021-10-04T14:28:26.389Z"
   },
   {
    "duration": 13,
    "start_time": "2021-10-04T14:28:35.198Z"
   },
   {
    "duration": 5,
    "start_time": "2021-10-04T14:29:07.063Z"
   },
   {
    "duration": 360,
    "start_time": "2021-10-04T14:29:39.427Z"
   },
   {
    "duration": 488,
    "start_time": "2021-10-04T14:29:52.384Z"
   },
   {
    "duration": 122,
    "start_time": "2021-10-04T14:30:33.275Z"
   },
   {
    "duration": 132,
    "start_time": "2021-10-04T14:30:39.853Z"
   },
   {
    "duration": 374,
    "start_time": "2021-10-04T14:30:43.692Z"
   },
   {
    "duration": 360,
    "start_time": "2021-10-04T14:31:18.247Z"
   },
   {
    "duration": 429,
    "start_time": "2021-10-04T14:31:33.169Z"
   },
   {
    "duration": 381,
    "start_time": "2021-10-04T14:31:51.874Z"
   },
   {
    "duration": 481,
    "start_time": "2021-10-04T14:32:12.935Z"
   },
   {
    "duration": 5,
    "start_time": "2021-10-04T14:33:28.337Z"
   },
   {
    "duration": 381,
    "start_time": "2021-10-04T14:34:26.554Z"
   },
   {
    "duration": 4,
    "start_time": "2021-10-04T14:34:56.820Z"
   },
   {
    "duration": 463,
    "start_time": "2021-10-04T14:35:09.762Z"
   },
   {
    "duration": 400,
    "start_time": "2021-10-04T14:35:24.555Z"
   },
   {
    "duration": 7,
    "start_time": "2021-10-04T14:37:47.705Z"
   },
   {
    "duration": 1686,
    "start_time": "2021-10-04T14:38:09.055Z"
   },
   {
    "duration": 1684,
    "start_time": "2021-10-04T14:39:22.002Z"
   },
   {
    "duration": 366,
    "start_time": "2021-10-04T14:41:20.833Z"
   },
   {
    "duration": 5,
    "start_time": "2021-10-04T14:41:28.234Z"
   },
   {
    "duration": 6,
    "start_time": "2021-10-04T14:41:35.089Z"
   },
   {
    "duration": 9269,
    "start_time": "2021-10-04T14:41:42.339Z"
   },
   {
    "duration": 6,
    "start_time": "2021-10-04T14:42:43.489Z"
   },
   {
    "duration": 1763,
    "start_time": "2021-10-04T14:42:50.886Z"
   },
   {
    "duration": 1433,
    "start_time": "2021-10-04T14:44:30.570Z"
   },
   {
    "duration": 887,
    "start_time": "2021-10-04T14:44:32.005Z"
   },
   {
    "duration": 24,
    "start_time": "2021-10-04T14:44:32.895Z"
   },
   {
    "duration": 42,
    "start_time": "2021-10-04T14:44:32.921Z"
   },
   {
    "duration": 47,
    "start_time": "2021-10-04T14:44:32.965Z"
   },
   {
    "duration": 758,
    "start_time": "2021-10-04T14:44:33.014Z"
   },
   {
    "duration": 42,
    "start_time": "2021-10-04T14:44:33.775Z"
   },
   {
    "duration": 3,
    "start_time": "2021-10-04T14:44:33.821Z"
   },
   {
    "duration": 45,
    "start_time": "2021-10-04T14:44:33.826Z"
   },
   {
    "duration": 3,
    "start_time": "2021-10-04T14:44:33.874Z"
   },
   {
    "duration": 7,
    "start_time": "2021-10-04T14:44:33.879Z"
   },
   {
    "duration": 10,
    "start_time": "2021-10-04T14:44:33.888Z"
   },
   {
    "duration": 3105,
    "start_time": "2021-10-04T14:44:33.900Z"
   },
   {
    "duration": 2823,
    "start_time": "2021-10-04T14:44:37.007Z"
   },
   {
    "duration": 26,
    "start_time": "2021-10-04T14:44:39.833Z"
   },
   {
    "duration": 4073,
    "start_time": "2021-10-04T14:44:39.861Z"
   },
   {
    "duration": 5,
    "start_time": "2021-10-04T14:44:43.937Z"
   },
   {
    "duration": 8,
    "start_time": "2021-10-04T14:44:43.959Z"
   },
   {
    "duration": 37,
    "start_time": "2021-10-04T14:44:43.969Z"
   },
   {
    "duration": 10,
    "start_time": "2021-10-04T14:44:44.009Z"
   },
   {
    "duration": 38,
    "start_time": "2021-10-04T14:44:44.022Z"
   },
   {
    "duration": 939,
    "start_time": "2021-10-04T14:44:44.063Z"
   },
   {
    "duration": -14728846,
    "start_time": "2021-10-04T18:50:13.852Z"
   },
   {
    "duration": -14728850,
    "start_time": "2021-10-04T18:50:13.857Z"
   },
   {
    "duration": -14728857,
    "start_time": "2021-10-04T18:50:13.866Z"
   },
   {
    "duration": -14728861,
    "start_time": "2021-10-04T18:50:13.871Z"
   },
   {
    "duration": -14728862,
    "start_time": "2021-10-04T18:50:13.873Z"
   },
   {
    "duration": -14728862,
    "start_time": "2021-10-04T18:50:13.875Z"
   },
   {
    "duration": -14728864,
    "start_time": "2021-10-04T18:50:13.878Z"
   },
   {
    "duration": -14728865,
    "start_time": "2021-10-04T18:50:13.880Z"
   },
   {
    "duration": -14728866,
    "start_time": "2021-10-04T18:50:13.883Z"
   },
   {
    "duration": -14728867,
    "start_time": "2021-10-04T18:50:13.885Z"
   },
   {
    "duration": 30,
    "start_time": "2021-10-04T14:45:05.263Z"
   },
   {
    "duration": 27,
    "start_time": "2021-10-04T14:45:25.142Z"
   },
   {
    "duration": 17,
    "start_time": "2021-10-04T14:45:31.605Z"
   },
   {
    "duration": 30,
    "start_time": "2021-10-04T14:45:43.769Z"
   },
   {
    "duration": 987,
    "start_time": "2021-10-04T14:46:40.775Z"
   },
   {
    "duration": 17,
    "start_time": "2021-10-04T14:47:30.924Z"
   },
   {
    "duration": 8,
    "start_time": "2021-10-04T14:53:05.598Z"
   },
   {
    "duration": 433,
    "start_time": "2021-10-04T14:53:10.251Z"
   },
   {
    "duration": 16,
    "start_time": "2021-10-04T14:53:17.379Z"
   },
   {
    "duration": 1698,
    "start_time": "2021-10-04T14:53:19.352Z"
   },
   {
    "duration": 7,
    "start_time": "2021-10-04T14:55:20.901Z"
   },
   {
    "duration": 1690,
    "start_time": "2021-10-04T14:55:28.991Z"
   },
   {
    "duration": 7,
    "start_time": "2021-10-04T14:55:49.715Z"
   },
   {
    "duration": 2472,
    "start_time": "2021-10-04T14:55:52.569Z"
   },
   {
    "duration": 7,
    "start_time": "2021-10-04T14:56:14.203Z"
   },
   {
    "duration": 2062,
    "start_time": "2021-10-04T14:56:16.651Z"
   },
   {
    "duration": 7,
    "start_time": "2021-10-04T14:56:47.466Z"
   },
   {
    "duration": 6872,
    "start_time": "2021-10-04T14:56:49.676Z"
   },
   {
    "duration": 6431,
    "start_time": "2021-10-04T14:57:03.450Z"
   },
   {
    "duration": 7,
    "start_time": "2021-10-04T14:59:20.467Z"
   },
   {
    "duration": 2058,
    "start_time": "2021-10-04T14:59:22.297Z"
   },
   {
    "duration": 7,
    "start_time": "2021-10-04T14:59:40.192Z"
   },
   {
    "duration": 2461,
    "start_time": "2021-10-04T14:59:42.031Z"
   },
   {
    "duration": 7,
    "start_time": "2021-10-04T15:01:24.938Z"
   },
   {
    "duration": 2144,
    "start_time": "2021-10-04T15:01:27.083Z"
   },
   {
    "duration": 7,
    "start_time": "2021-10-04T15:01:42.141Z"
   },
   {
    "duration": 6387,
    "start_time": "2021-10-04T15:01:44.050Z"
   },
   {
    "duration": 6200,
    "start_time": "2021-10-04T15:02:47.458Z"
   },
   {
    "duration": 37948,
    "start_time": "2021-10-04T15:03:20.716Z"
   },
   {
    "duration": 2296,
    "start_time": "2021-10-04T15:03:58.666Z"
   },
   {
    "duration": 121,
    "start_time": "2021-10-04T15:08:54.409Z"
   },
   {
    "duration": 164,
    "start_time": "2021-10-04T15:09:11.922Z"
   },
   {
    "duration": 143,
    "start_time": "2021-10-04T15:09:31.054Z"
   },
   {
    "duration": 142,
    "start_time": "2021-10-04T15:09:49.472Z"
   },
   {
    "duration": 120,
    "start_time": "2021-10-04T15:10:13.408Z"
   },
   {
    "duration": 6,
    "start_time": "2021-10-04T15:10:26.253Z"
   },
   {
    "duration": 7,
    "start_time": "2021-10-04T15:11:39.655Z"
   },
   {
    "duration": 7,
    "start_time": "2021-10-04T15:11:44.751Z"
   },
   {
    "duration": 8,
    "start_time": "2021-10-04T15:12:53.663Z"
   },
   {
    "duration": 2033,
    "start_time": "2021-10-04T15:13:13.332Z"
   },
   {
    "duration": 4,
    "start_time": "2021-10-04T15:14:51.129Z"
   },
   {
    "duration": 3,
    "start_time": "2021-10-04T15:14:52.755Z"
   },
   {
    "duration": 1016,
    "start_time": "2021-10-04T15:14:59.361Z"
   },
   {
    "duration": 7,
    "start_time": "2021-10-04T15:15:14.263Z"
   },
   {
    "duration": 953,
    "start_time": "2021-10-04T15:15:16.249Z"
   },
   {
    "duration": 807,
    "start_time": "2021-10-04T15:15:56.750Z"
   },
   {
    "duration": 363,
    "start_time": "2021-10-04T15:16:37.766Z"
   },
   {
    "duration": 738,
    "start_time": "2021-10-04T15:16:43.490Z"
   },
   {
    "duration": 776,
    "start_time": "2021-10-04T15:17:04.708Z"
   },
   {
    "duration": 9,
    "start_time": "2021-10-04T15:17:30.807Z"
   },
   {
    "duration": 2065,
    "start_time": "2021-10-04T15:17:33.775Z"
   },
   {
    "duration": 8388,
    "start_time": "2021-10-04T15:17:46.211Z"
   },
   {
    "duration": 2060,
    "start_time": "2021-10-04T15:19:37.599Z"
   },
   {
    "duration": 381,
    "start_time": "2021-10-04T15:20:53.113Z"
   },
   {
    "duration": 9470,
    "start_time": "2021-10-04T15:20:56.957Z"
   },
   {
    "duration": 9488,
    "start_time": "2021-10-04T15:21:42.696Z"
   },
   {
    "duration": 10680,
    "start_time": "2021-10-04T15:21:59.316Z"
   },
   {
    "duration": 9397,
    "start_time": "2021-10-04T15:22:35.228Z"
   },
   {
    "duration": 9450,
    "start_time": "2021-10-04T15:22:54.571Z"
   },
   {
    "duration": -14728668,
    "start_time": "2021-10-04T19:28:53.663Z"
   },
   {
    "duration": 9428,
    "start_time": "2021-10-04T15:23:39.601Z"
   },
   {
    "duration": 9876,
    "start_time": "2021-10-04T15:23:56.716Z"
   },
   {
    "duration": 7,
    "start_time": "2021-10-04T15:24:27.416Z"
   },
   {
    "duration": 8,
    "start_time": "2021-10-04T15:24:36.429Z"
   },
   {
    "duration": 2118,
    "start_time": "2021-10-04T15:24:38.357Z"
   },
   {
    "duration": 7,
    "start_time": "2021-10-04T15:27:25.080Z"
   },
   {
    "duration": 2126,
    "start_time": "2021-10-04T15:27:29.858Z"
   },
   {
    "duration": 2151,
    "start_time": "2021-10-04T15:28:35.175Z"
   },
   {
    "duration": 8,
    "start_time": "2021-10-04T15:29:26.770Z"
   },
   {
    "duration": 2054,
    "start_time": "2021-10-04T15:29:29.723Z"
   },
   {
    "duration": 8,
    "start_time": "2021-10-04T15:30:24.863Z"
   },
   {
    "duration": 2121,
    "start_time": "2021-10-04T15:30:26.859Z"
   },
   {
    "duration": 375,
    "start_time": "2021-10-04T15:31:38.544Z"
   },
   {
    "duration": 2208,
    "start_time": "2021-10-04T15:32:23.537Z"
   },
   {
    "duration": 8,
    "start_time": "2021-10-04T15:33:19.467Z"
   },
   {
    "duration": 2055,
    "start_time": "2021-10-04T15:33:21.854Z"
   },
   {
    "duration": 2085,
    "start_time": "2021-10-04T15:34:03.462Z"
   },
   {
    "duration": 9623,
    "start_time": "2021-10-04T15:35:32.854Z"
   },
   {
    "duration": 10173,
    "start_time": "2021-10-04T15:35:46.591Z"
   },
   {
    "duration": 9366,
    "start_time": "2021-10-04T15:37:00.311Z"
   },
   {
    "duration": 9584,
    "start_time": "2021-10-04T15:38:38.573Z"
   },
   {
    "duration": 9408,
    "start_time": "2021-10-04T15:38:54.554Z"
   },
   {
    "duration": 10061,
    "start_time": "2021-10-04T15:39:28.439Z"
   },
   {
    "duration": 8,
    "start_time": "2021-10-04T15:40:05.808Z"
   },
   {
    "duration": 9996,
    "start_time": "2021-10-04T15:40:08.308Z"
   },
   {
    "duration": 9653,
    "start_time": "2021-10-04T15:40:35.728Z"
   },
   {
    "duration": 355,
    "start_time": "2021-10-04T15:41:13.417Z"
   },
   {
    "duration": 7,
    "start_time": "2021-10-04T15:41:29.331Z"
   },
   {
    "duration": 383,
    "start_time": "2021-10-04T15:41:31.348Z"
   },
   {
    "duration": 5,
    "start_time": "2021-10-04T15:41:57.925Z"
   },
   {
    "duration": 15,
    "start_time": "2021-10-04T15:42:00.250Z"
   },
   {
    "duration": 4,
    "start_time": "2021-10-04T15:42:08.587Z"
   },
   {
    "duration": 5,
    "start_time": "2021-10-04T15:42:10.615Z"
   },
   {
    "duration": 10108,
    "start_time": "2021-10-04T15:42:39.002Z"
   },
   {
    "duration": 5,
    "start_time": "2021-10-04T15:42:59.976Z"
   },
   {
    "duration": 6,
    "start_time": "2021-10-04T15:43:20.670Z"
   },
   {
    "duration": 6,
    "start_time": "2021-10-04T15:43:31.986Z"
   },
   {
    "duration": 6,
    "start_time": "2021-10-04T15:43:59.513Z"
   },
   {
    "duration": 11024,
    "start_time": "2021-10-04T15:44:01.390Z"
   },
   {
    "duration": -14728671,
    "start_time": "2021-10-04T19:49:41.088Z"
   },
   {
    "duration": 2057,
    "start_time": "2021-10-04T15:44:12.867Z"
   },
   {
    "duration": 682,
    "start_time": "2021-10-04T15:44:32.563Z"
   },
   {
    "duration": 390,
    "start_time": "2021-10-04T15:44:40.051Z"
   },
   {
    "duration": 765,
    "start_time": "2021-10-04T15:44:47.905Z"
   },
   {
    "duration": 5,
    "start_time": "2021-10-04T15:45:08.855Z"
   },
   {
    "duration": 10,
    "start_time": "2021-10-04T15:45:10.609Z"
   },
   {
    "duration": 10950,
    "start_time": "2021-10-04T15:45:15.458Z"
   },
   {
    "duration": 367,
    "start_time": "2021-10-04T15:45:33.340Z"
   },
   {
    "duration": 5,
    "start_time": "2021-10-04T15:45:36.273Z"
   },
   {
    "duration": 10364,
    "start_time": "2021-10-04T15:45:43.610Z"
   },
   {
    "duration": -14728686,
    "start_time": "2021-10-04T19:51:22.663Z"
   },
   {
    "duration": 7,
    "start_time": "2021-10-04T15:46:28.799Z"
   },
   {
    "duration": 10504,
    "start_time": "2021-10-04T15:46:46.336Z"
   },
   {
    "duration": 5,
    "start_time": "2021-10-04T15:47:47.146Z"
   },
   {
    "duration": 6,
    "start_time": "2021-10-04T15:47:48.604Z"
   },
   {
    "duration": 9897,
    "start_time": "2021-10-04T15:47:53.418Z"
   },
   {
    "duration": 8,
    "start_time": "2021-10-04T15:48:55.949Z"
   },
   {
    "duration": 5,
    "start_time": "2021-10-04T15:51:53.422Z"
   },
   {
    "duration": 9957,
    "start_time": "2021-10-04T15:52:06.837Z"
   },
   {
    "duration": 151,
    "start_time": "2021-10-04T15:52:59.713Z"
   },
   {
    "duration": 4,
    "start_time": "2021-10-04T15:53:23.052Z"
   },
   {
    "duration": 10884,
    "start_time": "2021-10-04T15:53:25.489Z"
   },
   {
    "duration": 374,
    "start_time": "2021-10-04T15:54:32.745Z"
   },
   {
    "duration": 6,
    "start_time": "2021-10-04T16:07:26.820Z"
   },
   {
    "duration": 1274,
    "start_time": "2021-10-06T13:13:13.633Z"
   },
   {
    "duration": 769,
    "start_time": "2021-10-06T13:13:14.909Z"
   },
   {
    "duration": 17,
    "start_time": "2021-10-06T13:13:15.680Z"
   },
   {
    "duration": 19,
    "start_time": "2021-10-06T13:13:15.699Z"
   },
   {
    "duration": 67,
    "start_time": "2021-10-06T13:13:15.719Z"
   },
   {
    "duration": 418,
    "start_time": "2021-10-06T13:13:15.788Z"
   },
   {
    "duration": 44,
    "start_time": "2021-10-06T13:13:16.207Z"
   },
   {
    "duration": 3,
    "start_time": "2021-10-06T13:13:16.254Z"
   },
   {
    "duration": 15,
    "start_time": "2021-10-06T13:13:16.259Z"
   },
   {
    "duration": 7,
    "start_time": "2021-10-06T13:13:16.276Z"
   },
   {
    "duration": 8,
    "start_time": "2021-10-06T13:13:16.285Z"
   },
   {
    "duration": 7,
    "start_time": "2021-10-06T13:13:16.294Z"
   },
   {
    "duration": 1869,
    "start_time": "2021-10-06T13:13:16.303Z"
   },
   {
    "duration": 1771,
    "start_time": "2021-10-06T13:13:18.174Z"
   },
   {
    "duration": 20,
    "start_time": "2021-10-06T13:13:19.950Z"
   },
   {
    "duration": 1859,
    "start_time": "2021-10-06T13:13:19.972Z"
   },
   {
    "duration": 2,
    "start_time": "2021-10-06T13:13:21.833Z"
   },
   {
    "duration": 28,
    "start_time": "2021-10-06T13:13:21.837Z"
   },
   {
    "duration": 28,
    "start_time": "2021-10-06T13:13:21.867Z"
   },
   {
    "duration": 5,
    "start_time": "2021-10-06T13:13:21.897Z"
   },
   {
    "duration": 9,
    "start_time": "2021-10-06T13:13:21.904Z"
   },
   {
    "duration": 20,
    "start_time": "2021-10-06T13:13:21.915Z"
   },
   {
    "duration": 9159,
    "start_time": "2021-10-06T13:13:21.940Z"
   },
   {
    "duration": -14729699,
    "start_time": "2021-10-06T17:19:00.800Z"
   },
   {
    "duration": -14729706,
    "start_time": "2021-10-06T17:19:00.808Z"
   },
   {
    "duration": -14729719,
    "start_time": "2021-10-06T17:19:00.822Z"
   },
   {
    "duration": 4,
    "start_time": "2021-10-06T13:14:21.172Z"
   },
   {
    "duration": 352,
    "start_time": "2021-10-06T13:14:50.819Z"
   },
   {
    "duration": 379,
    "start_time": "2021-10-06T13:15:11.069Z"
   },
   {
    "duration": 364,
    "start_time": "2021-10-06T13:16:23.577Z"
   },
   {
    "duration": 421,
    "start_time": "2021-10-06T13:16:35.590Z"
   },
   {
    "duration": 459,
    "start_time": "2021-10-06T13:16:47.099Z"
   },
   {
    "duration": 69,
    "start_time": "2021-10-06T13:17:10.503Z"
   },
   {
    "duration": 379,
    "start_time": "2021-10-06T13:17:18.257Z"
   },
   {
    "duration": 8,
    "start_time": "2021-10-06T13:18:03.393Z"
   },
   {
    "duration": 9,
    "start_time": "2021-10-06T13:19:04.058Z"
   },
   {
    "duration": 12,
    "start_time": "2021-10-06T13:19:18.555Z"
   },
   {
    "duration": 72,
    "start_time": "2021-10-06T13:19:43.543Z"
   },
   {
    "duration": 8,
    "start_time": "2021-10-06T13:19:53.393Z"
   },
   {
    "duration": 8,
    "start_time": "2021-10-06T13:20:05.846Z"
   },
   {
    "duration": 20,
    "start_time": "2021-10-06T13:20:39.286Z"
   },
   {
    "duration": 5279,
    "start_time": "2021-10-06T13:24:25.630Z"
   },
   {
    "duration": 5245,
    "start_time": "2021-10-06T13:29:16.390Z"
   },
   {
    "duration": 4881,
    "start_time": "2021-10-06T13:49:00.437Z"
   },
   {
    "duration": 224,
    "start_time": "2021-10-06T13:49:53.896Z"
   },
   {
    "duration": 10855,
    "start_time": "2021-10-06T13:56:13.239Z"
   },
   {
    "duration": 222,
    "start_time": "2021-10-06T13:58:43.942Z"
   },
   {
    "duration": 11688,
    "start_time": "2021-10-06T13:58:50.044Z"
   },
   {
    "duration": 73,
    "start_time": "2021-10-06T14:05:15.478Z"
   },
   {
    "duration": 4,
    "start_time": "2021-10-06T14:05:19.463Z"
   },
   {
    "duration": 558,
    "start_time": "2021-10-06T14:23:22.048Z"
   },
   {
    "duration": 220,
    "start_time": "2021-10-06T14:25:03.919Z"
   },
   {
    "duration": 347,
    "start_time": "2021-10-06T14:26:31.679Z"
   },
   {
    "duration": 213,
    "start_time": "2021-10-06T14:26:46.737Z"
   },
   {
    "duration": 202,
    "start_time": "2021-10-06T14:26:56.796Z"
   },
   {
    "duration": 4,
    "start_time": "2021-10-06T14:27:12.371Z"
   },
   {
    "duration": 1304,
    "start_time": "2021-10-06T14:27:18.967Z"
   },
   {
    "duration": 206,
    "start_time": "2021-10-06T14:27:23.837Z"
   },
   {
    "duration": 62,
    "start_time": "2021-10-06T14:27:37.492Z"
   },
   {
    "duration": 1325,
    "start_time": "2021-10-06T14:27:42.606Z"
   },
   {
    "duration": 5,
    "start_time": "2021-10-06T14:28:44.638Z"
   },
   {
    "duration": 2795,
    "start_time": "2021-10-06T14:28:56.036Z"
   },
   {
    "duration": 335,
    "start_time": "2021-10-06T14:29:19.503Z"
   },
   {
    "duration": 3099,
    "start_time": "2021-10-06T14:29:28.780Z"
   },
   {
    "duration": 4907,
    "start_time": "2021-10-06T14:29:38.104Z"
   },
   {
    "duration": 5298,
    "start_time": "2021-10-06T14:29:57.386Z"
   },
   {
    "duration": 216,
    "start_time": "2021-10-06T14:30:02.687Z"
   },
   {
    "duration": 1608,
    "start_time": "2021-10-06T14:30:14.149Z"
   },
   {
    "duration": 1446,
    "start_time": "2021-10-06T14:30:40.005Z"
   },
   {
    "duration": 5020,
    "start_time": "2021-10-06T14:30:47.269Z"
   },
   {
    "duration": 5,
    "start_time": "2021-10-06T14:34:30.329Z"
   },
   {
    "duration": 4,
    "start_time": "2021-10-06T14:34:33.467Z"
   },
   {
    "duration": 1903,
    "start_time": "2021-10-06T14:35:03.648Z"
   },
   {
    "duration": 5,
    "start_time": "2021-10-06T14:35:25.710Z"
   },
   {
    "duration": 2872,
    "start_time": "2021-10-06T14:35:35.979Z"
   },
   {
    "duration": -14729615,
    "start_time": "2021-10-06T18:45:18.640Z"
   },
   {
    "duration": 337142,
    "start_time": "2021-10-06T14:45:45.654Z"
   },
   {
    "duration": 70523,
    "start_time": "2021-10-06T14:53:50.134Z"
   },
   {
    "duration": 81,
    "start_time": "2021-10-06T15:01:41.140Z"
   },
   {
    "duration": 2491194,
    "start_time": "2021-10-06T15:01:58.590Z"
   },
   {
    "duration": -14729583,
    "start_time": "2021-10-06T19:48:59.371Z"
   },
   {
    "duration": 1121,
    "start_time": "2021-10-06T15:44:14.140Z"
   },
   {
    "duration": 725,
    "start_time": "2021-10-06T15:44:15.263Z"
   },
   {
    "duration": 17,
    "start_time": "2021-10-06T15:44:15.990Z"
   },
   {
    "duration": 19,
    "start_time": "2021-10-06T15:44:16.009Z"
   },
   {
    "duration": 55,
    "start_time": "2021-10-06T15:44:16.030Z"
   },
   {
    "duration": 385,
    "start_time": "2021-10-06T15:44:16.087Z"
   },
   {
    "duration": 30,
    "start_time": "2021-10-06T15:44:16.474Z"
   },
   {
    "duration": 3,
    "start_time": "2021-10-06T15:44:16.506Z"
   },
   {
    "duration": 37,
    "start_time": "2021-10-06T15:44:16.513Z"
   },
   {
    "duration": 2,
    "start_time": "2021-10-06T15:44:16.553Z"
   },
   {
    "duration": 10,
    "start_time": "2021-10-06T15:44:16.558Z"
   },
   {
    "duration": 6,
    "start_time": "2021-10-06T15:44:16.570Z"
   },
   {
    "duration": 1589,
    "start_time": "2021-10-06T15:44:16.578Z"
   },
   {
    "duration": 1511,
    "start_time": "2021-10-06T15:44:18.169Z"
   },
   {
    "duration": 12,
    "start_time": "2021-10-06T15:44:19.681Z"
   },
   {
    "duration": 1732,
    "start_time": "2021-10-06T15:44:19.694Z"
   },
   {
    "duration": 2,
    "start_time": "2021-10-06T15:44:21.428Z"
   },
   {
    "duration": 18,
    "start_time": "2021-10-06T15:44:21.432Z"
   },
   {
    "duration": 25,
    "start_time": "2021-10-06T15:44:21.452Z"
   },
   {
    "duration": 6,
    "start_time": "2021-10-06T15:44:21.479Z"
   },
   {
    "duration": 10,
    "start_time": "2021-10-06T15:44:21.487Z"
   },
   {
    "duration": 9,
    "start_time": "2021-10-06T15:44:21.499Z"
   },
   {
    "duration": 16,
    "start_time": "2021-10-06T15:44:21.510Z"
   },
   {
    "duration": 1120,
    "start_time": "2021-10-06T15:44:21.528Z"
   },
   {
    "duration": 28722,
    "start_time": "2021-10-06T15:44:22.651Z"
   },
   {
    "duration": -14729562,
    "start_time": "2021-10-06T19:51:13.716Z"
   },
   {
    "duration": -14729567,
    "start_time": "2021-10-06T19:51:13.722Z"
   },
   {
    "duration": -14729571,
    "start_time": "2021-10-06T19:51:13.727Z"
   },
   {
    "duration": 55722,
    "start_time": "2021-10-06T15:45:50.633Z"
   },
   {
    "duration": -14729608,
    "start_time": "2021-10-06T19:52:15.965Z"
   },
   {
    "duration": 5,
    "start_time": "2021-10-06T15:46:49.165Z"
   },
   {
    "duration": 4,
    "start_time": "2021-10-06T15:46:57.158Z"
   },
   {
    "duration": 8116,
    "start_time": "2021-10-06T15:47:11.909Z"
   },
   {
    "duration": 2203,
    "start_time": "2021-10-06T15:47:23.229Z"
   },
   {
    "duration": -14729560,
    "start_time": "2021-10-06T19:53:42.680Z"
   },
   {
    "duration": 12493,
    "start_time": "2021-10-06T15:48:16.844Z"
   },
   {
    "duration": 421084,
    "start_time": "2021-10-06T15:54:29.096Z"
   },
   {
    "duration": 31495,
    "start_time": "2021-10-06T16:01:37.341Z"
   },
   {
    "duration": 347465,
    "start_time": "2021-10-06T16:06:30.920Z"
   },
   {
    "duration": 51476,
    "start_time": "2021-10-06T16:14:12.966Z"
   },
   {
    "duration": 20831,
    "start_time": "2021-10-06T16:29:21.999Z"
   },
   {
    "duration": 4406,
    "start_time": "2021-10-06T16:33:19.041Z"
   },
   {
    "duration": 4198,
    "start_time": "2021-10-06T16:33:29.604Z"
   },
   {
    "duration": 70,
    "start_time": "2021-10-06T16:34:25.886Z"
   },
   {
    "duration": 24,
    "start_time": "2021-10-06T16:34:29.295Z"
   },
   {
    "duration": 7397,
    "start_time": "2021-10-06T16:34:41.311Z"
   },
   {
    "duration": 31546,
    "start_time": "2021-10-06T16:34:56.355Z"
   },
   {
    "duration": 241,
    "start_time": "2021-10-07T15:37:06.926Z"
   },
   {
    "duration": 1039,
    "start_time": "2021-10-07T15:37:12.054Z"
   },
   {
    "duration": 194,
    "start_time": "2021-10-07T15:37:17.676Z"
   },
   {
    "duration": 210,
    "start_time": "2021-10-07T15:37:20.208Z"
   },
   {
    "duration": 1199,
    "start_time": "2021-10-07T15:37:27.212Z"
   },
   {
    "duration": 1751,
    "start_time": "2021-10-07T15:37:28.413Z"
   },
   {
    "duration": 12,
    "start_time": "2021-10-07T15:37:30.167Z"
   },
   {
    "duration": 17,
    "start_time": "2021-10-07T15:37:30.181Z"
   },
   {
    "duration": 70,
    "start_time": "2021-10-07T15:37:30.200Z"
   },
   {
    "duration": 423,
    "start_time": "2021-10-07T15:37:30.273Z"
   },
   {
    "duration": 32,
    "start_time": "2021-10-07T15:37:30.697Z"
   },
   {
    "duration": 2,
    "start_time": "2021-10-07T15:37:30.731Z"
   },
   {
    "duration": 32,
    "start_time": "2021-10-07T15:37:30.735Z"
   },
   {
    "duration": 2,
    "start_time": "2021-10-07T15:37:30.769Z"
   },
   {
    "duration": 9,
    "start_time": "2021-10-07T15:37:30.773Z"
   },
   {
    "duration": 8,
    "start_time": "2021-10-07T15:37:30.784Z"
   },
   {
    "duration": 1810,
    "start_time": "2021-10-07T15:37:30.794Z"
   },
   {
    "duration": 1722,
    "start_time": "2021-10-07T15:37:32.606Z"
   },
   {
    "duration": 22,
    "start_time": "2021-10-07T15:37:34.330Z"
   },
   {
    "duration": 1812,
    "start_time": "2021-10-07T15:37:34.354Z"
   },
   {
    "duration": 2,
    "start_time": "2021-10-07T15:37:36.168Z"
   },
   {
    "duration": 8,
    "start_time": "2021-10-07T15:37:36.172Z"
   },
   {
    "duration": 24,
    "start_time": "2021-10-07T15:37:36.181Z"
   },
   {
    "duration": 5,
    "start_time": "2021-10-07T15:37:36.206Z"
   },
   {
    "duration": 37,
    "start_time": "2021-10-07T15:37:36.213Z"
   },
   {
    "duration": 1504,
    "start_time": "2021-10-07T15:37:36.253Z"
   },
   {
    "duration": 30724,
    "start_time": "2021-10-07T15:37:37.766Z"
   },
   {
    "duration": 73691,
    "start_time": "2021-10-07T15:38:08.492Z"
   },
   {
    "duration": -14730502,
    "start_time": "2021-10-07T19:44:52.687Z"
   },
   {
    "duration": -14730508,
    "start_time": "2021-10-07T19:44:52.694Z"
   },
   {
    "duration": -14730549,
    "start_time": "2021-10-07T19:44:52.736Z"
   },
   {
    "duration": -14730551,
    "start_time": "2021-10-07T19:44:52.740Z"
   },
   {
    "duration": 11,
    "start_time": "2021-10-07T15:39:23.177Z"
   },
   {
    "duration": 26,
    "start_time": "2021-10-07T15:39:30.603Z"
   },
   {
    "duration": 21,
    "start_time": "2021-10-07T15:42:37.744Z"
   },
   {
    "duration": 25,
    "start_time": "2021-10-07T16:14:19.598Z"
   },
   {
    "duration": 225,
    "start_time": "2021-10-07T16:29:06.619Z"
   },
   {
    "duration": 28,
    "start_time": "2021-10-07T16:29:11.655Z"
   },
   {
    "duration": 23,
    "start_time": "2021-10-07T16:53:08.715Z"
   },
   {
    "duration": 14,
    "start_time": "2021-10-07T16:53:25.962Z"
   },
   {
    "duration": 1155,
    "start_time": "2021-10-07T16:53:45.262Z"
   },
   {
    "duration": 759,
    "start_time": "2021-10-07T16:53:46.419Z"
   },
   {
    "duration": 20,
    "start_time": "2021-10-07T16:53:47.180Z"
   },
   {
    "duration": 16,
    "start_time": "2021-10-07T16:53:47.202Z"
   },
   {
    "duration": 289,
    "start_time": "2021-10-07T16:53:47.220Z"
   },
   {
    "duration": -14730320,
    "start_time": "2021-10-07T20:59:17.833Z"
   },
   {
    "duration": -14730342,
    "start_time": "2021-10-07T20:59:17.856Z"
   },
   {
    "duration": -14730348,
    "start_time": "2021-10-07T20:59:17.863Z"
   },
   {
    "duration": -14730350,
    "start_time": "2021-10-07T20:59:17.867Z"
   },
   {
    "duration": -14730360,
    "start_time": "2021-10-07T20:59:17.878Z"
   },
   {
    "duration": -14730365,
    "start_time": "2021-10-07T20:59:17.884Z"
   },
   {
    "duration": -14730367,
    "start_time": "2021-10-07T20:59:17.888Z"
   },
   {
    "duration": -14730372,
    "start_time": "2021-10-07T20:59:17.894Z"
   },
   {
    "duration": -14730375,
    "start_time": "2021-10-07T20:59:17.899Z"
   },
   {
    "duration": -14730379,
    "start_time": "2021-10-07T20:59:17.904Z"
   },
   {
    "duration": -14730383,
    "start_time": "2021-10-07T20:59:17.910Z"
   },
   {
    "duration": -14730386,
    "start_time": "2021-10-07T20:59:17.914Z"
   },
   {
    "duration": -14730390,
    "start_time": "2021-10-07T20:59:17.919Z"
   },
   {
    "duration": -14730391,
    "start_time": "2021-10-07T20:59:17.922Z"
   },
   {
    "duration": -14730401,
    "start_time": "2021-10-07T20:59:17.933Z"
   },
   {
    "duration": -14730402,
    "start_time": "2021-10-07T20:59:17.936Z"
   },
   {
    "duration": -14730404,
    "start_time": "2021-10-07T20:59:17.939Z"
   },
   {
    "duration": -14730405,
    "start_time": "2021-10-07T20:59:17.942Z"
   },
   {
    "duration": -14730410,
    "start_time": "2021-10-07T20:59:17.948Z"
   },
   {
    "duration": -14730413,
    "start_time": "2021-10-07T20:59:17.953Z"
   },
   {
    "duration": -14730418,
    "start_time": "2021-10-07T20:59:17.959Z"
   },
   {
    "duration": -14730423,
    "start_time": "2021-10-07T20:59:17.965Z"
   },
   {
    "duration": -14730425,
    "start_time": "2021-10-07T20:59:17.969Z"
   },
   {
    "duration": 25,
    "start_time": "2021-10-07T16:54:28.612Z"
   },
   {
    "duration": 46,
    "start_time": "2021-10-07T16:55:42.055Z"
   },
   {
    "duration": 30,
    "start_time": "2021-10-07T16:55:59.945Z"
   },
   {
    "duration": 6,
    "start_time": "2021-10-07T16:56:21.663Z"
   },
   {
    "duration": 6,
    "start_time": "2021-10-07T16:56:35.765Z"
   },
   {
    "duration": 7,
    "start_time": "2021-10-07T16:56:44.703Z"
   },
   {
    "duration": 5,
    "start_time": "2021-10-07T16:56:49.514Z"
   },
   {
    "duration": 783,
    "start_time": "2021-10-07T17:00:40.103Z"
   },
   {
    "duration": 762,
    "start_time": "2021-10-07T17:00:51.195Z"
   },
   {
    "duration": 1488,
    "start_time": "2021-10-08T15:59:54.126Z"
   },
   {
    "duration": 885,
    "start_time": "2021-10-08T15:59:55.616Z"
   },
   {
    "duration": 27,
    "start_time": "2021-10-08T15:59:56.504Z"
   },
   {
    "duration": 1270,
    "start_time": "2021-10-08T15:59:56.534Z"
   },
   {
    "duration": 10,
    "start_time": "2021-10-08T15:59:57.807Z"
   },
   {
    "duration": 54,
    "start_time": "2021-10-08T15:59:57.819Z"
   },
   {
    "duration": 720,
    "start_time": "2021-10-08T15:59:57.875Z"
   },
   {
    "duration": 45,
    "start_time": "2021-10-08T15:59:58.599Z"
   },
   {
    "duration": 20,
    "start_time": "2021-10-08T15:59:58.647Z"
   },
   {
    "duration": 27,
    "start_time": "2021-10-08T15:59:58.670Z"
   },
   {
    "duration": 5,
    "start_time": "2021-10-08T15:59:58.700Z"
   },
   {
    "duration": 8,
    "start_time": "2021-10-08T15:59:58.707Z"
   },
   {
    "duration": 7,
    "start_time": "2021-10-08T15:59:58.717Z"
   },
   {
    "duration": 2919,
    "start_time": "2021-10-08T15:59:58.726Z"
   },
   {
    "duration": 2997,
    "start_time": "2021-10-08T16:00:01.648Z"
   },
   {
    "duration": 24,
    "start_time": "2021-10-08T16:00:04.647Z"
   },
   {
    "duration": 3154,
    "start_time": "2021-10-08T16:00:04.673Z"
   },
   {
    "duration": 3,
    "start_time": "2021-10-08T16:00:07.829Z"
   },
   {
    "duration": 9,
    "start_time": "2021-10-08T16:00:07.835Z"
   },
   {
    "duration": 29,
    "start_time": "2021-10-08T16:00:07.867Z"
   },
   {
    "duration": 8,
    "start_time": "2021-10-08T16:00:07.899Z"
   },
   {
    "duration": 19,
    "start_time": "2021-10-08T16:00:07.909Z"
   },
   {
    "duration": 1646,
    "start_time": "2021-10-08T16:00:07.932Z"
   },
   {
    "duration": 38023,
    "start_time": "2021-10-08T16:00:09.669Z"
   },
   {
    "duration": 462949,
    "start_time": "2021-10-08T16:00:47.695Z"
   },
   {
    "duration": 25166,
    "start_time": "2021-10-08T16:08:30.646Z"
   },
   {
    "duration": 41532,
    "start_time": "2021-10-08T16:08:55.814Z"
   },
   {
    "duration": 105,
    "start_time": "2021-10-08T16:09:37.348Z"
   },
   {
    "duration": 1204,
    "start_time": "2021-10-08T16:09:37.455Z"
   },
   {
    "duration": 1556,
    "start_time": "2021-10-08T16:13:16.667Z"
   },
   {
    "duration": 955,
    "start_time": "2021-10-08T16:13:18.226Z"
   },
   {
    "duration": 28,
    "start_time": "2021-10-08T16:13:19.184Z"
   },
   {
    "duration": 1211,
    "start_time": "2021-10-08T16:13:26.353Z"
   },
   {
    "duration": 1053,
    "start_time": "2021-10-08T16:21:42.462Z"
   },
   {
    "duration": 15,
    "start_time": "2021-10-08T16:57:04.692Z"
   },
   {
    "duration": 332,
    "start_time": "2021-10-08T17:03:23.202Z"
   },
   {
    "duration": 1514,
    "start_time": "2021-10-08T17:03:30.018Z"
   },
   {
    "duration": 901,
    "start_time": "2021-10-08T17:03:31.535Z"
   },
   {
    "duration": 40,
    "start_time": "2021-10-08T17:03:32.440Z"
   },
   {
    "duration": 1212,
    "start_time": "2021-10-08T17:03:34.483Z"
   },
   {
    "duration": 3069,
    "start_time": "2021-10-08T17:04:21.006Z"
   },
   {
    "duration": 106,
    "start_time": "2021-10-08T17:05:26.809Z"
   },
   {
    "duration": 6,
    "start_time": "2021-10-08T17:06:02.043Z"
   },
   {
    "duration": 362,
    "start_time": "2021-10-08T17:06:09.245Z"
   },
   {
    "duration": 326,
    "start_time": "2021-10-08T17:06:16.521Z"
   },
   {
    "duration": 444,
    "start_time": "2021-10-08T17:07:20.407Z"
   },
   {
    "duration": 689,
    "start_time": "2021-10-08T17:07:46.427Z"
   },
   {
    "duration": 7,
    "start_time": "2021-10-08T17:07:50.349Z"
   },
   {
    "duration": 723,
    "start_time": "2021-10-08T17:08:02.421Z"
   },
   {
    "duration": 167,
    "start_time": "2021-10-08T17:08:07.764Z"
   },
   {
    "duration": 157,
    "start_time": "2021-10-08T17:08:12.381Z"
   },
   {
    "duration": 887,
    "start_time": "2021-10-08T17:08:33.898Z"
   },
   {
    "duration": 90,
    "start_time": "2021-10-08T17:08:44.208Z"
   },
   {
    "duration": 158,
    "start_time": "2021-10-08T17:08:53.035Z"
   },
   {
    "duration": 19,
    "start_time": "2021-10-08T17:14:28.869Z"
   },
   {
    "duration": 99,
    "start_time": "2021-10-08T17:25:06.578Z"
   },
   {
    "duration": 822,
    "start_time": "2021-10-08T17:31:22.852Z"
   },
   {
    "duration": 310,
    "start_time": "2021-10-08T17:32:57.159Z"
   },
   {
    "duration": 821,
    "start_time": "2021-10-08T17:33:10.637Z"
   },
   {
    "duration": 831,
    "start_time": "2021-10-08T17:33:30.065Z"
   },
   {
    "duration": 665,
    "start_time": "2021-10-08T17:33:45.058Z"
   },
   {
    "duration": 2539,
    "start_time": "2021-10-08T17:33:59.645Z"
   },
   {
    "duration": 2842,
    "start_time": "2021-10-08T17:34:19.485Z"
   },
   {
    "duration": 3016,
    "start_time": "2021-10-08T17:36:45.895Z"
   },
   {
    "duration": 3110,
    "start_time": "2021-10-08T17:36:55.927Z"
   },
   {
    "duration": 2888,
    "start_time": "2021-10-08T17:37:16.054Z"
   },
   {
    "duration": 2251,
    "start_time": "2021-10-08T17:38:18.927Z"
   },
   {
    "duration": 876,
    "start_time": "2021-10-08T17:39:34.864Z"
   },
   {
    "duration": 3053,
    "start_time": "2021-10-08T17:39:40.415Z"
   },
   {
    "duration": 2932,
    "start_time": "2021-10-08T17:40:07.554Z"
   },
   {
    "duration": 3030,
    "start_time": "2021-10-08T17:43:02.158Z"
   },
   {
    "duration": 3123,
    "start_time": "2021-10-08T17:43:58.707Z"
   },
   {
    "duration": 3183,
    "start_time": "2021-10-08T17:45:19.128Z"
   },
   {
    "duration": 3229,
    "start_time": "2021-10-08T17:47:06.953Z"
   },
   {
    "duration": 3330,
    "start_time": "2021-10-08T17:49:12.508Z"
   },
   {
    "duration": 3277,
    "start_time": "2021-10-08T17:50:10.296Z"
   },
   {
    "duration": 4497,
    "start_time": "2021-10-08T17:50:27.479Z"
   },
   {
    "duration": 3255,
    "start_time": "2021-10-08T17:51:33.976Z"
   },
   {
    "duration": 3068,
    "start_time": "2021-10-08T17:51:46.125Z"
   },
   {
    "duration": 2962,
    "start_time": "2021-10-08T17:52:27.132Z"
   },
   {
    "duration": 3192,
    "start_time": "2021-10-08T17:52:35.934Z"
   },
   {
    "duration": 3135,
    "start_time": "2021-10-08T17:52:48.287Z"
   },
   {
    "duration": 119,
    "start_time": "2021-10-08T17:53:56.874Z"
   },
   {
    "duration": 3201,
    "start_time": "2021-10-08T17:54:04.466Z"
   },
   {
    "duration": 88,
    "start_time": "2021-10-08T17:55:04.643Z"
   },
   {
    "duration": 3142,
    "start_time": "2021-10-08T17:55:07.746Z"
   },
   {
    "duration": 3284,
    "start_time": "2021-10-08T17:57:09.441Z"
   },
   {
    "duration": 3031,
    "start_time": "2021-10-08T17:57:52.515Z"
   },
   {
    "duration": 3424,
    "start_time": "2021-10-08T17:58:09.077Z"
   },
   {
    "duration": 3410,
    "start_time": "2021-10-08T17:58:53.882Z"
   },
   {
    "duration": 3081,
    "start_time": "2021-10-08T17:59:10.431Z"
   },
   {
    "duration": 3119,
    "start_time": "2021-10-08T18:02:58.608Z"
   },
   {
    "duration": 1411,
    "start_time": "2021-10-09T13:00:34.889Z"
   },
   {
    "duration": 860,
    "start_time": "2021-10-09T13:00:36.302Z"
   },
   {
    "duration": 27,
    "start_time": "2021-10-09T13:00:37.165Z"
   },
   {
    "duration": 3145,
    "start_time": "2021-10-09T13:00:37.195Z"
   },
   {
    "duration": 669,
    "start_time": "2021-10-09T13:00:40.343Z"
   },
   {
    "duration": 171,
    "start_time": "2021-10-09T13:00:41.014Z"
   },
   {
    "duration": 16,
    "start_time": "2021-10-09T13:00:41.188Z"
   },
   {
    "duration": 2890,
    "start_time": "2021-10-09T13:00:41.208Z"
   },
   {
    "duration": 2833,
    "start_time": "2021-10-09T13:00:44.102Z"
   },
   {
    "duration": 23,
    "start_time": "2021-10-09T13:00:46.937Z"
   },
   {
    "duration": 2773,
    "start_time": "2021-10-09T13:00:46.963Z"
   },
   {
    "duration": 3,
    "start_time": "2021-10-09T13:00:49.739Z"
   },
   {
    "duration": 18,
    "start_time": "2021-10-09T13:00:49.745Z"
   },
   {
    "duration": 31,
    "start_time": "2021-10-09T13:00:49.766Z"
   },
   {
    "duration": 8,
    "start_time": "2021-10-09T13:00:49.799Z"
   },
   {
    "duration": 60,
    "start_time": "2021-10-09T13:00:49.810Z"
   },
   {
    "duration": 1484,
    "start_time": "2021-10-09T13:00:49.873Z"
   },
   {
    "duration": 37148,
    "start_time": "2021-10-09T13:00:51.360Z"
   },
   {
    "duration": 367900,
    "start_time": "2021-10-09T13:01:28.511Z"
   },
   {
    "duration": -14731958,
    "start_time": "2021-10-09T17:13:08.372Z"
   },
   {
    "duration": -14731962,
    "start_time": "2021-10-09T17:13:08.377Z"
   },
   {
    "duration": -14731964,
    "start_time": "2021-10-09T17:13:08.381Z"
   },
   {
    "duration": -14731969,
    "start_time": "2021-10-09T17:13:08.388Z"
   },
   {
    "duration": -14731969,
    "start_time": "2021-10-09T17:13:08.392Z"
   },
   {
    "duration": -14731979,
    "start_time": "2021-10-09T17:13:08.403Z"
   },
   {
    "duration": 3309,
    "start_time": "2021-10-09T13:07:43.737Z"
   },
   {
    "duration": 2969,
    "start_time": "2021-10-09T13:07:50.724Z"
   },
   {
    "duration": 2941,
    "start_time": "2021-10-09T13:12:49.807Z"
   },
   {
    "duration": 2996,
    "start_time": "2021-10-09T13:13:02.573Z"
   },
   {
    "duration": 2947,
    "start_time": "2021-10-09T13:16:20.764Z"
   },
   {
    "duration": 2771,
    "start_time": "2021-10-09T13:16:32.235Z"
   },
   {
    "duration": 3007,
    "start_time": "2021-10-09T13:16:48.239Z"
   },
   {
    "duration": 237,
    "start_time": "2021-10-09T13:18:02.245Z"
   },
   {
    "duration": 3465,
    "start_time": "2021-10-09T13:18:06.579Z"
   },
   {
    "duration": 3454,
    "start_time": "2021-10-09T13:18:33.240Z"
   },
   {
    "duration": 4210,
    "start_time": "2021-10-09T13:20:19.927Z"
   },
   {
    "duration": 4237,
    "start_time": "2021-10-09T13:20:43.874Z"
   },
   {
    "duration": 4705,
    "start_time": "2021-10-09T13:21:26.994Z"
   },
   {
    "duration": 5081,
    "start_time": "2021-10-09T13:21:48.308Z"
   },
   {
    "duration": -14731945,
    "start_time": "2021-10-09T17:28:11.609Z"
   },
   {
    "duration": 5109,
    "start_time": "2021-10-09T13:22:44.486Z"
   },
   {
    "duration": 113,
    "start_time": "2021-10-09T13:24:03.532Z"
   },
   {
    "duration": 4693,
    "start_time": "2021-10-09T13:24:13.825Z"
   },
   {
    "duration": 5290,
    "start_time": "2021-10-09T13:24:24.834Z"
   },
   {
    "duration": 5658,
    "start_time": "2021-10-09T13:24:57.341Z"
   },
   {
    "duration": 5617,
    "start_time": "2021-10-09T13:28:16.574Z"
   },
   {
    "duration": 5570,
    "start_time": "2021-10-09T13:29:57.338Z"
   },
   {
    "duration": 5395,
    "start_time": "2021-10-09T13:32:03.346Z"
   },
   {
    "duration": 5553,
    "start_time": "2021-10-09T13:32:24.494Z"
   },
   {
    "duration": 5415,
    "start_time": "2021-10-09T13:32:45.960Z"
   },
   {
    "duration": 5294,
    "start_time": "2021-10-09T13:33:03.897Z"
   },
   {
    "duration": 990,
    "start_time": "2021-10-09T13:42:06.569Z"
   },
   {
    "duration": 947,
    "start_time": "2021-10-09T13:45:43.077Z"
   },
   {
    "duration": 693,
    "start_time": "2021-10-09T13:46:16.417Z"
   },
   {
    "duration": 1340,
    "start_time": "2021-10-09T13:46:27.395Z"
   },
   {
    "duration": 1073,
    "start_time": "2021-10-09T13:46:45.026Z"
   },
   {
    "duration": 1241,
    "start_time": "2021-10-09T13:46:51.493Z"
   },
   {
    "duration": 1563,
    "start_time": "2021-10-09T13:47:02.003Z"
   },
   {
    "duration": 1760,
    "start_time": "2021-10-09T13:47:12.878Z"
   },
   {
    "duration": 1966,
    "start_time": "2021-10-09T13:47:18.683Z"
   },
   {
    "duration": 2099,
    "start_time": "2021-10-09T13:47:28.535Z"
   },
   {
    "duration": 2195,
    "start_time": "2021-10-09T13:48:06.810Z"
   },
   {
    "duration": 2492,
    "start_time": "2021-10-09T13:48:14.587Z"
   },
   {
    "duration": 2696,
    "start_time": "2021-10-09T13:48:21.469Z"
   },
   {
    "duration": 2623,
    "start_time": "2021-10-09T13:51:32.211Z"
   },
   {
    "duration": 5,
    "start_time": "2021-10-09T13:54:25.356Z"
   },
   {
    "duration": 344,
    "start_time": "2021-10-09T13:57:17.000Z"
   },
   {
    "duration": 8,
    "start_time": "2021-10-09T13:57:40.173Z"
   },
   {
    "duration": 2463,
    "start_time": "2021-10-09T14:02:33.177Z"
   },
   {
    "duration": 1668,
    "start_time": "2021-10-09T14:02:43.889Z"
   },
   {
    "duration": 1430,
    "start_time": "2021-10-09T14:02:56.653Z"
   },
   {
    "duration": 9,
    "start_time": "2021-10-09T14:03:54.608Z"
   },
   {
    "duration": 104,
    "start_time": "2021-10-09T14:05:10.883Z"
   },
   {
    "duration": 327,
    "start_time": "2021-10-09T14:08:58.770Z"
   },
   {
    "duration": 3312,
    "start_time": "2021-10-09T14:17:44.611Z"
   },
   {
    "duration": 2447,
    "start_time": "2021-10-09T14:18:06.824Z"
   },
   {
    "duration": 2636,
    "start_time": "2021-10-09T14:18:29.944Z"
   },
   {
    "duration": 1134,
    "start_time": "2021-10-09T14:27:47.435Z"
   },
   {
    "duration": 17,
    "start_time": "2021-10-09T14:28:00.552Z"
   },
   {
    "duration": 12,
    "start_time": "2021-10-09T14:28:20.281Z"
   },
   {
    "duration": 12,
    "start_time": "2021-10-09T14:28:27.155Z"
   },
   {
    "duration": 6,
    "start_time": "2021-10-09T14:39:23.572Z"
   },
   {
    "duration": 7,
    "start_time": "2021-10-09T14:46:17.855Z"
   },
   {
    "duration": 119,
    "start_time": "2021-10-09T14:49:06.968Z"
   },
   {
    "duration": 7,
    "start_time": "2021-10-09T14:49:24.597Z"
   },
   {
    "duration": 357,
    "start_time": "2021-10-09T14:50:10.679Z"
   },
   {
    "duration": 358,
    "start_time": "2021-10-09T14:50:30.319Z"
   },
   {
    "duration": 8,
    "start_time": "2021-10-09T14:50:30.711Z"
   },
   {
    "duration": 34,
    "start_time": "2021-10-09T14:50:32.734Z"
   },
   {
    "duration": 42,
    "start_time": "2021-10-09T14:50:45.997Z"
   },
   {
    "duration": 8,
    "start_time": "2021-10-09T14:51:14.860Z"
   },
   {
    "duration": 2533,
    "start_time": "2021-10-09T14:52:34.806Z"
   },
   {
    "duration": 7,
    "start_time": "2021-10-09T14:53:03.603Z"
   },
   {
    "duration": 14,
    "start_time": "2021-10-09T14:53:38.168Z"
   },
   {
    "duration": 117,
    "start_time": "2021-10-09T14:53:46.255Z"
   },
   {
    "duration": 23,
    "start_time": "2021-10-09T14:53:49.849Z"
   },
   {
    "duration": 385,
    "start_time": "2021-10-09T15:03:32.457Z"
   },
   {
    "duration": 373,
    "start_time": "2021-10-09T15:03:50.563Z"
   },
   {
    "duration": 763,
    "start_time": "2021-10-09T15:04:00.671Z"
   },
   {
    "duration": 20,
    "start_time": "2021-10-09T15:04:40.623Z"
   },
   {
    "duration": 347,
    "start_time": "2021-10-09T15:04:48.706Z"
   },
   {
    "duration": 19,
    "start_time": "2021-10-09T15:04:54.530Z"
   },
   {
    "duration": 20,
    "start_time": "2021-10-09T15:05:22.765Z"
   },
   {
    "duration": 18,
    "start_time": "2021-10-09T15:05:28.016Z"
   },
   {
    "duration": 7,
    "start_time": "2021-10-09T15:22:43.229Z"
   },
   {
    "duration": 7810,
    "start_time": "2021-10-09T15:23:24.602Z"
   },
   {
    "duration": 319,
    "start_time": "2021-10-09T15:23:40.525Z"
   },
   {
    "duration": 9055,
    "start_time": "2021-10-09T15:23:54.572Z"
   },
   {
    "duration": 24,
    "start_time": "2021-10-09T15:25:14.644Z"
   },
   {
    "duration": 24,
    "start_time": "2021-10-09T15:57:24.853Z"
   },
   {
    "duration": 4,
    "start_time": "2021-10-09T16:01:37.283Z"
   },
   {
    "duration": 23,
    "start_time": "2021-10-09T16:10:27.918Z"
   },
   {
    "duration": 22,
    "start_time": "2021-10-09T16:11:46.931Z"
   },
   {
    "duration": 6,
    "start_time": "2021-10-09T16:18:05.750Z"
   },
   {
    "duration": 4,
    "start_time": "2021-10-09T16:18:50.864Z"
   },
   {
    "duration": 1551,
    "start_time": "2021-10-09T16:19:00.713Z"
   },
   {
    "duration": 1636,
    "start_time": "2021-10-09T16:19:42.423Z"
   },
   {
    "duration": 26062,
    "start_time": "2021-10-09T16:20:25.358Z"
   },
   {
    "duration": -14731572,
    "start_time": "2021-10-09T20:26:22.995Z"
   },
   {
    "duration": -14731590,
    "start_time": "2021-10-09T20:26:23.014Z"
   },
   {
    "duration": 116,
    "start_time": "2021-10-09T16:20:52.847Z"
   },
   {
    "duration": 1574,
    "start_time": "2021-10-09T16:21:05.984Z"
   },
   {
    "duration": 40638,
    "start_time": "2021-10-09T16:21:07.577Z"
   },
   {
    "duration": -14731516,
    "start_time": "2021-10-09T20:27:19.734Z"
   },
   {
    "duration": 408,
    "start_time": "2021-10-09T16:21:49.369Z"
   },
   {
    "duration": 5,
    "start_time": "2021-10-09T16:22:01.409Z"
   },
   {
    "duration": 38164,
    "start_time": "2021-10-09T16:22:46.578Z"
   },
   {
    "duration": 6,
    "start_time": "2021-10-09T16:29:29.994Z"
   },
   {
    "duration": 6,
    "start_time": "2021-10-09T16:30:03.333Z"
   },
   {
    "duration": 6,
    "start_time": "2021-10-09T16:30:22.954Z"
   },
   {
    "duration": 6,
    "start_time": "2021-10-09T16:30:43.511Z"
   },
   {
    "duration": 116,
    "start_time": "2021-10-09T16:30:51.606Z"
   },
   {
    "duration": 80303,
    "start_time": "2021-10-09T16:30:59.808Z"
   },
   {
    "duration": 10007,
    "start_time": "2021-10-09T16:33:02.136Z"
   },
   {
    "duration": 113,
    "start_time": "2021-10-09T16:34:54.030Z"
   },
   {
    "duration": 624888,
    "start_time": "2021-10-09T16:37:33.072Z"
   },
   {
    "duration": 320454,
    "start_time": "2021-10-09T16:49:22.726Z"
   },
   {
    "duration": -14731386,
    "start_time": "2021-10-09T21:00:14.569Z"
   },
   {
    "duration": 25803,
    "start_time": "2021-10-09T16:54:59.246Z"
   },
   {
    "duration": 31202,
    "start_time": "2021-10-09T16:56:31.277Z"
   },
   {
    "duration": 9984,
    "start_time": "2021-10-09T16:58:43.177Z"
   },
   {
    "duration": 37,
    "start_time": "2021-10-09T17:01:04.664Z"
   },
   {
    "duration": 36,
    "start_time": "2021-10-09T17:01:37.499Z"
   },
   {
    "duration": 1138,
    "start_time": "2021-10-09T17:26:31.445Z"
   },
   {
    "duration": 699,
    "start_time": "2021-10-09T17:26:33.073Z"
   },
   {
    "duration": 19,
    "start_time": "2021-10-09T17:26:33.773Z"
   },
   {
    "duration": 10,
    "start_time": "2021-10-09T17:40:01.033Z"
   },
   {
    "duration": 2122,
    "start_time": "2021-10-09T17:40:14.130Z"
   },
   {
    "duration": 405,
    "start_time": "2021-10-09T17:44:35.417Z"
   },
   {
    "duration": 91,
    "start_time": "2021-10-09T17:44:35.824Z"
   },
   {
    "duration": 11,
    "start_time": "2021-10-09T17:45:54.740Z"
   },
   {
    "duration": 10,
    "start_time": "2021-10-09T17:47:10.321Z"
   },
   {
    "duration": 1786,
    "start_time": "2021-10-09T17:50:27.665Z"
   },
   {
    "duration": 3230,
    "start_time": "2021-10-09T17:50:29.453Z"
   },
   {
    "duration": 3235,
    "start_time": "2021-10-09T17:50:32.686Z"
   },
   {
    "duration": 3378,
    "start_time": "2021-10-09T17:50:35.923Z"
   },
   {
    "duration": 1433,
    "start_time": "2021-10-09T17:54:09.518Z"
   },
   {
    "duration": 5,
    "start_time": "2021-10-09T17:54:10.953Z"
   },
   {
    "duration": 994,
    "start_time": "2021-10-09T17:54:12.530Z"
   },
   {
    "duration": 5,
    "start_time": "2021-10-09T17:54:13.525Z"
   },
   {
    "duration": 10,
    "start_time": "2021-10-09T17:56:29.018Z"
   },
   {
    "duration": 1433,
    "start_time": "2021-10-09T17:56:29.559Z"
   },
   {
    "duration": 34,
    "start_time": "2021-10-09T17:57:31.237Z"
   },
   {
    "duration": 15,
    "start_time": "2021-10-09T17:57:38.219Z"
   },
   {
    "duration": 3,
    "start_time": "2021-10-09T17:57:58.652Z"
   },
   {
    "duration": 5,
    "start_time": "2021-10-09T18:01:00.633Z"
   },
   {
    "duration": 3,
    "start_time": "2021-10-09T18:01:06.180Z"
   },
   {
    "duration": 2,
    "start_time": "2021-10-09T18:02:21.267Z"
   },
   {
    "duration": 1345,
    "start_time": "2021-10-09T18:02:22.235Z"
   },
   {
    "duration": 869,
    "start_time": "2021-10-09T18:02:43.276Z"
   },
   {
    "duration": 4,
    "start_time": "2021-10-09T18:03:52.729Z"
   },
   {
    "duration": 3,
    "start_time": "2021-10-09T18:03:53.313Z"
   },
   {
    "duration": 1500,
    "start_time": "2021-10-09T18:03:54.077Z"
   },
   {
    "duration": 1502,
    "start_time": "2021-10-09T18:08:22.174Z"
   },
   {
    "duration": 28470,
    "start_time": "2021-10-09T18:08:23.679Z"
   },
   {
    "duration": 7468,
    "start_time": "2021-10-09T18:08:52.151Z"
   },
   {
    "duration": 598717,
    "start_time": "2021-10-09T18:08:59.621Z"
   },
   {
    "duration": 7787,
    "start_time": "2021-10-09T18:18:58.341Z"
   },
   {
    "duration": 53877,
    "start_time": "2021-10-09T18:20:24.341Z"
   },
   {
    "duration": 14884,
    "start_time": "2021-10-09T18:21:18.220Z"
   },
   {
    "duration": 78,
    "start_time": "2021-10-09T18:21:33.106Z"
   },
   {
    "duration": 133,
    "start_time": "2021-10-10T06:27:04.371Z"
   },
   {
    "duration": 430,
    "start_time": "2021-10-10T06:29:33.701Z"
   },
   {
    "duration": 1661,
    "start_time": "2021-10-10T06:29:41.448Z"
   },
   {
    "duration": 974,
    "start_time": "2021-10-10T06:29:43.112Z"
   },
   {
    "duration": 29,
    "start_time": "2021-10-10T06:29:44.089Z"
   },
   {
    "duration": 10,
    "start_time": "2021-10-10T06:29:44.120Z"
   },
   {
    "duration": 38,
    "start_time": "2021-10-10T06:29:44.132Z"
   },
   {
    "duration": 3348,
    "start_time": "2021-10-10T06:29:44.173Z"
   },
   {
    "duration": 783,
    "start_time": "2021-10-10T06:29:47.523Z"
   },
   {
    "duration": 183,
    "start_time": "2021-10-10T06:29:48.310Z"
   },
   {
    "duration": 24,
    "start_time": "2021-10-10T06:29:48.497Z"
   },
   {
    "duration": 3303,
    "start_time": "2021-10-10T06:29:48.524Z"
   },
   {
    "duration": 5933,
    "start_time": "2021-10-10T06:29:51.829Z"
   },
   {
    "duration": 6138,
    "start_time": "2021-10-10T06:29:57.769Z"
   },
   {
    "duration": 6118,
    "start_time": "2021-10-10T06:30:03.910Z"
   },
   {
    "duration": 2665,
    "start_time": "2021-10-10T06:30:10.031Z"
   },
   {
    "duration": 9,
    "start_time": "2021-10-10T06:30:12.699Z"
   },
   {
    "duration": 1742,
    "start_time": "2021-10-10T06:30:12.710Z"
   },
   {
    "duration": 14,
    "start_time": "2021-10-10T06:30:14.454Z"
   },
   {
    "duration": 18,
    "start_time": "2021-10-10T06:30:14.470Z"
   },
   {
    "duration": 2754,
    "start_time": "2021-10-10T06:30:14.490Z"
   },
   {
    "duration": 52,
    "start_time": "2021-10-10T06:30:17.247Z"
   },
   {
    "duration": 6,
    "start_time": "2021-10-10T06:30:17.302Z"
   },
   {
    "duration": 7,
    "start_time": "2021-10-10T06:30:17.310Z"
   },
   {
    "duration": 4,
    "start_time": "2021-10-10T06:30:17.321Z"
   },
   {
    "duration": 88,
    "start_time": "2021-10-10T06:30:17.328Z"
   },
   {
    "duration": -14732288,
    "start_time": "2021-10-10T10:35:49.706Z"
   },
   {
    "duration": -14732290,
    "start_time": "2021-10-10T10:35:49.710Z"
   },
   {
    "duration": -14732295,
    "start_time": "2021-10-10T10:35:49.716Z"
   },
   {
    "duration": -14732298,
    "start_time": "2021-10-10T10:35:49.721Z"
   },
   {
    "duration": -14732303,
    "start_time": "2021-10-10T10:35:49.727Z"
   },
   {
    "duration": -14732305,
    "start_time": "2021-10-10T10:35:49.731Z"
   },
   {
    "duration": -14732308,
    "start_time": "2021-10-10T10:35:49.736Z"
   },
   {
    "duration": -14732312,
    "start_time": "2021-10-10T10:35:49.741Z"
   },
   {
    "duration": -14732314,
    "start_time": "2021-10-10T10:35:49.745Z"
   },
   {
    "duration": -14732318,
    "start_time": "2021-10-10T10:35:49.750Z"
   },
   {
    "duration": -14732321,
    "start_time": "2021-10-10T10:35:49.755Z"
   },
   {
    "duration": -14732324,
    "start_time": "2021-10-10T10:35:49.759Z"
   },
   {
    "duration": -14732329,
    "start_time": "2021-10-10T10:35:49.765Z"
   },
   {
    "duration": 8,
    "start_time": "2021-10-10T06:34:05.364Z"
   },
   {
    "duration": 7,
    "start_time": "2021-10-10T06:34:39.298Z"
   },
   {
    "duration": 8,
    "start_time": "2021-10-10T06:34:57.960Z"
   },
   {
    "duration": 8,
    "start_time": "2021-10-10T06:35:15.831Z"
   },
   {
    "duration": 506,
    "start_time": "2021-10-10T06:38:52.706Z"
   },
   {
    "duration": 6,
    "start_time": "2021-10-10T06:39:17.732Z"
   },
   {
    "duration": 363,
    "start_time": "2021-10-10T06:39:35.056Z"
   },
   {
    "duration": 269,
    "start_time": "2021-10-10T06:39:41.181Z"
   },
   {
    "duration": 212,
    "start_time": "2021-10-10T06:40:29.578Z"
   },
   {
    "duration": 566,
    "start_time": "2021-10-10T06:41:23.550Z"
   },
   {
    "duration": 14,
    "start_time": "2021-10-10T06:45:02.089Z"
   },
   {
    "duration": 5,
    "start_time": "2021-10-10T06:45:11.536Z"
   },
   {
    "duration": 13,
    "start_time": "2021-10-10T06:45:17.588Z"
   },
   {
    "duration": 247,
    "start_time": "2021-10-10T06:47:09.675Z"
   },
   {
    "duration": 251,
    "start_time": "2021-10-10T06:47:12.991Z"
   },
   {
    "duration": 302,
    "start_time": "2021-10-10T06:47:40.486Z"
   },
   {
    "duration": 526,
    "start_time": "2021-10-10T06:53:54.155Z"
   },
   {
    "duration": 343,
    "start_time": "2021-10-10T06:54:06.738Z"
   },
   {
    "duration": 14,
    "start_time": "2021-10-10T06:54:27.991Z"
   },
   {
    "duration": 30,
    "start_time": "2021-10-10T06:54:35.574Z"
   },
   {
    "duration": 341,
    "start_time": "2021-10-10T06:55:19.697Z"
   },
   {
    "duration": 998,
    "start_time": "2021-10-10T06:55:35.753Z"
   },
   {
    "duration": 1488,
    "start_time": "2021-10-10T07:15:53.260Z"
   },
   {
    "duration": 950,
    "start_time": "2021-10-10T07:15:54.751Z"
   },
   {
    "duration": 30,
    "start_time": "2021-10-10T07:15:55.704Z"
   },
   {
    "duration": 39,
    "start_time": "2021-10-10T07:15:55.737Z"
   },
   {
    "duration": 7,
    "start_time": "2021-10-10T07:15:55.779Z"
   },
   {
    "duration": 3327,
    "start_time": "2021-10-10T07:15:55.789Z"
   },
   {
    "duration": 726,
    "start_time": "2021-10-10T07:15:59.118Z"
   },
   {
    "duration": 178,
    "start_time": "2021-10-10T07:15:59.848Z"
   },
   {
    "duration": 16,
    "start_time": "2021-10-10T07:16:00.029Z"
   },
   {
    "duration": 3097,
    "start_time": "2021-10-10T07:16:00.047Z"
   },
   {
    "duration": 5848,
    "start_time": "2021-10-10T07:16:03.146Z"
   },
   {
    "duration": 5772,
    "start_time": "2021-10-10T07:16:08.996Z"
   },
   {
    "duration": 5922,
    "start_time": "2021-10-10T07:16:14.771Z"
   },
   {
    "duration": 2605,
    "start_time": "2021-10-10T07:16:20.696Z"
   },
   {
    "duration": 8,
    "start_time": "2021-10-10T07:16:23.304Z"
   },
   {
    "duration": 1669,
    "start_time": "2021-10-10T07:16:23.314Z"
   },
   {
    "duration": 9,
    "start_time": "2021-10-10T07:16:24.986Z"
   },
   {
    "duration": 11,
    "start_time": "2021-10-10T07:16:24.997Z"
   },
   {
    "duration": 2649,
    "start_time": "2021-10-10T07:16:25.011Z"
   },
   {
    "duration": 1111,
    "start_time": "2021-10-10T07:16:27.663Z"
   },
   {
    "duration": 39,
    "start_time": "2021-10-10T07:16:28.777Z"
   },
   {
    "duration": 5,
    "start_time": "2021-10-10T07:16:28.818Z"
   },
   {
    "duration": 7,
    "start_time": "2021-10-10T07:16:28.828Z"
   },
   {
    "duration": 32,
    "start_time": "2021-10-10T07:16:28.838Z"
   },
   {
    "duration": 12,
    "start_time": "2021-10-10T07:16:28.872Z"
   },
   {
    "duration": 9,
    "start_time": "2021-10-10T07:16:28.887Z"
   },
   {
    "duration": 2589,
    "start_time": "2021-10-10T07:16:28.899Z"
   },
   {
    "duration": 2479,
    "start_time": "2021-10-10T07:16:31.491Z"
   },
   {
    "duration": 39731,
    "start_time": "2021-10-10T07:16:33.974Z"
   },
   {
    "duration": 10093,
    "start_time": "2021-10-10T07:17:13.708Z"
   },
   {
    "duration": 167908,
    "start_time": "2021-10-10T07:17:23.804Z"
   },
   {
    "duration": -14732257,
    "start_time": "2021-10-10T11:25:43.972Z"
   },
   {
    "duration": -14732261,
    "start_time": "2021-10-10T11:25:43.977Z"
   },
   {
    "duration": -14732264,
    "start_time": "2021-10-10T11:25:43.982Z"
   },
   {
    "duration": -14732270,
    "start_time": "2021-10-10T11:25:43.989Z"
   },
   {
    "duration": -14732273,
    "start_time": "2021-10-10T11:25:43.994Z"
   },
   {
    "duration": -14732282,
    "start_time": "2021-10-10T11:25:44.006Z"
   },
   {
    "duration": 2635,
    "start_time": "2021-10-10T07:20:13.247Z"
   },
   {
    "duration": 94509,
    "start_time": "2021-10-10T07:20:18.379Z"
   },
   {
    "duration": -14732289,
    "start_time": "2021-10-10T11:27:25.180Z"
   },
   {
    "duration": 2469,
    "start_time": "2021-10-10T07:21:55.921Z"
   },
   {
    "duration": 131391,
    "start_time": "2021-10-10T07:22:00.969Z"
   },
   {
    "duration": 13645,
    "start_time": "2021-10-10T07:25:33.635Z"
   },
   {
    "duration": 277,
    "start_time": "2021-10-10T07:28:56.911Z"
   },
   {
    "duration": 6,
    "start_time": "2021-10-10T07:29:04.134Z"
   },
   {
    "duration": 272,
    "start_time": "2021-10-10T07:30:07.879Z"
   },
   {
    "duration": 230,
    "start_time": "2021-10-10T07:30:16.832Z"
   },
   {
    "duration": 534,
    "start_time": "2021-10-10T07:30:53.880Z"
   },
   {
    "duration": 242,
    "start_time": "2021-10-10T07:31:24.006Z"
   },
   {
    "duration": 496,
    "start_time": "2021-10-10T07:31:48.614Z"
   },
   {
    "duration": 241,
    "start_time": "2021-10-10T07:31:54.103Z"
   },
   {
    "duration": 639,
    "start_time": "2021-10-10T07:32:21.015Z"
   },
   {
    "duration": 346,
    "start_time": "2021-10-10T07:32:29.449Z"
   },
   {
    "duration": 563,
    "start_time": "2021-10-10T07:32:32.334Z"
   },
   {
    "duration": 312,
    "start_time": "2021-10-10T07:32:37.557Z"
   },
   {
    "duration": 722,
    "start_time": "2021-10-10T07:32:41.840Z"
   },
   {
    "duration": 85,
    "start_time": "2021-10-10T07:33:43.390Z"
   },
   {
    "duration": 85,
    "start_time": "2021-10-10T07:34:18.067Z"
   },
   {
    "duration": 1458,
    "start_time": "2021-10-10T07:41:25.664Z"
   },
   {
    "duration": 879,
    "start_time": "2021-10-10T07:41:27.125Z"
   },
   {
    "duration": 28,
    "start_time": "2021-10-10T07:41:28.007Z"
   },
   {
    "duration": 9,
    "start_time": "2021-10-10T07:41:28.037Z"
   },
   {
    "duration": 6,
    "start_time": "2021-10-10T07:41:28.068Z"
   },
   {
    "duration": 3174,
    "start_time": "2021-10-10T07:41:28.077Z"
   },
   {
    "duration": 724,
    "start_time": "2021-10-10T07:41:31.253Z"
   },
   {
    "duration": 273,
    "start_time": "2021-10-10T07:41:31.981Z"
   },
   {
    "duration": 20,
    "start_time": "2021-10-10T07:41:32.256Z"
   },
   {
    "duration": 2973,
    "start_time": "2021-10-10T07:41:32.279Z"
   },
   {
    "duration": 5462,
    "start_time": "2021-10-10T07:41:35.255Z"
   },
   {
    "duration": 5448,
    "start_time": "2021-10-10T07:41:40.720Z"
   },
   {
    "duration": 5514,
    "start_time": "2021-10-10T07:41:46.170Z"
   },
   {
    "duration": 2673,
    "start_time": "2021-10-10T07:41:51.686Z"
   },
   {
    "duration": 9,
    "start_time": "2021-10-10T07:41:54.362Z"
   },
   {
    "duration": 1611,
    "start_time": "2021-10-10T07:41:54.374Z"
   },
   {
    "duration": 9,
    "start_time": "2021-10-10T07:41:55.988Z"
   },
   {
    "duration": 13,
    "start_time": "2021-10-10T07:41:56.001Z"
   },
   {
    "duration": 2637,
    "start_time": "2021-10-10T07:41:56.017Z"
   },
   {
    "duration": 967,
    "start_time": "2021-10-10T07:41:58.657Z"
   },
   {
    "duration": 57,
    "start_time": "2021-10-10T07:41:59.628Z"
   },
   {
    "duration": 7,
    "start_time": "2021-10-10T07:41:59.688Z"
   },
   {
    "duration": 7,
    "start_time": "2021-10-10T07:41:59.702Z"
   },
   {
    "duration": 7,
    "start_time": "2021-10-10T07:41:59.712Z"
   },
   {
    "duration": 7,
    "start_time": "2021-10-10T07:41:59.722Z"
   },
   {
    "duration": 38,
    "start_time": "2021-10-10T07:41:59.731Z"
   },
   {
    "duration": 1401,
    "start_time": "2021-10-10T07:41:59.771Z"
   },
   {
    "duration": 1501,
    "start_time": "2021-10-10T07:42:01.176Z"
   },
   {
    "duration": 38772,
    "start_time": "2021-10-10T07:42:02.681Z"
   },
   {
    "duration": 10189,
    "start_time": "2021-10-10T07:42:41.455Z"
   },
   {
    "duration": 171695,
    "start_time": "2021-10-10T07:42:51.647Z"
   },
   {
    "duration": -14732274,
    "start_time": "2021-10-10T11:51:15.619Z"
   },
   {
    "duration": -14732278,
    "start_time": "2021-10-10T11:51:15.624Z"
   },
   {
    "duration": -14732283,
    "start_time": "2021-10-10T11:51:15.630Z"
   },
   {
    "duration": -14732287,
    "start_time": "2021-10-10T11:51:15.635Z"
   },
   {
    "duration": -14732291,
    "start_time": "2021-10-10T11:51:15.641Z"
   },
   {
    "duration": -14732294,
    "start_time": "2021-10-10T11:51:15.645Z"
   },
   {
    "duration": 9821,
    "start_time": "2021-10-10T07:45:44.337Z"
   },
   {
    "duration": 74367,
    "start_time": "2021-10-10T07:46:08.564Z"
   },
   {
    "duration": -14732275,
    "start_time": "2021-10-10T11:52:55.208Z"
   },
   {
    "duration": 10012,
    "start_time": "2021-10-10T07:47:24.865Z"
   },
   {
    "duration": -14732261,
    "start_time": "2021-10-10T11:59:41.815Z"
   },
   {
    "duration": 24604,
    "start_time": "2021-10-10T07:54:12.799Z"
   },
   {
    "duration": -14732233,
    "start_time": "2021-10-10T12:31:29.923Z"
   },
   {
    "duration": 41287,
    "start_time": "2021-10-10T08:27:05.367Z"
   },
   {
    "duration": -14732243,
    "start_time": "2021-10-10T12:35:00.197Z"
   },
   {
    "duration": -14732253,
    "start_time": "2021-10-10T12:35:00.209Z"
   },
   {
    "duration": -14732261,
    "start_time": "2021-10-10T12:35:00.218Z"
   },
   {
    "duration": 2248,
    "start_time": "2021-10-10T08:29:31.109Z"
   },
   {
    "duration": 1125,
    "start_time": "2021-10-10T12:53:11.976Z"
   },
   {
    "duration": 736,
    "start_time": "2021-10-10T12:53:13.103Z"
   },
   {
    "duration": 23,
    "start_time": "2021-10-10T12:53:13.841Z"
   },
   {
    "duration": 8,
    "start_time": "2021-10-10T12:53:14.057Z"
   },
   {
    "duration": 6,
    "start_time": "2021-10-10T12:53:14.827Z"
   },
   {
    "duration": 2089,
    "start_time": "2021-10-10T12:53:15.467Z"
   },
   {
    "duration": 416,
    "start_time": "2021-10-10T12:53:17.558Z"
   },
   {
    "duration": 93,
    "start_time": "2021-10-10T12:53:17.976Z"
   },
   {
    "duration": 11,
    "start_time": "2021-10-10T12:53:18.817Z"
   },
   {
    "duration": 1854,
    "start_time": "2021-10-10T12:53:19.832Z"
   },
   {
    "duration": 3388,
    "start_time": "2021-10-10T12:53:21.688Z"
   },
   {
    "duration": 3406,
    "start_time": "2021-10-10T12:53:25.078Z"
   },
   {
    "duration": 3469,
    "start_time": "2021-10-10T12:53:28.486Z"
   },
   {
    "duration": 1439,
    "start_time": "2021-10-10T12:53:31.957Z"
   },
   {
    "duration": 6,
    "start_time": "2021-10-10T12:53:33.398Z"
   },
   {
    "duration": 1023,
    "start_time": "2021-10-10T12:53:33.406Z"
   },
   {
    "duration": 6,
    "start_time": "2021-10-10T12:53:34.432Z"
   },
   {
    "duration": 9,
    "start_time": "2021-10-10T12:53:34.449Z"
   },
   {
    "duration": 1568,
    "start_time": "2021-10-10T12:53:34.460Z"
   },
   {
    "duration": 634,
    "start_time": "2021-10-10T12:53:36.029Z"
   },
   {
    "duration": 40,
    "start_time": "2021-10-10T12:53:36.667Z"
   },
   {
    "duration": 5,
    "start_time": "2021-10-10T12:53:36.709Z"
   },
   {
    "duration": 7,
    "start_time": "2021-10-10T12:53:36.715Z"
   },
   {
    "duration": 27,
    "start_time": "2021-10-10T12:53:36.723Z"
   },
   {
    "duration": 9,
    "start_time": "2021-10-10T12:53:36.752Z"
   },
   {
    "duration": 15,
    "start_time": "2021-10-10T12:53:36.764Z"
   },
   {
    "duration": 2562,
    "start_time": "2021-10-10T12:53:37.206Z"
   },
   {
    "duration": 1782,
    "start_time": "2021-10-10T12:53:39.771Z"
   },
   {
    "duration": 29611,
    "start_time": "2021-10-10T12:53:41.556Z"
   },
   {
    "duration": 7443,
    "start_time": "2021-10-10T12:54:11.169Z"
   },
   {
    "duration": 63,
    "start_time": "2021-10-10T12:55:20.412Z"
   },
   {
    "duration": 305,
    "start_time": "2021-10-10T12:55:30.066Z"
   },
   {
    "duration": 297,
    "start_time": "2021-10-10T12:58:02.712Z"
   },
   {
    "duration": 466,
    "start_time": "2021-10-10T13:00:05.689Z"
   },
   {
    "duration": 7,
    "start_time": "2021-10-10T13:00:21.218Z"
   },
   {
    "duration": 5,
    "start_time": "2021-10-10T13:00:59.847Z"
   },
   {
    "duration": 7,
    "start_time": "2021-10-10T13:01:06.048Z"
   },
   {
    "duration": 208,
    "start_time": "2021-10-10T13:02:00.042Z"
   },
   {
    "duration": 1520,
    "start_time": "2021-10-10T13:02:19.027Z"
   },
   {
    "duration": 11,
    "start_time": "2021-10-10T13:02:34.029Z"
   },
   {
    "duration": 1452,
    "start_time": "2021-10-10T13:02:42.399Z"
   },
   {
    "duration": 6132,
    "start_time": "2021-10-10T13:02:48.259Z"
   },
   {
    "duration": 7,
    "start_time": "2021-10-10T13:03:05.150Z"
   },
   {
    "duration": 1369,
    "start_time": "2021-10-10T13:03:11.559Z"
   },
   {
    "duration": 9,
    "start_time": "2021-10-10T13:03:23.354Z"
   },
   {
    "duration": 5,
    "start_time": "2021-10-10T13:03:36.748Z"
   },
   {
    "duration": 4,
    "start_time": "2021-10-10T13:03:57.582Z"
   },
   {
    "duration": 6,
    "start_time": "2021-10-10T13:04:11.890Z"
   },
   {
    "duration": 201,
    "start_time": "2021-10-10T13:04:34.480Z"
   },
   {
    "duration": 5,
    "start_time": "2021-10-10T13:05:31.787Z"
   },
   {
    "duration": 8,
    "start_time": "2021-10-10T13:05:52.265Z"
   },
   {
    "duration": 9,
    "start_time": "2021-10-10T13:06:00.638Z"
   },
   {
    "duration": 6,
    "start_time": "2021-10-10T13:06:31.408Z"
   }
  ],
  "kernelspec": {
   "display_name": "Python 3 (ipykernel)",
   "language": "python",
   "name": "python3"
  },
  "language_info": {
   "codemirror_mode": {
    "name": "ipython",
    "version": 3
   },
   "file_extension": ".py",
   "mimetype": "text/x-python",
   "name": "python",
   "nbconvert_exporter": "python",
   "pygments_lexer": "ipython3",
   "version": "3.9.7"
  },
  "toc": {
   "base_numbering": 1,
   "nav_menu": {},
   "number_sections": true,
   "sideBar": true,
   "skip_h1_title": true,
   "title_cell": "Содержание",
   "title_sidebar": "Contents",
   "toc_cell": true,
   "toc_position": {
    "height": "calc(100% - 180px)",
    "left": "10px",
    "top": "150px",
    "width": "165px"
   },
   "toc_section_display": true,
   "toc_window_display": false
  }
 },
 "nbformat": 4,
 "nbformat_minor": 2
}
