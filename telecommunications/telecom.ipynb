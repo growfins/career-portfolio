{
 "cells": [
  {
   "cell_type": "markdown",
   "metadata": {},
   "source": [
    "## Предобработка данных\n",
    "\n",
    "### Загрузка и изучение данных\n",
    "\n",
    "Загрузим и обработаем каждую из предоставленных таблиц."
   ]
  },
  {
   "cell_type": "code",
   "execution_count": 10,
   "metadata": {
    "scrolled": true
   },
   "outputs": [
    {
     "name": "stdout",
     "output_type": "stream",
     "text": [
      "<class 'pandas.core.frame.DataFrame'>\n",
      "RangeIndex: 7043 entries, 0 to 7042\n",
      "Data columns (total 8 columns):\n",
      " #   Column            Non-Null Count  Dtype  \n",
      "---  ------            --------------  -----  \n",
      " 0   customerID        7043 non-null   object \n",
      " 1   BeginDate         7043 non-null   object \n",
      " 2   EndDate           7043 non-null   object \n",
      " 3   Type              7043 non-null   object \n",
      " 4   PaperlessBilling  7043 non-null   object \n",
      " 5   PaymentMethod     7043 non-null   object \n",
      " 6   MonthlyCharges    7043 non-null   float64\n",
      " 7   TotalCharges      7043 non-null   object \n",
      "dtypes: float64(1), object(7)\n",
      "memory usage: 440.3+ KB\n"
     ]
    },
    {
     "data": {
      "text/html": [
       "<div>\n",
       "<style scoped>\n",
       "    .dataframe tbody tr th:only-of-type {\n",
       "        vertical-align: middle;\n",
       "    }\n",
       "\n",
       "    .dataframe tbody tr th {\n",
       "        vertical-align: top;\n",
       "    }\n",
       "\n",
       "    .dataframe thead th {\n",
       "        text-align: right;\n",
       "    }\n",
       "</style>\n",
       "<table border=\"1\" class=\"dataframe\">\n",
       "  <thead>\n",
       "    <tr style=\"text-align: right;\">\n",
       "      <th></th>\n",
       "      <th>customerID</th>\n",
       "      <th>BeginDate</th>\n",
       "      <th>EndDate</th>\n",
       "      <th>Type</th>\n",
       "      <th>PaperlessBilling</th>\n",
       "      <th>PaymentMethod</th>\n",
       "      <th>MonthlyCharges</th>\n",
       "      <th>TotalCharges</th>\n",
       "    </tr>\n",
       "  </thead>\n",
       "  <tbody>\n",
       "    <tr>\n",
       "      <th>0</th>\n",
       "      <td>7590-VHVEG</td>\n",
       "      <td>2020-01-01</td>\n",
       "      <td>No</td>\n",
       "      <td>Month-to-month</td>\n",
       "      <td>Yes</td>\n",
       "      <td>Electronic check</td>\n",
       "      <td>29.85</td>\n",
       "      <td>29.85</td>\n",
       "    </tr>\n",
       "    <tr>\n",
       "      <th>1</th>\n",
       "      <td>5575-GNVDE</td>\n",
       "      <td>2017-04-01</td>\n",
       "      <td>No</td>\n",
       "      <td>One year</td>\n",
       "      <td>No</td>\n",
       "      <td>Mailed check</td>\n",
       "      <td>56.95</td>\n",
       "      <td>1889.5</td>\n",
       "    </tr>\n",
       "    <tr>\n",
       "      <th>2</th>\n",
       "      <td>3668-QPYBK</td>\n",
       "      <td>2019-10-01</td>\n",
       "      <td>2019-12-01 00:00:00</td>\n",
       "      <td>Month-to-month</td>\n",
       "      <td>Yes</td>\n",
       "      <td>Mailed check</td>\n",
       "      <td>53.85</td>\n",
       "      <td>108.15</td>\n",
       "    </tr>\n",
       "    <tr>\n",
       "      <th>3</th>\n",
       "      <td>7795-CFOCW</td>\n",
       "      <td>2016-05-01</td>\n",
       "      <td>No</td>\n",
       "      <td>One year</td>\n",
       "      <td>No</td>\n",
       "      <td>Bank transfer (automatic)</td>\n",
       "      <td>42.30</td>\n",
       "      <td>1840.75</td>\n",
       "    </tr>\n",
       "    <tr>\n",
       "      <th>4</th>\n",
       "      <td>9237-HQITU</td>\n",
       "      <td>2019-09-01</td>\n",
       "      <td>2019-11-01 00:00:00</td>\n",
       "      <td>Month-to-month</td>\n",
       "      <td>Yes</td>\n",
       "      <td>Electronic check</td>\n",
       "      <td>70.70</td>\n",
       "      <td>151.65</td>\n",
       "    </tr>\n",
       "    <tr>\n",
       "      <th>...</th>\n",
       "      <td>...</td>\n",
       "      <td>...</td>\n",
       "      <td>...</td>\n",
       "      <td>...</td>\n",
       "      <td>...</td>\n",
       "      <td>...</td>\n",
       "      <td>...</td>\n",
       "      <td>...</td>\n",
       "    </tr>\n",
       "    <tr>\n",
       "      <th>7038</th>\n",
       "      <td>6840-RESVB</td>\n",
       "      <td>2018-02-01</td>\n",
       "      <td>No</td>\n",
       "      <td>One year</td>\n",
       "      <td>Yes</td>\n",
       "      <td>Mailed check</td>\n",
       "      <td>84.80</td>\n",
       "      <td>1990.5</td>\n",
       "    </tr>\n",
       "    <tr>\n",
       "      <th>7039</th>\n",
       "      <td>2234-XADUH</td>\n",
       "      <td>2014-02-01</td>\n",
       "      <td>No</td>\n",
       "      <td>One year</td>\n",
       "      <td>Yes</td>\n",
       "      <td>Credit card (automatic)</td>\n",
       "      <td>103.20</td>\n",
       "      <td>7362.9</td>\n",
       "    </tr>\n",
       "    <tr>\n",
       "      <th>7040</th>\n",
       "      <td>4801-JZAZL</td>\n",
       "      <td>2019-03-01</td>\n",
       "      <td>No</td>\n",
       "      <td>Month-to-month</td>\n",
       "      <td>Yes</td>\n",
       "      <td>Electronic check</td>\n",
       "      <td>29.60</td>\n",
       "      <td>346.45</td>\n",
       "    </tr>\n",
       "    <tr>\n",
       "      <th>7041</th>\n",
       "      <td>8361-LTMKD</td>\n",
       "      <td>2019-07-01</td>\n",
       "      <td>2019-11-01 00:00:00</td>\n",
       "      <td>Month-to-month</td>\n",
       "      <td>Yes</td>\n",
       "      <td>Mailed check</td>\n",
       "      <td>74.40</td>\n",
       "      <td>306.6</td>\n",
       "    </tr>\n",
       "    <tr>\n",
       "      <th>7042</th>\n",
       "      <td>3186-AJIEK</td>\n",
       "      <td>2014-08-01</td>\n",
       "      <td>No</td>\n",
       "      <td>Two year</td>\n",
       "      <td>Yes</td>\n",
       "      <td>Bank transfer (automatic)</td>\n",
       "      <td>105.65</td>\n",
       "      <td>6844.5</td>\n",
       "    </tr>\n",
       "  </tbody>\n",
       "</table>\n",
       "<p>7043 rows × 8 columns</p>\n",
       "</div>"
      ],
      "text/plain": [
       "      customerID   BeginDate              EndDate            Type  \\\n",
       "0     7590-VHVEG  2020-01-01                   No  Month-to-month   \n",
       "1     5575-GNVDE  2017-04-01                   No        One year   \n",
       "2     3668-QPYBK  2019-10-01  2019-12-01 00:00:00  Month-to-month   \n",
       "3     7795-CFOCW  2016-05-01                   No        One year   \n",
       "4     9237-HQITU  2019-09-01  2019-11-01 00:00:00  Month-to-month   \n",
       "...          ...         ...                  ...             ...   \n",
       "7038  6840-RESVB  2018-02-01                   No        One year   \n",
       "7039  2234-XADUH  2014-02-01                   No        One year   \n",
       "7040  4801-JZAZL  2019-03-01                   No  Month-to-month   \n",
       "7041  8361-LTMKD  2019-07-01  2019-11-01 00:00:00  Month-to-month   \n",
       "7042  3186-AJIEK  2014-08-01                   No        Two year   \n",
       "\n",
       "     PaperlessBilling              PaymentMethod  MonthlyCharges TotalCharges  \n",
       "0                 Yes           Electronic check           29.85        29.85  \n",
       "1                  No               Mailed check           56.95       1889.5  \n",
       "2                 Yes               Mailed check           53.85       108.15  \n",
       "3                  No  Bank transfer (automatic)           42.30      1840.75  \n",
       "4                 Yes           Electronic check           70.70       151.65  \n",
       "...               ...                        ...             ...          ...  \n",
       "7038              Yes               Mailed check           84.80       1990.5  \n",
       "7039              Yes    Credit card (automatic)          103.20       7362.9  \n",
       "7040              Yes           Electronic check           29.60       346.45  \n",
       "7041              Yes               Mailed check           74.40        306.6  \n",
       "7042              Yes  Bank transfer (automatic)          105.65       6844.5  \n",
       "\n",
       "[7043 rows x 8 columns]"
      ]
     },
     "execution_count": 10,
     "metadata": {},
     "output_type": "execute_result"
    }
   ],
   "source": [
    "contract = pd.read_csv('contract.csv')\n",
    "personal = pd.read_csv('personal.csv')\n",
    "internet = pd.read_csv('internet.csv')\n",
    "phone = pd.read_csv('phone.csv')\n",
    "\n",
    "contract.info()\n",
    "contract"
   ]
  },
  {
   "cell_type": "markdown",
   "metadata": {},
   "source": [
    "`customerID` - \"первичный ключ\", по этому столбцу в дальнейшем будем объединять таблицы. Далее столбец подлежт удалению.  \n",
    "`BeginDate` -  дата, когда клиент таковым стал. Тип данных заменим на `datetime`  \n",
    "`EndDate` - дата ухода клиента из компании. Если в этом столбце значение `No`, то **клиент до сих пор с нами**. Из этого столбца извлечем в дальнейшем целевой признак.  \n",
    "`Type` - периодичность оплаты, избранная клиентом  \n",
    "`PaperlessBilling` - безналичный расчет, если в столбце значение `Yes`  \n",
    "`PaymentMethod` - тип платежа  \n",
    "`MonthlyCharges` – ежемесячные траты на услуги\n",
    "`TotalCharges` – всего потрачено денег на услуги  \n",
    "\n",
    "Из наблюдений: тип `object` не совсем естественен для столбца `TotalCharges`. Подозреваем наличие некоторых строковых значений с этом столбце."
   ]
  },
  {
   "cell_type": "code",
   "execution_count": 11,
   "metadata": {},
   "outputs": [
    {
     "data": {
      "text/plain": [
       "          11\n",
       "20.2      11\n",
       "19.75      9\n",
       "20.05      8\n",
       "19.9       8\n",
       "          ..\n",
       "6849.4     1\n",
       "692.35     1\n",
       "130.15     1\n",
       "3211.9     1\n",
       "6844.5     1\n",
       "Name: TotalCharges, Length: 6531, dtype: int64"
      ]
     },
     "execution_count": 11,
     "metadata": {},
     "output_type": "execute_result"
    }
   ],
   "source": [
    "contract['TotalCharges'].value_counts()"
   ]
  },
  {
   "cell_type": "markdown",
   "metadata": {},
   "source": [
    "Пустые значения, равные одному пробелу. Удаляем 11 строк из датасета. Тип данных менем на `float`."
   ]
  },
  {
   "cell_type": "code",
   "execution_count": 12,
   "metadata": {},
   "outputs": [
    {
     "name": "stdout",
     "output_type": "stream",
     "text": [
      "<class 'pandas.core.frame.DataFrame'>\n",
      "Int64Index: 7032 entries, 0 to 7042\n",
      "Data columns (total 8 columns):\n",
      " #   Column            Non-Null Count  Dtype  \n",
      "---  ------            --------------  -----  \n",
      " 0   customerID        7032 non-null   object \n",
      " 1   BeginDate         7032 non-null   object \n",
      " 2   EndDate           7032 non-null   object \n",
      " 3   Type              7032 non-null   object \n",
      " 4   PaperlessBilling  7032 non-null   object \n",
      " 5   PaymentMethod     7032 non-null   object \n",
      " 6   MonthlyCharges    7032 non-null   float64\n",
      " 7   TotalCharges      7032 non-null   float64\n",
      "dtypes: float64(2), object(6)\n",
      "memory usage: 494.4+ KB\n"
     ]
    }
   ],
   "source": [
    "contract = contract.drop(contract[contract.TotalCharges == ' '].index)\n",
    "contract['TotalCharges'] = contract['TotalCharges'].astype(float)\n",
    "contract.info()"
   ]
  },
  {
   "cell_type": "markdown",
   "metadata": {},
   "source": [
    "________________"
   ]
  },
  {
   "cell_type": "code",
   "execution_count": 13,
   "metadata": {},
   "outputs": [
    {
     "name": "stdout",
     "output_type": "stream",
     "text": [
      "<class 'pandas.core.frame.DataFrame'>\n",
      "RangeIndex: 7043 entries, 0 to 7042\n",
      "Data columns (total 5 columns):\n",
      " #   Column         Non-Null Count  Dtype \n",
      "---  ------         --------------  ----- \n",
      " 0   customerID     7043 non-null   object\n",
      " 1   gender         7043 non-null   object\n",
      " 2   SeniorCitizen  7043 non-null   int64 \n",
      " 3   Partner        7043 non-null   object\n",
      " 4   Dependents     7043 non-null   object\n",
      "dtypes: int64(1), object(4)\n",
      "memory usage: 275.2+ KB\n"
     ]
    },
    {
     "data": {
      "text/html": [
       "<div>\n",
       "<style scoped>\n",
       "    .dataframe tbody tr th:only-of-type {\n",
       "        vertical-align: middle;\n",
       "    }\n",
       "\n",
       "    .dataframe tbody tr th {\n",
       "        vertical-align: top;\n",
       "    }\n",
       "\n",
       "    .dataframe thead th {\n",
       "        text-align: right;\n",
       "    }\n",
       "</style>\n",
       "<table border=\"1\" class=\"dataframe\">\n",
       "  <thead>\n",
       "    <tr style=\"text-align: right;\">\n",
       "      <th></th>\n",
       "      <th>customerID</th>\n",
       "      <th>gender</th>\n",
       "      <th>SeniorCitizen</th>\n",
       "      <th>Partner</th>\n",
       "      <th>Dependents</th>\n",
       "    </tr>\n",
       "  </thead>\n",
       "  <tbody>\n",
       "    <tr>\n",
       "      <th>0</th>\n",
       "      <td>7590-VHVEG</td>\n",
       "      <td>Female</td>\n",
       "      <td>0</td>\n",
       "      <td>Yes</td>\n",
       "      <td>No</td>\n",
       "    </tr>\n",
       "    <tr>\n",
       "      <th>1</th>\n",
       "      <td>5575-GNVDE</td>\n",
       "      <td>Male</td>\n",
       "      <td>0</td>\n",
       "      <td>No</td>\n",
       "      <td>No</td>\n",
       "    </tr>\n",
       "    <tr>\n",
       "      <th>2</th>\n",
       "      <td>3668-QPYBK</td>\n",
       "      <td>Male</td>\n",
       "      <td>0</td>\n",
       "      <td>No</td>\n",
       "      <td>No</td>\n",
       "    </tr>\n",
       "    <tr>\n",
       "      <th>3</th>\n",
       "      <td>7795-CFOCW</td>\n",
       "      <td>Male</td>\n",
       "      <td>0</td>\n",
       "      <td>No</td>\n",
       "      <td>No</td>\n",
       "    </tr>\n",
       "    <tr>\n",
       "      <th>4</th>\n",
       "      <td>9237-HQITU</td>\n",
       "      <td>Female</td>\n",
       "      <td>0</td>\n",
       "      <td>No</td>\n",
       "      <td>No</td>\n",
       "    </tr>\n",
       "    <tr>\n",
       "      <th>...</th>\n",
       "      <td>...</td>\n",
       "      <td>...</td>\n",
       "      <td>...</td>\n",
       "      <td>...</td>\n",
       "      <td>...</td>\n",
       "    </tr>\n",
       "    <tr>\n",
       "      <th>7038</th>\n",
       "      <td>6840-RESVB</td>\n",
       "      <td>Male</td>\n",
       "      <td>0</td>\n",
       "      <td>Yes</td>\n",
       "      <td>Yes</td>\n",
       "    </tr>\n",
       "    <tr>\n",
       "      <th>7039</th>\n",
       "      <td>2234-XADUH</td>\n",
       "      <td>Female</td>\n",
       "      <td>0</td>\n",
       "      <td>Yes</td>\n",
       "      <td>Yes</td>\n",
       "    </tr>\n",
       "    <tr>\n",
       "      <th>7040</th>\n",
       "      <td>4801-JZAZL</td>\n",
       "      <td>Female</td>\n",
       "      <td>0</td>\n",
       "      <td>Yes</td>\n",
       "      <td>Yes</td>\n",
       "    </tr>\n",
       "    <tr>\n",
       "      <th>7041</th>\n",
       "      <td>8361-LTMKD</td>\n",
       "      <td>Male</td>\n",
       "      <td>1</td>\n",
       "      <td>Yes</td>\n",
       "      <td>No</td>\n",
       "    </tr>\n",
       "    <tr>\n",
       "      <th>7042</th>\n",
       "      <td>3186-AJIEK</td>\n",
       "      <td>Male</td>\n",
       "      <td>0</td>\n",
       "      <td>No</td>\n",
       "      <td>No</td>\n",
       "    </tr>\n",
       "  </tbody>\n",
       "</table>\n",
       "<p>7043 rows × 5 columns</p>\n",
       "</div>"
      ],
      "text/plain": [
       "      customerID  gender  SeniorCitizen Partner Dependents\n",
       "0     7590-VHVEG  Female              0     Yes         No\n",
       "1     5575-GNVDE    Male              0      No         No\n",
       "2     3668-QPYBK    Male              0      No         No\n",
       "3     7795-CFOCW    Male              0      No         No\n",
       "4     9237-HQITU  Female              0      No         No\n",
       "...          ...     ...            ...     ...        ...\n",
       "7038  6840-RESVB    Male              0     Yes        Yes\n",
       "7039  2234-XADUH  Female              0     Yes        Yes\n",
       "7040  4801-JZAZL  Female              0     Yes        Yes\n",
       "7041  8361-LTMKD    Male              1     Yes         No\n",
       "7042  3186-AJIEK    Male              0      No         No\n",
       "\n",
       "[7043 rows x 5 columns]"
      ]
     },
     "execution_count": 13,
     "metadata": {},
     "output_type": "execute_result"
    }
   ],
   "source": [
    "personal.info()\n",
    "personal"
   ]
  },
  {
   "cell_type": "markdown",
   "metadata": {},
   "source": [
    "`customerID` - \"первичный ключ\", по этому столбцу в дальнейшем будем объединять таблицы. Далее столбец подлежт удалению.    \n",
    "`gender` -  пол клиента      \n",
    "`SeniorCitizen` - пенсионный возраст клиента    \n",
    "`Partner` - наличие супруга/супруги    \n",
    "`Dependents` - наличие иждивенцев  \n",
    "Пропусков и артефактов не обнаружено\n",
    "________"
   ]
  },
  {
   "cell_type": "code",
   "execution_count": 14,
   "metadata": {},
   "outputs": [
    {
     "name": "stdout",
     "output_type": "stream",
     "text": [
      "<class 'pandas.core.frame.DataFrame'>\n",
      "RangeIndex: 5517 entries, 0 to 5516\n",
      "Data columns (total 8 columns):\n",
      " #   Column            Non-Null Count  Dtype \n",
      "---  ------            --------------  ----- \n",
      " 0   customerID        5517 non-null   object\n",
      " 1   InternetService   5517 non-null   object\n",
      " 2   OnlineSecurity    5517 non-null   object\n",
      " 3   OnlineBackup      5517 non-null   object\n",
      " 4   DeviceProtection  5517 non-null   object\n",
      " 5   TechSupport       5517 non-null   object\n",
      " 6   StreamingTV       5517 non-null   object\n",
      " 7   StreamingMovies   5517 non-null   object\n",
      "dtypes: object(8)\n",
      "memory usage: 344.9+ KB\n"
     ]
    },
    {
     "data": {
      "text/html": [
       "<div>\n",
       "<style scoped>\n",
       "    .dataframe tbody tr th:only-of-type {\n",
       "        vertical-align: middle;\n",
       "    }\n",
       "\n",
       "    .dataframe tbody tr th {\n",
       "        vertical-align: top;\n",
       "    }\n",
       "\n",
       "    .dataframe thead th {\n",
       "        text-align: right;\n",
       "    }\n",
       "</style>\n",
       "<table border=\"1\" class=\"dataframe\">\n",
       "  <thead>\n",
       "    <tr style=\"text-align: right;\">\n",
       "      <th></th>\n",
       "      <th>customerID</th>\n",
       "      <th>InternetService</th>\n",
       "      <th>OnlineSecurity</th>\n",
       "      <th>OnlineBackup</th>\n",
       "      <th>DeviceProtection</th>\n",
       "      <th>TechSupport</th>\n",
       "      <th>StreamingTV</th>\n",
       "      <th>StreamingMovies</th>\n",
       "    </tr>\n",
       "  </thead>\n",
       "  <tbody>\n",
       "    <tr>\n",
       "      <th>0</th>\n",
       "      <td>7590-VHVEG</td>\n",
       "      <td>DSL</td>\n",
       "      <td>No</td>\n",
       "      <td>Yes</td>\n",
       "      <td>No</td>\n",
       "      <td>No</td>\n",
       "      <td>No</td>\n",
       "      <td>No</td>\n",
       "    </tr>\n",
       "    <tr>\n",
       "      <th>1</th>\n",
       "      <td>5575-GNVDE</td>\n",
       "      <td>DSL</td>\n",
       "      <td>Yes</td>\n",
       "      <td>No</td>\n",
       "      <td>Yes</td>\n",
       "      <td>No</td>\n",
       "      <td>No</td>\n",
       "      <td>No</td>\n",
       "    </tr>\n",
       "    <tr>\n",
       "      <th>2</th>\n",
       "      <td>3668-QPYBK</td>\n",
       "      <td>DSL</td>\n",
       "      <td>Yes</td>\n",
       "      <td>Yes</td>\n",
       "      <td>No</td>\n",
       "      <td>No</td>\n",
       "      <td>No</td>\n",
       "      <td>No</td>\n",
       "    </tr>\n",
       "    <tr>\n",
       "      <th>3</th>\n",
       "      <td>7795-CFOCW</td>\n",
       "      <td>DSL</td>\n",
       "      <td>Yes</td>\n",
       "      <td>No</td>\n",
       "      <td>Yes</td>\n",
       "      <td>Yes</td>\n",
       "      <td>No</td>\n",
       "      <td>No</td>\n",
       "    </tr>\n",
       "    <tr>\n",
       "      <th>4</th>\n",
       "      <td>9237-HQITU</td>\n",
       "      <td>Fiber optic</td>\n",
       "      <td>No</td>\n",
       "      <td>No</td>\n",
       "      <td>No</td>\n",
       "      <td>No</td>\n",
       "      <td>No</td>\n",
       "      <td>No</td>\n",
       "    </tr>\n",
       "    <tr>\n",
       "      <th>...</th>\n",
       "      <td>...</td>\n",
       "      <td>...</td>\n",
       "      <td>...</td>\n",
       "      <td>...</td>\n",
       "      <td>...</td>\n",
       "      <td>...</td>\n",
       "      <td>...</td>\n",
       "      <td>...</td>\n",
       "    </tr>\n",
       "    <tr>\n",
       "      <th>5512</th>\n",
       "      <td>6840-RESVB</td>\n",
       "      <td>DSL</td>\n",
       "      <td>Yes</td>\n",
       "      <td>No</td>\n",
       "      <td>Yes</td>\n",
       "      <td>Yes</td>\n",
       "      <td>Yes</td>\n",
       "      <td>Yes</td>\n",
       "    </tr>\n",
       "    <tr>\n",
       "      <th>5513</th>\n",
       "      <td>2234-XADUH</td>\n",
       "      <td>Fiber optic</td>\n",
       "      <td>No</td>\n",
       "      <td>Yes</td>\n",
       "      <td>Yes</td>\n",
       "      <td>No</td>\n",
       "      <td>Yes</td>\n",
       "      <td>Yes</td>\n",
       "    </tr>\n",
       "    <tr>\n",
       "      <th>5514</th>\n",
       "      <td>4801-JZAZL</td>\n",
       "      <td>DSL</td>\n",
       "      <td>Yes</td>\n",
       "      <td>No</td>\n",
       "      <td>No</td>\n",
       "      <td>No</td>\n",
       "      <td>No</td>\n",
       "      <td>No</td>\n",
       "    </tr>\n",
       "    <tr>\n",
       "      <th>5515</th>\n",
       "      <td>8361-LTMKD</td>\n",
       "      <td>Fiber optic</td>\n",
       "      <td>No</td>\n",
       "      <td>No</td>\n",
       "      <td>No</td>\n",
       "      <td>No</td>\n",
       "      <td>No</td>\n",
       "      <td>No</td>\n",
       "    </tr>\n",
       "    <tr>\n",
       "      <th>5516</th>\n",
       "      <td>3186-AJIEK</td>\n",
       "      <td>Fiber optic</td>\n",
       "      <td>Yes</td>\n",
       "      <td>No</td>\n",
       "      <td>Yes</td>\n",
       "      <td>Yes</td>\n",
       "      <td>Yes</td>\n",
       "      <td>Yes</td>\n",
       "    </tr>\n",
       "  </tbody>\n",
       "</table>\n",
       "<p>5517 rows × 8 columns</p>\n",
       "</div>"
      ],
      "text/plain": [
       "      customerID InternetService OnlineSecurity OnlineBackup DeviceProtection  \\\n",
       "0     7590-VHVEG             DSL             No          Yes               No   \n",
       "1     5575-GNVDE             DSL            Yes           No              Yes   \n",
       "2     3668-QPYBK             DSL            Yes          Yes               No   \n",
       "3     7795-CFOCW             DSL            Yes           No              Yes   \n",
       "4     9237-HQITU     Fiber optic             No           No               No   \n",
       "...          ...             ...            ...          ...              ...   \n",
       "5512  6840-RESVB             DSL            Yes           No              Yes   \n",
       "5513  2234-XADUH     Fiber optic             No          Yes              Yes   \n",
       "5514  4801-JZAZL             DSL            Yes           No               No   \n",
       "5515  8361-LTMKD     Fiber optic             No           No               No   \n",
       "5516  3186-AJIEK     Fiber optic            Yes           No              Yes   \n",
       "\n",
       "     TechSupport StreamingTV StreamingMovies  \n",
       "0             No          No              No  \n",
       "1             No          No              No  \n",
       "2             No          No              No  \n",
       "3            Yes          No              No  \n",
       "4             No          No              No  \n",
       "...          ...         ...             ...  \n",
       "5512         Yes         Yes             Yes  \n",
       "5513          No         Yes             Yes  \n",
       "5514          No          No              No  \n",
       "5515          No          No              No  \n",
       "5516         Yes         Yes             Yes  \n",
       "\n",
       "[5517 rows x 8 columns]"
      ]
     },
     "execution_count": 14,
     "metadata": {},
     "output_type": "execute_result"
    }
   ],
   "source": [
    "internet.info()\n",
    "internet"
   ]
  },
  {
   "cell_type": "markdown",
   "metadata": {},
   "source": [
    "\n",
    "`customerID` - \"первичный ключ\", по этому столбцу в дальнейшем будем объединять таблицы. Далее столбец подлежт удалению.  \n",
    "`InternetService` -  интернет-подключение. Может быть двух типов: через телефонную линию (DSL) или оптоволоконный кабель (Fiber optic).  \n",
    "`OnlineSecurity` - возможность блокироваки небезопасных сайтов  \n",
    "`OnlineBackup` - наличие облачного хранилища файлов для резервного копирования данных  \n",
    "`DeviceProtection` - наличие антивируса  \n",
    "`TechSupport` - наличие выделенной линии технической поддержки   \n",
    "`StreamingTV` – наличие стримингового телевидения  \n",
    "`StreamingMovies` – вналичие каталога фильмов  "
   ]
  },
  {
   "cell_type": "code",
   "execution_count": 15,
   "metadata": {
    "scrolled": true
   },
   "outputs": [
    {
     "name": "stdout",
     "output_type": "stream",
     "text": [
      "<class 'pandas.core.frame.DataFrame'>\n",
      "RangeIndex: 6361 entries, 0 to 6360\n",
      "Data columns (total 2 columns):\n",
      " #   Column         Non-Null Count  Dtype \n",
      "---  ------         --------------  ----- \n",
      " 0   customerID     6361 non-null   object\n",
      " 1   MultipleLines  6361 non-null   object\n",
      "dtypes: object(2)\n",
      "memory usage: 99.5+ KB\n"
     ]
    },
    {
     "data": {
      "text/html": [
       "<div>\n",
       "<style scoped>\n",
       "    .dataframe tbody tr th:only-of-type {\n",
       "        vertical-align: middle;\n",
       "    }\n",
       "\n",
       "    .dataframe tbody tr th {\n",
       "        vertical-align: top;\n",
       "    }\n",
       "\n",
       "    .dataframe thead th {\n",
       "        text-align: right;\n",
       "    }\n",
       "</style>\n",
       "<table border=\"1\" class=\"dataframe\">\n",
       "  <thead>\n",
       "    <tr style=\"text-align: right;\">\n",
       "      <th></th>\n",
       "      <th>customerID</th>\n",
       "      <th>MultipleLines</th>\n",
       "    </tr>\n",
       "  </thead>\n",
       "  <tbody>\n",
       "    <tr>\n",
       "      <th>0</th>\n",
       "      <td>5575-GNVDE</td>\n",
       "      <td>No</td>\n",
       "    </tr>\n",
       "    <tr>\n",
       "      <th>1</th>\n",
       "      <td>3668-QPYBK</td>\n",
       "      <td>No</td>\n",
       "    </tr>\n",
       "    <tr>\n",
       "      <th>2</th>\n",
       "      <td>9237-HQITU</td>\n",
       "      <td>No</td>\n",
       "    </tr>\n",
       "    <tr>\n",
       "      <th>3</th>\n",
       "      <td>9305-CDSKC</td>\n",
       "      <td>Yes</td>\n",
       "    </tr>\n",
       "    <tr>\n",
       "      <th>4</th>\n",
       "      <td>1452-KIOVK</td>\n",
       "      <td>Yes</td>\n",
       "    </tr>\n",
       "    <tr>\n",
       "      <th>...</th>\n",
       "      <td>...</td>\n",
       "      <td>...</td>\n",
       "    </tr>\n",
       "    <tr>\n",
       "      <th>6356</th>\n",
       "      <td>2569-WGERO</td>\n",
       "      <td>No</td>\n",
       "    </tr>\n",
       "    <tr>\n",
       "      <th>6357</th>\n",
       "      <td>6840-RESVB</td>\n",
       "      <td>Yes</td>\n",
       "    </tr>\n",
       "    <tr>\n",
       "      <th>6358</th>\n",
       "      <td>2234-XADUH</td>\n",
       "      <td>Yes</td>\n",
       "    </tr>\n",
       "    <tr>\n",
       "      <th>6359</th>\n",
       "      <td>8361-LTMKD</td>\n",
       "      <td>Yes</td>\n",
       "    </tr>\n",
       "    <tr>\n",
       "      <th>6360</th>\n",
       "      <td>3186-AJIEK</td>\n",
       "      <td>No</td>\n",
       "    </tr>\n",
       "  </tbody>\n",
       "</table>\n",
       "<p>6361 rows × 2 columns</p>\n",
       "</div>"
      ],
      "text/plain": [
       "      customerID MultipleLines\n",
       "0     5575-GNVDE            No\n",
       "1     3668-QPYBK            No\n",
       "2     9237-HQITU            No\n",
       "3     9305-CDSKC           Yes\n",
       "4     1452-KIOVK           Yes\n",
       "...          ...           ...\n",
       "6356  2569-WGERO            No\n",
       "6357  6840-RESVB           Yes\n",
       "6358  2234-XADUH           Yes\n",
       "6359  8361-LTMKD           Yes\n",
       "6360  3186-AJIEK            No\n",
       "\n",
       "[6361 rows x 2 columns]"
      ]
     },
     "execution_count": 15,
     "metadata": {},
     "output_type": "execute_result"
    }
   ],
   "source": [
    "phone.info()\n",
    "phone"
   ]
  },
  {
   "cell_type": "markdown",
   "metadata": {},
   "source": [
    "`customerID` - \"первичный ключ\", по этому столбцу в дальнейшем будем объединять таблицы. Далее столбец подлежт удалению.  \n",
    "`MultipleLines` – наличие возможности ведения параллельных линий во время звонка"
   ]
  },
  {
   "cell_type": "markdown",
   "metadata": {},
   "source": [
    "**Вывод:** данных немного, проблемных нюансов тоже. Данных немного - при дальнейшем объединении следует уделить внимание сохранению информации о всех уникальны пользователях.\n",
    "__________\n",
    "### Объединение таблиц"
   ]
  },
  {
   "cell_type": "code",
   "execution_count": 16,
   "metadata": {},
   "outputs": [
    {
     "name": "stdout",
     "output_type": "stream",
     "text": [
      "<class 'pandas.core.frame.DataFrame'>\n",
      "Int64Index: 7032 entries, 0 to 7031\n",
      "Data columns (total 20 columns):\n",
      " #   Column            Non-Null Count  Dtype  \n",
      "---  ------            --------------  -----  \n",
      " 0   customerID        7032 non-null   object \n",
      " 1   BeginDate         7032 non-null   object \n",
      " 2   EndDate           7032 non-null   object \n",
      " 3   Type              7032 non-null   object \n",
      " 4   PaperlessBilling  7032 non-null   object \n",
      " 5   PaymentMethod     7032 non-null   object \n",
      " 6   MonthlyCharges    7032 non-null   float64\n",
      " 7   TotalCharges      7032 non-null   float64\n",
      " 8   gender            7032 non-null   object \n",
      " 9   SeniorCitizen     7032 non-null   int64  \n",
      " 10  Partner           7032 non-null   object \n",
      " 11  Dependents        7032 non-null   object \n",
      " 12  InternetService   5512 non-null   object \n",
      " 13  OnlineSecurity    5512 non-null   object \n",
      " 14  OnlineBackup      5512 non-null   object \n",
      " 15  DeviceProtection  5512 non-null   object \n",
      " 16  TechSupport       5512 non-null   object \n",
      " 17  StreamingTV       5512 non-null   object \n",
      " 18  StreamingMovies   5512 non-null   object \n",
      " 19  MultipleLines     6352 non-null   object \n",
      "dtypes: float64(2), int64(1), object(17)\n",
      "memory usage: 1.1+ MB\n"
     ]
    }
   ],
   "source": [
    "contract_personal = contract.merge(personal, on = 'customerID', how = 'left')\n",
    "contract_personal_internet = contract_personal.merge(internet, on = 'customerID', how = 'left')                                                            \n",
    "data = contract_personal_internet.merge(phone, on = 'customerID', how = 'left')\n",
    "data.info()"
   ]
  },
  {
   "cell_type": "markdown",
   "metadata": {},
   "source": [
    "Если среди полученных признаков имеются пропущенные значения - это означает, что услугой не пользовались. При ближайшем рассмотрении признаков делаем вывод - пропуски о всех столбцах можно заполнить значением \"No\""
   ]
  },
  {
   "cell_type": "code",
   "execution_count": 17,
   "metadata": {},
   "outputs": [
    {
     "name": "stdout",
     "output_type": "stream",
     "text": [
      "<class 'pandas.core.frame.DataFrame'>\n",
      "Int64Index: 7032 entries, 0 to 7031\n",
      "Data columns (total 20 columns):\n",
      " #   Column            Non-Null Count  Dtype  \n",
      "---  ------            --------------  -----  \n",
      " 0   customerID        7032 non-null   object \n",
      " 1   BeginDate         7032 non-null   object \n",
      " 2   EndDate           7032 non-null   object \n",
      " 3   Type              7032 non-null   object \n",
      " 4   PaperlessBilling  7032 non-null   object \n",
      " 5   PaymentMethod     7032 non-null   object \n",
      " 6   MonthlyCharges    7032 non-null   float64\n",
      " 7   TotalCharges      7032 non-null   float64\n",
      " 8   gender            7032 non-null   object \n",
      " 9   SeniorCitizen     7032 non-null   int64  \n",
      " 10  Partner           7032 non-null   object \n",
      " 11  Dependents        7032 non-null   object \n",
      " 12  InternetService   7032 non-null   object \n",
      " 13  OnlineSecurity    7032 non-null   object \n",
      " 14  OnlineBackup      7032 non-null   object \n",
      " 15  DeviceProtection  7032 non-null   object \n",
      " 16  TechSupport       7032 non-null   object \n",
      " 17  StreamingTV       7032 non-null   object \n",
      " 18  StreamingMovies   7032 non-null   object \n",
      " 19  MultipleLines     7032 non-null   object \n",
      "dtypes: float64(2), int64(1), object(17)\n",
      "memory usage: 1.1+ MB\n"
     ]
    }
   ],
   "source": [
    "data = data.fillna('No')\n",
    "data.info()"
   ]
  },
  {
   "cell_type": "markdown",
   "metadata": {},
   "source": [
    "_____________\n",
    "После удачного заполнения пропусков перейдём к экстрагированию целевого признака из имеющихся данных и созданию новых признаков. \n",
    "1. В столбце целевого признака фиксируем наличие/отсутсвие у объекта даты окончания контракта с компанией, проставляем \"1\" и \"0\" для этих случаев.\n",
    "2. Данные актуальны на 01.02.2022. Будем временно считать это значением EndDate. Если такоевое известно для объекта - ячейку оставляем без изменений. Если нет - запомняем это крайним актуальным сроком: 1 февраля 2020 года в нужном формате.\n",
    "3. Переведем стобцы `BeginDate` и `EndDate` в специальный тип даты/времени. \n",
    "4. Найдем разность между `EndDate` и `BeginDate`. Извлечем из неё новый признак - число месяцев жизни клиента."
   ]
  },
  {
   "cell_type": "code",
   "execution_count": 18,
   "metadata": {},
   "outputs": [
    {
     "name": "stdout",
     "output_type": "stream",
     "text": [
      "<class 'pandas.core.frame.DataFrame'>\n",
      "Int64Index: 7032 entries, 0 to 7031\n",
      "Data columns (total 22 columns):\n",
      " #   Column            Non-Null Count  Dtype         \n",
      "---  ------            --------------  -----         \n",
      " 0   customerID        7032 non-null   object        \n",
      " 1   BeginDate         7032 non-null   datetime64[ns]\n",
      " 2   EndDate           7032 non-null   datetime64[ns]\n",
      " 3   Type              7032 non-null   object        \n",
      " 4   PaperlessBilling  7032 non-null   object        \n",
      " 5   PaymentMethod     7032 non-null   object        \n",
      " 6   MonthlyCharges    7032 non-null   float64       \n",
      " 7   TotalCharges      7032 non-null   float64       \n",
      " 8   gender            7032 non-null   object        \n",
      " 9   SeniorCitizen     7032 non-null   int64         \n",
      " 10  Partner           7032 non-null   object        \n",
      " 11  Dependents        7032 non-null   object        \n",
      " 12  InternetService   7032 non-null   object        \n",
      " 13  OnlineSecurity    7032 non-null   object        \n",
      " 14  OnlineBackup      7032 non-null   object        \n",
      " 15  DeviceProtection  7032 non-null   object        \n",
      " 16  TechSupport       7032 non-null   object        \n",
      " 17  StreamingTV       7032 non-null   object        \n",
      " 18  StreamingMovies   7032 non-null   object        \n",
      " 19  MultipleLines     7032 non-null   object        \n",
      " 20  target            7032 non-null   object        \n",
      " 21  month             7032 non-null   int64         \n",
      "dtypes: datetime64[ns](2), float64(2), int64(2), object(16)\n",
      "memory usage: 1.5+ MB\n"
     ]
    }
   ],
   "source": [
    "data.loc[data['EndDate'] == 'No', 'target'] = '0'\n",
    "data.loc[data['EndDate'] != 'No', 'target'] = '1'\n",
    "data.loc[data['EndDate'] != 'No', 'EndDate'] = data['EndDate']\n",
    "data.loc[data['EndDate'] == 'No', 'EndDate'] = '2020-02-01 00:00:00'\n",
    "data['BeginDate'] = pd.to_datetime(data['BeginDate'], format = '%Y.%m.%d')\n",
    "data['EndDate'] = pd.to_datetime(data['EndDate'], format = '%Y.%m.%d')\n",
    "data['month'] = (data['EndDate'] - data['BeginDate']).dt.days\n",
    "\n",
    "data.info()"
   ]
  },
  {
   "cell_type": "markdown",
   "metadata": {},
   "source": [
    "________\n",
    "\n",
    "### Подготовка признаков\n",
    "\n",
    "Избавимся от лишних признаков: \"ключа\", дат, и того, что характеризует предпочтения покупателей и не влияет на то, услугами какого провайдера он пользуется."
   ]
  },
  {
   "cell_type": "markdown",
   "metadata": {},
   "source": [
    "#### Результаты feature importance\n",
    "Полученную диаграмму используем для отбора признаков для построения обучающего датасета."
   ]
  },
  {
   "attachments": {
    "%D0%91%D0%B5%D0%B7%20%D0%BD%D0%B0%D0%B7%D0%B2%D0%B0%D0%BD%D0%B8%D1%8F.png": {
     "image/png": "[encoded data removed]"
    }
   },
   "cell_type": "markdown",
   "metadata": {},
   "source": [
    "![%D0%91%D0%B5%D0%B7%20%D0%BD%D0%B0%D0%B7%D0%B2%D0%B0%D0%BD%D0%B8%D1%8F.png](attachment:%D0%91%D0%B5%D0%B7%20%D0%BD%D0%B0%D0%B7%D0%B2%D0%B0%D0%BD%D0%B8%D1%8F.png)"
   ]
  },
  {
   "cell_type": "code",
   "execution_count": 20,
   "metadata": {},
   "outputs": [
    {
     "data": {
      "text/html": [
       "<div>\n",
       "<style scoped>\n",
       "    .dataframe tbody tr th:only-of-type {\n",
       "        vertical-align: middle;\n",
       "    }\n",
       "\n",
       "    .dataframe tbody tr th {\n",
       "        vertical-align: top;\n",
       "    }\n",
       "\n",
       "    .dataframe thead th {\n",
       "        text-align: right;\n",
       "    }\n",
       "</style>\n",
       "<table border=\"1\" class=\"dataframe\">\n",
       "  <thead>\n",
       "    <tr style=\"text-align: right;\">\n",
       "      <th></th>\n",
       "      <th>Type</th>\n",
       "      <th>MonthlyCharges</th>\n",
       "      <th>TotalCharges</th>\n",
       "      <th>gender</th>\n",
       "      <th>SeniorCitizen</th>\n",
       "      <th>Partner</th>\n",
       "      <th>Dependents</th>\n",
       "      <th>InternetService</th>\n",
       "      <th>StreamingTV</th>\n",
       "      <th>StreamingMovies</th>\n",
       "      <th>MultipleLines</th>\n",
       "      <th>target</th>\n",
       "      <th>month</th>\n",
       "    </tr>\n",
       "  </thead>\n",
       "  <tbody>\n",
       "    <tr>\n",
       "      <th>0</th>\n",
       "      <td>Month-to-month</td>\n",
       "      <td>29.85</td>\n",
       "      <td>29.85</td>\n",
       "      <td>Female</td>\n",
       "      <td>0</td>\n",
       "      <td>Yes</td>\n",
       "      <td>No</td>\n",
       "      <td>DSL</td>\n",
       "      <td>No</td>\n",
       "      <td>No</td>\n",
       "      <td>No</td>\n",
       "      <td>0</td>\n",
       "      <td>31</td>\n",
       "    </tr>\n",
       "    <tr>\n",
       "      <th>1</th>\n",
       "      <td>One year</td>\n",
       "      <td>56.95</td>\n",
       "      <td>1889.50</td>\n",
       "      <td>Male</td>\n",
       "      <td>0</td>\n",
       "      <td>No</td>\n",
       "      <td>No</td>\n",
       "      <td>DSL</td>\n",
       "      <td>No</td>\n",
       "      <td>No</td>\n",
       "      <td>No</td>\n",
       "      <td>0</td>\n",
       "      <td>1036</td>\n",
       "    </tr>\n",
       "    <tr>\n",
       "      <th>2</th>\n",
       "      <td>Month-to-month</td>\n",
       "      <td>53.85</td>\n",
       "      <td>108.15</td>\n",
       "      <td>Male</td>\n",
       "      <td>0</td>\n",
       "      <td>No</td>\n",
       "      <td>No</td>\n",
       "      <td>DSL</td>\n",
       "      <td>No</td>\n",
       "      <td>No</td>\n",
       "      <td>No</td>\n",
       "      <td>1</td>\n",
       "      <td>61</td>\n",
       "    </tr>\n",
       "    <tr>\n",
       "      <th>3</th>\n",
       "      <td>One year</td>\n",
       "      <td>42.30</td>\n",
       "      <td>1840.75</td>\n",
       "      <td>Male</td>\n",
       "      <td>0</td>\n",
       "      <td>No</td>\n",
       "      <td>No</td>\n",
       "      <td>DSL</td>\n",
       "      <td>No</td>\n",
       "      <td>No</td>\n",
       "      <td>No</td>\n",
       "      <td>0</td>\n",
       "      <td>1371</td>\n",
       "    </tr>\n",
       "    <tr>\n",
       "      <th>4</th>\n",
       "      <td>Month-to-month</td>\n",
       "      <td>70.70</td>\n",
       "      <td>151.65</td>\n",
       "      <td>Female</td>\n",
       "      <td>0</td>\n",
       "      <td>No</td>\n",
       "      <td>No</td>\n",
       "      <td>Fiber optic</td>\n",
       "      <td>No</td>\n",
       "      <td>No</td>\n",
       "      <td>No</td>\n",
       "      <td>1</td>\n",
       "      <td>61</td>\n",
       "    </tr>\n",
       "    <tr>\n",
       "      <th>...</th>\n",
       "      <td>...</td>\n",
       "      <td>...</td>\n",
       "      <td>...</td>\n",
       "      <td>...</td>\n",
       "      <td>...</td>\n",
       "      <td>...</td>\n",
       "      <td>...</td>\n",
       "      <td>...</td>\n",
       "      <td>...</td>\n",
       "      <td>...</td>\n",
       "      <td>...</td>\n",
       "      <td>...</td>\n",
       "      <td>...</td>\n",
       "    </tr>\n",
       "    <tr>\n",
       "      <th>7027</th>\n",
       "      <td>One year</td>\n",
       "      <td>84.80</td>\n",
       "      <td>1990.50</td>\n",
       "      <td>Male</td>\n",
       "      <td>0</td>\n",
       "      <td>Yes</td>\n",
       "      <td>Yes</td>\n",
       "      <td>DSL</td>\n",
       "      <td>Yes</td>\n",
       "      <td>Yes</td>\n",
       "      <td>Yes</td>\n",
       "      <td>0</td>\n",
       "      <td>730</td>\n",
       "    </tr>\n",
       "    <tr>\n",
       "      <th>7028</th>\n",
       "      <td>One year</td>\n",
       "      <td>103.20</td>\n",
       "      <td>7362.90</td>\n",
       "      <td>Female</td>\n",
       "      <td>0</td>\n",
       "      <td>Yes</td>\n",
       "      <td>Yes</td>\n",
       "      <td>Fiber optic</td>\n",
       "      <td>Yes</td>\n",
       "      <td>Yes</td>\n",
       "      <td>Yes</td>\n",
       "      <td>0</td>\n",
       "      <td>2191</td>\n",
       "    </tr>\n",
       "    <tr>\n",
       "      <th>7029</th>\n",
       "      <td>Month-to-month</td>\n",
       "      <td>29.60</td>\n",
       "      <td>346.45</td>\n",
       "      <td>Female</td>\n",
       "      <td>0</td>\n",
       "      <td>Yes</td>\n",
       "      <td>Yes</td>\n",
       "      <td>DSL</td>\n",
       "      <td>No</td>\n",
       "      <td>No</td>\n",
       "      <td>No</td>\n",
       "      <td>0</td>\n",
       "      <td>337</td>\n",
       "    </tr>\n",
       "    <tr>\n",
       "      <th>7030</th>\n",
       "      <td>Month-to-month</td>\n",
       "      <td>74.40</td>\n",
       "      <td>306.60</td>\n",
       "      <td>Male</td>\n",
       "      <td>1</td>\n",
       "      <td>Yes</td>\n",
       "      <td>No</td>\n",
       "      <td>Fiber optic</td>\n",
       "      <td>No</td>\n",
       "      <td>No</td>\n",
       "      <td>Yes</td>\n",
       "      <td>1</td>\n",
       "      <td>123</td>\n",
       "    </tr>\n",
       "    <tr>\n",
       "      <th>7031</th>\n",
       "      <td>Two year</td>\n",
       "      <td>105.65</td>\n",
       "      <td>6844.50</td>\n",
       "      <td>Male</td>\n",
       "      <td>0</td>\n",
       "      <td>No</td>\n",
       "      <td>No</td>\n",
       "      <td>Fiber optic</td>\n",
       "      <td>Yes</td>\n",
       "      <td>Yes</td>\n",
       "      <td>No</td>\n",
       "      <td>0</td>\n",
       "      <td>2010</td>\n",
       "    </tr>\n",
       "  </tbody>\n",
       "</table>\n",
       "<p>7032 rows × 13 columns</p>\n",
       "</div>"
      ],
      "text/plain": [
       "                Type  MonthlyCharges  TotalCharges  gender  SeniorCitizen  \\\n",
       "0     Month-to-month           29.85         29.85  Female              0   \n",
       "1           One year           56.95       1889.50    Male              0   \n",
       "2     Month-to-month           53.85        108.15    Male              0   \n",
       "3           One year           42.30       1840.75    Male              0   \n",
       "4     Month-to-month           70.70        151.65  Female              0   \n",
       "...              ...             ...           ...     ...            ...   \n",
       "7027        One year           84.80       1990.50    Male              0   \n",
       "7028        One year          103.20       7362.90  Female              0   \n",
       "7029  Month-to-month           29.60        346.45  Female              0   \n",
       "7030  Month-to-month           74.40        306.60    Male              1   \n",
       "7031        Two year          105.65       6844.50    Male              0   \n",
       "\n",
       "     Partner Dependents InternetService StreamingTV StreamingMovies  \\\n",
       "0        Yes         No             DSL          No              No   \n",
       "1         No         No             DSL          No              No   \n",
       "2         No         No             DSL          No              No   \n",
       "3         No         No             DSL          No              No   \n",
       "4         No         No     Fiber optic          No              No   \n",
       "...      ...        ...             ...         ...             ...   \n",
       "7027     Yes        Yes             DSL         Yes             Yes   \n",
       "7028     Yes        Yes     Fiber optic         Yes             Yes   \n",
       "7029     Yes        Yes             DSL          No              No   \n",
       "7030     Yes         No     Fiber optic          No              No   \n",
       "7031      No         No     Fiber optic         Yes             Yes   \n",
       "\n",
       "     MultipleLines target  month  \n",
       "0               No      0     31  \n",
       "1               No      0   1036  \n",
       "2               No      1     61  \n",
       "3               No      0   1371  \n",
       "4               No      1     61  \n",
       "...            ...    ...    ...  \n",
       "7027           Yes      0    730  \n",
       "7028           Yes      0   2191  \n",
       "7029            No      0    337  \n",
       "7030           Yes      1    123  \n",
       "7031            No      0   2010  \n",
       "\n",
       "[7032 rows x 13 columns]"
      ]
     },
     "execution_count": 20,
     "metadata": {},
     "output_type": "execute_result"
    }
   ],
   "source": [
    "df = data.drop(['customerID', 'BeginDate', 'EndDate','TechSupport', 'DeviceProtection',\n",
    "                'PaperlessBilling', 'PaymentMethod', 'OnlineSecurity', 'OnlineBackup'], axis = 1)\n",
    "df"
   ]
  },
  {
   "cell_type": "markdown",
   "metadata": {},
   "source": [
    "Закодируем категориальные признаки техникой *one hot encoding*"
   ]
  },
  {
   "cell_type": "code",
   "execution_count": 21,
   "metadata": {},
   "outputs": [
    {
     "data": {
      "text/html": [
       "<div>\n",
       "<style scoped>\n",
       "    .dataframe tbody tr th:only-of-type {\n",
       "        vertical-align: middle;\n",
       "    }\n",
       "\n",
       "    .dataframe tbody tr th {\n",
       "        vertical-align: top;\n",
       "    }\n",
       "\n",
       "    .dataframe thead th {\n",
       "        text-align: right;\n",
       "    }\n",
       "</style>\n",
       "<table border=\"1\" class=\"dataframe\">\n",
       "  <thead>\n",
       "    <tr style=\"text-align: right;\">\n",
       "      <th></th>\n",
       "      <th>SeniorCitizen</th>\n",
       "      <th>Type_One year</th>\n",
       "      <th>Type_Two year</th>\n",
       "      <th>gender_Male</th>\n",
       "      <th>Partner_Yes</th>\n",
       "      <th>Dependents_Yes</th>\n",
       "      <th>InternetService_Fiber optic</th>\n",
       "      <th>InternetService_No</th>\n",
       "      <th>StreamingTV_Yes</th>\n",
       "      <th>StreamingMovies_Yes</th>\n",
       "      <th>MultipleLines_Yes</th>\n",
       "      <th>MonthlyCharges</th>\n",
       "      <th>TotalCharges</th>\n",
       "      <th>month</th>\n",
       "    </tr>\n",
       "  </thead>\n",
       "  <tbody>\n",
       "    <tr>\n",
       "      <th>SeniorCitizen</th>\n",
       "      <td>1.000000</td>\n",
       "      <td>-0.046491</td>\n",
       "      <td>-0.116205</td>\n",
       "      <td>-0.001819</td>\n",
       "      <td>0.016957</td>\n",
       "      <td>-0.210550</td>\n",
       "      <td>0.254923</td>\n",
       "      <td>-0.182519</td>\n",
       "      <td>0.105445</td>\n",
       "      <td>0.119842</td>\n",
       "      <td>0.142996</td>\n",
       "      <td>0.219874</td>\n",
       "      <td>0.102411</td>\n",
       "      <td>0.015630</td>\n",
       "    </tr>\n",
       "    <tr>\n",
       "      <th>Type_One year</th>\n",
       "      <td>-0.046491</td>\n",
       "      <td>1.000000</td>\n",
       "      <td>-0.288843</td>\n",
       "      <td>0.007755</td>\n",
       "      <td>0.083067</td>\n",
       "      <td>0.069222</td>\n",
       "      <td>-0.076809</td>\n",
       "      <td>0.038061</td>\n",
       "      <td>0.061930</td>\n",
       "      <td>0.064780</td>\n",
       "      <td>-0.003594</td>\n",
       "      <td>0.004810</td>\n",
       "      <td>0.170569</td>\n",
       "      <td>0.202418</td>\n",
       "    </tr>\n",
       "    <tr>\n",
       "      <th>Type_Two year</th>\n",
       "      <td>-0.116205</td>\n",
       "      <td>-0.288843</td>\n",
       "      <td>1.000000</td>\n",
       "      <td>-0.003603</td>\n",
       "      <td>0.247334</td>\n",
       "      <td>0.201699</td>\n",
       "      <td>-0.209965</td>\n",
       "      <td>0.217542</td>\n",
       "      <td>0.072124</td>\n",
       "      <td>0.075603</td>\n",
       "      <td>0.106618</td>\n",
       "      <td>-0.073256</td>\n",
       "      <td>0.358036</td>\n",
       "      <td>0.563814</td>\n",
       "    </tr>\n",
       "    <tr>\n",
       "      <th>gender_Male</th>\n",
       "      <td>-0.001819</td>\n",
       "      <td>0.007755</td>\n",
       "      <td>-0.003603</td>\n",
       "      <td>1.000000</td>\n",
       "      <td>-0.001379</td>\n",
       "      <td>0.010349</td>\n",
       "      <td>-0.011189</td>\n",
       "      <td>0.004745</td>\n",
       "      <td>-0.007124</td>\n",
       "      <td>-0.010105</td>\n",
       "      <td>-0.008883</td>\n",
       "      <td>-0.013779</td>\n",
       "      <td>0.000048</td>\n",
       "      <td>0.005290</td>\n",
       "    </tr>\n",
       "    <tr>\n",
       "      <th>Partner_Yes</th>\n",
       "      <td>0.016957</td>\n",
       "      <td>0.083067</td>\n",
       "      <td>0.247334</td>\n",
       "      <td>-0.001379</td>\n",
       "      <td>1.000000</td>\n",
       "      <td>0.452269</td>\n",
       "      <td>0.001235</td>\n",
       "      <td>-0.000286</td>\n",
       "      <td>0.124483</td>\n",
       "      <td>0.118108</td>\n",
       "      <td>0.142561</td>\n",
       "      <td>0.097825</td>\n",
       "      <td>0.319072</td>\n",
       "      <td>0.381924</td>\n",
       "    </tr>\n",
       "    <tr>\n",
       "      <th>Dependents_Yes</th>\n",
       "      <td>-0.210550</td>\n",
       "      <td>0.069222</td>\n",
       "      <td>0.201699</td>\n",
       "      <td>0.010349</td>\n",
       "      <td>0.452269</td>\n",
       "      <td>1.000000</td>\n",
       "      <td>-0.164101</td>\n",
       "      <td>0.138383</td>\n",
       "      <td>-0.016499</td>\n",
       "      <td>-0.038375</td>\n",
       "      <td>-0.024307</td>\n",
       "      <td>-0.112343</td>\n",
       "      <td>0.064653</td>\n",
       "      <td>0.163442</td>\n",
       "    </tr>\n",
       "    <tr>\n",
       "      <th>InternetService_Fiber optic</th>\n",
       "      <td>0.254923</td>\n",
       "      <td>-0.076809</td>\n",
       "      <td>-0.209965</td>\n",
       "      <td>-0.011189</td>\n",
       "      <td>0.001235</td>\n",
       "      <td>-0.164101</td>\n",
       "      <td>1.000000</td>\n",
       "      <td>-0.465736</td>\n",
       "      <td>0.329744</td>\n",
       "      <td>0.322457</td>\n",
       "      <td>0.366420</td>\n",
       "      <td>0.787195</td>\n",
       "      <td>0.360769</td>\n",
       "      <td>0.017782</td>\n",
       "    </tr>\n",
       "    <tr>\n",
       "      <th>InternetService_No</th>\n",
       "      <td>-0.182519</td>\n",
       "      <td>0.038061</td>\n",
       "      <td>0.217542</td>\n",
       "      <td>0.004745</td>\n",
       "      <td>-0.000286</td>\n",
       "      <td>0.138383</td>\n",
       "      <td>-0.465736</td>\n",
       "      <td>1.000000</td>\n",
       "      <td>-0.414951</td>\n",
       "      <td>-0.418450</td>\n",
       "      <td>-0.210794</td>\n",
       "      <td>-0.763191</td>\n",
       "      <td>-0.374878</td>\n",
       "      <td>-0.037417</td>\n",
       "    </tr>\n",
       "    <tr>\n",
       "      <th>StreamingTV_Yes</th>\n",
       "      <td>0.105445</td>\n",
       "      <td>0.061930</td>\n",
       "      <td>0.072124</td>\n",
       "      <td>-0.007124</td>\n",
       "      <td>0.124483</td>\n",
       "      <td>-0.016499</td>\n",
       "      <td>0.329744</td>\n",
       "      <td>-0.414951</td>\n",
       "      <td>1.000000</td>\n",
       "      <td>0.533380</td>\n",
       "      <td>0.257804</td>\n",
       "      <td>0.629668</td>\n",
       "      <td>0.515709</td>\n",
       "      <td>0.280165</td>\n",
       "    </tr>\n",
       "    <tr>\n",
       "      <th>StreamingMovies_Yes</th>\n",
       "      <td>0.119842</td>\n",
       "      <td>0.064780</td>\n",
       "      <td>0.075603</td>\n",
       "      <td>-0.010105</td>\n",
       "      <td>0.118108</td>\n",
       "      <td>-0.038375</td>\n",
       "      <td>0.322457</td>\n",
       "      <td>-0.418450</td>\n",
       "      <td>0.533380</td>\n",
       "      <td>1.000000</td>\n",
       "      <td>0.259194</td>\n",
       "      <td>0.627235</td>\n",
       "      <td>0.519867</td>\n",
       "      <td>0.285298</td>\n",
       "    </tr>\n",
       "    <tr>\n",
       "      <th>MultipleLines_Yes</th>\n",
       "      <td>0.142996</td>\n",
       "      <td>-0.003594</td>\n",
       "      <td>0.106618</td>\n",
       "      <td>-0.008883</td>\n",
       "      <td>0.142561</td>\n",
       "      <td>-0.024307</td>\n",
       "      <td>0.366420</td>\n",
       "      <td>-0.210794</td>\n",
       "      <td>0.257804</td>\n",
       "      <td>0.259194</td>\n",
       "      <td>1.000000</td>\n",
       "      <td>0.490912</td>\n",
       "      <td>0.469042</td>\n",
       "      <td>0.332292</td>\n",
       "    </tr>\n",
       "    <tr>\n",
       "      <th>MonthlyCharges</th>\n",
       "      <td>0.219874</td>\n",
       "      <td>0.004810</td>\n",
       "      <td>-0.073256</td>\n",
       "      <td>-0.013779</td>\n",
       "      <td>0.097825</td>\n",
       "      <td>-0.112343</td>\n",
       "      <td>0.787195</td>\n",
       "      <td>-0.763191</td>\n",
       "      <td>0.629668</td>\n",
       "      <td>0.627235</td>\n",
       "      <td>0.490912</td>\n",
       "      <td>1.000000</td>\n",
       "      <td>0.651065</td>\n",
       "      <td>0.246715</td>\n",
       "    </tr>\n",
       "    <tr>\n",
       "      <th>TotalCharges</th>\n",
       "      <td>0.102411</td>\n",
       "      <td>0.170569</td>\n",
       "      <td>0.358036</td>\n",
       "      <td>0.000048</td>\n",
       "      <td>0.319072</td>\n",
       "      <td>0.064653</td>\n",
       "      <td>0.360769</td>\n",
       "      <td>-0.374878</td>\n",
       "      <td>0.515709</td>\n",
       "      <td>0.519867</td>\n",
       "      <td>0.469042</td>\n",
       "      <td>0.651065</td>\n",
       "      <td>1.000000</td>\n",
       "      <td>0.825811</td>\n",
       "    </tr>\n",
       "    <tr>\n",
       "      <th>month</th>\n",
       "      <td>0.015630</td>\n",
       "      <td>0.202418</td>\n",
       "      <td>0.563814</td>\n",
       "      <td>0.005290</td>\n",
       "      <td>0.381924</td>\n",
       "      <td>0.163442</td>\n",
       "      <td>0.017782</td>\n",
       "      <td>-0.037417</td>\n",
       "      <td>0.280165</td>\n",
       "      <td>0.285298</td>\n",
       "      <td>0.332292</td>\n",
       "      <td>0.246715</td>\n",
       "      <td>0.825811</td>\n",
       "      <td>1.000000</td>\n",
       "    </tr>\n",
       "  </tbody>\n",
       "</table>\n",
       "</div>"
      ],
      "text/plain": [
       "                             SeniorCitizen  Type_One year  Type_Two year  \\\n",
       "SeniorCitizen                     1.000000      -0.046491      -0.116205   \n",
       "Type_One year                    -0.046491       1.000000      -0.288843   \n",
       "Type_Two year                    -0.116205      -0.288843       1.000000   \n",
       "gender_Male                      -0.001819       0.007755      -0.003603   \n",
       "Partner_Yes                       0.016957       0.083067       0.247334   \n",
       "Dependents_Yes                   -0.210550       0.069222       0.201699   \n",
       "InternetService_Fiber optic       0.254923      -0.076809      -0.209965   \n",
       "InternetService_No               -0.182519       0.038061       0.217542   \n",
       "StreamingTV_Yes                   0.105445       0.061930       0.072124   \n",
       "StreamingMovies_Yes               0.119842       0.064780       0.075603   \n",
       "MultipleLines_Yes                 0.142996      -0.003594       0.106618   \n",
       "MonthlyCharges                    0.219874       0.004810      -0.073256   \n",
       "TotalCharges                      0.102411       0.170569       0.358036   \n",
       "month                             0.015630       0.202418       0.563814   \n",
       "\n",
       "                             gender_Male  Partner_Yes  Dependents_Yes  \\\n",
       "SeniorCitizen                  -0.001819     0.016957       -0.210550   \n",
       "Type_One year                   0.007755     0.083067        0.069222   \n",
       "Type_Two year                  -0.003603     0.247334        0.201699   \n",
       "gender_Male                     1.000000    -0.001379        0.010349   \n",
       "Partner_Yes                    -0.001379     1.000000        0.452269   \n",
       "Dependents_Yes                  0.010349     0.452269        1.000000   \n",
       "InternetService_Fiber optic    -0.011189     0.001235       -0.164101   \n",
       "InternetService_No              0.004745    -0.000286        0.138383   \n",
       "StreamingTV_Yes                -0.007124     0.124483       -0.016499   \n",
       "StreamingMovies_Yes            -0.010105     0.118108       -0.038375   \n",
       "MultipleLines_Yes              -0.008883     0.142561       -0.024307   \n",
       "MonthlyCharges                 -0.013779     0.097825       -0.112343   \n",
       "TotalCharges                    0.000048     0.319072        0.064653   \n",
       "month                           0.005290     0.381924        0.163442   \n",
       "\n",
       "                             InternetService_Fiber optic  InternetService_No  \\\n",
       "SeniorCitizen                                   0.254923           -0.182519   \n",
       "Type_One year                                  -0.076809            0.038061   \n",
       "Type_Two year                                  -0.209965            0.217542   \n",
       "gender_Male                                    -0.011189            0.004745   \n",
       "Partner_Yes                                     0.001235           -0.000286   \n",
       "Dependents_Yes                                 -0.164101            0.138383   \n",
       "InternetService_Fiber optic                     1.000000           -0.465736   \n",
       "InternetService_No                             -0.465736            1.000000   \n",
       "StreamingTV_Yes                                 0.329744           -0.414951   \n",
       "StreamingMovies_Yes                             0.322457           -0.418450   \n",
       "MultipleLines_Yes                               0.366420           -0.210794   \n",
       "MonthlyCharges                                  0.787195           -0.763191   \n",
       "TotalCharges                                    0.360769           -0.374878   \n",
       "month                                           0.017782           -0.037417   \n",
       "\n",
       "                             StreamingTV_Yes  StreamingMovies_Yes  \\\n",
       "SeniorCitizen                       0.105445             0.119842   \n",
       "Type_One year                       0.061930             0.064780   \n",
       "Type_Two year                       0.072124             0.075603   \n",
       "gender_Male                        -0.007124            -0.010105   \n",
       "Partner_Yes                         0.124483             0.118108   \n",
       "Dependents_Yes                     -0.016499            -0.038375   \n",
       "InternetService_Fiber optic         0.329744             0.322457   \n",
       "InternetService_No                 -0.414951            -0.418450   \n",
       "StreamingTV_Yes                     1.000000             0.533380   \n",
       "StreamingMovies_Yes                 0.533380             1.000000   \n",
       "MultipleLines_Yes                   0.257804             0.259194   \n",
       "MonthlyCharges                      0.629668             0.627235   \n",
       "TotalCharges                        0.515709             0.519867   \n",
       "month                               0.280165             0.285298   \n",
       "\n",
       "                             MultipleLines_Yes  MonthlyCharges  TotalCharges  \\\n",
       "SeniorCitizen                         0.142996        0.219874      0.102411   \n",
       "Type_One year                        -0.003594        0.004810      0.170569   \n",
       "Type_Two year                         0.106618       -0.073256      0.358036   \n",
       "gender_Male                          -0.008883       -0.013779      0.000048   \n",
       "Partner_Yes                           0.142561        0.097825      0.319072   \n",
       "Dependents_Yes                       -0.024307       -0.112343      0.064653   \n",
       "InternetService_Fiber optic           0.366420        0.787195      0.360769   \n",
       "InternetService_No                   -0.210794       -0.763191     -0.374878   \n",
       "StreamingTV_Yes                       0.257804        0.629668      0.515709   \n",
       "StreamingMovies_Yes                   0.259194        0.627235      0.519867   \n",
       "MultipleLines_Yes                     1.000000        0.490912      0.469042   \n",
       "MonthlyCharges                        0.490912        1.000000      0.651065   \n",
       "TotalCharges                          0.469042        0.651065      1.000000   \n",
       "month                                 0.332292        0.246715      0.825811   \n",
       "\n",
       "                                month  \n",
       "SeniorCitizen                0.015630  \n",
       "Type_One year                0.202418  \n",
       "Type_Two year                0.563814  \n",
       "gender_Male                  0.005290  \n",
       "Partner_Yes                  0.381924  \n",
       "Dependents_Yes               0.163442  \n",
       "InternetService_Fiber optic  0.017782  \n",
       "InternetService_No          -0.037417  \n",
       "StreamingTV_Yes              0.280165  \n",
       "StreamingMovies_Yes          0.285298  \n",
       "MultipleLines_Yes            0.332292  \n",
       "MonthlyCharges               0.246715  \n",
       "TotalCharges                 0.825811  \n",
       "month                        1.000000  "
      ]
     },
     "execution_count": 21,
     "metadata": {},
     "output_type": "execute_result"
    }
   ],
   "source": [
    "df_ohe = pd.get_dummies(df.drop(['target','MonthlyCharges', 'TotalCharges', 'month'], axis = 1), drop_first = True)\n",
    "df_ohe = df_ohe.merge(df['MonthlyCharges'], left_index=True, right_index=True)\n",
    "df_ohe = df_ohe.merge(df['TotalCharges'], left_index=True, right_index=True)\n",
    "df_ohe = df_ohe.merge(df['month'], left_index=True, right_index=True)\n",
    "df = df_ohe.merge(df['target'], left_index=True, right_index=True)\n",
    "df.corr()"
   ]
  },
  {
   "cell_type": "code",
   "execution_count": 22,
   "metadata": {},
   "outputs": [
    {
     "name": "stdout",
     "output_type": "stream",
     "text": [
      "[[<AxesSubplot:xlabel='SeniorCitizen', ylabel='SeniorCitizen'>\n",
      "  <AxesSubplot:xlabel='Type_One year', ylabel='SeniorCitizen'>\n",
      "  <AxesSubplot:xlabel='Type_Two year', ylabel='SeniorCitizen'>\n",
      "  <AxesSubplot:xlabel='gender_Male', ylabel='SeniorCitizen'>\n",
      "  <AxesSubplot:xlabel='Partner_Yes', ylabel='SeniorCitizen'>\n",
      "  <AxesSubplot:xlabel='Dependents_Yes', ylabel='SeniorCitizen'>\n",
      "  <AxesSubplot:xlabel='InternetService_Fiber optic', ylabel='SeniorCitizen'>\n",
      "  <AxesSubplot:xlabel='InternetService_No', ylabel='SeniorCitizen'>\n",
      "  <AxesSubplot:xlabel='StreamingTV_Yes', ylabel='SeniorCitizen'>\n",
      "  <AxesSubplot:xlabel='StreamingMovies_Yes', ylabel='SeniorCitizen'>\n",
      "  <AxesSubplot:xlabel='MultipleLines_Yes', ylabel='SeniorCitizen'>\n",
      "  <AxesSubplot:xlabel='MonthlyCharges', ylabel='SeniorCitizen'>\n",
      "  <AxesSubplot:xlabel='TotalCharges', ylabel='SeniorCitizen'>\n",
      "  <AxesSubplot:xlabel='month', ylabel='SeniorCitizen'>]\n",
      " [<AxesSubplot:xlabel='SeniorCitizen', ylabel='Type_One year'>\n",
      "  <AxesSubplot:xlabel='Type_One year', ylabel='Type_One year'>\n",
      "  <AxesSubplot:xlabel='Type_Two year', ylabel='Type_One year'>\n",
      "  <AxesSubplot:xlabel='gender_Male', ylabel='Type_One year'>\n",
      "  <AxesSubplot:xlabel='Partner_Yes', ylabel='Type_One year'>\n",
      "  <AxesSubplot:xlabel='Dependents_Yes', ylabel='Type_One year'>\n",
      "  <AxesSubplot:xlabel='InternetService_Fiber optic', ylabel='Type_One year'>\n",
      "  <AxesSubplot:xlabel='InternetService_No', ylabel='Type_One year'>\n",
      "  <AxesSubplot:xlabel='StreamingTV_Yes', ylabel='Type_One year'>\n",
      "  <AxesSubplot:xlabel='StreamingMovies_Yes', ylabel='Type_One year'>\n",
      "  <AxesSubplot:xlabel='MultipleLines_Yes', ylabel='Type_One year'>\n",
      "  <AxesSubplot:xlabel='MonthlyCharges', ylabel='Type_One year'>\n",
      "  <AxesSubplot:xlabel='TotalCharges', ylabel='Type_One year'>\n",
      "  <AxesSubplot:xlabel='month', ylabel='Type_One year'>]\n",
      " [<AxesSubplot:xlabel='SeniorCitizen', ylabel='Type_Two year'>\n",
      "  <AxesSubplot:xlabel='Type_One year', ylabel='Type_Two year'>\n",
      "  <AxesSubplot:xlabel='Type_Two year', ylabel='Type_Two year'>\n",
      "  <AxesSubplot:xlabel='gender_Male', ylabel='Type_Two year'>\n",
      "  <AxesSubplot:xlabel='Partner_Yes', ylabel='Type_Two year'>\n",
      "  <AxesSubplot:xlabel='Dependents_Yes', ylabel='Type_Two year'>\n",
      "  <AxesSubplot:xlabel='InternetService_Fiber optic', ylabel='Type_Two year'>\n",
      "  <AxesSubplot:xlabel='InternetService_No', ylabel='Type_Two year'>\n",
      "  <AxesSubplot:xlabel='StreamingTV_Yes', ylabel='Type_Two year'>\n",
      "  <AxesSubplot:xlabel='StreamingMovies_Yes', ylabel='Type_Two year'>\n",
      "  <AxesSubplot:xlabel='MultipleLines_Yes', ylabel='Type_Two year'>\n",
      "  <AxesSubplot:xlabel='MonthlyCharges', ylabel='Type_Two year'>\n",
      "  <AxesSubplot:xlabel='TotalCharges', ylabel='Type_Two year'>\n",
      "  <AxesSubplot:xlabel='month', ylabel='Type_Two year'>]\n",
      " [<AxesSubplot:xlabel='SeniorCitizen', ylabel='gender_Male'>\n",
      "  <AxesSubplot:xlabel='Type_One year', ylabel='gender_Male'>\n",
      "  <AxesSubplot:xlabel='Type_Two year', ylabel='gender_Male'>\n",
      "  <AxesSubplot:xlabel='gender_Male', ylabel='gender_Male'>\n",
      "  <AxesSubplot:xlabel='Partner_Yes', ylabel='gender_Male'>\n",
      "  <AxesSubplot:xlabel='Dependents_Yes', ylabel='gender_Male'>\n",
      "  <AxesSubplot:xlabel='InternetService_Fiber optic', ylabel='gender_Male'>\n",
      "  <AxesSubplot:xlabel='InternetService_No', ylabel='gender_Male'>\n",
      "  <AxesSubplot:xlabel='StreamingTV_Yes', ylabel='gender_Male'>\n",
      "  <AxesSubplot:xlabel='StreamingMovies_Yes', ylabel='gender_Male'>\n",
      "  <AxesSubplot:xlabel='MultipleLines_Yes', ylabel='gender_Male'>\n",
      "  <AxesSubplot:xlabel='MonthlyCharges', ylabel='gender_Male'>\n",
      "  <AxesSubplot:xlabel='TotalCharges', ylabel='gender_Male'>\n",
      "  <AxesSubplot:xlabel='month', ylabel='gender_Male'>]\n",
      " [<AxesSubplot:xlabel='SeniorCitizen', ylabel='Partner_Yes'>\n",
      "  <AxesSubplot:xlabel='Type_One year', ylabel='Partner_Yes'>\n",
      "  <AxesSubplot:xlabel='Type_Two year', ylabel='Partner_Yes'>\n",
      "  <AxesSubplot:xlabel='gender_Male', ylabel='Partner_Yes'>\n",
      "  <AxesSubplot:xlabel='Partner_Yes', ylabel='Partner_Yes'>\n",
      "  <AxesSubplot:xlabel='Dependents_Yes', ylabel='Partner_Yes'>\n",
      "  <AxesSubplot:xlabel='InternetService_Fiber optic', ylabel='Partner_Yes'>\n",
      "  <AxesSubplot:xlabel='InternetService_No', ylabel='Partner_Yes'>\n",
      "  <AxesSubplot:xlabel='StreamingTV_Yes', ylabel='Partner_Yes'>\n",
      "  <AxesSubplot:xlabel='StreamingMovies_Yes', ylabel='Partner_Yes'>\n",
      "  <AxesSubplot:xlabel='MultipleLines_Yes', ylabel='Partner_Yes'>\n",
      "  <AxesSubplot:xlabel='MonthlyCharges', ylabel='Partner_Yes'>\n",
      "  <AxesSubplot:xlabel='TotalCharges', ylabel='Partner_Yes'>\n",
      "  <AxesSubplot:xlabel='month', ylabel='Partner_Yes'>]\n",
      " [<AxesSubplot:xlabel='SeniorCitizen', ylabel='Dependents_Yes'>\n",
      "  <AxesSubplot:xlabel='Type_One year', ylabel='Dependents_Yes'>\n",
      "  <AxesSubplot:xlabel='Type_Two year', ylabel='Dependents_Yes'>\n",
      "  <AxesSubplot:xlabel='gender_Male', ylabel='Dependents_Yes'>\n",
      "  <AxesSubplot:xlabel='Partner_Yes', ylabel='Dependents_Yes'>\n",
      "  <AxesSubplot:xlabel='Dependents_Yes', ylabel='Dependents_Yes'>\n",
      "  <AxesSubplot:xlabel='InternetService_Fiber optic', ylabel='Dependents_Yes'>\n",
      "  <AxesSubplot:xlabel='InternetService_No', ylabel='Dependents_Yes'>\n",
      "  <AxesSubplot:xlabel='StreamingTV_Yes', ylabel='Dependents_Yes'>\n",
      "  <AxesSubplot:xlabel='StreamingMovies_Yes', ylabel='Dependents_Yes'>\n",
      "  <AxesSubplot:xlabel='MultipleLines_Yes', ylabel='Dependents_Yes'>\n",
      "  <AxesSubplot:xlabel='MonthlyCharges', ylabel='Dependents_Yes'>\n",
      "  <AxesSubplot:xlabel='TotalCharges', ylabel='Dependents_Yes'>\n",
      "  <AxesSubplot:xlabel='month', ylabel='Dependents_Yes'>]\n",
      " [<AxesSubplot:xlabel='SeniorCitizen', ylabel='InternetService_Fiber optic'>\n",
      "  <AxesSubplot:xlabel='Type_One year', ylabel='InternetService_Fiber optic'>\n",
      "  <AxesSubplot:xlabel='Type_Two year', ylabel='InternetService_Fiber optic'>\n",
      "  <AxesSubplot:xlabel='gender_Male', ylabel='InternetService_Fiber optic'>\n",
      "  <AxesSubplot:xlabel='Partner_Yes', ylabel='InternetService_Fiber optic'>\n",
      "  <AxesSubplot:xlabel='Dependents_Yes', ylabel='InternetService_Fiber optic'>\n",
      "  <AxesSubplot:xlabel='InternetService_Fiber optic', ylabel='InternetService_Fiber optic'>\n",
      "  <AxesSubplot:xlabel='InternetService_No', ylabel='InternetService_Fiber optic'>\n",
      "  <AxesSubplot:xlabel='StreamingTV_Yes', ylabel='InternetService_Fiber optic'>\n",
      "  <AxesSubplot:xlabel='StreamingMovies_Yes', ylabel='InternetService_Fiber optic'>\n",
      "  <AxesSubplot:xlabel='MultipleLines_Yes', ylabel='InternetService_Fiber optic'>\n",
      "  <AxesSubplot:xlabel='MonthlyCharges', ylabel='InternetService_Fiber optic'>\n",
      "  <AxesSubplot:xlabel='TotalCharges', ylabel='InternetService_Fiber optic'>\n",
      "  <AxesSubplot:xlabel='month', ylabel='InternetService_Fiber optic'>]\n",
      " [<AxesSubplot:xlabel='SeniorCitizen', ylabel='InternetService_No'>\n",
      "  <AxesSubplot:xlabel='Type_One year', ylabel='InternetService_No'>\n",
      "  <AxesSubplot:xlabel='Type_Two year', ylabel='InternetService_No'>\n",
      "  <AxesSubplot:xlabel='gender_Male', ylabel='InternetService_No'>\n",
      "  <AxesSubplot:xlabel='Partner_Yes', ylabel='InternetService_No'>\n",
      "  <AxesSubplot:xlabel='Dependents_Yes', ylabel='InternetService_No'>\n",
      "  <AxesSubplot:xlabel='InternetService_Fiber optic', ylabel='InternetService_No'>\n",
      "  <AxesSubplot:xlabel='InternetService_No', ylabel='InternetService_No'>\n",
      "  <AxesSubplot:xlabel='StreamingTV_Yes', ylabel='InternetService_No'>\n",
      "  <AxesSubplot:xlabel='StreamingMovies_Yes', ylabel='InternetService_No'>\n",
      "  <AxesSubplot:xlabel='MultipleLines_Yes', ylabel='InternetService_No'>\n",
      "  <AxesSubplot:xlabel='MonthlyCharges', ylabel='InternetService_No'>\n",
      "  <AxesSubplot:xlabel='TotalCharges', ylabel='InternetService_No'>\n",
      "  <AxesSubplot:xlabel='month', ylabel='InternetService_No'>]\n",
      " [<AxesSubplot:xlabel='SeniorCitizen', ylabel='StreamingTV_Yes'>\n",
      "  <AxesSubplot:xlabel='Type_One year', ylabel='StreamingTV_Yes'>\n",
      "  <AxesSubplot:xlabel='Type_Two year', ylabel='StreamingTV_Yes'>\n",
      "  <AxesSubplot:xlabel='gender_Male', ylabel='StreamingTV_Yes'>\n",
      "  <AxesSubplot:xlabel='Partner_Yes', ylabel='StreamingTV_Yes'>\n",
      "  <AxesSubplot:xlabel='Dependents_Yes', ylabel='StreamingTV_Yes'>\n",
      "  <AxesSubplot:xlabel='InternetService_Fiber optic', ylabel='StreamingTV_Yes'>\n",
      "  <AxesSubplot:xlabel='InternetService_No', ylabel='StreamingTV_Yes'>\n",
      "  <AxesSubplot:xlabel='StreamingTV_Yes', ylabel='StreamingTV_Yes'>\n",
      "  <AxesSubplot:xlabel='StreamingMovies_Yes', ylabel='StreamingTV_Yes'>\n",
      "  <AxesSubplot:xlabel='MultipleLines_Yes', ylabel='StreamingTV_Yes'>\n",
      "  <AxesSubplot:xlabel='MonthlyCharges', ylabel='StreamingTV_Yes'>\n",
      "  <AxesSubplot:xlabel='TotalCharges', ylabel='StreamingTV_Yes'>\n",
      "  <AxesSubplot:xlabel='month', ylabel='StreamingTV_Yes'>]\n",
      " [<AxesSubplot:xlabel='SeniorCitizen', ylabel='StreamingMovies_Yes'>\n",
      "  <AxesSubplot:xlabel='Type_One year', ylabel='StreamingMovies_Yes'>\n",
      "  <AxesSubplot:xlabel='Type_Two year', ylabel='StreamingMovies_Yes'>\n",
      "  <AxesSubplot:xlabel='gender_Male', ylabel='StreamingMovies_Yes'>\n",
      "  <AxesSubplot:xlabel='Partner_Yes', ylabel='StreamingMovies_Yes'>\n",
      "  <AxesSubplot:xlabel='Dependents_Yes', ylabel='StreamingMovies_Yes'>\n",
      "  <AxesSubplot:xlabel='InternetService_Fiber optic', ylabel='StreamingMovies_Yes'>\n",
      "  <AxesSubplot:xlabel='InternetService_No', ylabel='StreamingMovies_Yes'>\n",
      "  <AxesSubplot:xlabel='StreamingTV_Yes', ylabel='StreamingMovies_Yes'>\n",
      "  <AxesSubplot:xlabel='StreamingMovies_Yes', ylabel='StreamingMovies_Yes'>\n",
      "  <AxesSubplot:xlabel='MultipleLines_Yes', ylabel='StreamingMovies_Yes'>\n",
      "  <AxesSubplot:xlabel='MonthlyCharges', ylabel='StreamingMovies_Yes'>\n",
      "  <AxesSubplot:xlabel='TotalCharges', ylabel='StreamingMovies_Yes'>\n",
      "  <AxesSubplot:xlabel='month', ylabel='StreamingMovies_Yes'>]\n",
      " [<AxesSubplot:xlabel='SeniorCitizen', ylabel='MultipleLines_Yes'>\n",
      "  <AxesSubplot:xlabel='Type_One year', ylabel='MultipleLines_Yes'>\n",
      "  <AxesSubplot:xlabel='Type_Two year', ylabel='MultipleLines_Yes'>\n",
      "  <AxesSubplot:xlabel='gender_Male', ylabel='MultipleLines_Yes'>\n",
      "  <AxesSubplot:xlabel='Partner_Yes', ylabel='MultipleLines_Yes'>\n",
      "  <AxesSubplot:xlabel='Dependents_Yes', ylabel='MultipleLines_Yes'>\n",
      "  <AxesSubplot:xlabel='InternetService_Fiber optic', ylabel='MultipleLines_Yes'>\n",
      "  <AxesSubplot:xlabel='InternetService_No', ylabel='MultipleLines_Yes'>\n",
      "  <AxesSubplot:xlabel='StreamingTV_Yes', ylabel='MultipleLines_Yes'>\n",
      "  <AxesSubplot:xlabel='StreamingMovies_Yes', ylabel='MultipleLines_Yes'>\n",
      "  <AxesSubplot:xlabel='MultipleLines_Yes', ylabel='MultipleLines_Yes'>\n",
      "  <AxesSubplot:xlabel='MonthlyCharges', ylabel='MultipleLines_Yes'>\n",
      "  <AxesSubplot:xlabel='TotalCharges', ylabel='MultipleLines_Yes'>\n",
      "  <AxesSubplot:xlabel='month', ylabel='MultipleLines_Yes'>]\n",
      " [<AxesSubplot:xlabel='SeniorCitizen', ylabel='MonthlyCharges'>\n",
      "  <AxesSubplot:xlabel='Type_One year', ylabel='MonthlyCharges'>\n",
      "  <AxesSubplot:xlabel='Type_Two year', ylabel='MonthlyCharges'>\n",
      "  <AxesSubplot:xlabel='gender_Male', ylabel='MonthlyCharges'>\n",
      "  <AxesSubplot:xlabel='Partner_Yes', ylabel='MonthlyCharges'>\n",
      "  <AxesSubplot:xlabel='Dependents_Yes', ylabel='MonthlyCharges'>\n",
      "  <AxesSubplot:xlabel='InternetService_Fiber optic', ylabel='MonthlyCharges'>\n",
      "  <AxesSubplot:xlabel='InternetService_No', ylabel='MonthlyCharges'>\n",
      "  <AxesSubplot:xlabel='StreamingTV_Yes', ylabel='MonthlyCharges'>\n",
      "  <AxesSubplot:xlabel='StreamingMovies_Yes', ylabel='MonthlyCharges'>\n",
      "  <AxesSubplot:xlabel='MultipleLines_Yes', ylabel='MonthlyCharges'>\n",
      "  <AxesSubplot:xlabel='MonthlyCharges', ylabel='MonthlyCharges'>\n",
      "  <AxesSubplot:xlabel='TotalCharges', ylabel='MonthlyCharges'>\n",
      "  <AxesSubplot:xlabel='month', ylabel='MonthlyCharges'>]\n",
      " [<AxesSubplot:xlabel='SeniorCitizen', ylabel='TotalCharges'>\n",
      "  <AxesSubplot:xlabel='Type_One year', ylabel='TotalCharges'>\n",
      "  <AxesSubplot:xlabel='Type_Two year', ylabel='TotalCharges'>\n",
      "  <AxesSubplot:xlabel='gender_Male', ylabel='TotalCharges'>\n",
      "  <AxesSubplot:xlabel='Partner_Yes', ylabel='TotalCharges'>\n",
      "  <AxesSubplot:xlabel='Dependents_Yes', ylabel='TotalCharges'>\n",
      "  <AxesSubplot:xlabel='InternetService_Fiber optic', ylabel='TotalCharges'>\n",
      "  <AxesSubplot:xlabel='InternetService_No', ylabel='TotalCharges'>\n",
      "  <AxesSubplot:xlabel='StreamingTV_Yes', ylabel='TotalCharges'>\n",
      "  <AxesSubplot:xlabel='StreamingMovies_Yes', ylabel='TotalCharges'>\n",
      "  <AxesSubplot:xlabel='MultipleLines_Yes', ylabel='TotalCharges'>\n",
      "  <AxesSubplot:xlabel='MonthlyCharges', ylabel='TotalCharges'>\n",
      "  <AxesSubplot:xlabel='TotalCharges', ylabel='TotalCharges'>\n",
      "  <AxesSubplot:xlabel='month', ylabel='TotalCharges'>]\n",
      " [<AxesSubplot:xlabel='SeniorCitizen', ylabel='month'>\n",
      "  <AxesSubplot:xlabel='Type_One year', ylabel='month'>\n",
      "  <AxesSubplot:xlabel='Type_Two year', ylabel='month'>\n",
      "  <AxesSubplot:xlabel='gender_Male', ylabel='month'>\n",
      "  <AxesSubplot:xlabel='Partner_Yes', ylabel='month'>\n",
      "  <AxesSubplot:xlabel='Dependents_Yes', ylabel='month'>\n",
      "  <AxesSubplot:xlabel='InternetService_Fiber optic', ylabel='month'>\n",
      "  <AxesSubplot:xlabel='InternetService_No', ylabel='month'>\n",
      "  <AxesSubplot:xlabel='StreamingTV_Yes', ylabel='month'>\n",
      "  <AxesSubplot:xlabel='StreamingMovies_Yes', ylabel='month'>\n",
      "  <AxesSubplot:xlabel='MultipleLines_Yes', ylabel='month'>\n",
      "  <AxesSubplot:xlabel='MonthlyCharges', ylabel='month'>\n",
      "  <AxesSubplot:xlabel='TotalCharges', ylabel='month'>\n",
      "  <AxesSubplot:xlabel='month', ylabel='month'>]]\n"
     ]
    },
    {
     "data": {
      "image/png": "[encoded data removed]",
      "text/plain": [
       "<Figure size 1800x1800 with 196 Axes>"
      ]
     },
     "metadata": {
      "needs_background": "light"
     },
     "output_type": "display_data"
    }
   ],
   "source": [
    "print(pd.plotting.scatter_matrix(df, figsize=(25,25)))\n",
    "plt.show()fonth"
   ]
  },
  {
   "cell_type": "markdown",
   "metadata": {},
   "source": [
    "Во избежание утечки данных масштабирование количественных признаков выполним после разделения признаков на обучающую и валидационную выборки.\n",
    "\n",
    "Выраженно коррелирующих признаков не обнаружено\n",
    "__________\n",
    "\n",
    "## Подготовка обучающей и тестовой выборок"
   ]
  },
  {
   "cell_type": "code",
   "execution_count": 31,
   "metadata": {},
   "outputs": [
    {
     "name": "stdout",
     "output_type": "stream",
     "text": [
      "<class 'pandas.core.frame.DataFrame'>\n",
      "Int64Index: 5625 entries, 5472 to 3582\n",
      "Data columns (total 13 columns):\n",
      "SeniorCitizen                  5625 non-null int64\n",
      "Type_One year                  5625 non-null uint8\n",
      "Type_Two year                  5625 non-null uint8\n",
      "gender_Male                    5625 non-null uint8\n",
      "Partner_Yes                    5625 non-null uint8\n",
      "Dependents_Yes                 5625 non-null uint8\n",
      "InternetService_Fiber optic    5625 non-null uint8\n",
      "InternetService_No             5625 non-null uint8\n",
      "StreamingTV_Yes                5625 non-null uint8\n",
      "StreamingMovies_Yes            5625 non-null uint8\n",
      "MultipleLines_Yes              5625 non-null uint8\n",
      "MonthlyCharges                 5625 non-null float64\n",
      "month                          5625 non-null int64\n",
      "dtypes: float64(1), int64(2), uint8(10)\n",
      "memory usage: 230.7 KB\n"
     ]
    }
   ],
   "source": [
    "X = df.drop(['target', 'TotalCharges'], axis = 1)\n",
    "y = df['target'].astype(int)\n",
    "X_train, X_test, y_train, y_test = train_test_split(X, y, test_size=0.2, random_state=123)\n",
    "X_train.info()"
   ]
  },
  {
   "cell_type": "markdown",
   "metadata": {},
   "source": [
    "**Вывод:** разбиение успешно\n",
    "______\n",
    "Масштабируем количественные признаки"
   ]
  },
  {
   "cell_type": "code",
   "execution_count": 32,
   "metadata": {},
   "outputs": [],
   "source": [
    "scaler = StandardScaler()\n",
    "needed_columns = ['MonthlyCharges', 'month']\n",
    "scaler.fit(X_train[needed_columns]) \n",
    "X_train[needed_columns] = scaler.transform(X_train[needed_columns])\n",
    "X_test[needed_columns] = scaler.transform(X_test[needed_columns])"
   ]
  },
  {
   "cell_type": "markdown",
   "metadata": {},
   "source": [
    "_________\n",
    "## Обучение прототипа модели\n",
    "\n",
    "Метрика для несбалансированной бинарной классификации - ROC-AUC\n",
    "\n",
    "После нескольких тестов лучше всего себя показала модель градиентного бустинга. Напишем небольшую функцию для удобной работы с метриками."
   ]
  },
  {
   "cell_type": "code",
   "execution_count": null,
   "metadata": {},
   "outputs": [],
   "source": [
    "def get_score(self, model):\n",
    "    pred_proba_test = model.predict_proba(X_test)[:, 1]\n",
    "    pred_test = model.predict(X_test)\n",
    "\n",
    "    acc = round(model.score(X_test, self.y_test), 3)\n",
    "    prec = round(precision_score(y_test, pred_test), 3)\n",
    "    recall = round(recall_score(y_test, pred_test), 3)\n",
    "    auc = round(roc_auc_score(y_test, pred_proba_test), 3)\n",
    "    return acc, prec, recall, auc"
   ]
  },
  {
   "cell_type": "markdown",
   "metadata": {},
   "source": [
    "Обучение модели:"
   ]
  },
  {
   "cell_type": "code",
   "execution_count": 49,
   "metadata": {},
   "outputs": [
    {
     "data": {
      "text/plain": [
       "(0.846, 0.817, 0.608, 0.911)"
      ]
     },
     "execution_count": 49,
     "metadata": {},
     "output_type": "execute_result"
    }
   ],
   "source": [
    "model = LGBMClassifier(learning_rate = 0.1)\n",
    "\n",
    "model.fit(X_train, y_train)\n",
    "\n",
    "def get_score(model):\n",
    "    pred_proba_test = model.predict_proba(X_test)[:, 1]\n",
    "    pred_test = model.predict(X_test)\n",
    "\n",
    "    acc = round(model.score(X_test, y_test), 3)\n",
    "    prec = round(precision_score(y_test, pred_test), 3)\n",
    "    recall = round(recall_score(y_test, pred_test), 3)\n",
    "    auc = round(roc_auc_score(y_test, pred_proba_test), 3)\n",
    "    return acc, prec, recall, auc\n",
    "\n",
    "get_score(model)"
   ]
  },
  {
   "cell_type": "markdown",
   "metadata": {},
   "source": [
    "**Итоги:**  \n",
    "    Accuracy: точность предсказаний модели - 84,6%   \n",
    "    Precision: 81,7% из всех действительно ушедших клиентов модель распознает как ушедших  \n",
    "    Recall: 60,8% ушедших из всех действительно ушедших нашел алгоритм  \n",
    "    Значение AUC: 0,911"
   ]
  },
  {
   "cell_type": "code",
   "execution_count": null,
   "metadata": {},
   "outputs": [],
   "source": []
  }
 ],
 "metadata": {
  "ExecuteTimeLog": [
   {
    "duration": 8213,
    "start_time": "2022-02-22T14:21:08.772Z"
   },
   {
    "duration": 5007,
    "start_time": "2022-02-22T14:22:05.717Z"
   },
   {
    "duration": 138,
    "start_time": "2022-02-22T14:22:32.723Z"
   },
   {
    "duration": 2855,
    "start_time": "2022-02-22T14:24:09.305Z"
   },
   {
    "duration": 280,
    "start_time": "2022-02-22T14:24:58.485Z"
   },
   {
    "duration": 138,
    "start_time": "2022-02-22T14:25:18.715Z"
   },
   {
    "duration": 118,
    "start_time": "2022-02-22T14:25:27.385Z"
   },
   {
    "duration": 146,
    "start_time": "2022-02-22T14:25:35.416Z"
   },
   {
    "duration": 25,
    "start_time": "2022-02-22T14:26:37.106Z"
   },
   {
    "duration": 15,
    "start_time": "2022-02-22T14:27:05.773Z"
   },
   {
    "duration": 27,
    "start_time": "2022-02-22T14:27:11.150Z"
   },
   {
    "duration": 8,
    "start_time": "2022-02-22T14:27:45.527Z"
   },
   {
    "duration": 24,
    "start_time": "2022-02-22T14:27:51.240Z"
   },
   {
    "duration": 14,
    "start_time": "2022-02-22T15:45:10.529Z"
   },
   {
    "duration": 689,
    "start_time": "2022-02-22T15:48:57.156Z"
   },
   {
    "duration": 24,
    "start_time": "2022-02-22T15:59:33.467Z"
   },
   {
    "duration": 10,
    "start_time": "2022-02-22T16:06:36.986Z"
   },
   {
    "duration": 12,
    "start_time": "2022-02-22T16:06:45.701Z"
   },
   {
    "duration": 378,
    "start_time": "2022-02-22T16:06:57.353Z"
   },
   {
    "duration": 11,
    "start_time": "2022-02-22T16:07:01.897Z"
   },
   {
    "duration": 399,
    "start_time": "2022-02-22T16:07:10.762Z"
   },
   {
    "duration": 142,
    "start_time": "2022-02-22T16:07:38.136Z"
   },
   {
    "duration": 394,
    "start_time": "2022-02-22T16:07:47.951Z"
   },
   {
    "duration": 19,
    "start_time": "2022-02-22T16:09:48.174Z"
   },
   {
    "duration": 20,
    "start_time": "2022-02-22T16:11:15.161Z"
   },
   {
    "duration": 43,
    "start_time": "2022-02-22T16:11:26.572Z"
   },
   {
    "duration": 30,
    "start_time": "2022-02-22T16:11:33.865Z"
   },
   {
    "duration": 36,
    "start_time": "2022-02-22T16:13:15.541Z"
   },
   {
    "duration": 372,
    "start_time": "2022-02-22T16:14:27.529Z"
   },
   {
    "duration": 372,
    "start_time": "2022-02-22T16:14:44.427Z"
   },
   {
    "duration": 40,
    "start_time": "2022-02-22T16:16:33.575Z"
   },
   {
    "duration": 85,
    "start_time": "2022-02-22T16:16:37.938Z"
   },
   {
    "duration": 56,
    "start_time": "2022-02-22T16:17:08.466Z"
   },
   {
    "duration": 109,
    "start_time": "2022-02-22T16:17:34.333Z"
   },
   {
    "duration": 66,
    "start_time": "2022-02-22T16:17:39.592Z"
   },
   {
    "duration": 72,
    "start_time": "2022-02-22T16:17:44.129Z"
   },
   {
    "duration": 17,
    "start_time": "2022-02-22T16:48:35.474Z"
   },
   {
    "duration": 528,
    "start_time": "2022-02-22T16:49:14.798Z"
   },
   {
    "duration": 378,
    "start_time": "2022-02-22T16:49:31.772Z"
   },
   {
    "duration": 8,
    "start_time": "2022-02-22T16:49:36.656Z"
   },
   {
    "duration": 15,
    "start_time": "2022-02-22T16:50:22.440Z"
   },
   {
    "duration": 482,
    "start_time": "2022-02-22T16:51:09.663Z"
   },
   {
    "duration": 9,
    "start_time": "2022-02-22T16:51:15.354Z"
   },
   {
    "duration": 10,
    "start_time": "2022-02-22T16:51:29.770Z"
   },
   {
    "duration": 9,
    "start_time": "2022-02-22T16:51:42.653Z"
   },
   {
    "duration": 10,
    "start_time": "2022-02-22T16:52:05.431Z"
   },
   {
    "duration": 8,
    "start_time": "2022-02-22T16:53:47.848Z"
   },
   {
    "duration": 1349,
    "start_time": "2022-02-22T16:53:49.885Z"
   },
   {
    "duration": 4,
    "start_time": "2022-02-22T16:54:30.676Z"
   },
   {
    "duration": 9,
    "start_time": "2022-02-22T16:54:35.404Z"
   },
   {
    "duration": 29,
    "start_time": "2022-02-22T16:54:49.440Z"
   },
   {
    "duration": 3,
    "start_time": "2022-02-22T16:55:37.353Z"
   },
   {
    "duration": 6,
    "start_time": "2022-02-22T16:55:40.826Z"
   },
   {
    "duration": 11,
    "start_time": "2022-02-22T16:56:07.977Z"
   },
   {
    "duration": 6,
    "start_time": "2022-02-22T16:56:11.139Z"
   },
   {
    "duration": 39,
    "start_time": "2022-02-22T16:56:18.627Z"
   },
   {
    "duration": 15,
    "start_time": "2022-02-22T16:56:39.811Z"
   },
   {
    "duration": 45,
    "start_time": "2022-02-22T16:59:29.111Z"
   },
   {
    "duration": 405,
    "start_time": "2022-02-22T16:59:37.339Z"
   },
   {
    "duration": 54,
    "start_time": "2022-02-22T16:59:55.489Z"
   },
   {
    "duration": 28,
    "start_time": "2022-02-22T17:01:15.543Z"
   },
   {
    "duration": 12,
    "start_time": "2022-02-22T17:01:42.065Z"
   },
   {
    "duration": 6,
    "start_time": "2022-02-22T17:01:44.523Z"
   },
   {
    "duration": 440,
    "start_time": "2022-02-22T17:03:39.364Z"
   },
   {
    "duration": 387,
    "start_time": "2022-02-22T17:03:57.954Z"
   },
   {
    "duration": 797,
    "start_time": "2022-02-24T15:10:02.431Z"
   },
   {
    "duration": 175,
    "start_time": "2022-02-24T15:10:03.231Z"
   },
   {
    "duration": 11,
    "start_time": "2022-02-24T15:10:03.410Z"
   },
   {
    "duration": 32,
    "start_time": "2022-02-24T15:10:03.424Z"
   },
   {
    "duration": 90,
    "start_time": "2022-02-24T15:10:03.458Z"
   },
   {
    "duration": 46,
    "start_time": "2022-02-24T15:10:03.504Z"
   },
   {
    "duration": 47,
    "start_time": "2022-02-24T15:10:03.505Z"
   },
   {
    "duration": 47,
    "start_time": "2022-02-24T15:10:03.506Z"
   },
   {
    "duration": 48,
    "start_time": "2022-02-24T15:10:03.506Z"
   },
   {
    "duration": -71,
    "start_time": "2022-02-24T15:10:03.627Z"
   },
   {
    "duration": -72,
    "start_time": "2022-02-24T15:10:03.629Z"
   },
   {
    "duration": -73,
    "start_time": "2022-02-24T15:10:03.631Z"
   },
   {
    "duration": -73,
    "start_time": "2022-02-24T15:10:03.632Z"
   },
   {
    "duration": 27,
    "start_time": "2022-02-24T15:11:44.105Z"
   },
   {
    "duration": 17,
    "start_time": "2022-02-24T15:11:45.825Z"
   },
   {
    "duration": 72,
    "start_time": "2022-02-24T15:11:46.924Z"
   },
   {
    "duration": 17,
    "start_time": "2022-02-24T15:11:47.489Z"
   },
   {
    "duration": 9,
    "start_time": "2022-02-24T15:11:49.609Z"
   },
   {
    "duration": 917,
    "start_time": "2022-02-24T15:11:50.664Z"
   },
   {
    "duration": 63,
    "start_time": "2022-02-24T15:14:23.993Z"
   },
   {
    "duration": 15,
    "start_time": "2022-02-24T15:14:37.906Z"
   },
   {
    "duration": 712,
    "start_time": "2022-02-24T15:15:08.590Z"
   },
   {
    "duration": 618,
    "start_time": "2022-02-24T15:15:16.849Z"
   },
   {
    "duration": 79,
    "start_time": "2022-02-24T15:16:02.527Z"
   },
   {
    "duration": 16,
    "start_time": "2022-02-24T15:16:06.492Z"
   },
   {
    "duration": 299,
    "start_time": "2022-02-24T15:17:39.717Z"
   },
   {
    "duration": 70,
    "start_time": "2022-02-24T15:17:49.306Z"
   },
   {
    "duration": 16,
    "start_time": "2022-02-24T15:17:52.590Z"
   },
   {
    "duration": 547,
    "start_time": "2022-02-24T15:19:15.117Z"
   },
   {
    "duration": 10,
    "start_time": "2022-02-24T15:19:27.754Z"
   },
   {
    "duration": 780,
    "start_time": "2022-02-24T15:19:30.030Z"
   },
   {
    "duration": 7,
    "start_time": "2022-02-24T15:19:55.608Z"
   },
   {
    "duration": 661,
    "start_time": "2022-02-24T15:19:57.297Z"
   },
   {
    "duration": 7,
    "start_time": "2022-02-24T15:20:53.757Z"
   },
   {
    "duration": 61,
    "start_time": "2022-02-24T15:20:55.417Z"
   },
   {
    "duration": 15,
    "start_time": "2022-02-24T15:20:58.379Z"
   },
   {
    "duration": 601,
    "start_time": "2022-02-24T15:21:52.403Z"
   },
   {
    "duration": 1238,
    "start_time": "2022-02-24T15:22:15.811Z"
   },
   {
    "duration": 295,
    "start_time": "2022-02-24T15:22:46.647Z"
   },
   {
    "duration": 574,
    "start_time": "2022-02-24T15:23:54.465Z"
   },
   {
    "duration": 13,
    "start_time": "2022-02-24T15:24:10.874Z"
   },
   {
    "duration": 15,
    "start_time": "2022-02-24T15:24:15.357Z"
   },
   {
    "duration": 603,
    "start_time": "2022-02-24T15:24:42.280Z"
   },
   {
    "duration": 759,
    "start_time": "2022-02-24T15:26:22.083Z"
   },
   {
    "duration": 531,
    "start_time": "2022-02-24T15:26:49.096Z"
   },
   {
    "duration": 14,
    "start_time": "2022-02-24T15:27:01.317Z"
   },
   {
    "duration": 7,
    "start_time": "2022-02-24T15:27:23.384Z"
   },
   {
    "duration": 8,
    "start_time": "2022-02-24T15:27:34.988Z"
   },
   {
    "duration": 15,
    "start_time": "2022-02-24T15:27:43.813Z"
   },
   {
    "duration": 8,
    "start_time": "2022-02-24T15:28:25.538Z"
   },
   {
    "duration": 15,
    "start_time": "2022-02-24T15:28:27.587Z"
   },
   {
    "duration": 111,
    "start_time": "2022-02-24T15:32:01.882Z"
   },
   {
    "duration": 285,
    "start_time": "2022-02-24T15:32:07.040Z"
   },
   {
    "duration": 299,
    "start_time": "2022-02-24T15:32:17.538Z"
   },
   {
    "duration": 335,
    "start_time": "2022-02-24T15:32:55.130Z"
   },
   {
    "duration": 16,
    "start_time": "2022-02-24T15:33:20.806Z"
   },
   {
    "duration": 18,
    "start_time": "2022-02-24T15:33:26.973Z"
   },
   {
    "duration": 94,
    "start_time": "2022-02-24T15:34:32.354Z"
   },
   {
    "duration": 18,
    "start_time": "2022-02-24T15:34:36.468Z"
   },
   {
    "duration": 52,
    "start_time": "2022-02-24T15:39:13.982Z"
   },
   {
    "duration": 777,
    "start_time": "2022-02-26T05:12:51.880Z"
   },
   {
    "duration": 57,
    "start_time": "2022-02-26T21:29:09.109Z"
   },
   {
    "duration": 344,
    "start_time": "2022-02-27T14:45:59.171Z"
   },
   {
    "duration": 532,
    "start_time": "2022-02-27T14:46:09.957Z"
   },
   {
    "duration": 161,
    "start_time": "2022-02-27T14:46:10.491Z"
   },
   {
    "duration": 7,
    "start_time": "2022-02-27T14:46:10.656Z"
   },
   {
    "duration": 15,
    "start_time": "2022-02-27T14:46:10.665Z"
   },
   {
    "duration": 17,
    "start_time": "2022-02-27T14:46:10.682Z"
   },
   {
    "duration": 10,
    "start_time": "2022-02-27T14:46:10.700Z"
   },
   {
    "duration": 61,
    "start_time": "2022-02-27T14:46:10.711Z"
   },
   {
    "duration": 11,
    "start_time": "2022-02-27T14:46:10.774Z"
   },
   {
    "duration": 17,
    "start_time": "2022-02-27T14:46:10.786Z"
   },
   {
    "duration": 846,
    "start_time": "2022-02-27T14:46:10.805Z"
   },
   {
    "duration": 31,
    "start_time": "2022-02-27T14:46:21.125Z"
   },
   {
    "duration": 20,
    "start_time": "2022-02-27T14:46:32.242Z"
   },
   {
    "duration": 10,
    "start_time": "2022-02-27T14:49:34.475Z"
   },
   {
    "duration": 12,
    "start_time": "2022-02-27T14:49:42.280Z"
   },
   {
    "duration": 9,
    "start_time": "2022-02-27T14:49:51.574Z"
   },
   {
    "duration": 26,
    "start_time": "2022-02-27T14:51:16.548Z"
   },
   {
    "duration": 60,
    "start_time": "2022-02-27T15:19:05.711Z"
   },
   {
    "duration": 60,
    "start_time": "2022-02-27T15:20:31.509Z"
   },
   {
    "duration": 4747,
    "start_time": "2022-02-27T15:20:39.516Z"
   },
   {
    "duration": 4841,
    "start_time": "2022-02-27T15:20:54.171Z"
   },
   {
    "duration": 4582,
    "start_time": "2022-02-27T15:21:24.015Z"
   },
   {
    "duration": 25,
    "start_time": "2022-02-27T15:21:48.389Z"
   },
   {
    "duration": 8,
    "start_time": "2022-02-27T15:30:36.359Z"
   },
   {
    "duration": 10,
    "start_time": "2022-02-27T15:31:32.792Z"
   },
   {
    "duration": 30,
    "start_time": "2022-02-27T15:31:35.273Z"
   },
   {
    "duration": 6,
    "start_time": "2022-02-27T15:39:17.658Z"
   },
   {
    "duration": 1263,
    "start_time": "2022-02-27T15:40:26.197Z"
   },
   {
    "duration": 7,
    "start_time": "2022-02-27T15:41:13.413Z"
   },
   {
    "duration": 30,
    "start_time": "2022-02-27T15:41:18.711Z"
   },
   {
    "duration": 12,
    "start_time": "2022-02-27T15:41:36.462Z"
   },
   {
    "duration": 1353,
    "start_time": "2022-02-27T15:44:45.960Z"
   },
   {
    "duration": 72,
    "start_time": "2022-02-27T16:37:00.773Z"
   },
   {
    "duration": 69,
    "start_time": "2022-02-27T16:37:16.243Z"
   },
   {
    "duration": 187,
    "start_time": "2022-02-27T16:37:31.419Z"
   },
   {
    "duration": 17,
    "start_time": "2022-02-27T16:38:04.848Z"
   },
   {
    "duration": 37,
    "start_time": "2022-02-27T16:38:14.429Z"
   },
   {
    "duration": 670,
    "start_time": "2022-02-27T16:40:58.277Z"
   },
   {
    "duration": 13,
    "start_time": "2022-02-27T16:41:14.100Z"
   },
   {
    "duration": 9,
    "start_time": "2022-02-27T16:43:21.070Z"
   },
   {
    "duration": 8,
    "start_time": "2022-02-27T16:44:40.987Z"
   },
   {
    "duration": 10,
    "start_time": "2022-02-27T16:44:50.269Z"
   },
   {
    "duration": 30,
    "start_time": "2022-02-27T16:45:58.305Z"
   },
   {
    "duration": 36,
    "start_time": "2022-02-27T16:46:37.526Z"
   },
   {
    "duration": 13,
    "start_time": "2022-02-27T16:47:53.149Z"
   },
   {
    "duration": 39,
    "start_time": "2022-02-27T16:47:56.426Z"
   },
   {
    "duration": 13,
    "start_time": "2022-02-27T16:48:35.058Z"
   },
   {
    "duration": 43,
    "start_time": "2022-02-27T16:48:49.318Z"
   },
   {
    "duration": 12,
    "start_time": "2022-02-27T16:49:20.468Z"
   },
   {
    "duration": 184,
    "start_time": "2022-02-27T16:49:31.405Z"
   },
   {
    "duration": 254,
    "start_time": "2022-02-27T16:49:36.412Z"
   },
   {
    "duration": 174,
    "start_time": "2022-02-27T16:49:42.275Z"
   },
   {
    "duration": 17,
    "start_time": "2022-02-27T16:49:47.566Z"
   },
   {
    "duration": 323,
    "start_time": "2022-02-27T16:50:12.710Z"
   },
   {
    "duration": 9,
    "start_time": "2022-02-27T16:50:57.362Z"
   },
   {
    "duration": 34,
    "start_time": "2022-02-27T16:51:11.797Z"
   },
   {
    "duration": 3,
    "start_time": "2022-02-27T16:52:01.532Z"
   },
   {
    "duration": 37,
    "start_time": "2022-02-27T16:52:11.037Z"
   },
   {
    "duration": 17,
    "start_time": "2022-02-27T16:56:26.497Z"
   },
   {
    "duration": 177,
    "start_time": "2022-02-27T16:59:00.170Z"
   },
   {
    "duration": 233,
    "start_time": "2022-02-27T16:59:10.605Z"
   },
   {
    "duration": 188,
    "start_time": "2022-02-27T16:59:19.605Z"
   },
   {
    "duration": 5,
    "start_time": "2022-02-27T16:59:28.717Z"
   },
   {
    "duration": 32,
    "start_time": "2022-02-27T16:59:33.737Z"
   },
   {
    "duration": 20,
    "start_time": "2022-02-27T16:59:41.630Z"
   },
   {
    "duration": 408,
    "start_time": "2022-02-27T16:59:55.360Z"
   },
   {
    "duration": 406,
    "start_time": "2022-02-27T17:00:00.394Z"
   },
   {
    "duration": 421,
    "start_time": "2022-02-27T17:00:51.737Z"
   },
   {
    "duration": 401,
    "start_time": "2022-02-27T17:01:41.227Z"
   },
   {
    "duration": 719,
    "start_time": "2022-02-27T17:02:21.500Z"
   },
   {
    "duration": 427,
    "start_time": "2022-02-27T17:02:37.014Z"
   },
   {
    "duration": 47,
    "start_time": "2022-02-27T17:04:52.394Z"
   },
   {
    "duration": 4744,
    "start_time": "2022-02-27T17:05:23.850Z"
   },
   {
    "duration": 1754,
    "start_time": "2022-02-27T17:05:58.216Z"
   },
   {
    "duration": 1741,
    "start_time": "2022-02-27T17:06:04.425Z"
   },
   {
    "duration": 5106,
    "start_time": "2022-02-27T17:07:34.576Z"
   },
   {
    "duration": 4613,
    "start_time": "2022-02-27T17:07:57.409Z"
   },
   {
    "duration": 21,
    "start_time": "2022-02-27T17:08:12.829Z"
   },
   {
    "duration": 5022,
    "start_time": "2022-02-27T17:10:17.013Z"
   },
   {
    "duration": 187,
    "start_time": "2022-02-27T17:11:39.217Z"
   },
   {
    "duration": 192,
    "start_time": "2022-02-27T17:11:51.977Z"
   },
   {
    "duration": 192,
    "start_time": "2022-02-27T17:12:35.999Z"
   },
   {
    "duration": 190,
    "start_time": "2022-02-27T17:12:42.764Z"
   },
   {
    "duration": 22,
    "start_time": "2022-02-27T17:13:55.472Z"
   },
   {
    "duration": 34,
    "start_time": "2022-02-27T17:13:59.588Z"
   },
   {
    "duration": 59,
    "start_time": "2022-02-27T17:14:36.880Z"
   },
   {
    "duration": 25,
    "start_time": "2022-02-27T17:14:52.055Z"
   },
   {
    "duration": 43,
    "start_time": "2022-02-27T17:14:57.035Z"
   },
   {
    "duration": 1001,
    "start_time": "2022-02-27T17:15:09.432Z"
   },
   {
    "duration": 112,
    "start_time": "2022-02-27T17:15:10.435Z"
   },
   {
    "duration": 7,
    "start_time": "2022-02-27T17:15:10.552Z"
   },
   {
    "duration": 16,
    "start_time": "2022-02-27T17:15:10.561Z"
   },
   {
    "duration": 10,
    "start_time": "2022-02-27T17:15:10.579Z"
   },
   {
    "duration": 12,
    "start_time": "2022-02-27T17:15:10.591Z"
   },
   {
    "duration": 64,
    "start_time": "2022-02-27T17:15:10.605Z"
   },
   {
    "duration": 12,
    "start_time": "2022-02-27T17:15:10.671Z"
   },
   {
    "duration": 61,
    "start_time": "2022-02-27T17:15:10.684Z"
   },
   {
    "duration": 69,
    "start_time": "2022-02-27T17:15:10.678Z"
   },
   {
    "duration": 70,
    "start_time": "2022-02-27T17:15:10.679Z"
   },
   {
    "duration": 70,
    "start_time": "2022-02-27T17:15:10.679Z"
   },
   {
    "duration": 70,
    "start_time": "2022-02-27T17:15:10.680Z"
   },
   {
    "duration": 69,
    "start_time": "2022-02-27T17:15:10.682Z"
   },
   {
    "duration": 68,
    "start_time": "2022-02-27T17:15:10.683Z"
   },
   {
    "duration": 22,
    "start_time": "2022-02-27T17:15:37.720Z"
   },
   {
    "duration": 18,
    "start_time": "2022-02-27T17:15:38.006Z"
   },
   {
    "duration": 23,
    "start_time": "2022-02-27T17:15:38.276Z"
   },
   {
    "duration": 4,
    "start_time": "2022-02-27T17:15:38.521Z"
   },
   {
    "duration": 40,
    "start_time": "2022-02-27T17:15:38.805Z"
   },
   {
    "duration": 4566,
    "start_time": "2022-02-27T17:16:56.406Z"
   },
   {
    "duration": 442,
    "start_time": "2022-02-27T17:17:20.322Z"
   },
   {
    "duration": 166,
    "start_time": "2022-02-27T17:17:28.167Z"
   },
   {
    "duration": 25,
    "start_time": "2022-02-27T17:19:31.310Z"
   },
   {
    "duration": 231,
    "start_time": "2022-02-27T17:22:12.551Z"
   },
   {
    "duration": 7,
    "start_time": "2022-02-27T17:22:19.626Z"
   },
   {
    "duration": 184,
    "start_time": "2022-02-27T17:23:21.905Z"
   },
   {
    "duration": 13,
    "start_time": "2022-02-27T17:23:41.850Z"
   },
   {
    "duration": 239,
    "start_time": "2022-02-27T17:24:33.142Z"
   },
   {
    "duration": 27,
    "start_time": "2022-02-27T17:24:55.135Z"
   },
   {
    "duration": 30,
    "start_time": "2022-02-27T17:25:05.505Z"
   },
   {
    "duration": 33,
    "start_time": "2022-02-27T17:25:26.974Z"
   },
   {
    "duration": 37,
    "start_time": "2022-02-27T17:25:32.337Z"
   },
   {
    "duration": 37,
    "start_time": "2022-02-27T17:25:48.595Z"
   },
   {
    "duration": 27,
    "start_time": "2022-02-27T17:26:02.253Z"
   },
   {
    "duration": 163,
    "start_time": "2022-02-27T17:26:05.483Z"
   },
   {
    "duration": 26,
    "start_time": "2022-02-27T17:26:11.639Z"
   },
   {
    "duration": 26,
    "start_time": "2022-02-27T17:26:15.412Z"
   },
   {
    "duration": 38,
    "start_time": "2022-02-27T17:26:17.705Z"
   },
   {
    "duration": 27,
    "start_time": "2022-02-27T17:26:19.685Z"
   },
   {
    "duration": 28,
    "start_time": "2022-02-27T17:26:25.731Z"
   },
   {
    "duration": 27,
    "start_time": "2022-02-27T17:26:29.395Z"
   },
   {
    "duration": 29,
    "start_time": "2022-02-27T17:26:33.049Z"
   },
   {
    "duration": 27,
    "start_time": "2022-02-27T17:26:36.606Z"
   },
   {
    "duration": 27,
    "start_time": "2022-02-27T17:26:37.801Z"
   },
   {
    "duration": 26,
    "start_time": "2022-02-27T17:26:51.401Z"
   },
   {
    "duration": 102,
    "start_time": "2022-03-01T14:53:39.714Z"
   },
   {
    "duration": 1216,
    "start_time": "2022-03-01T14:53:46.200Z"
   },
   {
    "duration": 344,
    "start_time": "2022-03-01T14:53:49.433Z"
   },
   {
    "duration": 11,
    "start_time": "2022-03-01T14:53:49.893Z"
   },
   {
    "duration": 27,
    "start_time": "2022-03-01T14:53:50.662Z"
   },
   {
    "duration": 16,
    "start_time": "2022-03-01T14:53:53.495Z"
   },
   {
    "duration": 17,
    "start_time": "2022-03-01T14:53:55.467Z"
   },
   {
    "duration": 6146,
    "start_time": "2022-03-01T14:56:09.054Z"
   },
   {
    "duration": 49,
    "start_time": "2022-03-01T14:56:29.990Z"
   },
   {
    "duration": 95,
    "start_time": "2022-03-01T14:57:13.403Z"
   },
   {
    "duration": 386,
    "start_time": "2022-03-01T15:01:58.125Z"
   },
   {
    "duration": 333,
    "start_time": "2022-03-01T15:02:21.073Z"
   },
   {
    "duration": 52,
    "start_time": "2022-03-01T15:02:58.370Z"
   },
   {
    "duration": 74,
    "start_time": "2022-03-01T15:03:02.758Z"
   },
   {
    "duration": 71,
    "start_time": "2022-03-01T15:03:24.435Z"
   },
   {
    "duration": 16,
    "start_time": "2022-03-01T15:03:24.604Z"
   },
   {
    "duration": 30,
    "start_time": "2022-03-01T15:03:24.909Z"
   },
   {
    "duration": 24,
    "start_time": "2022-03-01T15:03:25.089Z"
   },
   {
    "duration": 31,
    "start_time": "2022-03-01T15:03:25.258Z"
   },
   {
    "duration": 6,
    "start_time": "2022-03-01T15:03:25.424Z"
   },
   {
    "duration": 42,
    "start_time": "2022-03-01T15:03:25.617Z"
   },
   {
    "duration": 486,
    "start_time": "2022-03-01T15:03:25.783Z"
   },
   {
    "duration": 37,
    "start_time": "2022-03-01T15:03:26.272Z"
   },
   {
    "duration": 31,
    "start_time": "2022-03-01T15:03:26.320Z"
   },
   {
    "duration": 250,
    "start_time": "2022-03-01T15:03:26.502Z"
   },
   {
    "duration": 270,
    "start_time": "2022-03-01T15:04:29.001Z"
   },
   {
    "duration": 256,
    "start_time": "2022-03-01T15:04:33.204Z"
   },
   {
    "duration": 283,
    "start_time": "2022-03-01T15:05:24.330Z"
   },
   {
    "duration": 29,
    "start_time": "2022-03-01T15:07:55.746Z"
   },
   {
    "duration": 30,
    "start_time": "2022-03-01T15:08:29.323Z"
   },
   {
    "duration": 78,
    "start_time": "2022-03-01T15:08:47.536Z"
   },
   {
    "duration": 31,
    "start_time": "2022-03-01T15:08:51.393Z"
   },
   {
    "duration": 34,
    "start_time": "2022-03-01T15:12:13.135Z"
   },
   {
    "duration": 6,
    "start_time": "2022-03-01T15:12:59.716Z"
   },
   {
    "duration": 3751,
    "start_time": "2022-03-01T15:13:00.403Z"
   },
   {
    "duration": 38,
    "start_time": "2022-03-01T15:13:06.249Z"
   },
   {
    "duration": 292,
    "start_time": "2022-03-01T15:13:07.217Z"
   },
   {
    "duration": 39,
    "start_time": "2022-03-01T15:13:12.167Z"
   },
   {
    "duration": 19,
    "start_time": "2022-03-01T15:13:37.155Z"
   },
   {
    "duration": 249,
    "start_time": "2022-03-01T15:13:42.973Z"
   },
   {
    "duration": 258,
    "start_time": "2022-03-01T15:13:51.401Z"
   },
   {
    "duration": 225,
    "start_time": "2022-03-01T15:14:02.174Z"
   },
   {
    "duration": 273,
    "start_time": "2022-03-01T15:19:59.062Z"
   },
   {
    "duration": 10,
    "start_time": "2022-03-01T15:20:55.816Z"
   },
   {
    "duration": 14,
    "start_time": "2022-03-01T15:22:15.469Z"
   },
   {
    "duration": 11,
    "start_time": "2022-03-01T15:22:20.352Z"
   },
   {
    "duration": 33,
    "start_time": "2022-03-01T15:23:26.838Z"
   },
   {
    "duration": 219,
    "start_time": "2022-03-01T15:26:20.926Z"
   },
   {
    "duration": 217,
    "start_time": "2022-03-01T15:26:43.616Z"
   },
   {
    "duration": 233,
    "start_time": "2022-03-01T15:28:38.812Z"
   },
   {
    "duration": 276,
    "start_time": "2022-03-01T15:29:17.111Z"
   },
   {
    "duration": 5905,
    "start_time": "2022-03-01T15:32:41.166Z"
   },
   {
    "duration": 34,
    "start_time": "2022-03-01T15:33:00.351Z"
   },
   {
    "duration": 7,
    "start_time": "2022-03-01T15:33:38.835Z"
   },
   {
    "duration": 38,
    "start_time": "2022-03-01T15:33:39.050Z"
   },
   {
    "duration": 278,
    "start_time": "2022-03-01T15:33:39.202Z"
   },
   {
    "duration": 33,
    "start_time": "2022-03-01T15:33:39.584Z"
   },
   {
    "duration": 16,
    "start_time": "2022-03-01T15:33:39.759Z"
   },
   {
    "duration": 18,
    "start_time": "2022-03-01T15:33:40.875Z"
   },
   {
    "duration": 27,
    "start_time": "2022-03-01T15:33:55.447Z"
   },
   {
    "duration": 22,
    "start_time": "2022-03-01T15:34:14.880Z"
   },
   {
    "duration": 27,
    "start_time": "2022-03-01T15:34:20.204Z"
   },
   {
    "duration": 21,
    "start_time": "2022-03-01T15:37:59.180Z"
   },
   {
    "duration": 75,
    "start_time": "2022-03-01T15:44:34.424Z"
   },
   {
    "duration": 261,
    "start_time": "2022-03-01T15:45:01.197Z"
   },
   {
    "duration": 369,
    "start_time": "2022-03-01T15:45:35.926Z"
   },
   {
    "duration": 355,
    "start_time": "2022-03-01T15:49:13.129Z"
   },
   {
    "duration": 822,
    "start_time": "2022-03-01T15:52:40.141Z"
   },
   {
    "duration": 924,
    "start_time": "2022-03-01T15:53:00.660Z"
   },
   {
    "duration": 1040,
    "start_time": "2022-03-01T15:53:21.957Z"
   },
   {
    "duration": 22,
    "start_time": "2022-03-01T16:01:25.981Z"
   },
   {
    "duration": 1037,
    "start_time": "2022-03-01T16:01:30.076Z"
   },
   {
    "duration": 294,
    "start_time": "2022-03-01T16:01:47.919Z"
   },
   {
    "duration": 228,
    "start_time": "2022-03-01T16:02:03.597Z"
   },
   {
    "duration": 105704,
    "start_time": "2022-03-01T16:03:07.291Z"
   },
   {
    "duration": 228,
    "start_time": "2022-03-01T16:08:28.536Z"
   },
   {
    "duration": 57983,
    "start_time": "2022-03-01T16:08:45.235Z"
   },
   {
    "duration": 570004,
    "start_time": "2022-03-01T16:10:25.988Z"
   },
   {
    "duration": 6,
    "start_time": "2022-03-01T16:21:10.515Z"
   },
   {
    "duration": 951,
    "start_time": "2022-03-01T16:29:38.125Z"
   },
   {
    "duration": 4501,
    "start_time": "2022-03-01T16:29:56.741Z"
   },
   {
    "duration": 1206,
    "start_time": "2022-03-01T16:32:22.345Z"
   },
   {
    "duration": 1100,
    "start_time": "2022-03-01T16:32:33.734Z"
   },
   {
    "duration": 1066,
    "start_time": "2022-03-01T16:32:41.392Z"
   },
   {
    "duration": 1396,
    "start_time": "2022-03-01T16:32:47.066Z"
   },
   {
    "duration": 1036,
    "start_time": "2022-03-01T16:32:53.024Z"
   },
   {
    "duration": 1076,
    "start_time": "2022-03-01T16:32:58.278Z"
   },
   {
    "duration": 1273,
    "start_time": "2022-03-01T16:33:09.843Z"
   },
   {
    "duration": 1139,
    "start_time": "2022-03-01T16:33:16.760Z"
   },
   {
    "duration": 1193,
    "start_time": "2022-03-01T16:33:24.230Z"
   },
   {
    "duration": 1225,
    "start_time": "2022-03-01T16:33:31.221Z"
   },
   {
    "duration": 1181,
    "start_time": "2022-03-01T16:33:37.097Z"
   },
   {
    "duration": 1157,
    "start_time": "2022-03-01T16:33:42.847Z"
   },
   {
    "duration": 1133,
    "start_time": "2022-03-01T16:33:49.912Z"
   },
   {
    "duration": 1053,
    "start_time": "2022-03-01T16:33:56.987Z"
   },
   {
    "duration": 1097,
    "start_time": "2022-03-01T16:34:01.487Z"
   },
   {
    "duration": 1150,
    "start_time": "2022-03-01T16:34:06.501Z"
   },
   {
    "duration": 1114,
    "start_time": "2022-03-01T16:34:12.075Z"
   },
   {
    "duration": 653,
    "start_time": "2022-03-01T16:34:23.199Z"
   },
   {
    "duration": 902,
    "start_time": "2022-03-01T16:34:29.237Z"
   },
   {
    "duration": 1153,
    "start_time": "2022-03-01T16:34:34.653Z"
   },
   {
    "duration": 1308,
    "start_time": "2022-03-01T16:34:43.585Z"
   },
   {
    "duration": 1156,
    "start_time": "2022-03-01T16:34:49.535Z"
   },
   {
    "duration": 1148,
    "start_time": "2022-03-01T16:34:56.846Z"
   },
   {
    "duration": 4360,
    "start_time": "2022-03-01T16:35:42.957Z"
   },
   {
    "duration": 9878,
    "start_time": "2022-03-01T16:35:55.151Z"
   },
   {
    "duration": 19656,
    "start_time": "2022-03-01T16:36:23.765Z"
   },
   {
    "duration": 51126,
    "start_time": "2022-03-01T16:37:07.713Z"
   },
   {
    "duration": 4289,
    "start_time": "2022-03-01T16:38:07.635Z"
   },
   {
    "duration": 72,
    "start_time": "2022-03-01T16:38:36.241Z"
   },
   {
    "duration": 87,
    "start_time": "2022-03-01T16:38:42.433Z"
   },
   {
    "duration": 19697,
    "start_time": "2022-03-01T16:38:49.496Z"
   },
   {
    "duration": 255,
    "start_time": "2022-03-01T16:40:08.758Z"
   },
   {
    "duration": 825,
    "start_time": "2022-03-01T16:40:19.542Z"
   },
   {
    "duration": 231,
    "start_time": "2022-03-01T16:52:54.297Z"
   },
   {
    "duration": 6,
    "start_time": "2022-03-01T16:53:03.782Z"
   },
   {
    "duration": 17787,
    "start_time": "2022-03-01T16:56:27.099Z"
   },
   {
    "duration": 18114,
    "start_time": "2022-03-01T16:56:50.471Z"
   },
   {
    "duration": 41842,
    "start_time": "2022-03-01T16:57:19.837Z"
   },
   {
    "duration": 46625,
    "start_time": "2022-03-01T16:58:30.062Z"
   },
   {
    "duration": 264,
    "start_time": "2022-03-01T17:04:42.400Z"
   },
   {
    "duration": 27,
    "start_time": "2022-03-01T17:04:55.250Z"
   },
   {
    "duration": 1749,
    "start_time": "2022-03-01T17:05:25.965Z"
   },
   {
    "duration": 1849,
    "start_time": "2022-03-01T17:06:34.556Z"
   },
   {
    "duration": 35420,
    "start_time": "2022-03-01T17:06:57.555Z"
   },
   {
    "duration": 12723,
    "start_time": "2022-03-01T17:08:08.663Z"
   },
   {
    "duration": 11,
    "start_time": "2022-03-01T17:08:43.854Z"
   },
   {
    "duration": 13872,
    "start_time": "2022-03-01T17:09:12.916Z"
   },
   {
    "duration": 4,
    "start_time": "2022-03-01T17:09:49.002Z"
   },
   {
    "duration": 32021,
    "start_time": "2022-03-01T17:10:13.608Z"
   },
   {
    "duration": 42569,
    "start_time": "2022-03-01T17:11:40.808Z"
   },
   {
    "duration": 4,
    "start_time": "2022-03-01T17:12:26.935Z"
   },
   {
    "duration": 23805,
    "start_time": "2022-03-01T17:12:45.651Z"
   },
   {
    "duration": 4,
    "start_time": "2022-03-01T17:13:30.902Z"
   },
   {
    "duration": 7392,
    "start_time": "2022-03-01T17:13:40.532Z"
   },
   {
    "duration": 7469,
    "start_time": "2022-03-01T17:13:58.804Z"
   },
   {
    "duration": 4,
    "start_time": "2022-03-01T17:14:06.275Z"
   },
   {
    "duration": 7273,
    "start_time": "2022-03-01T17:15:03.972Z"
   },
   {
    "duration": 4,
    "start_time": "2022-03-01T17:15:12.956Z"
   },
   {
    "duration": 3661,
    "start_time": "2022-03-01T17:21:42.820Z"
   },
   {
    "duration": 348,
    "start_time": "2022-03-01T17:24:19.571Z"
   },
   {
    "duration": 298,
    "start_time": "2022-03-01T17:24:31.999Z"
   },
   {
    "duration": 275,
    "start_time": "2022-03-01T17:24:40.578Z"
   },
   {
    "duration": 300,
    "start_time": "2022-03-01T17:24:48.564Z"
   },
   {
    "duration": 279,
    "start_time": "2022-03-01T17:25:42.481Z"
   },
   {
    "duration": 9822,
    "start_time": "2022-03-01T17:26:00.486Z"
   },
   {
    "duration": 297,
    "start_time": "2022-03-01T17:26:16.662Z"
   },
   {
    "duration": 9353,
    "start_time": "2022-03-01T17:26:55.337Z"
   },
   {
    "duration": 447,
    "start_time": "2022-03-01T17:27:12.545Z"
   },
   {
    "duration": 9500,
    "start_time": "2022-03-01T17:27:31.085Z"
   },
   {
    "duration": 9322,
    "start_time": "2022-03-01T17:27:50.668Z"
   },
   {
    "duration": 26074,
    "start_time": "2022-03-01T17:28:07.418Z"
   },
   {
    "duration": 41901,
    "start_time": "2022-03-01T17:28:46.989Z"
   },
   {
    "duration": 82797,
    "start_time": "2022-03-01T17:29:37.197Z"
   },
   {
    "duration": 18770,
    "start_time": "2022-03-01T17:31:53.018Z"
   },
   {
    "duration": 18117,
    "start_time": "2022-03-01T17:32:29.801Z"
   },
   {
    "duration": 18077,
    "start_time": "2022-03-01T17:32:51.962Z"
   },
   {
    "duration": 18254,
    "start_time": "2022-03-01T17:33:17.339Z"
   },
   {
    "duration": 18070,
    "start_time": "2022-03-01T17:33:45.737Z"
   },
   {
    "duration": 18506,
    "start_time": "2022-03-01T17:34:11.401Z"
   },
   {
    "duration": 297,
    "start_time": "2022-03-01T17:35:22.531Z"
   },
   {
    "duration": 1331,
    "start_time": "2022-03-01T17:36:38.184Z"
   },
   {
    "duration": 18056,
    "start_time": "2022-03-01T17:37:07.239Z"
   },
   {
    "duration": 304,
    "start_time": "2022-03-01T17:37:30.052Z"
   },
   {
    "duration": 81,
    "start_time": "2022-03-01T17:39:47.869Z"
   },
   {
    "duration": 96,
    "start_time": "2022-03-01T17:40:01.273Z"
   },
   {
    "duration": 291,
    "start_time": "2022-03-01T17:40:21.881Z"
   },
   {
    "duration": 1952,
    "start_time": "2022-03-01T17:43:13.457Z"
   },
   {
    "duration": 7,
    "start_time": "2022-03-01T17:43:26.287Z"
   },
   {
    "duration": 316,
    "start_time": "2022-03-01T17:44:15.820Z"
   },
   {
    "duration": 303,
    "start_time": "2022-03-01T17:44:22.929Z"
   },
   {
    "duration": 288,
    "start_time": "2022-03-01T17:44:28.929Z"
   },
   {
    "duration": 97,
    "start_time": "2022-03-01T17:44:59.373Z"
   },
   {
    "duration": 323,
    "start_time": "2022-03-01T17:45:06.310Z"
   },
   {
    "duration": 92,
    "start_time": "2022-03-01T17:45:29.118Z"
   },
   {
    "duration": 289,
    "start_time": "2022-03-01T17:45:39.701Z"
   },
   {
    "duration": 304,
    "start_time": "2022-03-01T17:45:54.532Z"
   },
   {
    "duration": 295,
    "start_time": "2022-03-01T17:46:01.501Z"
   },
   {
    "duration": 11,
    "start_time": "2022-03-01T17:46:14.639Z"
   },
   {
    "duration": 606,
    "start_time": "2022-03-01T17:46:28.120Z"
   },
   {
    "duration": 303,
    "start_time": "2022-03-01T17:46:37.819Z"
   },
   {
    "duration": 308,
    "start_time": "2022-03-01T17:49:08.112Z"
   },
   {
    "duration": 279,
    "start_time": "2022-03-01T17:49:38.792Z"
   },
   {
    "duration": 296,
    "start_time": "2022-03-01T17:50:03.289Z"
   },
   {
    "duration": 282,
    "start_time": "2022-03-01T17:51:19.232Z"
   },
   {
    "duration": 81,
    "start_time": "2022-03-01T17:52:54.884Z"
   },
   {
    "duration": 82,
    "start_time": "2022-03-01T17:53:01.701Z"
   },
   {
    "duration": 305,
    "start_time": "2022-03-01T17:53:27.388Z"
   },
   {
    "duration": 602,
    "start_time": "2022-03-01T17:53:37.664Z"
   },
   {
    "duration": 298,
    "start_time": "2022-03-01T17:53:49.579Z"
   },
   {
    "duration": 43392,
    "start_time": "2022-03-01T17:55:13.222Z"
   },
   {
    "duration": 277,
    "start_time": "2022-03-01T17:58:05.465Z"
   },
   {
    "duration": 294,
    "start_time": "2022-03-01T17:58:19.995Z"
   },
   {
    "duration": 280,
    "start_time": "2022-03-01T17:58:24.620Z"
   },
   {
    "duration": 31202,
    "start_time": "2022-03-01T17:58:42.033Z"
   },
   {
    "duration": 45216,
    "start_time": "2022-03-01T18:02:20.604Z"
   },
   {
    "duration": 46873,
    "start_time": "2022-03-01T18:03:22.219Z"
   },
   {
    "duration": 49403,
    "start_time": "2022-03-01T18:09:40.906Z"
   },
   {
    "duration": 48845,
    "start_time": "2022-03-01T18:10:34.667Z"
   },
   {
    "duration": 51381,
    "start_time": "2022-03-01T18:13:34.109Z"
   },
   {
    "duration": 1341,
    "start_time": "2022-03-01T18:21:36.462Z"
   },
   {
    "duration": 106,
    "start_time": "2022-03-01T18:21:37.806Z"
   },
   {
    "duration": 13,
    "start_time": "2022-03-01T18:21:37.916Z"
   },
   {
    "duration": 24,
    "start_time": "2022-03-01T18:21:37.932Z"
   },
   {
    "duration": 15,
    "start_time": "2022-03-01T18:21:37.974Z"
   },
   {
    "duration": 22,
    "start_time": "2022-03-01T18:21:37.992Z"
   },
   {
    "duration": 120,
    "start_time": "2022-03-01T18:21:38.017Z"
   },
   {
    "duration": 33,
    "start_time": "2022-03-01T18:21:38.140Z"
   },
   {
    "duration": 37,
    "start_time": "2022-03-01T18:21:38.179Z"
   },
   {
    "duration": 54,
    "start_time": "2022-03-01T18:21:38.219Z"
   },
   {
    "duration": 42,
    "start_time": "2022-03-01T18:21:38.275Z"
   },
   {
    "duration": 7,
    "start_time": "2022-03-01T18:21:38.320Z"
   },
   {
    "duration": 68,
    "start_time": "2022-03-01T18:21:38.330Z"
   },
   {
    "duration": 405,
    "start_time": "2022-03-01T18:21:38.401Z"
   },
   {
    "duration": 35,
    "start_time": "2022-03-01T18:21:38.809Z"
   },
   {
    "duration": 42,
    "start_time": "2022-03-01T18:21:38.847Z"
   },
   {
    "duration": 1222,
    "start_time": "2022-03-01T18:21:38.892Z"
   },
   {
    "duration": 360,
    "start_time": "2022-03-01T18:21:40.117Z"
   },
   {
    "duration": 84,
    "start_time": "2022-03-01T18:21:40.395Z"
   },
   {
    "duration": 85,
    "start_time": "2022-03-01T18:21:40.396Z"
   },
   {
    "duration": 85,
    "start_time": "2022-03-01T18:21:40.397Z"
   },
   {
    "duration": 27,
    "start_time": "2022-03-01T18:21:40.456Z"
   },
   {
    "duration": 28,
    "start_time": "2022-03-01T18:21:40.457Z"
   },
   {
    "duration": 29,
    "start_time": "2022-03-01T18:21:40.458Z"
   },
   {
    "duration": 1568,
    "start_time": "2022-03-01T18:22:19.412Z"
   },
   {
    "duration": 1757,
    "start_time": "2022-03-01T18:22:30.934Z"
   },
   {
    "duration": 1837,
    "start_time": "2022-03-01T18:22:37.044Z"
   },
   {
    "duration": 29,
    "start_time": "2022-03-01T18:23:05.295Z"
   },
   {
    "duration": 53,
    "start_time": "2022-03-01T18:23:19.044Z"
   },
   {
    "duration": 45,
    "start_time": "2022-03-01T18:23:19.556Z"
   },
   {
    "duration": 6,
    "start_time": "2022-03-01T18:23:20.429Z"
   },
   {
    "duration": 40,
    "start_time": "2022-03-01T18:23:21.057Z"
   },
   {
    "duration": 6173,
    "start_time": "2022-03-01T18:23:21.642Z"
   },
   {
    "duration": 38,
    "start_time": "2022-03-01T18:23:27.780Z"
   },
   {
    "duration": 35,
    "start_time": "2022-03-01T18:23:40.596Z"
   },
   {
    "duration": 41,
    "start_time": "2022-03-01T18:23:57.738Z"
   },
   {
    "duration": 5632,
    "start_time": "2022-03-01T18:24:02.605Z"
   },
   {
    "duration": 5563,
    "start_time": "2022-03-01T18:25:53.131Z"
   },
   {
    "duration": 5467,
    "start_time": "2022-03-01T18:26:02.027Z"
   },
   {
    "duration": 82,
    "start_time": "2022-03-01T18:26:07.415Z"
   },
   {
    "duration": 65,
    "start_time": "2022-03-01T18:26:16.743Z"
   },
   {
    "duration": 35,
    "start_time": "2022-03-01T18:27:25.401Z"
   },
   {
    "duration": 239,
    "start_time": "2022-03-01T18:28:02.197Z"
   },
   {
    "duration": 10,
    "start_time": "2022-03-01T18:28:10.409Z"
   },
   {
    "duration": 5600,
    "start_time": "2022-03-01T18:28:23.171Z"
   },
   {
    "duration": 59,
    "start_time": "2022-03-01T18:28:50.533Z"
   },
   {
    "duration": 5682,
    "start_time": "2022-03-01T18:29:26.104Z"
   },
   {
    "duration": 81,
    "start_time": "2022-03-01T18:29:31.708Z"
   },
   {
    "duration": 56,
    "start_time": "2022-03-01T18:29:42.335Z"
   },
   {
    "duration": 14,
    "start_time": "2022-03-01T18:31:19.940Z"
   },
   {
    "duration": 106,
    "start_time": "2022-03-01T18:31:28.721Z"
   },
   {
    "duration": 42,
    "start_time": "2022-03-01T18:31:34.260Z"
   },
   {
    "duration": 6,
    "start_time": "2022-03-01T18:31:39.163Z"
   },
   {
    "duration": 39,
    "start_time": "2022-03-01T18:31:54.291Z"
   },
   {
    "duration": 18641,
    "start_time": "2022-03-01T18:31:58.923Z"
   },
   {
    "duration": 239,
    "start_time": "2022-03-01T18:32:23.963Z"
   },
   {
    "duration": 249,
    "start_time": "2022-03-01T18:32:31.430Z"
   },
   {
    "duration": 19,
    "start_time": "2022-03-01T18:32:38.771Z"
   },
   {
    "duration": 324,
    "start_time": "2022-03-01T18:32:56.313Z"
   },
   {
    "duration": 36,
    "start_time": "2022-03-01T18:33:31.847Z"
   },
   {
    "duration": 4236,
    "start_time": "2022-03-01T18:33:37.774Z"
   },
   {
    "duration": 245,
    "start_time": "2022-03-01T18:33:47.442Z"
   },
   {
    "duration": 226,
    "start_time": "2022-03-01T18:33:53.085Z"
   },
   {
    "duration": 57,
    "start_time": "2022-03-01T18:34:06.988Z"
   },
   {
    "duration": 144,
    "start_time": "2022-03-01T18:34:56.631Z"
   },
   {
    "duration": 5,
    "start_time": "2022-03-01T18:35:15.617Z"
   },
   {
    "duration": 94,
    "start_time": "2022-03-01T18:35:16.591Z"
   },
   {
    "duration": 12,
    "start_time": "2022-03-01T18:35:16.777Z"
   },
   {
    "duration": 18,
    "start_time": "2022-03-01T18:35:16.970Z"
   },
   {
    "duration": 15,
    "start_time": "2022-03-01T18:35:17.374Z"
   },
   {
    "duration": 18,
    "start_time": "2022-03-01T18:35:18.417Z"
   },
   {
    "duration": 72,
    "start_time": "2022-03-01T18:35:20.848Z"
   },
   {
    "duration": 18,
    "start_time": "2022-03-01T18:35:25.601Z"
   },
   {
    "duration": 32,
    "start_time": "2022-03-01T18:35:29.114Z"
   },
   {
    "duration": 72,
    "start_time": "2022-03-01T18:35:34.547Z"
   },
   {
    "duration": 40,
    "start_time": "2022-03-01T18:35:45.786Z"
   },
   {
    "duration": 7,
    "start_time": "2022-03-01T18:35:51.803Z"
   },
   {
    "duration": 228,
    "start_time": "2022-03-01T18:36:24.110Z"
   },
   {
    "duration": 34,
    "start_time": "2022-03-01T18:36:28.414Z"
   },
   {
    "duration": 52,
    "start_time": "2022-03-01T18:37:15.057Z"
   },
   {
    "duration": 17,
    "start_time": "2022-03-01T18:37:29.005Z"
   },
   {
    "duration": 74,
    "start_time": "2022-03-01T18:37:36.296Z"
   },
   {
    "duration": 4,
    "start_time": "2022-03-01T18:37:42.958Z"
   },
   {
    "duration": 110,
    "start_time": "2022-03-01T18:37:43.674Z"
   },
   {
    "duration": 12,
    "start_time": "2022-03-01T18:37:43.883Z"
   },
   {
    "duration": 18,
    "start_time": "2022-03-01T18:37:44.106Z"
   },
   {
    "duration": 15,
    "start_time": "2022-03-01T18:37:44.627Z"
   },
   {
    "duration": 18,
    "start_time": "2022-03-01T18:37:46.733Z"
   },
   {
    "duration": 70,
    "start_time": "2022-03-01T18:37:48.644Z"
   },
   {
    "duration": 18,
    "start_time": "2022-03-01T18:37:53.914Z"
   },
   {
    "duration": 74,
    "start_time": "2022-03-01T18:38:31.200Z"
   },
   {
    "duration": 1275,
    "start_time": "2022-03-01T18:39:46.014Z"
   },
   {
    "duration": 103,
    "start_time": "2022-03-01T18:39:47.293Z"
   },
   {
    "duration": 10,
    "start_time": "2022-03-01T18:39:47.399Z"
   },
   {
    "duration": 18,
    "start_time": "2022-03-01T18:39:47.412Z"
   },
   {
    "duration": 40,
    "start_time": "2022-03-01T18:39:47.433Z"
   },
   {
    "duration": 18,
    "start_time": "2022-03-01T18:39:47.476Z"
   },
   {
    "duration": 104,
    "start_time": "2022-03-01T18:39:47.496Z"
   },
   {
    "duration": 18,
    "start_time": "2022-03-01T18:39:47.603Z"
   },
   {
    "duration": 3063,
    "start_time": "2022-03-01T18:39:47.625Z"
   },
   {
    "duration": 8,
    "start_time": "2022-03-01T18:39:50.683Z"
   },
   {
    "duration": 9,
    "start_time": "2022-03-01T18:39:50.684Z"
   },
   {
    "duration": 10,
    "start_time": "2022-03-01T18:39:50.684Z"
   },
   {
    "duration": 11,
    "start_time": "2022-03-01T18:39:50.685Z"
   },
   {
    "duration": 11,
    "start_time": "2022-03-01T18:39:50.686Z"
   },
   {
    "duration": 12,
    "start_time": "2022-03-01T18:39:50.687Z"
   },
   {
    "duration": 12,
    "start_time": "2022-03-01T18:39:50.688Z"
   },
   {
    "duration": 13,
    "start_time": "2022-03-01T18:39:50.688Z"
   },
   {
    "duration": 14,
    "start_time": "2022-03-01T18:39:50.689Z"
   },
   {
    "duration": 15,
    "start_time": "2022-03-01T18:39:50.689Z"
   },
   {
    "duration": 16,
    "start_time": "2022-03-01T18:39:50.690Z"
   },
   {
    "duration": 16,
    "start_time": "2022-03-01T18:39:50.691Z"
   },
   {
    "duration": 18,
    "start_time": "2022-03-01T18:39:50.691Z"
   },
   {
    "duration": 18,
    "start_time": "2022-03-01T18:39:50.692Z"
   },
   {
    "duration": 18,
    "start_time": "2022-03-01T18:39:50.693Z"
   },
   {
    "duration": 237,
    "start_time": "2022-03-01T18:40:14.029Z"
   },
   {
    "duration": 5,
    "start_time": "2022-03-01T18:40:21.033Z"
   },
   {
    "duration": 2854,
    "start_time": "2022-03-01T18:40:24.523Z"
   },
   {
    "duration": 4,
    "start_time": "2022-03-01T18:40:38.435Z"
   },
   {
    "duration": 95,
    "start_time": "2022-03-01T18:40:44.614Z"
   },
   {
    "duration": 11,
    "start_time": "2022-03-01T18:40:44.792Z"
   },
   {
    "duration": 17,
    "start_time": "2022-03-01T18:40:44.944Z"
   },
   {
    "duration": 16,
    "start_time": "2022-03-01T18:40:45.287Z"
   },
   {
    "duration": 19,
    "start_time": "2022-03-01T18:40:45.631Z"
   },
   {
    "duration": 72,
    "start_time": "2022-03-01T18:40:46.686Z"
   },
   {
    "duration": 18,
    "start_time": "2022-03-01T18:40:47.648Z"
   },
   {
    "duration": 23,
    "start_time": "2022-03-01T18:40:50.390Z"
   },
   {
    "duration": 67,
    "start_time": "2022-03-01T18:40:51.911Z"
   },
   {
    "duration": 43,
    "start_time": "2022-03-01T18:41:00.986Z"
   },
   {
    "duration": 34,
    "start_time": "2022-03-01T18:41:15.884Z"
   },
   {
    "duration": 56,
    "start_time": "2022-03-01T18:41:47.908Z"
   },
   {
    "duration": 65,
    "start_time": "2022-03-01T18:41:57.130Z"
   },
   {
    "duration": 18,
    "start_time": "2022-03-01T18:42:24.648Z"
   },
   {
    "duration": 2128,
    "start_time": "2022-03-01T18:42:33.080Z"
   },
   {
    "duration": 2306,
    "start_time": "2022-03-01T18:42:47.255Z"
   },
   {
    "duration": 3675,
    "start_time": "2022-03-01T18:43:06.785Z"
   },
   {
    "duration": 1853,
    "start_time": "2022-03-01T18:43:19.346Z"
   },
   {
    "duration": 12,
    "start_time": "2022-03-01T18:43:43.542Z"
   },
   {
    "duration": 1736,
    "start_time": "2022-03-01T18:44:31.919Z"
   },
   {
    "duration": 11,
    "start_time": "2022-03-01T18:45:39.445Z"
   },
   {
    "duration": 232,
    "start_time": "2022-03-01T18:45:46.751Z"
   },
   {
    "duration": 242,
    "start_time": "2022-03-01T18:45:56.045Z"
   },
   {
    "duration": 236,
    "start_time": "2022-03-01T18:45:59.431Z"
   },
   {
    "duration": 9,
    "start_time": "2022-03-01T18:46:18.075Z"
   },
   {
    "duration": -67,
    "start_time": "2022-03-01T18:48:52.697Z"
   },
   {
    "duration": 20535,
    "start_time": "2022-03-01T18:48:54.955Z"
   },
   {
    "duration": 49195,
    "start_time": "2022-03-01T18:49:26.294Z"
   },
   {
    "duration": 1455,
    "start_time": "2022-03-02T14:58:27.950Z"
   },
   {
    "duration": 109,
    "start_time": "2022-03-02T14:58:29.408Z"
   },
   {
    "duration": 10,
    "start_time": "2022-03-02T14:58:29.520Z"
   },
   {
    "duration": 18,
    "start_time": "2022-03-02T14:58:29.533Z"
   },
   {
    "duration": 32,
    "start_time": "2022-03-02T14:58:29.553Z"
   },
   {
    "duration": 17,
    "start_time": "2022-03-02T14:58:29.587Z"
   },
   {
    "duration": 106,
    "start_time": "2022-03-02T14:58:29.607Z"
   },
   {
    "duration": 16,
    "start_time": "2022-03-02T14:58:29.717Z"
   },
   {
    "duration": 43,
    "start_time": "2022-03-02T14:58:29.736Z"
   },
   {
    "duration": 68,
    "start_time": "2022-03-02T14:58:29.782Z"
   },
   {
    "duration": 55,
    "start_time": "2022-03-02T14:58:29.852Z"
   },
   {
    "duration": 33,
    "start_time": "2022-03-02T14:58:29.909Z"
   },
   {
    "duration": 93,
    "start_time": "2022-03-02T14:58:29.944Z"
   },
   {
    "duration": 31,
    "start_time": "2022-03-02T15:01:31.106Z"
   },
   {
    "duration": 38,
    "start_time": "2022-03-02T15:01:31.140Z"
   },
   {
    "duration": 988,
    "start_time": "2022-03-02T15:01:31.180Z"
   },
   {
    "duration": -58,
    "start_time": "2022-03-02T15:01:32.229Z"
   },
   {
    "duration": -57,
    "start_time": "2022-03-02T15:01:32.230Z"
   },
   {
    "duration": -56,
    "start_time": "2022-03-02T15:01:32.231Z"
   },
   {
    "duration": -56,
    "start_time": "2022-03-02T15:01:32.232Z"
   },
   {
    "duration": -54,
    "start_time": "2022-03-02T15:01:32.233Z"
   },
   {
    "duration": -76,
    "start_time": "2022-03-02T15:01:32.257Z"
   },
   {
    "duration": -75,
    "start_time": "2022-03-02T15:01:32.258Z"
   },
   {
    "duration": -73,
    "start_time": "2022-03-02T15:01:32.259Z"
   },
   {
    "duration": 32,
    "start_time": "2022-03-02T15:01:35.260Z"
   },
   {
    "duration": 19,
    "start_time": "2022-03-02T15:01:38.090Z"
   },
   {
    "duration": 4,
    "start_time": "2022-03-02T15:01:50.933Z"
   },
   {
    "duration": 42,
    "start_time": "2022-03-02T15:02:56.087Z"
   },
   {
    "duration": 4,
    "start_time": "2022-03-02T15:03:29.268Z"
   },
   {
    "duration": 5,
    "start_time": "2022-03-02T15:03:43.784Z"
   },
   {
    "duration": 5,
    "start_time": "2022-03-02T15:03:56.603Z"
   },
   {
    "duration": 2299,
    "start_time": "2022-03-02T15:04:32.382Z"
   },
   {
    "duration": 2568,
    "start_time": "2022-03-02T15:05:00.129Z"
   },
   {
    "duration": 1938,
    "start_time": "2022-03-02T15:05:22.210Z"
   },
   {
    "duration": 1908,
    "start_time": "2022-03-02T15:06:16.965Z"
   },
   {
    "duration": 1800,
    "start_time": "2022-03-02T15:06:37.074Z"
   },
   {
    "duration": 2097,
    "start_time": "2022-03-02T15:06:53.550Z"
   },
   {
    "duration": 34,
    "start_time": "2022-03-02T15:08:12.897Z"
   },
   {
    "duration": 1739,
    "start_time": "2022-03-02T15:08:30.947Z"
   },
   {
    "duration": 3234,
    "start_time": "2022-03-02T15:09:03.346Z"
   },
   {
    "duration": 12386,
    "start_time": "2022-03-02T15:09:09.792Z"
   },
   {
    "duration": 1771,
    "start_time": "2022-03-02T15:11:48.521Z"
   },
   {
    "duration": 2102,
    "start_time": "2022-03-02T15:11:57.789Z"
   },
   {
    "duration": 79230,
    "start_time": "2022-03-02T15:12:12.252Z"
   },
   {
    "duration": 71407,
    "start_time": "2022-03-02T15:17:53.279Z"
   },
   {
    "duration": 67258,
    "start_time": "2022-03-02T15:19:17.525Z"
   },
   {
    "duration": 76,
    "start_time": "2022-03-02T15:29:09.660Z"
   },
   {
    "duration": 815518,
    "start_time": "2022-03-02T15:29:17.124Z"
   },
   {
    "duration": 4387,
    "start_time": "2022-03-02T15:43:32.989Z"
   },
   {
    "duration": 1359,
    "start_time": "2022-03-02T15:45:31.422Z"
   },
   {
    "duration": 1420,
    "start_time": "2022-03-02T15:46:11.170Z"
   },
   {
    "duration": 1653,
    "start_time": "2022-03-02T15:46:44.138Z"
   },
   {
    "duration": 1675,
    "start_time": "2022-03-02T15:46:54.905Z"
   },
   {
    "duration": 3924,
    "start_time": "2022-03-02T15:47:02.354Z"
   },
   {
    "duration": 2267,
    "start_time": "2022-03-02T15:47:47.108Z"
   },
   {
    "duration": 2090,
    "start_time": "2022-03-02T15:47:55.599Z"
   },
   {
    "duration": 1974,
    "start_time": "2022-03-02T15:48:09.716Z"
   },
   {
    "duration": 1944,
    "start_time": "2022-03-02T15:48:34.346Z"
   },
   {
    "duration": 394218,
    "start_time": "2022-03-02T15:49:41.264Z"
   },
   {
    "duration": 157875,
    "start_time": "2022-03-02T15:58:05.817Z"
   },
   {
    "duration": 109,
    "start_time": "2022-03-02T16:11:38.320Z"
   },
   {
    "duration": 126,
    "start_time": "2022-03-02T16:18:10.773Z"
   },
   {
    "duration": 247,
    "start_time": "2022-03-02T16:25:53.983Z"
   },
   {
    "duration": 9,
    "start_time": "2022-03-02T16:26:09.975Z"
   },
   {
    "duration": 15,
    "start_time": "2022-03-02T16:26:21.184Z"
   },
   {
    "duration": 10,
    "start_time": "2022-03-02T16:28:30.639Z"
   },
   {
    "duration": 21,
    "start_time": "2022-03-02T16:28:42.414Z"
   },
   {
    "duration": 249,
    "start_time": "2022-03-02T16:28:59.996Z"
   },
   {
    "duration": 13,
    "start_time": "2022-03-02T16:30:57.423Z"
   },
   {
    "duration": 33,
    "start_time": "2022-03-02T16:31:02.684Z"
   },
   {
    "duration": 22,
    "start_time": "2022-03-02T16:31:10.845Z"
   },
   {
    "duration": 26,
    "start_time": "2022-03-02T16:32:10.505Z"
   },
   {
    "duration": 251,
    "start_time": "2022-03-02T16:37:43.257Z"
   },
   {
    "duration": 29,
    "start_time": "2022-03-02T16:38:20.371Z"
   },
   {
    "duration": 291,
    "start_time": "2022-03-02T16:50:21.450Z"
   },
   {
    "duration": 277,
    "start_time": "2022-03-02T16:50:31.539Z"
   },
   {
    "duration": 80,
    "start_time": "2022-03-02T16:51:29.312Z"
   },
   {
    "duration": 64,
    "start_time": "2022-03-02T16:51:37.985Z"
   },
   {
    "duration": 64,
    "start_time": "2022-03-02T16:52:39.807Z"
   },
   {
    "duration": 59,
    "start_time": "2022-03-02T16:53:22.386Z"
   },
   {
    "duration": 32,
    "start_time": "2022-03-02T16:56:23.045Z"
   },
   {
    "duration": 56,
    "start_time": "2022-03-02T17:06:23.768Z"
   },
   {
    "duration": 35,
    "start_time": "2022-03-02T17:09:24.656Z"
   },
   {
    "duration": 122,
    "start_time": "2022-03-02T17:11:29.146Z"
   },
   {
    "duration": 31,
    "start_time": "2022-03-02T17:14:57.857Z"
   },
   {
    "duration": 5839,
    "start_time": "2022-03-02T17:16:34.745Z"
   },
   {
    "duration": 6128,
    "start_time": "2022-03-02T17:17:03.504Z"
   },
   {
    "duration": 6157,
    "start_time": "2022-03-02T17:17:34.129Z"
   },
   {
    "duration": 58,
    "start_time": "2022-03-02T17:18:39.003Z"
   },
   {
    "duration": 88,
    "start_time": "2022-03-02T17:19:36.996Z"
   },
   {
    "duration": 8,
    "start_time": "2022-03-02T17:20:52.449Z"
   },
   {
    "duration": -136,
    "start_time": "2022-03-02T17:21:26.644Z"
   },
   {
    "duration": 290,
    "start_time": "2022-03-02T17:21:29.985Z"
   },
   {
    "duration": 222778,
    "start_time": "2022-03-02T17:21:41.739Z"
   },
   {
    "duration": 38,
    "start_time": "2022-03-02T17:25:24.552Z"
   },
   {
    "duration": 17,
    "start_time": "2022-03-02T17:27:05.404Z"
   },
   {
    "duration": 16,
    "start_time": "2022-03-02T17:29:15.997Z"
   },
   {
    "duration": 269,
    "start_time": "2022-03-02T17:29:58.696Z"
   },
   {
    "duration": 19,
    "start_time": "2022-03-02T17:30:20.276Z"
   },
   {
    "duration": 20,
    "start_time": "2022-03-02T17:30:23.588Z"
   },
   {
    "duration": 74,
    "start_time": "2022-03-02T17:31:12.068Z"
   },
   {
    "duration": 88,
    "start_time": "2022-03-02T17:33:05.793Z"
   },
   {
    "duration": 237,
    "start_time": "2022-03-02T17:33:13.245Z"
   },
   {
    "duration": 268,
    "start_time": "2022-03-02T17:34:04.064Z"
   },
   {
    "duration": 681,
    "start_time": "2022-03-02T17:35:01.579Z"
   },
   {
    "duration": 643,
    "start_time": "2022-03-02T17:35:10.412Z"
   },
   {
    "duration": 686,
    "start_time": "2022-03-02T17:35:27.970Z"
   },
   {
    "duration": 617,
    "start_time": "2022-03-02T17:35:40.511Z"
   },
   {
    "duration": 271,
    "start_time": "2022-03-02T17:35:57.473Z"
   },
   {
    "duration": 6805,
    "start_time": "2022-03-02T17:36:59.870Z"
   },
   {
    "duration": 17,
    "start_time": "2022-03-02T17:37:35.745Z"
   },
   {
    "duration": 20,
    "start_time": "2022-03-02T17:37:42.818Z"
   },
   {
    "duration": 21,
    "start_time": "2022-03-02T17:38:21.704Z"
   },
   {
    "duration": 23,
    "start_time": "2022-03-02T17:38:27.468Z"
   },
   {
    "duration": 2392,
    "start_time": "2022-03-02T17:38:32.262Z"
   },
   {
    "duration": 2320,
    "start_time": "2022-03-02T17:38:59.910Z"
   },
   {
    "duration": 2309,
    "start_time": "2022-03-02T17:40:39.792Z"
   },
   {
    "duration": 2233,
    "start_time": "2022-03-02T17:40:46.094Z"
   },
   {
    "duration": 2362,
    "start_time": "2022-03-02T17:41:03.155Z"
   },
   {
    "duration": 2480,
    "start_time": "2022-03-02T17:41:17.999Z"
   },
   {
    "duration": 1935,
    "start_time": "2022-03-02T17:41:21.340Z"
   },
   {
    "duration": 2018,
    "start_time": "2022-03-02T17:43:14.607Z"
   },
   {
    "duration": 2271,
    "start_time": "2022-03-02T17:43:30.817Z"
   },
   {
    "duration": 1523,
    "start_time": "2022-03-02T17:44:26.951Z"
   },
   {
    "duration": 2134,
    "start_time": "2022-03-02T17:44:34.750Z"
   },
   {
    "duration": 1029,
    "start_time": "2022-03-02T17:44:45.160Z"
   },
   {
    "duration": 82,
    "start_time": "2022-03-02T17:46:30.656Z"
   },
   {
    "duration": 93,
    "start_time": "2022-03-02T17:46:43.655Z"
   },
   {
    "duration": 2049,
    "start_time": "2022-03-02T17:47:49.537Z"
   },
   {
    "duration": 2040,
    "start_time": "2022-03-02T17:48:50.639Z"
   },
   {
    "duration": 2611,
    "start_time": "2022-03-02T17:48:56.768Z"
   },
   {
    "duration": 2987,
    "start_time": "2022-03-02T17:49:12.406Z"
   },
   {
    "duration": 1975,
    "start_time": "2022-03-02T17:49:23.314Z"
   },
   {
    "duration": 1899,
    "start_time": "2022-03-02T17:49:28.892Z"
   },
   {
    "duration": 2561,
    "start_time": "2022-03-02T17:49:37.229Z"
   },
   {
    "duration": 1954,
    "start_time": "2022-03-02T17:49:44.524Z"
   },
   {
    "duration": 35,
    "start_time": "2022-03-02T17:53:38.601Z"
   },
   {
    "duration": 68,
    "start_time": "2022-03-02T17:53:43.441Z"
   },
   {
    "duration": 21,
    "start_time": "2022-03-02T17:53:47.766Z"
   },
   {
    "duration": 21,
    "start_time": "2022-03-02T17:53:51.667Z"
   },
   {
    "duration": 958,
    "start_time": "2022-03-02T17:53:54.228Z"
   },
   {
    "duration": 1843,
    "start_time": "2022-03-02T17:53:59.433Z"
   },
   {
    "duration": 2087,
    "start_time": "2022-03-02T17:54:09.202Z"
   },
   {
    "duration": 2167,
    "start_time": "2022-03-02T17:54:21.409Z"
   },
   {
    "duration": 2693,
    "start_time": "2022-03-02T17:54:29.697Z"
   },
   {
    "duration": 2025,
    "start_time": "2022-03-02T17:54:35.655Z"
   },
   {
    "duration": 2339,
    "start_time": "2022-03-02T17:54:42.934Z"
   },
   {
    "duration": 1392,
    "start_time": "2022-03-02T17:54:46.899Z"
   },
   {
    "duration": 2206,
    "start_time": "2022-03-02T17:54:54.985Z"
   },
   {
    "duration": 2110,
    "start_time": "2022-03-02T17:55:09.378Z"
   },
   {
    "duration": 21,
    "start_time": "2022-03-02T17:55:18.785Z"
   },
   {
    "duration": 1707,
    "start_time": "2022-03-02T17:55:20.483Z"
   },
   {
    "duration": 2675,
    "start_time": "2022-03-02T17:55:25.105Z"
   },
   {
    "duration": 487,
    "start_time": "2022-03-03T06:16:26.780Z"
   },
   {
    "duration": 1013,
    "start_time": "2022-03-03T06:16:45.854Z"
   },
   {
    "duration": 103,
    "start_time": "2022-03-03T06:16:56.791Z"
   },
   {
    "duration": 10,
    "start_time": "2022-03-03T06:17:38.412Z"
   },
   {
    "duration": 12,
    "start_time": "2022-03-03T06:18:28.980Z"
   },
   {
    "duration": 16,
    "start_time": "2022-03-03T06:18:30.875Z"
   },
   {
    "duration": 16,
    "start_time": "2022-03-03T06:18:32.857Z"
   },
   {
    "duration": 11,
    "start_time": "2022-03-03T06:18:34.592Z"
   },
   {
    "duration": 34,
    "start_time": "2022-03-03T06:28:37.346Z"
   },
   {
    "duration": 21,
    "start_time": "2022-03-03T06:28:58.261Z"
   },
   {
    "duration": 33,
    "start_time": "2022-03-03T06:29:13.273Z"
   },
   {
    "duration": 300,
    "start_time": "2022-03-03T06:32:56.079Z"
   },
   {
    "duration": 22,
    "start_time": "2022-03-03T06:33:01.854Z"
   },
   {
    "duration": 44,
    "start_time": "2022-03-03T06:33:03.203Z"
   },
   {
    "duration": 12,
    "start_time": "2022-03-03T06:35:45.508Z"
   },
   {
    "duration": 19,
    "start_time": "2022-03-03T06:35:49.425Z"
   },
   {
    "duration": 4283,
    "start_time": "2022-03-03T06:36:19.373Z"
   },
   {
    "duration": 6137,
    "start_time": "2022-03-03T06:36:51.927Z"
   },
   {
    "duration": 300,
    "start_time": "2022-03-03T14:02:25.560Z"
   },
   {
    "duration": 282,
    "start_time": "2022-03-03T14:02:37.357Z"
   },
   {
    "duration": 290,
    "start_time": "2022-03-03T14:07:30.831Z"
   },
   {
    "duration": 1102,
    "start_time": "2022-03-03T14:07:43.019Z"
   },
   {
    "duration": 113,
    "start_time": "2022-03-03T14:07:44.123Z"
   },
   {
    "duration": 9,
    "start_time": "2022-03-03T14:07:44.238Z"
   },
   {
    "duration": 12,
    "start_time": "2022-03-03T14:07:44.249Z"
   },
   {
    "duration": 15,
    "start_time": "2022-03-03T14:07:44.263Z"
   },
   {
    "duration": 19,
    "start_time": "2022-03-03T14:07:44.279Z"
   },
   {
    "duration": 10,
    "start_time": "2022-03-03T14:07:44.300Z"
   },
   {
    "duration": 37,
    "start_time": "2022-03-03T14:07:44.312Z"
   },
   {
    "duration": 47,
    "start_time": "2022-03-03T14:07:44.351Z"
   },
   {
    "duration": 36,
    "start_time": "2022-03-03T14:07:44.399Z"
   },
   {
    "duration": 42,
    "start_time": "2022-03-03T14:07:44.436Z"
   },
   {
    "duration": 42,
    "start_time": "2022-03-03T14:07:44.480Z"
   },
   {
    "duration": 14,
    "start_time": "2022-03-03T14:07:44.523Z"
   },
   {
    "duration": 41,
    "start_time": "2022-03-03T14:07:44.538Z"
   },
   {
    "duration": 10696,
    "start_time": "2022-03-03T14:07:44.580Z"
   },
   {
    "duration": 39010,
    "start_time": "2022-03-03T14:07:55.278Z"
   },
   {
    "duration": 402,
    "start_time": "2022-03-03T14:08:34.290Z"
   },
   {
    "duration": 362,
    "start_time": "2022-03-03T14:10:55.293Z"
   },
   {
    "duration": 105,
    "start_time": "2022-03-03T14:46:48.264Z"
   },
   {
    "duration": 85,
    "start_time": "2022-03-03T14:47:17.890Z"
   },
   {
    "duration": 343,
    "start_time": "2022-03-03T15:37:00.850Z"
   },
   {
    "duration": 314,
    "start_time": "2022-03-03T15:43:15.296Z"
   },
   {
    "duration": 332,
    "start_time": "2022-03-03T15:43:46.103Z"
   },
   {
    "duration": 6552,
    "start_time": "2022-03-03T15:54:25.364Z"
   },
   {
    "duration": 60,
    "start_time": "2022-03-03T15:54:59.208Z"
   },
   {
    "duration": 22,
    "start_time": "2022-03-03T15:55:08.045Z"
   },
   {
    "duration": 45,
    "start_time": "2022-03-03T15:55:50.931Z"
   },
   {
    "duration": 329,
    "start_time": "2022-03-03T15:58:31.756Z"
   },
   {
    "duration": 322,
    "start_time": "2022-03-03T15:59:44.188Z"
   },
   {
    "duration": 884,
    "start_time": "2022-03-03T16:00:24.489Z"
   },
   {
    "duration": 7047,
    "start_time": "2022-03-03T16:00:37.606Z"
   },
   {
    "duration": 771,
    "start_time": "2022-03-03T16:02:03.119Z"
   },
   {
    "duration": 24,
    "start_time": "2022-03-03T16:02:11.488Z"
   },
   {
    "duration": 44,
    "start_time": "2022-03-03T16:02:14.226Z"
   },
   {
    "duration": 18,
    "start_time": "2022-03-03T16:02:17.913Z"
   },
   {
    "duration": 16,
    "start_time": "2022-03-03T16:02:22.657Z"
   },
   {
    "duration": 802,
    "start_time": "2022-03-03T16:02:29.372Z"
   },
   {
    "duration": 1186,
    "start_time": "2022-03-03T16:03:09.374Z"
   },
   {
    "duration": 119,
    "start_time": "2022-03-03T16:03:10.562Z"
   },
   {
    "duration": 9,
    "start_time": "2022-03-03T16:03:10.683Z"
   },
   {
    "duration": 41,
    "start_time": "2022-03-03T16:03:10.694Z"
   },
   {
    "duration": 46,
    "start_time": "2022-03-03T16:03:10.737Z"
   },
   {
    "duration": 25,
    "start_time": "2022-03-03T16:03:10.785Z"
   },
   {
    "duration": 33,
    "start_time": "2022-03-03T16:03:10.812Z"
   },
   {
    "duration": 51,
    "start_time": "2022-03-03T16:03:10.848Z"
   },
   {
    "duration": 23,
    "start_time": "2022-03-03T16:03:10.901Z"
   },
   {
    "duration": 56,
    "start_time": "2022-03-03T16:03:10.926Z"
   },
   {
    "duration": 23,
    "start_time": "2022-03-03T16:03:10.983Z"
   },
   {
    "duration": 67,
    "start_time": "2022-03-03T16:03:11.007Z"
   },
   {
    "duration": 13,
    "start_time": "2022-03-03T16:03:11.075Z"
   },
   {
    "duration": 26,
    "start_time": "2022-03-03T16:03:11.090Z"
   },
   {
    "duration": 70644,
    "start_time": "2022-03-03T16:06:57.393Z"
   },
   {
    "duration": -126,
    "start_time": "2022-03-03T16:08:08.166Z"
   },
   {
    "duration": -126,
    "start_time": "2022-03-03T16:08:08.168Z"
   },
   {
    "duration": -126,
    "start_time": "2022-03-03T16:08:08.169Z"
   },
   {
    "duration": 27,
    "start_time": "2022-03-03T16:08:15.101Z"
   },
   {
    "duration": 15,
    "start_time": "2022-03-03T16:08:24.084Z"
   },
   {
    "duration": 185150,
    "start_time": "2022-03-03T16:14:41.833Z"
   },
   {
    "duration": 345598,
    "start_time": "2022-03-03T16:17:56.991Z"
   },
   {
    "duration": 26,
    "start_time": "2022-03-03T16:27:12.257Z"
   },
   {
    "duration": 71,
    "start_time": "2022-03-03T16:27:15.896Z"
   },
   {
    "duration": 15,
    "start_time": "2022-03-03T16:27:22.184Z"
   },
   {
    "duration": 15,
    "start_time": "2022-03-03T16:27:27.619Z"
   },
   {
    "duration": 206943,
    "start_time": "2022-03-03T16:27:35.798Z"
   },
   {
    "duration": 345899,
    "start_time": "2022-03-03T16:34:16.385Z"
   },
   {
    "duration": 1010,
    "start_time": "2022-03-03T16:53:18.746Z"
   },
   {
    "duration": 6831,
    "start_time": "2022-03-03T17:00:13.056Z"
   },
   {
    "duration": 5947,
    "start_time": "2022-03-03T17:05:11.702Z"
   },
   {
    "duration": 11711,
    "start_time": "2022-03-03T17:06:57.968Z"
   },
   {
    "duration": 5695,
    "start_time": "2022-03-03T17:07:28.593Z"
   },
   {
    "duration": 5992,
    "start_time": "2022-03-03T17:24:43.702Z"
   },
   {
    "duration": 6078,
    "start_time": "2022-03-03T17:24:53.945Z"
   },
   {
    "duration": 5767,
    "start_time": "2022-03-03T17:25:21.908Z"
   },
   {
    "duration": 5589,
    "start_time": "2022-03-03T17:28:15.305Z"
   },
   {
    "duration": 6,
    "start_time": "2022-03-03T17:28:50.506Z"
   },
   {
    "duration": 5897,
    "start_time": "2022-03-03T17:30:40.361Z"
   },
   {
    "duration": 6106,
    "start_time": "2022-03-03T17:31:01.556Z"
   },
   {
    "duration": 12371,
    "start_time": "2022-03-03T17:31:29.423Z"
   },
   {
    "duration": 26717,
    "start_time": "2022-03-03T17:33:35.569Z"
   },
   {
    "duration": 69739,
    "start_time": "2022-03-03T17:34:46.777Z"
   },
   {
    "duration": 429,
    "start_time": "2022-03-03T17:36:03.383Z"
   },
   {
    "duration": 4788,
    "start_time": "2022-03-03T17:37:16.218Z"
   },
   {
    "duration": 6729,
    "start_time": "2022-03-03T17:47:36.322Z"
   },
   {
    "duration": 276,
    "start_time": "2022-03-03T17:48:23.615Z"
   },
   {
    "duration": 371,
    "start_time": "2022-03-03T17:49:08.549Z"
   },
   {
    "duration": 320,
    "start_time": "2022-03-03T17:49:20.789Z"
   },
   {
    "duration": 1641,
    "start_time": "2022-03-03T17:49:43.097Z"
   },
   {
    "duration": 1132,
    "start_time": "2022-03-03T17:50:16.694Z"
   },
   {
    "duration": 120,
    "start_time": "2022-03-03T17:50:17.828Z"
   },
   {
    "duration": 13,
    "start_time": "2022-03-03T17:50:17.951Z"
   },
   {
    "duration": 18,
    "start_time": "2022-03-03T17:50:17.967Z"
   },
   {
    "duration": 21,
    "start_time": "2022-03-03T17:50:17.987Z"
   },
   {
    "duration": 17,
    "start_time": "2022-03-03T17:50:18.010Z"
   },
   {
    "duration": 14,
    "start_time": "2022-03-03T17:50:18.029Z"
   },
   {
    "duration": 63,
    "start_time": "2022-03-03T17:50:18.045Z"
   },
   {
    "duration": 23,
    "start_time": "2022-03-03T17:50:18.111Z"
   },
   {
    "duration": 56,
    "start_time": "2022-03-03T17:50:18.136Z"
   },
   {
    "duration": 26,
    "start_time": "2022-03-03T17:50:18.193Z"
   },
   {
    "duration": 75,
    "start_time": "2022-03-03T17:50:18.220Z"
   },
   {
    "duration": 14,
    "start_time": "2022-03-03T17:50:18.296Z"
   },
   {
    "duration": 14,
    "start_time": "2022-03-03T17:50:18.311Z"
   },
   {
    "duration": 1516,
    "start_time": "2022-03-03T17:50:18.326Z"
   },
   {
    "duration": -39,
    "start_time": "2022-03-03T17:50:19.883Z"
   },
   {
    "duration": -39,
    "start_time": "2022-03-03T17:50:19.884Z"
   },
   {
    "duration": -40,
    "start_time": "2022-03-03T17:50:19.886Z"
   },
   {
    "duration": -40,
    "start_time": "2022-03-03T17:50:19.886Z"
   },
   {
    "duration": -40,
    "start_time": "2022-03-03T17:50:19.887Z"
   },
   {
    "duration": -41,
    "start_time": "2022-03-03T17:50:19.889Z"
   },
   {
    "duration": -40,
    "start_time": "2022-03-03T17:50:19.889Z"
   },
   {
    "duration": 98,
    "start_time": "2022-03-03T17:52:15.772Z"
   },
   {
    "duration": 23,
    "start_time": "2022-03-03T17:54:03.043Z"
   },
   {
    "duration": 40,
    "start_time": "2022-03-03T17:54:52.371Z"
   },
   {
    "duration": 13,
    "start_time": "2022-03-03T17:55:03.168Z"
   },
   {
    "duration": 14,
    "start_time": "2022-03-03T17:55:05.809Z"
   },
   {
    "duration": 1540,
    "start_time": "2022-03-03T17:55:08.509Z"
   },
   {
    "duration": 1049,
    "start_time": "2022-03-03T17:55:30.488Z"
   },
   {
    "duration": 4,
    "start_time": "2022-03-03T17:56:38.506Z"
   },
   {
    "duration": 28247,
    "start_time": "2022-03-03T17:56:58.942Z"
   },
   {
    "duration": 268,
    "start_time": "2022-03-03T17:58:47.888Z"
   },
   {
    "duration": 274,
    "start_time": "2022-03-03T17:59:30.890Z"
   },
   {
    "duration": 5,
    "start_time": "2022-03-03T17:59:49.732Z"
   },
   {
    "duration": 298,
    "start_time": "2022-03-03T18:00:03.568Z"
   },
   {
    "duration": 4,
    "start_time": "2022-03-03T18:00:24.275Z"
   },
   {
    "duration": 34,
    "start_time": "2022-03-03T18:01:48.905Z"
   },
   {
    "duration": 37461,
    "start_time": "2022-03-03T18:02:38.617Z"
   },
   {
    "duration": 31805,
    "start_time": "2022-03-03T18:13:46.704Z"
   },
   {
    "duration": 32308,
    "start_time": "2022-03-03T18:14:28.082Z"
   },
   {
    "duration": -282,
    "start_time": "2022-03-03T18:16:13.464Z"
   },
   {
    "duration": 36356,
    "start_time": "2022-03-03T18:16:49.985Z"
   },
   {
    "duration": 334,
    "start_time": "2022-03-04T14:27:35.989Z"
   },
   {
    "duration": 955,
    "start_time": "2022-03-04T14:27:43.060Z"
   },
   {
    "duration": 112,
    "start_time": "2022-03-04T14:27:44.017Z"
   },
   {
    "duration": 8,
    "start_time": "2022-03-04T14:27:44.131Z"
   },
   {
    "duration": 10,
    "start_time": "2022-03-04T14:27:44.140Z"
   },
   {
    "duration": 13,
    "start_time": "2022-03-04T14:27:44.151Z"
   },
   {
    "duration": 13,
    "start_time": "2022-03-04T14:27:44.166Z"
   },
   {
    "duration": 27,
    "start_time": "2022-03-04T14:27:44.181Z"
   },
   {
    "duration": 30,
    "start_time": "2022-03-04T14:27:44.210Z"
   },
   {
    "duration": 18,
    "start_time": "2022-03-04T14:27:44.242Z"
   },
   {
    "duration": 465,
    "start_time": "2022-03-04T14:27:44.261Z"
   },
   {
    "duration": 95,
    "start_time": "2022-03-04T14:27:44.632Z"
   },
   {
    "duration": 60,
    "start_time": "2022-03-04T14:27:44.668Z"
   },
   {
    "duration": 57,
    "start_time": "2022-03-04T14:27:44.672Z"
   },
   {
    "duration": 55,
    "start_time": "2022-03-04T14:27:44.674Z"
   },
   {
    "duration": 55,
    "start_time": "2022-03-04T14:27:44.675Z"
   },
   {
    "duration": 55,
    "start_time": "2022-03-04T14:27:44.676Z"
   },
   {
    "duration": 53,
    "start_time": "2022-03-04T14:27:44.678Z"
   },
   {
    "duration": 50,
    "start_time": "2022-03-04T14:30:13.898Z"
   },
   {
    "duration": 18,
    "start_time": "2022-03-04T14:30:21.214Z"
   },
   {
    "duration": 37,
    "start_time": "2022-03-04T14:30:30.788Z"
   },
   {
    "duration": 28221,
    "start_time": "2022-03-04T14:30:31.808Z"
   },
   {
    "duration": 308,
    "start_time": "2022-03-04T14:31:00.030Z"
   },
   {
    "duration": -284,
    "start_time": "2022-03-04T14:31:00.624Z"
   },
   {
    "duration": 13,
    "start_time": "2022-03-04T14:32:44.263Z"
   },
   {
    "duration": 11,
    "start_time": "2022-03-04T14:32:48.130Z"
   },
   {
    "duration": 795,
    "start_time": "2022-03-04T14:33:09.556Z"
   },
   {
    "duration": 3,
    "start_time": "2022-03-04T14:33:48.126Z"
   },
   {
    "duration": 97,
    "start_time": "2022-03-04T14:33:51.122Z"
   },
   {
    "duration": 10,
    "start_time": "2022-03-04T14:33:52.949Z"
   },
   {
    "duration": 11,
    "start_time": "2022-03-04T14:33:55.724Z"
   },
   {
    "duration": 14,
    "start_time": "2022-03-04T14:33:56.851Z"
   },
   {
    "duration": 15,
    "start_time": "2022-03-04T14:33:58.164Z"
   },
   {
    "duration": 11,
    "start_time": "2022-03-04T14:33:59.753Z"
   },
   {
    "duration": 31,
    "start_time": "2022-03-04T14:34:03.229Z"
   },
   {
    "duration": 19,
    "start_time": "2022-03-04T14:34:05.133Z"
   },
   {
    "duration": 32,
    "start_time": "2022-03-04T14:34:08.193Z"
   },
   {
    "duration": 19,
    "start_time": "2022-03-04T14:34:14.947Z"
   },
   {
    "duration": 37,
    "start_time": "2022-03-04T14:34:25.367Z"
   },
   {
    "duration": 11,
    "start_time": "2022-03-04T14:34:40.293Z"
   },
   {
    "duration": 11,
    "start_time": "2022-03-04T14:34:53.733Z"
   },
   {
    "duration": 568,
    "start_time": "2022-03-04T14:35:00.350Z"
   },
   {
    "duration": 1238,
    "start_time": "2022-03-04T14:35:11.273Z"
   },
   {
    "duration": 776,
    "start_time": "2022-03-04T14:40:57.687Z"
   },
   {
    "duration": 203,
    "start_time": "2022-03-04T14:41:20.265Z"
   },
   {
    "duration": 1002,
    "start_time": "2022-03-04T14:53:48.705Z"
   },
   {
    "duration": 1230,
    "start_time": "2022-03-04T14:55:34.780Z"
   },
   {
    "duration": 1413,
    "start_time": "2022-03-04T14:56:43.567Z"
   },
   {
    "duration": 1518,
    "start_time": "2022-03-04T14:59:22.510Z"
   },
   {
    "duration": 1583,
    "start_time": "2022-03-04T14:59:32.107Z"
   },
   {
    "duration": 1686,
    "start_time": "2022-03-04T14:59:58.838Z"
   },
   {
    "duration": 1584,
    "start_time": "2022-03-04T15:00:14.606Z"
   },
   {
    "duration": 1474,
    "start_time": "2022-03-04T15:01:00.761Z"
   },
   {
    "duration": 1300,
    "start_time": "2022-03-04T15:02:42.897Z"
   },
   {
    "duration": 1039,
    "start_time": "2022-03-04T15:02:56.581Z"
   },
   {
    "duration": 91,
    "start_time": "2022-03-04T15:23:16.224Z"
   },
   {
    "duration": 99,
    "start_time": "2022-03-04T15:23:54.798Z"
   },
   {
    "duration": 1318,
    "start_time": "2022-03-04T15:25:30.591Z"
   },
   {
    "duration": 246,
    "start_time": "2022-03-06T06:14:46.040Z"
   }
  ],
  "kernelspec": {
   "display_name": "Python 3 (ipykernel)",
   "language": "python",
   "name": "python3"
  },
  "language_info": {
   "codemirror_mode": {
    "name": "ipython",
    "version": 3
   },
   "file_extension": ".py",
   "mimetype": "text/x-python",
   "name": "python",
   "nbconvert_exporter": "python",
   "pygments_lexer": "ipython3",
   "version": "3.9.7"
  },
  "toc": {
   "base_numbering": 1,
   "nav_menu": {
    "height": "12px",
    "width": "160px"
   },
   "number_sections": true,
   "sideBar": true,
   "skip_h1_title": true,
   "title_cell": "Table of Contents",
   "title_sidebar": "Contents",
   "toc_cell": false,
   "toc_position": {
    "height": "calc(100% - 180px)",
    "left": "10px",
    "top": "150px",
    "width": "165px"
   },
   "toc_section_display": true,
   "toc_window_display": true
  }
 },
 "nbformat": 4,
 "nbformat_minor": 2
}
