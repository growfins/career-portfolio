{
 "cells": [
  {
   "cell_type": "code",
   "execution_count": 1,
   "metadata": {},
   "outputs": [],
   "source": [
    "warnings.simplefilter(action='ignore', category=FutureWarning)"
   ]
  },
  {
   "cell_type": "markdown",
   "metadata": {},
   "source": [
    "# Выбор локации для скважины"
   ]
  },
  {
   "cell_type": "markdown",
   "metadata": {},
   "source": [
    "Заказчик: Добывающая компания «**********».\n",
    "Цель: поиск наиболее перспективного региона для бурения скважин.\n",
    "\n",
    "Задачи:\n",
    "1. Построить модели и оценить объём запасов.\n",
    "2. Выбрать месторождение с самым перспективными значениями целевого признака. \n",
    "3. Оценить риск убытков. Выбрать регион на основе полученных данных."
   ]
  },
  {
   "cell_type": "markdown",
   "metadata": {},
   "source": [
    "# Оглавление\n",
    "\n",
    "1. [Загрузка и подготовка данных](#6)\n",
    "2. [Обучение и проверка модели](#5)  \n",
    "3. [Подготовка к расчёту прибыли](#4)  \n",
    "4. [Расчёт прибыли](#3)  \n",
    "5. [Расчёт рисков ](#2)\n",
    "6. [Вывод](#1)"
   ]
  },
  {
   "cell_type": "markdown",
   "metadata": {},
   "source": [
    "<a id=\"6\"></a>\n",
    "## Загрузка и подготовка данных"
   ]
  },
  {
   "cell_type": "code",
   "execution_count": 43,
   "metadata": {},
   "outputs": [],
   "source": [
    "region_1 = pd.read_csv('geo_data_0.csv')\n",
    "region_2 = pd.read_csv('geo_data_1.csv')\n",
    "region_3 = pd.read_csv('geo_data_2.csv')"
   ]
  },
  {
   "cell_type": "markdown",
   "metadata": {},
   "source": [
    "На анализ предоставлены три датасета, представляющие собой список скважин с набором характеристик.  \n",
    "`id` — индивидуальный код каждой скважины. В процедуре проведения анализа не участвует.  \n",
    "`f0`, `f1`, `f2` — набор признаков точек.  \n",
    "`product` — объём запасов в скважине (тыс. баррелей). **Целевой признак.**    \n",
    "В столбцах нет пропусков, артефактов.\n",
    "\n",
    "Опишем распределение целевого признака в зависимости от региона.\n",
    "\n",
    "### Регион 1"
   ]
  },
  {
   "cell_type": "code",
   "execution_count": 26,
   "metadata": {},
   "outputs": [
    {
     "name": "stdout",
     "output_type": "stream",
     "text": [
      "<class 'pandas.core.frame.DataFrame'>\n",
      "RangeIndex: 100000 entries, 0 to 99999\n",
      "Data columns (total 5 columns):\n",
      " #   Column   Non-Null Count   Dtype  \n",
      "---  ------   --------------   -----  \n",
      " 0   id       100000 non-null  object \n",
      " 1   f0       100000 non-null  float64\n",
      " 2   f1       100000 non-null  float64\n",
      " 3   f2       100000 non-null  float64\n",
      " 4   product  100000 non-null  float64\n",
      "dtypes: float64(4), object(1)\n",
      "memory usage: 3.8+ MB\n"
     ]
    },
    {
     "data": {
      "text/plain": [
       "count    100000.000000\n",
       "mean         92.500000\n",
       "std          44.288691\n",
       "min           0.000000\n",
       "25%          56.497507\n",
       "50%          91.849972\n",
       "75%         128.564089\n",
       "max         185.364347\n",
       "Name: product, dtype: float64"
      ]
     },
     "execution_count": 26,
     "metadata": {},
     "output_type": "execute_result"
    }
   ],
   "source": [
    "region_1.info()\n",
    "region_1['product'].describe()"
   ]
  },
  {
   "cell_type": "code",
   "execution_count": 27,
   "metadata": {},
   "outputs": [
    {
     "data": {
      "image/png": "[encoded data removed]",
      "text/plain": [
       "<Figure size 1440x1080 with 2 Axes>"
      ]
     },
     "metadata": {
      "needs_background": "light"
     },
     "output_type": "display_data"
    }
   ],
   "source": [
    "fig = plt.figure(figsize  = (20, 15))\n",
    "ax_1 = fig.add_subplot(2, 2, 1)\n",
    "ax_2 = fig.add_subplot(2, 2, 2)\n",
    "\n",
    "ax_1.boxplot(region_1['product'])\n",
    "ax_1.grid()\n",
    "ax_1.set(title ='Наглядное представление распределения целевого признака региона 1')\n",
    "ax_1.set_ylabel('Объём запасов в скважине, тыс баррелей')\n",
    "\n",
    "ax_2 = region_1['product'].hist()\n",
    "ax_2.set(title ='Гистограмма распределения целевого признака региона 1')\n",
    "ax_2.set_xlabel('Объём запасов в скважине, тыс баррелей')\n",
    "ax_2.set_ylabel('Частота')\n",
    "\n",
    "plt.show()"
   ]
  },
  {
   "cell_type": "markdown",
   "metadata": {},
   "source": [
    "Распределение гауссовское, данные распределены симметрично среднего значения. \n",
    "\n",
    "### Регион 2"
   ]
  },
  {
   "cell_type": "code",
   "execution_count": 28,
   "metadata": {},
   "outputs": [
    {
     "name": "stdout",
     "output_type": "stream",
     "text": [
      "<class 'pandas.core.frame.DataFrame'>\n",
      "RangeIndex: 100000 entries, 0 to 99999\n",
      "Data columns (total 5 columns):\n",
      " #   Column   Non-Null Count   Dtype  \n",
      "---  ------   --------------   -----  \n",
      " 0   id       100000 non-null  object \n",
      " 1   f0       100000 non-null  float64\n",
      " 2   f1       100000 non-null  float64\n",
      " 3   f2       100000 non-null  float64\n",
      " 4   product  100000 non-null  float64\n",
      "dtypes: float64(4), object(1)\n",
      "memory usage: 3.8+ MB\n"
     ]
    },
    {
     "data": {
      "text/plain": [
       "count    100000.000000\n",
       "mean         68.825000\n",
       "std          45.944423\n",
       "min           0.000000\n",
       "25%          26.953261\n",
       "50%          57.085625\n",
       "75%         107.813044\n",
       "max         137.945408\n",
       "Name: product, dtype: float64"
      ]
     },
     "execution_count": 28,
     "metadata": {},
     "output_type": "execute_result"
    }
   ],
   "source": [
    "region_2.info()\n",
    "region_2['product'].describe()"
   ]
  },
  {
   "cell_type": "code",
   "execution_count": 29,
   "metadata": {},
   "outputs": [
    {
     "data": {
      "image/png": "[encoded data removed]",
      "text/plain": [
       "<Figure size 1440x1080 with 2 Axes>"
      ]
     },
     "metadata": {
      "needs_background": "light"
     },
     "output_type": "display_data"
    }
   ],
   "source": [
    "fig = plt.figure(figsize  = (20, 15))\n",
    "ax_1 = fig.add_subplot(2, 2, 1)\n",
    "ax_2 = fig.add_subplot(2, 2, 2)\n",
    "\n",
    "ax_1.boxplot(region_2['product'])\n",
    "ax_1.grid()\n",
    "ax_1.set(title ='Наглядное представление распределения целевого признака региона 2')\n",
    "ax_1.set_ylabel('Объём запасов в скважине, тыс баррелей')\n",
    "\n",
    "ax_2 = region_2['product'].hist()\n",
    "ax_2.set(title ='Гистограмма распределения целевого признака региона 2')\n",
    "ax_2.set_xlabel('Объём запасов в скважине, тыс баррелей')\n",
    "ax_2.set_ylabel('Частота')\n",
    "\n",
    "plt.show()"
   ]
  },
  {
   "cell_type": "markdown",
   "metadata": {},
   "source": [
    "Распределение несимметричное, наблюдается смещение в большую сторону от среднего значения. Пики значений приходятся на самые низкие и наиболее высокие значения. Распределение признака далеко от нормального.\n",
    "\n",
    "### Регион 3"
   ]
  },
  {
   "cell_type": "code",
   "execution_count": 30,
   "metadata": {},
   "outputs": [
    {
     "name": "stdout",
     "output_type": "stream",
     "text": [
      "<class 'pandas.core.frame.DataFrame'>\n",
      "RangeIndex: 100000 entries, 0 to 99999\n",
      "Data columns (total 5 columns):\n",
      " #   Column   Non-Null Count   Dtype  \n",
      "---  ------   --------------   -----  \n",
      " 0   id       100000 non-null  object \n",
      " 1   f0       100000 non-null  float64\n",
      " 2   f1       100000 non-null  float64\n",
      " 3   f2       100000 non-null  float64\n",
      " 4   product  100000 non-null  float64\n",
      "dtypes: float64(4), object(1)\n",
      "memory usage: 3.8+ MB\n"
     ]
    },
    {
     "data": {
      "text/plain": [
       "count    100000.000000\n",
       "mean         95.000000\n",
       "std          44.749921\n",
       "min           0.000000\n",
       "25%          59.450441\n",
       "50%          94.925613\n",
       "75%         130.595027\n",
       "max         190.029838\n",
       "Name: product, dtype: float64"
      ]
     },
     "execution_count": 30,
     "metadata": {},
     "output_type": "execute_result"
    }
   ],
   "source": [
    "region_3.info()\n",
    "region_3['product'].describe()"
   ]
  },
  {
   "cell_type": "code",
   "execution_count": 31,
   "metadata": {},
   "outputs": [
    {
     "data": {
      "image/png": "[encoded data removed]",
      "text/plain": [
       "<Figure size 1440x1080 with 2 Axes>"
      ]
     },
     "metadata": {
      "needs_background": "light"
     },
     "output_type": "display_data"
    }
   ],
   "source": [
    "fig = plt.figure(figsize  = (20, 15))\n",
    "ax_1 = fig.add_subplot(2, 2, 1)\n",
    "ax_2 = fig.add_subplot(2, 2, 2)\n",
    "\n",
    "ax_1.boxplot(region_3['product'])\n",
    "ax_1.grid()\n",
    "ax_1.set(title ='Наглядное представление распределения целевого признака региона 3')\n",
    "ax_1.set_ylabel('Объём запасов в скважине, тыс баррелей')\n",
    "\n",
    "ax_2 = region_3['product'].hist()\n",
    "ax_2.set(title ='Гистограмма распределения целевого признака региона 3')\n",
    "ax_2.set_xlabel('Объём запасов в скважине, тыс баррелей')\n",
    "ax_2.set_ylabel('Частота')\n",
    "\n",
    "plt.show()"
   ]
  },
  {
   "cell_type": "markdown",
   "metadata": {},
   "source": [
    "Распределение гауссовское, данные распределены симметрично среднего значения. \n",
    "\n",
    "### Проверка на мультиколлинеарность"
   ]
  },
  {
   "cell_type": "code",
   "execution_count": 32,
   "metadata": {},
   "outputs": [
    {
     "data": {
      "text/html": [
       "<div>\n",
       "<style scoped>\n",
       "    .dataframe tbody tr th:only-of-type {\n",
       "        vertical-align: middle;\n",
       "    }\n",
       "\n",
       "    .dataframe tbody tr th {\n",
       "        vertical-align: top;\n",
       "    }\n",
       "\n",
       "    .dataframe thead th {\n",
       "        text-align: right;\n",
       "    }\n",
       "</style>\n",
       "<table border=\"1\" class=\"dataframe\">\n",
       "  <thead>\n",
       "    <tr style=\"text-align: right;\">\n",
       "      <th></th>\n",
       "      <th>f0</th>\n",
       "      <th>f1</th>\n",
       "      <th>f2</th>\n",
       "      <th>product</th>\n",
       "    </tr>\n",
       "  </thead>\n",
       "  <tbody>\n",
       "    <tr>\n",
       "      <th>f0</th>\n",
       "      <td>1.000000</td>\n",
       "      <td>-0.440723</td>\n",
       "      <td>-0.003153</td>\n",
       "      <td>0.143536</td>\n",
       "    </tr>\n",
       "    <tr>\n",
       "      <th>f1</th>\n",
       "      <td>-0.440723</td>\n",
       "      <td>1.000000</td>\n",
       "      <td>0.001724</td>\n",
       "      <td>-0.192356</td>\n",
       "    </tr>\n",
       "    <tr>\n",
       "      <th>f2</th>\n",
       "      <td>-0.003153</td>\n",
       "      <td>0.001724</td>\n",
       "      <td>1.000000</td>\n",
       "      <td>0.483663</td>\n",
       "    </tr>\n",
       "    <tr>\n",
       "      <th>product</th>\n",
       "      <td>0.143536</td>\n",
       "      <td>-0.192356</td>\n",
       "      <td>0.483663</td>\n",
       "      <td>1.000000</td>\n",
       "    </tr>\n",
       "  </tbody>\n",
       "</table>\n",
       "</div>"
      ],
      "text/plain": [
       "               f0        f1        f2   product\n",
       "f0       1.000000 -0.440723 -0.003153  0.143536\n",
       "f1      -0.440723  1.000000  0.001724 -0.192356\n",
       "f2      -0.003153  0.001724  1.000000  0.483663\n",
       "product  0.143536 -0.192356  0.483663  1.000000"
      ]
     },
     "execution_count": 32,
     "metadata": {},
     "output_type": "execute_result"
    }
   ],
   "source": [
    "region_1.corr()"
   ]
  },
  {
   "cell_type": "code",
   "execution_count": 33,
   "metadata": {},
   "outputs": [
    {
     "data": {
      "text/html": [
       "<div>\n",
       "<style scoped>\n",
       "    .dataframe tbody tr th:only-of-type {\n",
       "        vertical-align: middle;\n",
       "    }\n",
       "\n",
       "    .dataframe tbody tr th {\n",
       "        vertical-align: top;\n",
       "    }\n",
       "\n",
       "    .dataframe thead th {\n",
       "        text-align: right;\n",
       "    }\n",
       "</style>\n",
       "<table border=\"1\" class=\"dataframe\">\n",
       "  <thead>\n",
       "    <tr style=\"text-align: right;\">\n",
       "      <th></th>\n",
       "      <th>f0</th>\n",
       "      <th>f1</th>\n",
       "      <th>f2</th>\n",
       "      <th>product</th>\n",
       "    </tr>\n",
       "  </thead>\n",
       "  <tbody>\n",
       "    <tr>\n",
       "      <th>f0</th>\n",
       "      <td>1.000000</td>\n",
       "      <td>0.182287</td>\n",
       "      <td>-0.001777</td>\n",
       "      <td>-0.030491</td>\n",
       "    </tr>\n",
       "    <tr>\n",
       "      <th>f1</th>\n",
       "      <td>0.182287</td>\n",
       "      <td>1.000000</td>\n",
       "      <td>-0.002595</td>\n",
       "      <td>-0.010155</td>\n",
       "    </tr>\n",
       "    <tr>\n",
       "      <th>f2</th>\n",
       "      <td>-0.001777</td>\n",
       "      <td>-0.002595</td>\n",
       "      <td>1.000000</td>\n",
       "      <td>0.999397</td>\n",
       "    </tr>\n",
       "    <tr>\n",
       "      <th>product</th>\n",
       "      <td>-0.030491</td>\n",
       "      <td>-0.010155</td>\n",
       "      <td>0.999397</td>\n",
       "      <td>1.000000</td>\n",
       "    </tr>\n",
       "  </tbody>\n",
       "</table>\n",
       "</div>"
      ],
      "text/plain": [
       "               f0        f1        f2   product\n",
       "f0       1.000000  0.182287 -0.001777 -0.030491\n",
       "f1       0.182287  1.000000 -0.002595 -0.010155\n",
       "f2      -0.001777 -0.002595  1.000000  0.999397\n",
       "product -0.030491 -0.010155  0.999397  1.000000"
      ]
     },
     "execution_count": 33,
     "metadata": {},
     "output_type": "execute_result"
    }
   ],
   "source": [
    "region_2.corr()"
   ]
  },
  {
   "cell_type": "code",
   "execution_count": 34,
   "metadata": {},
   "outputs": [
    {
     "data": {
      "text/html": [
       "<div>\n",
       "<style scoped>\n",
       "    .dataframe tbody tr th:only-of-type {\n",
       "        vertical-align: middle;\n",
       "    }\n",
       "\n",
       "    .dataframe tbody tr th {\n",
       "        vertical-align: top;\n",
       "    }\n",
       "\n",
       "    .dataframe thead th {\n",
       "        text-align: right;\n",
       "    }\n",
       "</style>\n",
       "<table border=\"1\" class=\"dataframe\">\n",
       "  <thead>\n",
       "    <tr style=\"text-align: right;\">\n",
       "      <th></th>\n",
       "      <th>f0</th>\n",
       "      <th>f1</th>\n",
       "      <th>f2</th>\n",
       "      <th>product</th>\n",
       "    </tr>\n",
       "  </thead>\n",
       "  <tbody>\n",
       "    <tr>\n",
       "      <th>f0</th>\n",
       "      <td>1.000000</td>\n",
       "      <td>0.000528</td>\n",
       "      <td>-0.000448</td>\n",
       "      <td>-0.001987</td>\n",
       "    </tr>\n",
       "    <tr>\n",
       "      <th>f1</th>\n",
       "      <td>0.000528</td>\n",
       "      <td>1.000000</td>\n",
       "      <td>0.000779</td>\n",
       "      <td>-0.001012</td>\n",
       "    </tr>\n",
       "    <tr>\n",
       "      <th>f2</th>\n",
       "      <td>-0.000448</td>\n",
       "      <td>0.000779</td>\n",
       "      <td>1.000000</td>\n",
       "      <td>0.445871</td>\n",
       "    </tr>\n",
       "    <tr>\n",
       "      <th>product</th>\n",
       "      <td>-0.001987</td>\n",
       "      <td>-0.001012</td>\n",
       "      <td>0.445871</td>\n",
       "      <td>1.000000</td>\n",
       "    </tr>\n",
       "  </tbody>\n",
       "</table>\n",
       "</div>"
      ],
      "text/plain": [
       "               f0        f1        f2   product\n",
       "f0       1.000000  0.000528 -0.000448 -0.001987\n",
       "f1       0.000528  1.000000  0.000779 -0.001012\n",
       "f2      -0.000448  0.000779  1.000000  0.445871\n",
       "product -0.001987 -0.001012  0.445871  1.000000"
      ]
     },
     "execution_count": 34,
     "metadata": {},
     "output_type": "execute_result"
    }
   ],
   "source": [
    "region_3.corr()"
   ]
  },
  {
   "cell_type": "markdown",
   "metadata": {},
   "source": [
    "<a id=\"5\"></a>\n",
    "## Обучение и проверка модели"
   ]
  },
  {
   "cell_type": "markdown",
   "metadata": {},
   "source": [
    "Обучим три модели - каждую на своём, посвященном одному региону, наборе данных.  \n",
    "Избранная модель - линейная регрессия  \n",
    "Избранные метрики: RMSE  \n",
    "\n",
    "Целевой признак - объём нефти, который можно добыть из скважины. RMSE покажет, насколько в среднм отклоняются значения предсказанных значений целевого признака от реальных, т.е. покажет на сколько тысяч баррелей нефти в среднем ошибается модель.\n",
    "\n",
    "Cледуя следующему алгоритму, обучим свою модель для каждого региона.  \n",
    "1. Разобьём данные на обучающую и валидационную выборки в соотношении 75:25.\n",
    "2. Обучим модель и сделаем предсказания на валидационной выборке.\n",
    "3. Сохраним предсказания и правильные ответы на валидационной выборке.\n",
    "4. Посчитаем RMSE модели.\n",
    "5. Сравним RMSE модели со средним запасом сырья на действительных данных (ответах)."
   ]
  },
  {
   "cell_type": "code",
   "execution_count": 35,
   "metadata": {},
   "outputs": [
    {
     "name": "stdout",
     "output_type": "stream",
     "text": [
      "RMSE модели линейной регрессии на валидационной выборке: 37.64786282376177\n",
      "Предсказанный средний запас сырья 92.54936189116309\n",
      "Средний запас сырья 92.49999999999974\n"
     ]
    }
   ],
   "source": [
    "features = region_1.drop(['product', 'id'], axis = 1)\n",
    "target = region_1['product']\n",
    "features_train, features_valid, target_train, target_valid = train_test_split(features, target, \n",
    "                                                                              test_size = 0.25, random_state = 123)\n",
    "model1 = LinearRegression()\n",
    "model1.fit(features_train, target_train)\n",
    "predictions_valid = model1.predict(features_valid)\n",
    "result = mean_squared_error(target_valid, predictions_valid)**0.5\n",
    "mean = predictions_valid.mean()\n",
    "print('RMSE модели линейной регрессии на валидационной выборке:', result)\n",
    "print('Предсказанный средний запас сырья', mean)\n",
    "print('Средний запас сырья', target.mean())"
   ]
  },
  {
   "cell_type": "code",
   "execution_count": 36,
   "metadata": {},
   "outputs": [
    {
     "name": "stdout",
     "output_type": "stream",
     "text": [
      "RMSE модели линейной регрессии на валидационной выборке: 0.8954139804944299\n",
      "Средний запас предсказанного сырья 69.28001860653976\n",
      "Средний запас сырья 68.82500000002561\n"
     ]
    }
   ],
   "source": [
    "features = region_2.drop(['product', 'id'], axis = 1)\n",
    "target = region_2['product']\n",
    "features_train, features_valid, target_train, target_valid = train_test_split(features, target, \n",
    "                                                                              test_size = 0.25, random_state = 123)\n",
    "model2 = LinearRegression()\n",
    "model2.fit(features_train, target_train)\n",
    "predictions_valid = model2.predict(features_valid)\n",
    "result = mean_squared_error(target_valid, predictions_valid)**0.5\n",
    "mean = predictions_valid.mean()\n",
    "print('RMSE модели линейной регрессии на валидационной выборке:', result)\n",
    "print('Средний запас предсказанного сырья', mean)\n",
    "print('Средний запас сырья', target.mean())"
   ]
  },
  {
   "cell_type": "code",
   "execution_count": 37,
   "metadata": {},
   "outputs": [
    {
     "name": "stdout",
     "output_type": "stream",
     "text": [
      "RMSE модели линейной регрессии на валидационной выборке: 40.12803006598514\n",
      "Средний запас предсказанного сырья 95.09859933591373\n",
      "Средний запас сырья 95.00000000000041\n"
     ]
    }
   ],
   "source": [
    "features = region_3.drop(['product', 'id'], axis = 1)\n",
    "target = region_3['product']\n",
    "features_train, features_valid, target_train, target_valid = train_test_split(features, target, \n",
    "                                                                              test_size = 0.25, random_state = 123)\n",
    "model3 = LinearRegression()\n",
    "model3.fit(features_train, target_train)\n",
    "predictions_valid = model3.predict(features_valid)\n",
    "result = mean_squared_error(target_valid, predictions_valid)**0.5\n",
    "mean = predictions_valid.mean()\n",
    "print(\"RMSE модели линейной регрессии на валидационной выборке:\", result)\n",
    "print('Средний запас предсказанного сырья', mean)\n",
    "print('Средний запас сырья', target.mean())"
   ]
  },
  {
   "cell_type": "markdown",
   "metadata": {},
   "source": [
    "**Вывод: среднее всех предсказанных моделями значений (каждой для своего региона) достаточно близко к реальному среднему значению запасов сырья во всех скважинах (для этого региона). Модель №1 и №3 дают очень большой разброс предсказаний относительно реальных значений, в то время как вторая модель работает очень чётко.**"
   ]
  },
  {
   "cell_type": "markdown",
   "metadata": {},
   "source": [
    "<a id=\"4\"></a>\n",
    "## Подготовка к расчёту прибыли\n",
    "\n",
    "Данные из условия сохраним в переменных (для названия используем апперкейс).\n",
    "Отметим: число скважин, подлежащих исследованию `N_SEARCH`, и разработке `N_BEST`, бюджет разработки `budget`, цена за тысячу литров баррелей `price`."
   ]
  },
  {
   "cell_type": "code",
   "execution_count": 38,
   "metadata": {},
   "outputs": [],
   "source": [
    "N_RESEARCH = 500\n",
    "N_BEST = 200\n",
    "BUDGET = 10000000000\n",
    "PRICE = 450000"
   ]
  },
  {
   "cell_type": "code",
   "execution_count": 39,
   "metadata": {},
   "outputs": [
    {
     "name": "stdout",
     "output_type": "stream",
     "text": [
      "Минимальный объём сырья для безубыточной разработки скважины составит: 111.11111111111111\n"
     ]
    }
   ],
   "source": [
    "# если на разработку 500 точек выделяют 10 млрд ₽, тогда эту сумму мы \"взыщем\" с лучших 200 скважин.\n",
    "# прибыль с каждой скважины в данном случае должна составлять \n",
    "PROFIT_PER_WELL = BUDGET / N_BEST\n",
    "MIN_1000_BBLS = PROFIT_PER_WELL / PRICE \n",
    "print('Минимальный объём сырья для безубыточной разработки скважины составит:', MIN_1000_BBLS)"
   ]
  },
  {
   "cell_type": "markdown",
   "metadata": {},
   "source": [
    "**Вывод: согласно расчётам и предсказаниям, ни в одном из наших регионов не хватит (по оценке среднего) сырья, чтобы разработка этого региона была безубыточна.** "
   ]
  },
  {
   "cell_type": "markdown",
   "metadata": {},
   "source": [
    "<a id=\"3\"></a>\n",
    "## Расчёт прибыли"
   ]
  },
  {
   "cell_type": "markdown",
   "metadata": {},
   "source": [
    "Оценить регион просто по среднему - не достоверно и не информативно.   \n",
    "\n",
    "Напишем функцию для расчёта прибыли, исходя из условий. \"Смоделируем\" разработку 500 скважин в регионах, а прибыль посчитаем по реальным значеням 200 лучших предсказанных моделью скважин.  \n",
    "\n",
    "Последовательность работы функции:\n",
    "1. Функция отсортирует предсказанные значения объемов сырья по убыванию, и выберет 200 лучших из них.\n",
    "2. Далее она просуммирует целевое значение объёма сырья, соответствующее этим предсказаниям.\n",
    "3. А после рассчитает прибыль для полученного объёма сырья (общая прибыль с N_BEST скважин за минусом ушедшего на разработку бюджета)."
   ]
  },
  {
   "cell_type": "code",
   "execution_count": 40,
   "metadata": {},
   "outputs": [],
   "source": [
    "def profit_calculator(targeted, predicted):\n",
    "    predicted = predicted.sort_values(ascending = False)[:N_BEST]\n",
    "    top_200_wells = targeted[predicted.index]\n",
    "    revenue = top_200_wells.sum()*PRICE\n",
    "    return revenue - BUDGET"
   ]
  },
  {
   "cell_type": "markdown",
   "metadata": {},
   "source": [
    "Рассчитаем прибыль с каждого региона."
   ]
  },
  {
   "cell_type": "code",
   "execution_count": 41,
   "metadata": {},
   "outputs": [
    {
     "name": "stdout",
     "output_type": "stream",
     "text": [
      "Регион 1\n",
      "Прибыль максимального объёма сырья с региона: 3492332479.7777233\n",
      "\n",
      "Регион 2\n",
      "Прибыль максимального объёма сырья с региона: 2415086696.681511\n",
      "\n",
      "Регион 3\n",
      "Прибыль максимального объёма сырья с региона: 2595973993.4372005\n",
      "\n"
     ]
    }
   ],
   "source": [
    "regions = [region_1, region_2, region_3]\n",
    "models = [model1, model2, model3]\n",
    "for i in range(3):\n",
    "    mean_values = []\n",
    "    counter = 0\n",
    "    general_predictions = pd.Series(models[i].predict(regions[i].drop(['product', 'id'], axis = 1)))\n",
    "    target = regions[i]['product']\n",
    "    print(\"Регион\", i+1)\n",
    "    print(\"Прибыль максимального объёма сырья с региона:\", profit_calculator(target, general_predictions))\n",
    "    print()"
   ]
  },
  {
   "cell_type": "markdown",
   "metadata": {},
   "source": [
    "**Вывод: пока самым прибыльным для разработки кажется регион 1: при прочих равных условиях прибыль с него наибольшая - но это если брать 200 самых перспективных скважин.**"
   ]
  },
  {
   "cell_type": "markdown",
   "metadata": {},
   "source": [
    "<a id=\"2\"></a>\n",
    "## Расчёт рисков  \n",
    "\n",
    "Для каждого региона рассчитаем среднюю прибыль, 95%-й доверительный интервал и риск убытков.  \n",
    "\n",
    "Применим технику Bootstrap с тысячей выборок, чтобы найти распределение прибылиб а такде вероятность убытков. За вероятность убытка примем процент отрицательных исходов прибыли после построения её распределения техникой Bootstrap. Убыточнымм регион считается, если этот показатель составит более 2,5%.  "
   ]
  },
  {
   "cell_type": "code",
   "execution_count": 42,
   "metadata": {},
   "outputs": [
    {
     "name": "stdout",
     "output_type": "stream",
     "text": [
      "Регион 1\n",
      "Средняя выручка: 477499021.60808253\n",
      "95%-ый доверительный интервал: (-57827885.50036812, 974818776.7960873)\n",
      "% убытка 4.095904095904096\n",
      "\n",
      "Регион 2\n",
      "Средняя выручка: 467670380.74186254\n",
      "95%-ый доверительный интервал: (68908990.27456474, 871473437.4052334)\n",
      "% убытка 0.999000999000999\n",
      "\n",
      "Регион 3\n",
      "Средняя выручка: 361696130.46366715\n",
      "95%-ый доверительный интервал: (-182668406.7402687, 870952002.0044346)\n",
      "% убытка 8.89110889110889\n",
      "\n"
     ]
    }
   ],
   "source": [
    "state = np.random.RandomState(123)\n",
    "regions = [region_1, region_2, region_3]\n",
    "models = [model1, model2, model3]\n",
    "for i in range(3):\n",
    "    mean_values = []\n",
    "    counter = 0\n",
    "    features = regions[i].drop(['product', 'id'], axis = 1)\n",
    "    target = regions[i]['product']                           \n",
    "    features_train, features_test, target_train, target_test = train_test_split(features, target, \n",
    "                                                                              test_size = 0.25, random_state = 123)\n",
    "    features_test = features_test.reset_index(drop = True)\n",
    "    target_test = target_test.reset_index(drop = True)\n",
    "    general_predictions = pd.Series(models[i].predict(features_test))\n",
    "    for n in range(1001):\n",
    "        predicted = general_predictions.sample(n=500, replace = True, random_state = state)\n",
    "        value = profit_calculator(target_test, predicted)\n",
    "        if value < 0:\n",
    "            counter += 1\n",
    "        mean_values.append(value)\n",
    "    mean_values = pd.Series(mean_values)\n",
    "    loss = counter * 100 / len(mean_values)\n",
    "    confidence_interval = st.t.interval(0.95, len(mean_values)-1, mean_values.mean(), mean_values.sem())\n",
    "    print(\"Регион\", i+1)\n",
    "    print(\"Средняя выручка:\", mean_values.mean())\n",
    "    print(\"95%-ый доверительный интервал:\", (mean_values.quantile(0.025), mean_values.quantile(0.975)))\n",
    "    print(\"% убытка\", loss)\n",
    "    print()"
   ]
  },
  {
   "cell_type": "markdown",
   "metadata": {},
   "source": [
    "<a id=\"1\"></a>\n",
    "**Вывод: риск понести убытки для заказчика будет минимальным, если для разработки будут вестись  в регионе №2. Средняя выручка в этом регионе - наибольшая, а риски - наименьшие и составляют ~ 1%.**"
   ]
  }
 ],
 "metadata": {
  "ExecuteTimeLog": [
   {
    "duration": 535,
    "start_time": "2021-09-20T14:30:52.202Z"
   },
   {
    "duration": 136,
    "start_time": "2021-09-20T14:31:26.094Z"
   },
   {
    "duration": 120,
    "start_time": "2021-09-20T14:31:50.608Z"
   },
   {
    "duration": 121,
    "start_time": "2021-09-20T14:31:53.511Z"
   },
   {
    "duration": 352,
    "start_time": "2021-09-20T14:32:19.891Z"
   },
   {
    "duration": 337,
    "start_time": "2021-09-20T14:32:27.454Z"
   },
   {
    "duration": 7,
    "start_time": "2021-09-20T14:32:34.141Z"
   },
   {
    "duration": 9,
    "start_time": "2021-09-20T14:32:38.009Z"
   },
   {
    "duration": 9,
    "start_time": "2021-09-20T14:32:46.843Z"
   },
   {
    "duration": 9,
    "start_time": "2021-09-20T14:32:49.673Z"
   },
   {
    "duration": 359,
    "start_time": "2021-09-20T14:32:53.415Z"
   },
   {
    "duration": 90,
    "start_time": "2021-09-20T14:33:00.123Z"
   },
   {
    "duration": 10,
    "start_time": "2021-09-20T14:33:03.196Z"
   },
   {
    "duration": 266,
    "start_time": "2021-09-20T14:34:23.119Z"
   },
   {
    "duration": 16,
    "start_time": "2021-09-20T14:34:26.638Z"
   },
   {
    "duration": 16,
    "start_time": "2021-09-20T14:34:33.321Z"
   },
   {
    "duration": 9,
    "start_time": "2021-09-20T14:34:47.932Z"
   },
   {
    "duration": 21,
    "start_time": "2021-09-20T14:39:06.819Z"
   },
   {
    "duration": 13,
    "start_time": "2021-09-20T14:40:20.634Z"
   },
   {
    "duration": 24,
    "start_time": "2021-09-20T14:40:30.121Z"
   },
   {
    "duration": 404,
    "start_time": "2021-09-20T14:44:19.222Z"
   },
   {
    "duration": 79,
    "start_time": "2021-09-20T14:45:12.961Z"
   },
   {
    "duration": 712,
    "start_time": "2021-09-20T14:50:05.370Z"
   },
   {
    "duration": 256,
    "start_time": "2021-09-20T14:50:13.985Z"
   },
   {
    "duration": 14,
    "start_time": "2021-09-20T14:51:23.573Z"
   },
   {
    "duration": 380,
    "start_time": "2021-09-20T15:06:44.192Z"
   },
   {
    "duration": 3,
    "start_time": "2021-09-20T15:07:50.401Z"
   },
   {
    "duration": 416,
    "start_time": "2021-09-20T15:08:06.971Z"
   },
   {
    "duration": 54,
    "start_time": "2021-09-20T15:08:41.946Z"
   },
   {
    "duration": 2,
    "start_time": "2021-09-20T15:09:14.004Z"
   },
   {
    "duration": 47,
    "start_time": "2021-09-20T15:09:21.668Z"
   },
   {
    "duration": 48,
    "start_time": "2021-09-20T15:09:24.538Z"
   },
   {
    "duration": 287,
    "start_time": "2021-09-20T15:12:14.121Z"
   },
   {
    "duration": -14720291,
    "start_time": "2021-09-20T19:18:39.715Z"
   },
   {
    "duration": 6249,
    "start_time": "2021-09-20T15:13:23.231Z"
   },
   {
    "duration": 6436,
    "start_time": "2021-09-20T15:14:23.888Z"
   },
   {
    "duration": 7100,
    "start_time": "2021-09-20T15:15:15.351Z"
   },
   {
    "duration": 6412,
    "start_time": "2021-09-20T15:15:35.911Z"
   },
   {
    "duration": 20,
    "start_time": "2021-09-20T15:18:23.977Z"
   },
   {
    "duration": 18,
    "start_time": "2021-09-20T15:18:50.173Z"
   },
   {
    "duration": 19,
    "start_time": "2021-09-20T15:19:16.099Z"
   },
   {
    "duration": 19,
    "start_time": "2021-09-20T15:19:18.931Z"
   },
   {
    "duration": 67,
    "start_time": "2021-09-20T15:19:24.181Z"
   },
   {
    "duration": 55,
    "start_time": "2021-09-20T15:21:45.457Z"
   },
   {
    "duration": 57,
    "start_time": "2021-09-20T15:22:10.422Z"
   },
   {
    "duration": 13,
    "start_time": "2021-09-20T15:23:13.407Z"
   },
   {
    "duration": 19,
    "start_time": "2021-09-20T15:23:19.782Z"
   },
   {
    "duration": 276,
    "start_time": "2021-09-20T15:23:46.762Z"
   },
   {
    "duration": 71,
    "start_time": "2021-09-20T15:24:31.703Z"
   },
   {
    "duration": 262,
    "start_time": "2021-09-20T15:24:35.831Z"
   },
   {
    "duration": 122,
    "start_time": "2021-09-20T15:25:10.775Z"
   },
   {
    "duration": 125,
    "start_time": "2021-09-20T15:25:22.681Z"
   },
   {
    "duration": 122,
    "start_time": "2021-09-20T15:25:52.097Z"
   },
   {
    "duration": 127,
    "start_time": "2021-09-20T15:26:18.854Z"
   },
   {
    "duration": 127,
    "start_time": "2021-09-20T15:26:27.180Z"
   },
   {
    "duration": 123,
    "start_time": "2021-09-20T15:26:52.583Z"
   },
   {
    "duration": 266,
    "start_time": "2021-09-20T15:27:20.715Z"
   },
   {
    "duration": 34,
    "start_time": "2021-09-20T15:29:53.671Z"
   },
   {
    "duration": 243,
    "start_time": "2021-09-20T15:31:52.873Z"
   },
   {
    "duration": 223,
    "start_time": "2021-09-20T15:32:04.286Z"
   },
   {
    "duration": 43,
    "start_time": "2021-09-20T15:32:26.964Z"
   },
   {
    "duration": 431,
    "start_time": "2021-09-20T15:35:59.652Z"
   },
   {
    "duration": 614,
    "start_time": "2021-09-20T15:36:52.695Z"
   },
   {
    "duration": 18,
    "start_time": "2021-09-20T15:37:01.227Z"
   },
   {
    "duration": 130,
    "start_time": "2021-09-20T15:37:09.282Z"
   },
   {
    "duration": 711,
    "start_time": "2021-09-20T15:37:44.349Z"
   },
   {
    "duration": 158,
    "start_time": "2021-09-20T15:37:52.843Z"
   },
   {
    "duration": 3,
    "start_time": "2021-09-20T15:48:30.987Z"
   },
   {
    "duration": 41,
    "start_time": "2021-09-20T16:23:23.862Z"
   },
   {
    "duration": 275,
    "start_time": "2021-09-20T16:55:12.038Z"
   },
   {
    "duration": 3,
    "start_time": "2021-09-20T16:55:18.369Z"
   },
   {
    "duration": 4,
    "start_time": "2021-09-20T16:56:17.483Z"
   },
   {
    "duration": 3,
    "start_time": "2021-09-20T16:57:22.274Z"
   },
   {
    "duration": 4,
    "start_time": "2021-09-20T16:58:41.341Z"
   },
   {
    "duration": 4,
    "start_time": "2021-09-20T16:58:51.258Z"
   },
   {
    "duration": 3,
    "start_time": "2021-09-20T16:58:54.512Z"
   },
   {
    "duration": 3,
    "start_time": "2021-09-20T16:58:56.395Z"
   },
   {
    "duration": 4,
    "start_time": "2021-09-20T17:04:27.753Z"
   },
   {
    "duration": 445,
    "start_time": "2021-09-21T15:11:25.373Z"
   },
   {
    "duration": 347,
    "start_time": "2021-09-21T15:11:59.558Z"
   },
   {
    "duration": 1456,
    "start_time": "2021-09-21T15:12:11.250Z"
   },
   {
    "duration": 460,
    "start_time": "2021-09-21T15:12:12.709Z"
   },
   {
    "duration": 255,
    "start_time": "2021-09-21T15:12:13.172Z"
   },
   {
    "duration": 252,
    "start_time": "2021-09-21T15:12:13.430Z"
   },
   {
    "duration": 277,
    "start_time": "2021-09-21T15:12:13.684Z"
   },
   {
    "duration": 55,
    "start_time": "2021-09-21T15:12:13.963Z"
   },
   {
    "duration": 83,
    "start_time": "2021-09-21T15:12:14.021Z"
   },
   {
    "duration": 11,
    "start_time": "2021-09-21T15:12:14.108Z"
   },
   {
    "duration": 661,
    "start_time": "2021-09-21T15:12:14.122Z"
   },
   {
    "duration": -14720590,
    "start_time": "2021-09-21T19:17:35.376Z"
   },
   {
    "duration": -14720596,
    "start_time": "2021-09-21T19:17:35.383Z"
   },
   {
    "duration": -14720644,
    "start_time": "2021-09-21T19:17:35.433Z"
   },
   {
    "duration": -14720649,
    "start_time": "2021-09-21T19:17:35.439Z"
   },
   {
    "duration": -14720651,
    "start_time": "2021-09-21T19:17:35.443Z"
   },
   {
    "duration": 80,
    "start_time": "2021-09-21T15:12:40.210Z"
   },
   {
    "duration": 4,
    "start_time": "2021-09-21T15:12:45.426Z"
   },
   {
    "duration": 5,
    "start_time": "2021-09-21T15:12:45.879Z"
   },
   {
    "duration": 182,
    "start_time": "2021-09-21T15:12:48.092Z"
   },
   {
    "duration": 4,
    "start_time": "2021-09-21T15:12:53.787Z"
   },
   {
    "duration": 353,
    "start_time": "2021-09-21T15:12:59.343Z"
   },
   {
    "duration": 15,
    "start_time": "2021-09-21T15:13:04.735Z"
   },
   {
    "duration": 5,
    "start_time": "2021-09-21T15:14:37.000Z"
   },
   {
    "duration": 459,
    "start_time": "2021-09-21T15:14:49.953Z"
   },
   {
    "duration": 379,
    "start_time": "2021-09-21T15:16:14.601Z"
   },
   {
    "duration": 370,
    "start_time": "2021-09-21T15:16:44.017Z"
   },
   {
    "duration": 453,
    "start_time": "2021-09-21T15:16:51.922Z"
   },
   {
    "duration": 809,
    "start_time": "2021-09-21T15:17:01.149Z"
   },
   {
    "duration": 358,
    "start_time": "2021-09-21T15:17:25.748Z"
   },
   {
    "duration": 363,
    "start_time": "2021-09-21T15:18:04.065Z"
   },
   {
    "duration": 844,
    "start_time": "2021-09-21T15:18:17.254Z"
   },
   {
    "duration": 804,
    "start_time": "2021-09-21T15:19:49.055Z"
   },
   {
    "duration": 425,
    "start_time": "2021-09-21T15:20:34.101Z"
   },
   {
    "duration": 812,
    "start_time": "2021-09-21T15:20:54.619Z"
   },
   {
    "duration": 4,
    "start_time": "2021-09-21T15:21:09.013Z"
   },
   {
    "duration": 775,
    "start_time": "2021-09-21T15:21:11.921Z"
   },
   {
    "duration": 100,
    "start_time": "2021-09-21T15:23:06.058Z"
   },
   {
    "duration": 4,
    "start_time": "2021-09-21T15:23:10.179Z"
   },
   {
    "duration": 5,
    "start_time": "2021-09-21T15:23:10.796Z"
   },
   {
    "duration": 4,
    "start_time": "2021-09-21T15:23:14.761Z"
   },
   {
    "duration": 14,
    "start_time": "2021-09-21T15:23:15.595Z"
   },
   {
    "duration": 900,
    "start_time": "2021-09-21T15:23:16.293Z"
   },
   {
    "duration": 748,
    "start_time": "2021-09-21T15:26:05.625Z"
   },
   {
    "duration": 104,
    "start_time": "2021-09-21T15:33:06.354Z"
   },
   {
    "duration": 511,
    "start_time": "2021-09-21T15:33:14.689Z"
   },
   {
    "duration": 85,
    "start_time": "2021-09-21T15:33:28.812Z"
   },
   {
    "duration": 490,
    "start_time": "2021-09-21T15:34:34.970Z"
   },
   {
    "duration": 4,
    "start_time": "2021-09-21T15:36:05.106Z"
   },
   {
    "duration": 782,
    "start_time": "2021-09-21T15:36:07.785Z"
   },
   {
    "duration": 754,
    "start_time": "2021-09-21T15:36:16.335Z"
   },
   {
    "duration": 826,
    "start_time": "2021-09-21T15:46:13.428Z"
   },
   {
    "duration": 7,
    "start_time": "2021-09-21T15:47:24.165Z"
   },
   {
    "duration": 968,
    "start_time": "2021-09-21T15:47:28.990Z"
   },
   {
    "duration": 4,
    "start_time": "2021-09-21T15:47:42.887Z"
   },
   {
    "duration": 140,
    "start_time": "2021-09-21T15:47:51.311Z"
   },
   {
    "duration": 600,
    "start_time": "2021-09-21T15:48:01.668Z"
   },
   {
    "duration": 563,
    "start_time": "2021-09-21T15:50:10.504Z"
   },
   {
    "duration": 607,
    "start_time": "2021-09-21T15:51:01.358Z"
   },
   {
    "duration": 607,
    "start_time": "2021-09-21T15:51:24.861Z"
   },
   {
    "duration": 546,
    "start_time": "2021-09-21T15:51:33.722Z"
   },
   {
    "duration": 591,
    "start_time": "2021-09-21T15:51:44.285Z"
   },
   {
    "duration": 136,
    "start_time": "2021-09-21T15:51:50.328Z"
   },
   {
    "duration": 4,
    "start_time": "2021-09-21T15:51:53.847Z"
   },
   {
    "duration": 212,
    "start_time": "2021-09-21T15:51:56.652Z"
   },
   {
    "duration": 544,
    "start_time": "2021-09-21T15:52:00.822Z"
   },
   {
    "duration": 526,
    "start_time": "2021-09-21T15:52:19.836Z"
   },
   {
    "duration": 562,
    "start_time": "2021-09-21T15:52:27.813Z"
   },
   {
    "duration": 592,
    "start_time": "2021-09-21T15:52:55.472Z"
   },
   {
    "duration": 366,
    "start_time": "2021-09-21T15:56:42.997Z"
   },
   {
    "duration": 4,
    "start_time": "2021-09-21T15:56:59.654Z"
   },
   {
    "duration": 4,
    "start_time": "2021-09-21T15:57:10.688Z"
   },
   {
    "duration": 387,
    "start_time": "2021-09-21T16:18:58.623Z"
   },
   {
    "duration": -14720575,
    "start_time": "2021-09-21T20:25:06.421Z"
   },
   {
    "duration": 540,
    "start_time": "2021-09-21T16:19:50.769Z"
   },
   {
    "duration": 419,
    "start_time": "2021-09-21T16:20:05.427Z"
   },
   {
    "duration": 405,
    "start_time": "2021-09-21T16:21:12.318Z"
   },
   {
    "duration": 794,
    "start_time": "2021-09-21T16:23:26.528Z"
   },
   {
    "duration": 1288,
    "start_time": "2021-09-21T16:24:09.042Z"
   },
   {
    "duration": 386,
    "start_time": "2021-09-21T16:24:50.621Z"
   },
   {
    "duration": 7,
    "start_time": "2021-09-21T16:24:58.262Z"
   },
   {
    "duration": 1402,
    "start_time": "2021-09-21T16:25:39.932Z"
   },
   {
    "duration": 1564,
    "start_time": "2021-09-21T16:25:49.679Z"
   },
   {
    "duration": 127,
    "start_time": "2021-09-21T16:35:56.919Z"
   },
   {
    "duration": 831,
    "start_time": "2021-09-21T16:36:01.301Z"
   },
   {
    "duration": 783,
    "start_time": "2021-09-21T16:36:25.845Z"
   },
   {
    "duration": 5,
    "start_time": "2021-09-21T16:36:35.583Z"
   },
   {
    "duration": 1268,
    "start_time": "2021-09-21T16:36:40.882Z"
   },
   {
    "duration": 1301,
    "start_time": "2021-09-21T16:39:18.895Z"
   },
   {
    "duration": 1288,
    "start_time": "2021-09-21T16:42:13.134Z"
   },
   {
    "duration": 440,
    "start_time": "2021-09-22T13:54:02.422Z"
   },
   {
    "duration": 298,
    "start_time": "2021-09-22T13:54:07.784Z"
   },
   {
    "duration": 2061,
    "start_time": "2021-09-22T13:54:14.539Z"
   },
   {
    "duration": 684,
    "start_time": "2021-09-22T13:54:16.604Z"
   },
   {
    "duration": 293,
    "start_time": "2021-09-22T13:54:17.292Z"
   },
   {
    "duration": 384,
    "start_time": "2021-09-22T13:54:17.588Z"
   },
   {
    "duration": 434,
    "start_time": "2021-09-22T13:54:17.983Z"
   },
   {
    "duration": 73,
    "start_time": "2021-09-22T13:54:18.420Z"
   },
   {
    "duration": 66,
    "start_time": "2021-09-22T13:54:18.495Z"
   },
   {
    "duration": 3,
    "start_time": "2021-09-22T13:54:18.584Z"
   },
   {
    "duration": 199,
    "start_time": "2021-09-22T13:54:18.590Z"
   },
   {
    "duration": 88,
    "start_time": "2021-09-22T13:54:18.795Z"
   },
   {
    "duration": 8,
    "start_time": "2021-09-22T13:54:18.886Z"
   },
   {
    "duration": 17,
    "start_time": "2021-09-22T13:54:18.896Z"
   },
   {
    "duration": 248,
    "start_time": "2021-09-22T13:54:18.915Z"
   },
   {
    "duration": 622,
    "start_time": "2021-09-22T13:54:19.165Z"
   },
   {
    "duration": 4,
    "start_time": "2021-09-22T13:54:19.789Z"
   },
   {
    "duration": 1277,
    "start_time": "2021-09-22T13:54:19.796Z"
   },
   {
    "duration": 1340,
    "start_time": "2021-09-22T13:57:05.367Z"
   },
   {
    "duration": 1512,
    "start_time": "2021-09-22T13:58:23.196Z"
   },
   {
    "duration": 1597,
    "start_time": "2021-09-22T13:59:51.250Z"
   },
   {
    "duration": 2173,
    "start_time": "2021-09-22T14:00:21.913Z"
   },
   {
    "duration": 31536,
    "start_time": "2021-09-22T14:03:09.117Z"
   },
   {
    "duration": 5,
    "start_time": "2021-09-22T14:05:09.870Z"
   },
   {
    "duration": -14721512,
    "start_time": "2021-09-22T18:21:55.042Z"
   },
   {
    "duration": 103,
    "start_time": "2021-09-22T14:17:45.341Z"
   },
   {
    "duration": 394,
    "start_time": "2021-09-22T14:19:37.099Z"
   },
   {
    "duration": 70046,
    "start_time": "2021-09-22T14:19:51.024Z"
   },
   {
    "duration": 8,
    "start_time": "2021-09-22T14:22:29.072Z"
   },
   {
    "duration": 8,
    "start_time": "2021-09-22T14:23:02.106Z"
   },
   {
    "duration": 4,
    "start_time": "2021-09-22T14:24:56.150Z"
   },
   {
    "duration": 5,
    "start_time": "2021-09-22T14:25:45.242Z"
   },
   {
    "duration": 89233,
    "start_time": "2021-09-22T14:26:41.002Z"
   },
   {
    "duration": 4,
    "start_time": "2021-09-22T14:28:29.050Z"
   },
   {
    "duration": 4,
    "start_time": "2021-09-22T14:28:30.382Z"
   },
   {
    "duration": 851,
    "start_time": "2021-09-22T14:29:01.993Z"
   },
   {
    "duration": 576,
    "start_time": "2021-09-22T14:31:47.430Z"
   },
   {
    "duration": 928,
    "start_time": "2021-09-22T14:34:54.594Z"
   },
   {
    "duration": 332,
    "start_time": "2021-09-22T14:38:28.827Z"
   },
   {
    "duration": 543,
    "start_time": "2021-09-22T14:38:51.364Z"
   },
   {
    "duration": 1029,
    "start_time": "2021-09-22T14:39:07.205Z"
   },
   {
    "duration": 74,
    "start_time": "2021-09-22T14:40:25.408Z"
   },
   {
    "duration": 104,
    "start_time": "2021-09-22T14:40:32.178Z"
   },
   {
    "duration": 45,
    "start_time": "2021-09-22T14:40:50.241Z"
   },
   {
    "duration": 341,
    "start_time": "2021-09-22T14:41:21.426Z"
   },
   {
    "duration": 342,
    "start_time": "2021-09-22T14:41:29.356Z"
   },
   {
    "duration": 2120,
    "start_time": "2021-09-22T14:41:40.370Z"
   },
   {
    "duration": 57,
    "start_time": "2021-09-22T14:41:46.730Z"
   },
   {
    "duration": 5,
    "start_time": "2021-09-22T14:42:03.663Z"
   },
   {
    "duration": 336,
    "start_time": "2021-09-22T14:42:22.430Z"
   },
   {
    "duration": 18,
    "start_time": "2021-09-22T14:42:36.428Z"
   },
   {
    "duration": 231,
    "start_time": "2021-09-22T14:43:02.952Z"
   },
   {
    "duration": 259,
    "start_time": "2021-09-22T14:43:13.409Z"
   },
   {
    "duration": 275,
    "start_time": "2021-09-22T14:43:45.183Z"
   },
   {
    "duration": 102,
    "start_time": "2021-09-22T14:47:45.196Z"
   },
   {
    "duration": 403,
    "start_time": "2021-09-22T14:47:49.470Z"
   },
   {
    "duration": 302,
    "start_time": "2021-09-22T14:47:55.069Z"
   },
   {
    "duration": 343,
    "start_time": "2021-09-22T14:48:21.820Z"
   },
   {
    "duration": 1313,
    "start_time": "2021-09-22T14:48:52.241Z"
   },
   {
    "duration": 358,
    "start_time": "2021-09-22T14:48:57.714Z"
   },
   {
    "duration": 341,
    "start_time": "2021-09-22T14:49:12.442Z"
   },
   {
    "duration": 391,
    "start_time": "2021-09-22T15:05:59.280Z"
   },
   {
    "duration": 318,
    "start_time": "2021-09-22T15:06:09.465Z"
   },
   {
    "duration": 5546,
    "start_time": "2021-09-22T15:06:36.274Z"
   },
   {
    "duration": 4,
    "start_time": "2021-09-22T15:07:27.032Z"
   },
   {
    "duration": 5,
    "start_time": "2021-09-22T15:07:30.180Z"
   },
   {
    "duration": 5827,
    "start_time": "2021-09-22T15:12:42.588Z"
   },
   {
    "duration": 3,
    "start_time": "2021-09-22T15:12:48.418Z"
   },
   {
    "duration": 5715,
    "start_time": "2021-09-22T15:12:51.983Z"
   },
   {
    "duration": 4,
    "start_time": "2021-09-22T15:13:09.737Z"
   },
   {
    "duration": 5,
    "start_time": "2021-09-22T15:13:11.554Z"
   },
   {
    "duration": 8,
    "start_time": "2021-09-22T15:13:23.067Z"
   },
   {
    "duration": 3351,
    "start_time": "2021-09-22T15:17:12.684Z"
   },
   {
    "duration": 3275,
    "start_time": "2021-09-22T15:17:33.527Z"
   },
   {
    "duration": 3226,
    "start_time": "2021-09-22T15:17:37.059Z"
   },
   {
    "duration": 4,
    "start_time": "2021-09-22T15:17:58.776Z"
   },
   {
    "duration": 3515,
    "start_time": "2021-09-22T15:19:57.372Z"
   },
   {
    "duration": -14721359,
    "start_time": "2021-09-22T19:25:22.248Z"
   },
   {
    "duration": 3199,
    "start_time": "2021-09-22T15:22:06.346Z"
   },
   {
    "duration": 5,
    "start_time": "2021-09-22T15:22:11.442Z"
   },
   {
    "duration": 3257,
    "start_time": "2021-09-22T15:22:14.565Z"
   },
   {
    "duration": 5,
    "start_time": "2021-09-22T15:22:18.524Z"
   },
   {
    "duration": 328,
    "start_time": "2021-09-22T15:23:25.905Z"
   },
   {
    "duration": 448,
    "start_time": "2021-09-22T15:23:52.354Z"
   },
   {
    "duration": 698,
    "start_time": "2021-09-22T15:24:31.380Z"
   },
   {
    "duration": 3582,
    "start_time": "2021-09-22T15:24:43.018Z"
   },
   {
    "duration": 9886,
    "start_time": "2021-09-22T15:24:52.982Z"
   },
   {
    "duration": 252,
    "start_time": "2021-09-22T15:28:18.287Z"
   },
   {
    "duration": 552,
    "start_time": "2021-09-22T15:28:21.582Z"
   },
   {
    "duration": 274,
    "start_time": "2021-09-22T15:28:23.273Z"
   },
   {
    "duration": 261,
    "start_time": "2021-09-22T15:28:51.555Z"
   },
   {
    "duration": 261,
    "start_time": "2021-09-22T15:28:59.752Z"
   },
   {
    "duration": 272,
    "start_time": "2021-09-22T15:29:05.291Z"
   },
   {
    "duration": 1321,
    "start_time": "2021-09-22T15:29:51.604Z"
   },
   {
    "duration": 271,
    "start_time": "2021-09-22T15:30:16.164Z"
   },
   {
    "duration": 283,
    "start_time": "2021-09-22T15:30:27.865Z"
   },
   {
    "duration": 423,
    "start_time": "2021-09-22T15:33:00.962Z"
   },
   {
    "duration": 478,
    "start_time": "2021-09-22T15:33:17.456Z"
   },
   {
    "duration": 394,
    "start_time": "2021-09-22T15:35:43.632Z"
   },
   {
    "duration": 1239,
    "start_time": "2021-09-22T15:37:28.521Z"
   },
   {
    "duration": 707,
    "start_time": "2021-09-22T15:37:41.449Z"
   },
   {
    "duration": 707,
    "start_time": "2021-09-22T15:37:48.597Z"
   },
   {
    "duration": 819,
    "start_time": "2021-09-22T15:37:53.414Z"
   },
   {
    "duration": 822,
    "start_time": "2021-09-22T15:38:38.353Z"
   },
   {
    "duration": 1064,
    "start_time": "2021-09-22T15:43:24.648Z"
   },
   {
    "duration": 1062,
    "start_time": "2021-09-22T15:45:12.637Z"
   },
   {
    "duration": 877,
    "start_time": "2021-09-22T15:45:30.546Z"
   },
   {
    "duration": 1057,
    "start_time": "2021-09-22T15:45:43.549Z"
   },
   {
    "duration": 872,
    "start_time": "2021-09-22T15:45:48.155Z"
   },
   {
    "duration": 1015,
    "start_time": "2021-09-22T15:53:42.096Z"
   },
   {
    "duration": 921,
    "start_time": "2021-09-22T15:53:54.749Z"
   },
   {
    "duration": 27,
    "start_time": "2021-09-22T15:55:05.386Z"
   },
   {
    "duration": 869,
    "start_time": "2021-09-22T15:55:10.025Z"
   },
   {
    "duration": 878,
    "start_time": "2021-09-22T15:55:35.937Z"
   },
   {
    "duration": 42,
    "start_time": "2021-09-22T15:56:39.485Z"
   },
   {
    "duration": 1265,
    "start_time": "2021-09-22T15:56:41.917Z"
   },
   {
    "duration": 895,
    "start_time": "2021-09-22T15:58:36.988Z"
   },
   {
    "duration": 25,
    "start_time": "2021-09-22T16:00:18.027Z"
   },
   {
    "duration": 868,
    "start_time": "2021-09-22T16:00:26.370Z"
   },
   {
    "duration": 460,
    "start_time": "2021-09-22T16:01:30.412Z"
   },
   {
    "duration": 308,
    "start_time": "2021-09-22T16:01:35.811Z"
   },
   {
    "duration": 54,
    "start_time": "2021-09-22T16:10:51.179Z"
   },
   {
    "duration": 6883,
    "start_time": "2021-09-22T16:11:32.241Z"
   },
   {
    "duration": 4420,
    "start_time": "2021-09-22T16:11:43.868Z"
   },
   {
    "duration": 285,
    "start_time": "2021-09-22T16:11:53.673Z"
   },
   {
    "duration": 4156,
    "start_time": "2021-09-22T16:12:53.942Z"
   },
   {
    "duration": 4199,
    "start_time": "2021-09-22T16:13:05.305Z"
   },
   {
    "duration": 6679,
    "start_time": "2021-09-22T16:13:17.549Z"
   },
   {
    "duration": 6298,
    "start_time": "2021-09-22T16:13:25.280Z"
   },
   {
    "duration": 4201,
    "start_time": "2021-09-22T16:13:39.840Z"
   },
   {
    "duration": 1687,
    "start_time": "2021-09-22T16:18:27.836Z"
   },
   {
    "duration": 1660,
    "start_time": "2021-09-22T16:18:34.522Z"
   },
   {
    "duration": 299,
    "start_time": "2021-09-22T16:18:52.194Z"
   },
   {
    "duration": 898,
    "start_time": "2021-09-22T16:19:16.348Z"
   },
   {
    "duration": 151,
    "start_time": "2021-09-22T16:19:42.935Z"
   },
   {
    "duration": 4,
    "start_time": "2021-09-22T16:20:12.096Z"
   },
   {
    "duration": 9584,
    "start_time": "2021-09-22T16:20:14.802Z"
   },
   {
    "duration": 3258,
    "start_time": "2021-09-22T16:30:56.602Z"
   },
   {
    "duration": 5,
    "start_time": "2021-09-22T16:36:45.956Z"
   },
   {
    "duration": 634,
    "start_time": "2021-09-22T16:36:47.922Z"
   },
   {
    "duration": 5,
    "start_time": "2021-09-22T16:39:27.241Z"
   },
   {
    "duration": 6,
    "start_time": "2021-09-22T16:40:18.945Z"
   },
   {
    "duration": 164,
    "start_time": "2021-09-22T16:40:22.985Z"
   },
   {
    "duration": 570,
    "start_time": "2021-09-22T16:41:35.224Z"
   },
   {
    "duration": 563,
    "start_time": "2021-09-22T16:41:46.120Z"
   },
   {
    "duration": 623,
    "start_time": "2021-09-22T16:42:10.876Z"
   },
   {
    "duration": 329,
    "start_time": "2021-09-22T16:42:49.949Z"
   },
   {
    "duration": 606,
    "start_time": "2021-09-22T16:43:56.389Z"
   },
   {
    "duration": 564,
    "start_time": "2021-09-22T16:45:53.820Z"
   },
   {
    "duration": 720,
    "start_time": "2021-09-22T16:46:08.318Z"
   },
   {
    "duration": 407,
    "start_time": "2021-09-22T16:46:16.082Z"
   },
   {
    "duration": 725,
    "start_time": "2021-09-22T16:46:25.505Z"
   },
   {
    "duration": 647,
    "start_time": "2021-09-22T16:46:41.650Z"
   },
   {
    "duration": 378,
    "start_time": "2021-09-22T16:47:20.639Z"
   },
   {
    "duration": 379,
    "start_time": "2021-09-22T16:47:40.304Z"
   },
   {
    "duration": 583,
    "start_time": "2021-09-22T16:49:58.506Z"
   },
   {
    "duration": 584,
    "start_time": "2021-09-22T16:50:05.710Z"
   },
   {
    "duration": 110,
    "start_time": "2021-09-22T16:51:01.714Z"
   },
   {
    "duration": 127,
    "start_time": "2021-09-22T16:51:21.488Z"
   },
   {
    "duration": 112,
    "start_time": "2021-09-22T16:52:28.112Z"
   },
   {
    "duration": 5,
    "start_time": "2021-09-22T16:52:33.661Z"
   },
   {
    "duration": 96,
    "start_time": "2021-09-22T16:52:58.758Z"
   },
   {
    "duration": 603,
    "start_time": "2021-09-22T16:53:05.587Z"
   },
   {
    "duration": 582,
    "start_time": "2021-09-22T16:53:13.108Z"
   },
   {
    "duration": 582,
    "start_time": "2021-09-22T16:54:01.811Z"
   },
   {
    "duration": 633,
    "start_time": "2021-09-22T16:54:21.961Z"
   },
   {
    "duration": 560,
    "start_time": "2021-09-22T16:54:28.432Z"
   },
   {
    "duration": 552,
    "start_time": "2021-09-22T16:54:31.845Z"
   },
   {
    "duration": 649,
    "start_time": "2021-09-22T16:54:45.449Z"
   },
   {
    "duration": 5,
    "start_time": "2021-09-22T16:56:36.791Z"
   },
   {
    "duration": 4290,
    "start_time": "2021-09-22T16:57:17.979Z"
   },
   {
    "duration": 439,
    "start_time": "2021-09-23T13:57:19.955Z"
   },
   {
    "duration": 1533,
    "start_time": "2021-09-23T13:57:26.731Z"
   },
   {
    "duration": 554,
    "start_time": "2021-09-23T13:57:28.267Z"
   },
   {
    "duration": 36,
    "start_time": "2021-09-23T13:57:28.824Z"
   },
   {
    "duration": 950,
    "start_time": "2021-09-23T13:57:28.862Z"
   },
   {
    "duration": 27,
    "start_time": "2021-09-23T13:57:29.814Z"
   },
   {
    "duration": 1070,
    "start_time": "2021-09-23T13:57:29.843Z"
   },
   {
    "duration": 30,
    "start_time": "2021-09-23T13:57:30.916Z"
   },
   {
    "duration": 963,
    "start_time": "2021-09-23T13:57:30.953Z"
   },
   {
    "duration": 442,
    "start_time": "2021-09-23T13:57:31.918Z"
   },
   {
    "duration": -14721297,
    "start_time": "2021-09-23T18:02:53.659Z"
   },
   {
    "duration": -14721301,
    "start_time": "2021-09-23T18:02:53.664Z"
   },
   {
    "duration": -14721305,
    "start_time": "2021-09-23T18:02:53.670Z"
   },
   {
    "duration": -14721310,
    "start_time": "2021-09-23T18:02:53.676Z"
   },
   {
    "duration": -14721313,
    "start_time": "2021-09-23T18:02:53.680Z"
   },
   {
    "duration": -14721317,
    "start_time": "2021-09-23T18:02:53.685Z"
   },
   {
    "duration": -14721321,
    "start_time": "2021-09-23T18:02:53.691Z"
   },
   {
    "duration": -14721330,
    "start_time": "2021-09-23T18:02:53.701Z"
   },
   {
    "duration": -14721334,
    "start_time": "2021-09-23T18:02:53.706Z"
   },
   {
    "duration": -14721337,
    "start_time": "2021-09-23T18:02:53.710Z"
   },
   {
    "duration": -14721339,
    "start_time": "2021-09-23T18:02:53.714Z"
   },
   {
    "duration": 48,
    "start_time": "2021-09-23T13:58:13.234Z"
   },
   {
    "duration": 59,
    "start_time": "2021-09-23T13:58:26.823Z"
   },
   {
    "duration": 95,
    "start_time": "2021-09-23T13:58:28.943Z"
   },
   {
    "duration": 437,
    "start_time": "2021-09-23T14:05:41.441Z"
   },
   {
    "duration": 446,
    "start_time": "2021-09-23T14:05:46.994Z"
   },
   {
    "duration": 162,
    "start_time": "2021-09-23T14:09:00.425Z"
   },
   {
    "duration": 112,
    "start_time": "2021-09-23T14:09:24.579Z"
   },
   {
    "duration": 119,
    "start_time": "2021-09-23T14:09:38.074Z"
   },
   {
    "duration": 266,
    "start_time": "2021-09-23T14:12:46.618Z"
   },
   {
    "duration": 241,
    "start_time": "2021-09-23T14:13:43.747Z"
   },
   {
    "duration": 333,
    "start_time": "2021-09-23T14:14:14.053Z"
   },
   {
    "duration": 360,
    "start_time": "2021-09-23T14:16:21.624Z"
   },
   {
    "duration": 5,
    "start_time": "2021-09-23T14:16:58.652Z"
   },
   {
    "duration": 857,
    "start_time": "2021-09-23T14:17:00.809Z"
   },
   {
    "duration": 258,
    "start_time": "2021-09-23T14:17:09.730Z"
   },
   {
    "duration": 4,
    "start_time": "2021-09-23T14:17:12.598Z"
   },
   {
    "duration": 5,
    "start_time": "2021-09-23T14:17:19.087Z"
   },
   {
    "duration": 6,
    "start_time": "2021-09-23T14:17:24.089Z"
   },
   {
    "duration": 320,
    "start_time": "2021-09-23T14:17:27.264Z"
   },
   {
    "duration": 643,
    "start_time": "2021-09-23T14:18:38.450Z"
   },
   {
    "duration": 5,
    "start_time": "2021-09-23T14:20:32.289Z"
   },
   {
    "duration": 568,
    "start_time": "2021-09-23T14:27:48.814Z"
   },
   {
    "duration": 4,
    "start_time": "2021-09-23T14:27:51.863Z"
   },
   {
    "duration": 9443,
    "start_time": "2021-09-23T14:27:54.014Z"
   },
   {
    "duration": 299,
    "start_time": "2021-09-23T14:33:47.335Z"
   },
   {
    "duration": 11543,
    "start_time": "2021-09-23T14:37:29.830Z"
   },
   {
    "duration": 5,
    "start_time": "2021-09-23T14:47:37.962Z"
   },
   {
    "duration": 5,
    "start_time": "2021-09-23T14:48:59.396Z"
   },
   {
    "duration": 419,
    "start_time": "2021-09-23T14:49:27.730Z"
   },
   {
    "duration": 256,
    "start_time": "2021-09-23T14:49:45.468Z"
   },
   {
    "duration": 15955,
    "start_time": "2021-09-23T14:49:48.368Z"
   },
   {
    "duration": 249,
    "start_time": "2021-09-23T14:50:04.326Z"
   },
   {
    "duration": 5,
    "start_time": "2021-09-23T14:54:57.123Z"
   },
   {
    "duration": 4,
    "start_time": "2021-09-23T14:55:00.146Z"
   },
   {
    "duration": 5,
    "start_time": "2021-09-23T14:55:02.153Z"
   },
   {
    "duration": 5,
    "start_time": "2021-09-23T15:18:30.691Z"
   },
   {
    "duration": 699,
    "start_time": "2021-09-23T15:18:38.981Z"
   },
   {
    "duration": 4,
    "start_time": "2021-09-23T15:18:43.873Z"
   },
   {
    "duration": 4,
    "start_time": "2021-09-23T15:18:45.404Z"
   },
   {
    "duration": 826,
    "start_time": "2021-09-23T15:18:47.614Z"
   },
   {
    "duration": 4,
    "start_time": "2021-09-23T15:18:54.126Z"
   },
   {
    "duration": 966,
    "start_time": "2021-09-23T15:18:56.450Z"
   },
   {
    "duration": 4,
    "start_time": "2021-09-23T15:20:18.714Z"
   },
   {
    "duration": 203,
    "start_time": "2021-09-23T15:20:21.143Z"
   },
   {
    "duration": 631,
    "start_time": "2021-09-23T15:20:50.562Z"
   },
   {
    "duration": 5,
    "start_time": "2021-09-23T15:21:02.391Z"
   },
   {
    "duration": 11400,
    "start_time": "2021-09-23T15:22:41.991Z"
   },
   {
    "duration": 22,
    "start_time": "2021-09-23T15:24:09.846Z"
   },
   {
    "duration": 156,
    "start_time": "2021-09-23T15:24:45.028Z"
   },
   {
    "duration": 212,
    "start_time": "2021-09-23T15:26:46.972Z"
   },
   {
    "duration": 3309,
    "start_time": "2021-09-23T15:29:46.484Z"
   },
   {
    "duration": 188,
    "start_time": "2021-09-23T15:31:30.794Z"
   },
   {
    "duration": 229,
    "start_time": "2021-09-23T15:31:47.354Z"
   },
   {
    "duration": 323,
    "start_time": "2021-09-23T15:32:22.322Z"
   },
   {
    "duration": 89,
    "start_time": "2021-09-23T15:32:26.897Z"
   },
   {
    "duration": 118,
    "start_time": "2021-09-23T15:32:46.974Z"
   },
   {
    "duration": 72,
    "start_time": "2021-09-23T15:33:38.711Z"
   },
   {
    "duration": 94,
    "start_time": "2021-09-23T15:43:41.461Z"
   },
   {
    "duration": 99,
    "start_time": "2021-09-23T15:43:52.097Z"
   },
   {
    "duration": 5,
    "start_time": "2021-09-23T15:43:57.678Z"
   },
   {
    "duration": 510,
    "start_time": "2021-09-23T15:44:49.401Z"
   },
   {
    "duration": 273,
    "start_time": "2021-09-23T15:45:20.486Z"
   },
   {
    "duration": 304,
    "start_time": "2021-09-23T15:56:42.023Z"
   },
   {
    "duration": 786,
    "start_time": "2021-09-23T15:56:51.994Z"
   },
   {
    "duration": 312,
    "start_time": "2021-09-23T15:59:13.162Z"
   },
   {
    "duration": 1377,
    "start_time": "2021-09-23T15:59:26.836Z"
   },
   {
    "duration": 460,
    "start_time": "2021-09-23T15:59:28.216Z"
   },
   {
    "duration": 34,
    "start_time": "2021-09-23T15:59:28.680Z"
   },
   {
    "duration": 915,
    "start_time": "2021-09-23T15:59:28.718Z"
   },
   {
    "duration": 25,
    "start_time": "2021-09-23T15:59:29.636Z"
   },
   {
    "duration": 905,
    "start_time": "2021-09-23T15:59:29.683Z"
   },
   {
    "duration": 29,
    "start_time": "2021-09-23T15:59:30.591Z"
   },
   {
    "duration": 904,
    "start_time": "2021-09-23T15:59:30.624Z"
   },
   {
    "duration": 61,
    "start_time": "2021-09-23T15:59:31.531Z"
   },
   {
    "duration": 3,
    "start_time": "2021-09-23T15:59:31.595Z"
   },
   {
    "duration": 390,
    "start_time": "2021-09-23T15:59:31.601Z"
   },
   {
    "duration": 100,
    "start_time": "2021-09-23T15:59:32.083Z"
   },
   {
    "duration": 6,
    "start_time": "2021-09-23T15:59:32.186Z"
   },
   {
    "duration": 13,
    "start_time": "2021-09-23T15:59:32.196Z"
   },
   {
    "duration": 326,
    "start_time": "2021-09-23T15:59:32.212Z"
   },
   {
    "duration": 390,
    "start_time": "2021-09-23T15:59:32.541Z"
   },
   {
    "duration": -14721206,
    "start_time": "2021-09-23T20:04:54.141Z"
   },
   {
    "duration": -14721211,
    "start_time": "2021-09-23T20:04:54.148Z"
   },
   {
    "duration": -14721214,
    "start_time": "2021-09-23T20:04:54.153Z"
   },
   {
    "duration": -14721215,
    "start_time": "2021-09-23T20:04:54.156Z"
   },
   {
    "duration": -14721216,
    "start_time": "2021-09-23T20:04:54.159Z"
   },
   {
    "duration": -14721215,
    "start_time": "2021-09-23T20:04:54.161Z"
   },
   {
    "duration": -14721216,
    "start_time": "2021-09-23T20:04:54.164Z"
   },
   {
    "duration": -14721216,
    "start_time": "2021-09-23T20:04:54.166Z"
   },
   {
    "duration": -14721217,
    "start_time": "2021-09-23T20:04:54.169Z"
   },
   {
    "duration": 702,
    "start_time": "2021-09-23T15:59:58.121Z"
   },
   {
    "duration": 280,
    "start_time": "2021-09-23T16:00:09.015Z"
   },
   {
    "duration": 368,
    "start_time": "2021-09-23T16:00:21.752Z"
   },
   {
    "duration": 351,
    "start_time": "2021-09-23T16:00:38.619Z"
   },
   {
    "duration": 4,
    "start_time": "2021-09-23T16:00:56.951Z"
   },
   {
    "duration": 366,
    "start_time": "2021-09-23T16:00:59.325Z"
   },
   {
    "duration": 281,
    "start_time": "2021-09-23T16:01:16.986Z"
   },
   {
    "duration": 262,
    "start_time": "2021-09-23T16:01:28.495Z"
   },
   {
    "duration": 9561,
    "start_time": "2021-09-23T16:01:58.426Z"
   },
   {
    "duration": 559,
    "start_time": "2021-09-23T16:03:55.840Z"
   },
   {
    "duration": 10816,
    "start_time": "2021-09-23T16:04:14.989Z"
   },
   {
    "duration": 5,
    "start_time": "2021-09-23T16:05:13.395Z"
   },
   {
    "duration": 843,
    "start_time": "2021-09-23T16:05:14.467Z"
   },
   {
    "duration": 5,
    "start_time": "2021-09-23T16:05:27.096Z"
   },
   {
    "duration": 202,
    "start_time": "2021-09-23T16:05:29.089Z"
   },
   {
    "duration": 4,
    "start_time": "2021-09-23T16:05:33.478Z"
   },
   {
    "duration": 10633,
    "start_time": "2021-09-23T16:05:35.340Z"
   },
   {
    "duration": 11610,
    "start_time": "2021-09-23T16:06:51.091Z"
   },
   {
    "duration": 4,
    "start_time": "2021-09-23T16:07:26.062Z"
   },
   {
    "duration": 20,
    "start_time": "2021-09-23T16:07:27.998Z"
   },
   {
    "duration": 4,
    "start_time": "2021-09-23T16:07:33.936Z"
   },
   {
    "duration": 10754,
    "start_time": "2021-09-23T16:07:38.050Z"
   },
   {
    "duration": 36,
    "start_time": "2021-09-23T16:17:24.107Z"
   },
   {
    "duration": 1396,
    "start_time": "2021-09-23T16:17:35.895Z"
   },
   {
    "duration": 461,
    "start_time": "2021-09-23T16:17:37.294Z"
   },
   {
    "duration": 35,
    "start_time": "2021-09-23T16:17:37.758Z"
   },
   {
    "duration": 885,
    "start_time": "2021-09-23T16:17:37.797Z"
   },
   {
    "duration": 26,
    "start_time": "2021-09-23T16:17:38.685Z"
   },
   {
    "duration": 894,
    "start_time": "2021-09-23T16:17:38.714Z"
   },
   {
    "duration": 27,
    "start_time": "2021-09-23T16:17:39.610Z"
   },
   {
    "duration": 909,
    "start_time": "2021-09-23T16:17:39.641Z"
   },
   {
    "duration": 67,
    "start_time": "2021-09-23T16:17:40.553Z"
   },
   {
    "duration": 4,
    "start_time": "2021-09-23T16:17:40.622Z"
   },
   {
    "duration": 68,
    "start_time": "2021-09-23T16:17:40.629Z"
   },
   {
    "duration": 6,
    "start_time": "2021-09-23T16:17:40.784Z"
   },
   {
    "duration": 96,
    "start_time": "2021-09-23T16:17:40.793Z"
   },
   {
    "duration": 7,
    "start_time": "2021-09-23T16:17:40.893Z"
   },
   {
    "duration": 640,
    "start_time": "2021-09-23T16:17:40.903Z"
   },
   {
    "duration": -14721168,
    "start_time": "2021-09-23T20:23:02.715Z"
   },
   {
    "duration": -14721196,
    "start_time": "2021-09-23T20:23:02.744Z"
   },
   {
    "duration": -14721195,
    "start_time": "2021-09-23T20:23:02.746Z"
   },
   {
    "duration": -14721195,
    "start_time": "2021-09-23T20:23:02.748Z"
   },
   {
    "duration": -14721196,
    "start_time": "2021-09-23T20:23:02.751Z"
   },
   {
    "duration": -14721199,
    "start_time": "2021-09-23T20:23:02.757Z"
   },
   {
    "duration": -14721200,
    "start_time": "2021-09-23T20:23:02.760Z"
   },
   {
    "duration": -14721199,
    "start_time": "2021-09-23T20:23:02.761Z"
   },
   {
    "duration": -14721199,
    "start_time": "2021-09-23T20:23:02.763Z"
   },
   {
    "duration": -14721198,
    "start_time": "2021-09-23T20:23:02.765Z"
   },
   {
    "duration": -14721198,
    "start_time": "2021-09-23T20:23:02.767Z"
   },
   {
    "duration": 37,
    "start_time": "2021-09-23T16:18:57.931Z"
   },
   {
    "duration": 71,
    "start_time": "2021-09-23T16:21:00.912Z"
   },
   {
    "duration": 113,
    "start_time": "2021-09-23T16:21:16.669Z"
   },
   {
    "duration": 67,
    "start_time": "2021-09-23T16:26:28.617Z"
   },
   {
    "duration": 4,
    "start_time": "2021-09-23T16:26:46.668Z"
   },
   {
    "duration": 5,
    "start_time": "2021-09-23T16:26:48.265Z"
   },
   {
    "duration": 45,
    "start_time": "2021-09-23T16:27:33.842Z"
   },
   {
    "duration": 39,
    "start_time": "2021-09-23T16:27:35.850Z"
   },
   {
    "duration": 59,
    "start_time": "2021-09-23T16:27:38.024Z"
   },
   {
    "duration": 5,
    "start_time": "2021-09-23T16:28:00.947Z"
   },
   {
    "duration": 15,
    "start_time": "2021-09-23T16:28:02.685Z"
   },
   {
    "duration": 367,
    "start_time": "2021-09-23T16:28:52.110Z"
   },
   {
    "duration": 5,
    "start_time": "2021-09-23T16:28:57.767Z"
   },
   {
    "duration": 11588,
    "start_time": "2021-09-23T16:28:59.060Z"
   },
   {
    "duration": 314,
    "start_time": "2021-09-23T16:35:41.228Z"
   },
   {
    "duration": 282,
    "start_time": "2021-09-23T16:36:00.245Z"
   },
   {
    "duration": 227,
    "start_time": "2021-09-23T16:36:34.619Z"
   },
   {
    "duration": 288,
    "start_time": "2021-09-23T16:36:55.354Z"
   },
   {
    "duration": 305,
    "start_time": "2021-09-23T16:37:10.944Z"
   },
   {
    "duration": 11694,
    "start_time": "2021-09-23T16:38:25.950Z"
   },
   {
    "duration": 5,
    "start_time": "2021-09-23T16:38:43.771Z"
   },
   {
    "duration": 266,
    "start_time": "2021-09-23T16:39:14.901Z"
   },
   {
    "duration": 497,
    "start_time": "2021-09-23T16:39:34.008Z"
   },
   {
    "duration": 285,
    "start_time": "2021-09-23T16:39:45.122Z"
   },
   {
    "duration": 133,
    "start_time": "2021-09-23T16:44:21.647Z"
   },
   {
    "duration": 307,
    "start_time": "2021-09-23T16:45:31.704Z"
   },
   {
    "duration": 239,
    "start_time": "2021-09-23T16:48:05.005Z"
   },
   {
    "duration": 303,
    "start_time": "2021-09-23T16:48:30.945Z"
   },
   {
    "duration": 7849,
    "start_time": "2021-09-23T16:49:43.852Z"
   },
   {
    "duration": 11705,
    "start_time": "2021-09-23T16:50:55.330Z"
   },
   {
    "duration": 344,
    "start_time": "2021-09-24T09:39:06.769Z"
   },
   {
    "duration": 268,
    "start_time": "2021-09-24T09:39:13.211Z"
   },
   {
    "duration": 1444,
    "start_time": "2021-09-24T09:39:19.956Z"
   },
   {
    "duration": 490,
    "start_time": "2021-09-24T09:39:21.402Z"
   },
   {
    "duration": 42,
    "start_time": "2021-09-24T09:39:21.895Z"
   },
   {
    "duration": 1008,
    "start_time": "2021-09-24T09:39:21.941Z"
   },
   {
    "duration": 26,
    "start_time": "2021-09-24T09:39:22.952Z"
   },
   {
    "duration": 1015,
    "start_time": "2021-09-24T09:39:22.980Z"
   },
   {
    "duration": 44,
    "start_time": "2021-09-24T09:39:23.998Z"
   },
   {
    "duration": 1063,
    "start_time": "2021-09-24T09:39:24.047Z"
   },
   {
    "duration": 55,
    "start_time": "2021-09-24T09:39:25.113Z"
   },
   {
    "duration": 3,
    "start_time": "2021-09-24T09:39:25.171Z"
   },
   {
    "duration": 161,
    "start_time": "2021-09-24T09:39:25.177Z"
   },
   {
    "duration": 182,
    "start_time": "2021-09-24T09:39:25.346Z"
   },
   {
    "duration": 193,
    "start_time": "2021-09-24T09:39:25.533Z"
   },
   {
    "duration": 93,
    "start_time": "2021-09-24T09:39:25.729Z"
   },
   {
    "duration": 10,
    "start_time": "2021-09-24T09:39:25.824Z"
   },
   {
    "duration": 23,
    "start_time": "2021-09-24T09:39:25.837Z"
   },
   {
    "duration": 31,
    "start_time": "2021-09-24T09:39:25.862Z"
   },
   {
    "duration": 4,
    "start_time": "2021-09-24T09:39:25.896Z"
   },
   {
    "duration": 12941,
    "start_time": "2021-09-24T09:39:25.902Z"
   },
   {
    "duration": 541,
    "start_time": "2021-09-24T09:39:38.847Z"
   },
   {
    "duration": -5,
    "start_time": "2021-09-24T09:39:39.397Z"
   },
   {
    "duration": -6,
    "start_time": "2021-09-24T09:39:39.399Z"
   },
   {
    "duration": -5,
    "start_time": "2021-09-24T09:39:39.400Z"
   },
   {
    "duration": -8,
    "start_time": "2021-09-24T09:42:24.189Z"
   },
   {
    "duration": 4511,
    "start_time": "2021-09-24T09:42:25.145Z"
   },
   {
    "duration": 12550,
    "start_time": "2021-09-24T09:43:30.219Z"
   },
   {
    "duration": 4558,
    "start_time": "2021-09-24T09:55:11.531Z"
   },
   {
    "duration": 12372,
    "start_time": "2021-09-24T09:55:24.570Z"
   },
   {
    "duration": 87,
    "start_time": "2021-09-24T10:00:23.218Z"
   },
   {
    "duration": 91,
    "start_time": "2021-09-24T10:01:57.944Z"
   },
   {
    "duration": 762,
    "start_time": "2021-09-24T10:02:27.309Z"
   },
   {
    "duration": 500,
    "start_time": "2021-09-24T10:02:36.990Z"
   },
   {
    "duration": 27,
    "start_time": "2021-09-24T10:07:06.129Z"
   },
   {
    "duration": 26,
    "start_time": "2021-09-24T10:07:36.601Z"
   },
   {
    "duration": 248,
    "start_time": "2021-09-24T10:22:33.522Z"
   },
   {
    "duration": 24,
    "start_time": "2021-09-24T10:27:53.895Z"
   },
   {
    "duration": 852,
    "start_time": "2021-09-24T10:31:43.606Z"
   },
   {
    "duration": 1184,
    "start_time": "2021-09-24T10:31:49.580Z"
   },
   {
    "duration": 859,
    "start_time": "2021-09-24T10:31:55.420Z"
   },
   {
    "duration": 942,
    "start_time": "2021-09-24T10:32:02.924Z"
   },
   {
    "duration": 878,
    "start_time": "2021-09-24T10:32:17.500Z"
   },
   {
    "duration": 883,
    "start_time": "2021-09-24T10:33:28.981Z"
   },
   {
    "duration": 127,
    "start_time": "2021-09-24T12:52:46.413Z"
   },
   {
    "duration": 110,
    "start_time": "2021-09-24T12:52:49.585Z"
   },
   {
    "duration": 118,
    "start_time": "2021-09-24T12:53:55.520Z"
   },
   {
    "duration": 467,
    "start_time": "2021-09-24T13:04:48.494Z"
   },
   {
    "duration": 1178,
    "start_time": "2021-09-24T13:04:55.999Z"
   },
   {
    "duration": 445,
    "start_time": "2021-09-24T13:04:57.179Z"
   },
   {
    "duration": 19,
    "start_time": "2021-09-24T13:04:57.626Z"
   },
   {
    "duration": 542,
    "start_time": "2021-09-24T13:04:57.646Z"
   },
   {
    "duration": 19,
    "start_time": "2021-09-24T13:04:58.189Z"
   },
   {
    "duration": 546,
    "start_time": "2021-09-24T13:04:58.210Z"
   },
   {
    "duration": 27,
    "start_time": "2021-09-24T13:04:58.758Z"
   },
   {
    "duration": 538,
    "start_time": "2021-09-24T13:04:58.788Z"
   },
   {
    "duration": 25,
    "start_time": "2021-09-24T13:04:59.328Z"
   },
   {
    "duration": 48,
    "start_time": "2021-09-24T13:04:59.355Z"
   },
   {
    "duration": 119,
    "start_time": "2021-09-24T13:04:59.479Z"
   },
   {
    "duration": 193,
    "start_time": "2021-09-24T13:04:59.600Z"
   },
   {
    "duration": 84,
    "start_time": "2021-09-24T13:04:59.796Z"
   },
   {
    "duration": 95,
    "start_time": "2021-09-24T13:04:59.883Z"
   },
   {
    "duration": 5,
    "start_time": "2021-09-24T13:04:59.980Z"
   },
   {
    "duration": 13,
    "start_time": "2021-09-24T13:04:59.987Z"
   },
   {
    "duration": 4,
    "start_time": "2021-09-24T13:05:00.002Z"
   },
   {
    "duration": 7416,
    "start_time": "2021-09-24T13:05:00.008Z"
   },
   {
    "duration": 450,
    "start_time": "2021-09-24T13:05:07.426Z"
   },
   {
    "duration": -14722493,
    "start_time": "2021-09-24T17:10:30.371Z"
   },
   {
    "duration": -14722521,
    "start_time": "2021-09-24T17:10:30.400Z"
   },
   {
    "duration": -14722526,
    "start_time": "2021-09-24T17:10:30.406Z"
   },
   {
    "duration": 26,
    "start_time": "2021-09-24T13:08:03.946Z"
   },
   {
    "duration": 125,
    "start_time": "2021-09-24T13:08:23.857Z"
   },
   {
    "duration": 26,
    "start_time": "2021-09-24T13:08:28.376Z"
   },
   {
    "duration": 4,
    "start_time": "2021-09-24T13:27:37.447Z"
   },
   {
    "duration": 111,
    "start_time": "2021-09-24T13:32:33.820Z"
   },
   {
    "duration": 4,
    "start_time": "2021-09-24T13:32:48.774Z"
   },
   {
    "duration": 3,
    "start_time": "2021-09-24T13:43:13.018Z"
   },
   {
    "duration": 11,
    "start_time": "2021-09-24T13:44:35.780Z"
   },
   {
    "duration": 530,
    "start_time": "2021-09-24T13:49:15.550Z"
   },
   {
    "duration": 482,
    "start_time": "2021-09-24T13:51:24.703Z"
   },
   {
    "duration": 7687,
    "start_time": "2021-09-24T13:59:13.091Z"
   },
   {
    "duration": 1181,
    "start_time": "2021-09-24T14:04:11.114Z"
   },
   {
    "duration": 455,
    "start_time": "2021-09-24T14:04:12.297Z"
   },
   {
    "duration": 25,
    "start_time": "2021-09-24T14:04:12.754Z"
   },
   {
    "duration": 542,
    "start_time": "2021-09-24T14:04:12.781Z"
   },
   {
    "duration": 18,
    "start_time": "2021-09-24T14:04:13.324Z"
   },
   {
    "duration": 543,
    "start_time": "2021-09-24T14:04:13.344Z"
   },
   {
    "duration": 20,
    "start_time": "2021-09-24T14:04:13.889Z"
   },
   {
    "duration": 543,
    "start_time": "2021-09-24T14:04:13.911Z"
   },
   {
    "duration": 33,
    "start_time": "2021-09-24T14:04:14.457Z"
   },
   {
    "duration": 86,
    "start_time": "2021-09-24T14:04:14.492Z"
   },
   {
    "duration": 196,
    "start_time": "2021-09-24T14:04:14.580Z"
   },
   {
    "duration": 121,
    "start_time": "2021-09-24T14:04:14.779Z"
   },
   {
    "duration": 5,
    "start_time": "2021-09-24T14:04:14.976Z"
   },
   {
    "duration": 95,
    "start_time": "2021-09-24T14:04:14.984Z"
   },
   {
    "duration": 7,
    "start_time": "2021-09-24T14:04:15.081Z"
   },
   {
    "duration": 593,
    "start_time": "2021-09-24T14:04:15.090Z"
   },
   {
    "duration": 8632,
    "start_time": "2021-09-24T14:04:15.685Z"
   },
   {
    "duration": 1163,
    "start_time": "2021-09-24T14:08:37.522Z"
   },
   {
    "duration": 382,
    "start_time": "2021-09-24T14:08:38.687Z"
   },
   {
    "duration": 21,
    "start_time": "2021-09-24T14:08:39.072Z"
   },
   {
    "duration": 549,
    "start_time": "2021-09-24T14:08:39.095Z"
   },
   {
    "duration": 31,
    "start_time": "2021-09-24T14:08:39.646Z"
   },
   {
    "duration": 553,
    "start_time": "2021-09-24T14:08:39.678Z"
   },
   {
    "duration": 19,
    "start_time": "2021-09-24T14:08:40.233Z"
   },
   {
    "duration": 547,
    "start_time": "2021-09-24T14:08:40.255Z"
   },
   {
    "duration": 25,
    "start_time": "2021-09-24T14:08:40.805Z"
   },
   {
    "duration": 55,
    "start_time": "2021-09-24T14:08:40.832Z"
   },
   {
    "duration": 198,
    "start_time": "2021-09-24T14:08:40.889Z"
   },
   {
    "duration": 204,
    "start_time": "2021-09-24T14:08:41.090Z"
   },
   {
    "duration": 3,
    "start_time": "2021-09-24T14:08:41.296Z"
   },
   {
    "duration": 101,
    "start_time": "2021-09-24T14:08:41.378Z"
   },
   {
    "duration": 7,
    "start_time": "2021-09-24T14:08:41.481Z"
   },
   {
    "duration": 495,
    "start_time": "2021-09-24T14:08:41.490Z"
   },
   {
    "duration": 7316,
    "start_time": "2021-09-24T14:08:41.988Z"
   },
   {
    "duration": 1206,
    "start_time": "2021-09-24T14:18:34.262Z"
   },
   {
    "duration": 598,
    "start_time": "2021-09-24T14:18:38.448Z"
   },
   {
    "duration": 30,
    "start_time": "2021-09-24T14:19:22.273Z"
   },
   {
    "duration": 535,
    "start_time": "2021-09-24T14:19:23.784Z"
   },
   {
    "duration": 21,
    "start_time": "2021-09-24T14:19:29.039Z"
   },
   {
    "duration": 528,
    "start_time": "2021-09-24T14:19:29.323Z"
   },
   {
    "duration": 20,
    "start_time": "2021-09-24T14:19:30.087Z"
   },
   {
    "duration": 809,
    "start_time": "2021-09-24T14:19:30.264Z"
   },
   {
    "duration": 43,
    "start_time": "2021-09-24T14:19:31.848Z"
   },
   {
    "duration": 14,
    "start_time": "2021-09-24T14:24:40.931Z"
   },
   {
    "duration": 206,
    "start_time": "2021-09-24T14:27:15.847Z"
   },
   {
    "duration": 79,
    "start_time": "2021-09-24T14:27:16.677Z"
   },
   {
    "duration": 80,
    "start_time": "2021-09-24T14:27:16.888Z"
   },
   {
    "duration": 3,
    "start_time": "2021-09-24T14:28:50.526Z"
   },
   {
    "duration": 4,
    "start_time": "2021-09-24T14:28:51.110Z"
   },
   {
    "duration": 4,
    "start_time": "2021-09-24T14:30:56.262Z"
   },
   {
    "duration": 632,
    "start_time": "2021-09-24T14:30:56.935Z"
   },
   {
    "duration": 7790,
    "start_time": "2021-09-24T14:31:15.514Z"
   },
   {
    "duration": 389,
    "start_time": "2021-09-26T12:06:26.390Z"
   },
   {
    "duration": 1463,
    "start_time": "2021-09-26T12:06:37.277Z"
   },
   {
    "duration": 534,
    "start_time": "2021-09-26T12:06:38.745Z"
   },
   {
    "duration": 30,
    "start_time": "2021-09-26T12:06:39.283Z"
   },
   {
    "duration": 934,
    "start_time": "2021-09-26T12:06:39.316Z"
   },
   {
    "duration": 39,
    "start_time": "2021-09-26T12:06:40.253Z"
   },
   {
    "duration": 1067,
    "start_time": "2021-09-26T12:06:40.295Z"
   },
   {
    "duration": 28,
    "start_time": "2021-09-26T12:06:41.364Z"
   },
   {
    "duration": 1302,
    "start_time": "2021-09-26T12:06:41.397Z"
   },
   {
    "duration": 38,
    "start_time": "2021-09-26T12:06:42.702Z"
   },
   {
    "duration": 17,
    "start_time": "2021-09-26T12:06:42.764Z"
   },
   {
    "duration": 32,
    "start_time": "2021-09-26T12:06:42.784Z"
   },
   {
    "duration": 148,
    "start_time": "2021-09-26T12:06:42.819Z"
   },
   {
    "duration": 123,
    "start_time": "2021-09-26T12:06:42.969Z"
   },
   {
    "duration": 186,
    "start_time": "2021-09-26T12:06:43.104Z"
   },
   {
    "duration": 4,
    "start_time": "2021-09-26T12:06:43.295Z"
   },
   {
    "duration": 8,
    "start_time": "2021-09-26T12:06:43.363Z"
   },
   {
    "duration": 12,
    "start_time": "2021-09-26T12:06:43.375Z"
   },
   {
    "duration": 608,
    "start_time": "2021-09-26T12:06:43.461Z"
   },
   {
    "duration": 13792,
    "start_time": "2021-09-26T12:06:44.076Z"
   },
   {
    "duration": 19,
    "start_time": "2021-09-26T12:07:05.032Z"
   },
   {
    "duration": 17,
    "start_time": "2021-09-26T12:07:12.202Z"
   },
   {
    "duration": 99,
    "start_time": "2021-09-26T12:19:21.314Z"
   },
   {
    "duration": 106,
    "start_time": "2021-09-26T12:43:11.813Z"
   },
   {
    "duration": 5519,
    "start_time": "2021-09-26T12:45:19.268Z"
   },
   {
    "duration": 13635,
    "start_time": "2021-09-26T12:46:00.258Z"
   },
   {
    "duration": 90,
    "start_time": "2021-09-26T12:47:16.545Z"
   },
   {
    "duration": 15321,
    "start_time": "2021-09-26T12:49:18.114Z"
   },
   {
    "duration": 13302,
    "start_time": "2021-09-26T12:52:33.734Z"
   },
   {
    "duration": 1521,
    "start_time": "2021-09-26T15:15:06.860Z"
   },
   {
    "duration": 537,
    "start_time": "2021-09-26T15:15:08.384Z"
   },
   {
    "duration": 40,
    "start_time": "2021-09-26T15:15:08.924Z"
   },
   {
    "duration": 1006,
    "start_time": "2021-09-26T15:15:08.967Z"
   },
   {
    "duration": 26,
    "start_time": "2021-09-26T15:15:09.976Z"
   },
   {
    "duration": 1104,
    "start_time": "2021-09-26T15:15:10.005Z"
   },
   {
    "duration": 43,
    "start_time": "2021-09-26T15:15:11.112Z"
   },
   {
    "duration": 939,
    "start_time": "2021-09-26T15:15:11.160Z"
   },
   {
    "duration": 53,
    "start_time": "2021-09-26T15:15:12.103Z"
   },
   {
    "duration": 24,
    "start_time": "2021-09-26T15:15:12.160Z"
   },
   {
    "duration": 24,
    "start_time": "2021-09-26T15:15:12.187Z"
   },
   {
    "duration": 50,
    "start_time": "2021-09-26T15:15:12.213Z"
   },
   {
    "duration": 97,
    "start_time": "2021-09-26T15:15:12.265Z"
   },
   {
    "duration": 194,
    "start_time": "2021-09-26T15:15:12.365Z"
   },
   {
    "duration": 121,
    "start_time": "2021-09-26T15:15:12.562Z"
   },
   {
    "duration": 5,
    "start_time": "2021-09-26T15:15:12.758Z"
   },
   {
    "duration": 92,
    "start_time": "2021-09-26T15:15:12.766Z"
   },
   {
    "duration": 21,
    "start_time": "2021-09-26T15:15:12.861Z"
   },
   {
    "duration": 581,
    "start_time": "2021-09-26T15:15:12.884Z"
   },
   {
    "duration": 124,
    "start_time": "2021-09-26T15:15:13.468Z"
   },
   {
    "duration": -14723813,
    "start_time": "2021-09-26T19:20:37.407Z"
   },
   {
    "duration": 125,
    "start_time": "2021-09-26T15:15:40.197Z"
   },
   {
    "duration": 587,
    "start_time": "2021-09-26T15:15:50.900Z"
   },
   {
    "duration": 1520,
    "start_time": "2021-09-26T15:16:16.902Z"
   },
   {
    "duration": 1508,
    "start_time": "2021-09-26T15:16:32.351Z"
   },
   {
    "duration": 135,
    "start_time": "2021-09-26T15:20:57.976Z"
   },
   {
    "duration": 887,
    "start_time": "2021-09-26T15:21:05.140Z"
   },
   {
    "duration": 96,
    "start_time": "2021-09-26T15:22:41.568Z"
   },
   {
    "duration": 436,
    "start_time": "2021-09-26T15:30:19.590Z"
   },
   {
    "duration": 35,
    "start_time": "2021-09-26T15:30:35.530Z"
   },
   {
    "duration": 124,
    "start_time": "2021-09-26T15:30:46.135Z"
   },
   {
    "duration": 42,
    "start_time": "2021-09-26T15:40:18.517Z"
   },
   {
    "duration": 39,
    "start_time": "2021-09-26T15:43:09.126Z"
   },
   {
    "duration": 4,
    "start_time": "2021-09-26T15:44:45.552Z"
   },
   {
    "duration": 118,
    "start_time": "2021-09-26T15:44:51.941Z"
   },
   {
    "duration": 5,
    "start_time": "2021-09-26T15:44:59.653Z"
   },
   {
    "duration": 17,
    "start_time": "2021-09-26T15:45:04.803Z"
   },
   {
    "duration": 5,
    "start_time": "2021-09-26T15:45:29.415Z"
   },
   {
    "duration": 4,
    "start_time": "2021-09-26T15:45:59.660Z"
   },
   {
    "duration": 9536,
    "start_time": "2021-09-26T15:46:04.174Z"
   },
   {
    "duration": 743,
    "start_time": "2021-09-26T15:46:13.712Z"
   },
   {
    "duration": 396,
    "start_time": "2021-09-26T15:57:00.118Z"
   },
   {
    "duration": 168,
    "start_time": "2021-09-26T15:57:11.589Z"
   },
   {
    "duration": 209,
    "start_time": "2021-09-26T15:57:27.847Z"
   },
   {
    "duration": 70,
    "start_time": "2021-09-26T15:57:36.891Z"
   },
   {
    "duration": 119,
    "start_time": "2021-09-26T16:00:46.646Z"
   },
   {
    "duration": 143,
    "start_time": "2021-09-26T16:01:30.918Z"
   },
   {
    "duration": 222,
    "start_time": "2021-09-26T16:01:54.636Z"
   },
   {
    "duration": 197,
    "start_time": "2021-09-26T16:02:19.766Z"
   },
   {
    "duration": 180,
    "start_time": "2021-09-26T16:02:37.483Z"
   },
   {
    "duration": -14723782,
    "start_time": "2021-09-26T20:08:29.977Z"
   },
   {
    "duration": 217,
    "start_time": "2021-09-26T16:03:32.302Z"
   },
   {
    "duration": 135,
    "start_time": "2021-09-26T16:03:38.526Z"
   },
   {
    "duration": 165,
    "start_time": "2021-09-26T16:03:44.998Z"
   },
   {
    "duration": 84,
    "start_time": "2021-09-26T16:03:59.775Z"
   },
   {
    "duration": 116,
    "start_time": "2021-09-26T16:04:20.241Z"
   },
   {
    "duration": 126,
    "start_time": "2021-09-26T16:04:25.740Z"
   },
   {
    "duration": 48,
    "start_time": "2021-09-26T16:05:13.112Z"
   },
   {
    "duration": 117,
    "start_time": "2021-09-26T16:05:30.941Z"
   },
   {
    "duration": 9460,
    "start_time": "2021-09-26T16:06:12.552Z"
   },
   {
    "duration": 168,
    "start_time": "2021-09-26T16:07:24.887Z"
   },
   {
    "duration": 215,
    "start_time": "2021-09-26T16:08:01.541Z"
   },
   {
    "duration": 184,
    "start_time": "2021-09-26T16:08:55.972Z"
   },
   {
    "duration": 535,
    "start_time": "2021-09-26T16:11:00.670Z"
   },
   {
    "duration": 54,
    "start_time": "2021-09-26T16:11:08.111Z"
   },
   {
    "duration": 7465,
    "start_time": "2021-09-26T16:17:47.137Z"
   },
   {
    "duration": 1410,
    "start_time": "2021-09-26T16:18:42.951Z"
   },
   {
    "duration": 473,
    "start_time": "2021-09-26T16:18:44.363Z"
   },
   {
    "duration": 34,
    "start_time": "2021-09-26T16:18:44.839Z"
   },
   {
    "duration": 859,
    "start_time": "2021-09-26T16:18:44.876Z"
   },
   {
    "duration": 33,
    "start_time": "2021-09-26T16:18:45.738Z"
   },
   {
    "duration": 862,
    "start_time": "2021-09-26T16:18:45.773Z"
   },
   {
    "duration": 35,
    "start_time": "2021-09-26T16:18:46.637Z"
   },
   {
    "duration": 847,
    "start_time": "2021-09-26T16:18:46.675Z"
   },
   {
    "duration": 46,
    "start_time": "2021-09-26T16:18:47.525Z"
   },
   {
    "duration": 16,
    "start_time": "2021-09-26T16:18:47.573Z"
   },
   {
    "duration": 17,
    "start_time": "2021-09-26T16:18:47.591Z"
   },
   {
    "duration": 49,
    "start_time": "2021-09-26T16:18:47.610Z"
   },
   {
    "duration": 95,
    "start_time": "2021-09-26T16:18:47.662Z"
   },
   {
    "duration": 195,
    "start_time": "2021-09-26T16:18:47.760Z"
   },
   {
    "duration": 123,
    "start_time": "2021-09-26T16:18:47.959Z"
   },
   {
    "duration": 73,
    "start_time": "2021-09-26T16:18:48.085Z"
   },
   {
    "duration": 101,
    "start_time": "2021-09-26T16:18:48.161Z"
   },
   {
    "duration": 11,
    "start_time": "2021-09-26T16:18:48.266Z"
   },
   {
    "duration": 585,
    "start_time": "2021-09-26T16:18:48.280Z"
   },
   {
    "duration": 1241,
    "start_time": "2021-09-26T16:18:48.867Z"
   },
   {
    "duration": -14723736,
    "start_time": "2021-09-26T20:24:13.846Z"
   },
   {
    "duration": -14723739,
    "start_time": "2021-09-26T20:24:13.851Z"
   },
   {
    "duration": -14723753,
    "start_time": "2021-09-26T20:24:13.866Z"
   },
   {
    "duration": 9224,
    "start_time": "2021-09-26T16:19:26.703Z"
   },
   {
    "duration": 498,
    "start_time": "2021-09-26T16:21:34.262Z"
   },
   {
    "duration": 5,
    "start_time": "2021-09-26T16:52:13.853Z"
   },
   {
    "duration": 9644,
    "start_time": "2021-09-26T16:52:17.411Z"
   },
   {
    "duration": 3569,
    "start_time": "2021-09-26T16:53:15.533Z"
   },
   {
    "duration": 3172,
    "start_time": "2021-09-26T16:53:45.073Z"
   },
   {
    "duration": 3471,
    "start_time": "2021-09-26T16:59:58.327Z"
   },
   {
    "duration": 3378,
    "start_time": "2021-09-26T17:00:11.641Z"
   },
   {
    "duration": 4,
    "start_time": "2021-09-26T17:00:59.112Z"
   },
   {
    "duration": 5,
    "start_time": "2021-09-26T17:01:09.056Z"
   },
   {
    "duration": 6804,
    "start_time": "2021-09-26T17:01:44.416Z"
   },
   {
    "duration": 41,
    "start_time": "2021-09-26T17:02:01.918Z"
   },
   {
    "duration": 194,
    "start_time": "2021-09-26T17:02:14.162Z"
   },
   {
    "duration": 4,
    "start_time": "2021-09-26T17:02:51.197Z"
   },
   {
    "duration": 68,
    "start_time": "2021-09-26T17:02:54.992Z"
   },
   {
    "duration": 153,
    "start_time": "2021-09-26T17:04:33.408Z"
   },
   {
    "duration": 2005,
    "start_time": "2021-09-26T17:05:14.371Z"
   },
   {
    "duration": 575,
    "start_time": "2021-09-26T17:05:28.283Z"
   },
   {
    "duration": 163,
    "start_time": "2021-09-26T17:05:54.094Z"
   },
   {
    "duration": 4,
    "start_time": "2021-09-26T17:06:19.846Z"
   },
   {
    "duration": 5,
    "start_time": "2021-09-26T17:07:13.311Z"
   },
   {
    "duration": 181,
    "start_time": "2021-09-26T17:07:20.285Z"
   },
   {
    "duration": 126,
    "start_time": "2021-09-26T17:10:22.255Z"
   },
   {
    "duration": 190,
    "start_time": "2021-09-26T17:10:29.074Z"
   },
   {
    "duration": 179,
    "start_time": "2021-09-26T17:11:11.377Z"
   },
   {
    "duration": 73,
    "start_time": "2021-09-26T17:12:19.783Z"
   },
   {
    "duration": 104,
    "start_time": "2021-09-26T17:12:26.155Z"
   },
   {
    "duration": 49,
    "start_time": "2021-09-26T17:13:25.713Z"
   },
   {
    "duration": 50,
    "start_time": "2021-09-26T17:13:38.808Z"
   },
   {
    "duration": 99,
    "start_time": "2021-09-26T17:13:50.659Z"
   },
   {
    "duration": 4918,
    "start_time": "2021-09-26T17:14:48.720Z"
   },
   {
    "duration": 448,
    "start_time": "2021-09-26T17:14:58.810Z"
   },
   {
    "duration": 418,
    "start_time": "2021-09-26T17:15:06.866Z"
   },
   {
    "duration": 34,
    "start_time": "2021-09-26T17:15:17.076Z"
   },
   {
    "duration": 149,
    "start_time": "2021-09-26T17:15:24.407Z"
   },
   {
    "duration": 6208,
    "start_time": "2021-09-26T17:15:57.678Z"
   },
   {
    "duration": 5959,
    "start_time": "2021-09-26T17:16:10.539Z"
   },
   {
    "duration": 9666,
    "start_time": "2021-09-26T17:16:20.872Z"
   },
   {
    "duration": 37,
    "start_time": "2021-09-26T17:16:51.263Z"
   },
   {
    "duration": 35,
    "start_time": "2021-09-26T17:17:07.916Z"
   },
   {
    "duration": 963,
    "start_time": "2021-09-27T13:50:02.480Z"
   },
   {
    "duration": 1493,
    "start_time": "2021-09-27T13:50:09.065Z"
   },
   {
    "duration": 499,
    "start_time": "2021-09-27T13:50:10.561Z"
   },
   {
    "duration": 26,
    "start_time": "2021-09-27T13:50:11.063Z"
   },
   {
    "duration": 926,
    "start_time": "2021-09-27T13:50:11.092Z"
   },
   {
    "duration": 26,
    "start_time": "2021-09-27T13:50:12.021Z"
   },
   {
    "duration": 895,
    "start_time": "2021-09-27T13:50:12.049Z"
   },
   {
    "duration": 26,
    "start_time": "2021-09-27T13:50:12.946Z"
   },
   {
    "duration": 918,
    "start_time": "2021-09-27T13:50:12.976Z"
   },
   {
    "duration": 47,
    "start_time": "2021-09-27T13:50:13.896Z"
   },
   {
    "duration": 23,
    "start_time": "2021-09-27T13:50:13.946Z"
   },
   {
    "duration": 29,
    "start_time": "2021-09-27T13:50:13.972Z"
   },
   {
    "duration": 17,
    "start_time": "2021-09-27T13:50:14.016Z"
   },
   {
    "duration": 92,
    "start_time": "2021-09-27T13:50:14.036Z"
   },
   {
    "duration": 102,
    "start_time": "2021-09-27T13:50:14.215Z"
   },
   {
    "duration": 124,
    "start_time": "2021-09-27T13:50:14.320Z"
   },
   {
    "duration": 6,
    "start_time": "2021-09-27T13:50:14.518Z"
   },
   {
    "duration": 94,
    "start_time": "2021-09-27T13:50:14.526Z"
   },
   {
    "duration": 7,
    "start_time": "2021-09-27T13:50:14.622Z"
   },
   {
    "duration": 593,
    "start_time": "2021-09-27T13:50:14.631Z"
   },
   {
    "duration": 498,
    "start_time": "2021-09-27T13:50:15.227Z"
   },
   {
    "duration": 628,
    "start_time": "2021-09-27T13:50:15.729Z"
   },
   {
    "duration": 479,
    "start_time": "2021-09-27T13:50:29.500Z"
   },
   {
    "duration": 430,
    "start_time": "2021-09-27T13:50:39.661Z"
   },
   {
    "duration": 25,
    "start_time": "2021-09-27T13:50:45.052Z"
   },
   {
    "duration": 34,
    "start_time": "2021-09-27T13:51:01.012Z"
   },
   {
    "duration": 23,
    "start_time": "2021-09-27T13:51:47.508Z"
   },
   {
    "duration": 73,
    "start_time": "2021-09-27T13:52:01.044Z"
   },
   {
    "duration": 101,
    "start_time": "2021-09-27T13:52:59.119Z"
   },
   {
    "duration": 218,
    "start_time": "2021-09-27T13:56:15.800Z"
   },
   {
    "duration": 75,
    "start_time": "2021-09-27T13:56:37.345Z"
   },
   {
    "duration": 111,
    "start_time": "2021-09-27T13:58:06.911Z"
   },
   {
    "duration": 489,
    "start_time": "2021-09-27T13:59:04.418Z"
   },
   {
    "duration": 43,
    "start_time": "2021-09-27T13:59:08.477Z"
   },
   {
    "duration": 467,
    "start_time": "2021-09-27T13:59:46.455Z"
   },
   {
    "duration": 28,
    "start_time": "2021-09-27T14:01:14.268Z"
   },
   {
    "duration": 125,
    "start_time": "2021-09-27T14:02:04.791Z"
   },
   {
    "duration": 131,
    "start_time": "2021-09-27T14:02:51.989Z"
   },
   {
    "duration": 179,
    "start_time": "2021-09-27T14:03:21.737Z"
   },
   {
    "duration": 39,
    "start_time": "2021-09-27T14:03:54.880Z"
   },
   {
    "duration": 133,
    "start_time": "2021-09-27T14:04:05.788Z"
   },
   {
    "duration": 56,
    "start_time": "2021-09-27T14:04:09.962Z"
   },
   {
    "duration": 501,
    "start_time": "2021-09-27T14:04:21.124Z"
   },
   {
    "duration": 35,
    "start_time": "2021-09-27T14:04:24.597Z"
   },
   {
    "duration": 1465,
    "start_time": "2021-09-27T14:04:35.061Z"
   },
   {
    "duration": 470,
    "start_time": "2021-09-27T14:04:36.529Z"
   },
   {
    "duration": 39,
    "start_time": "2021-09-27T14:04:37.003Z"
   },
   {
    "duration": 874,
    "start_time": "2021-09-27T14:04:37.046Z"
   },
   {
    "duration": 28,
    "start_time": "2021-09-27T14:04:37.923Z"
   },
   {
    "duration": 893,
    "start_time": "2021-09-27T14:04:37.954Z"
   },
   {
    "duration": 28,
    "start_time": "2021-09-27T14:04:38.850Z"
   },
   {
    "duration": 898,
    "start_time": "2021-09-27T14:04:38.884Z"
   },
   {
    "duration": 53,
    "start_time": "2021-09-27T14:04:39.785Z"
   },
   {
    "duration": 17,
    "start_time": "2021-09-27T14:04:39.840Z"
   },
   {
    "duration": 17,
    "start_time": "2021-09-27T14:04:39.859Z"
   },
   {
    "duration": 45,
    "start_time": "2021-09-27T14:04:39.878Z"
   },
   {
    "duration": 91,
    "start_time": "2021-09-27T14:04:39.926Z"
   },
   {
    "duration": 125,
    "start_time": "2021-09-27T14:04:40.020Z"
   },
   {
    "duration": 187,
    "start_time": "2021-09-27T14:04:40.148Z"
   },
   {
    "duration": 5,
    "start_time": "2021-09-27T14:04:40.420Z"
   },
   {
    "duration": 19,
    "start_time": "2021-09-27T14:04:40.517Z"
   },
   {
    "duration": 23,
    "start_time": "2021-09-27T14:04:40.539Z"
   },
   {
    "duration": 564,
    "start_time": "2021-09-27T14:04:40.565Z"
   },
   {
    "duration": 586,
    "start_time": "2021-09-27T14:04:41.132Z"
   },
   {
    "duration": 29,
    "start_time": "2021-09-27T14:04:42.318Z"
   },
   {
    "duration": 102,
    "start_time": "2021-09-27T14:05:15.425Z"
   },
   {
    "duration": 108,
    "start_time": "2021-09-27T14:05:19.910Z"
   },
   {
    "duration": 70,
    "start_time": "2021-09-27T14:06:12.649Z"
   },
   {
    "duration": 69,
    "start_time": "2021-09-27T14:06:41.055Z"
   },
   {
    "duration": 27,
    "start_time": "2021-09-27T14:07:01.303Z"
   },
   {
    "duration": 67,
    "start_time": "2021-09-27T14:07:03.950Z"
   },
   {
    "duration": 42,
    "start_time": "2021-09-27T14:07:25.878Z"
   },
   {
    "duration": 441,
    "start_time": "2021-09-27T14:07:45.764Z"
   },
   {
    "duration": 55,
    "start_time": "2021-09-27T14:07:50.667Z"
   },
   {
    "duration": 48,
    "start_time": "2021-09-27T14:07:58.969Z"
   },
   {
    "duration": 47,
    "start_time": "2021-09-27T14:08:09.269Z"
   },
   {
    "duration": 457,
    "start_time": "2021-09-27T14:11:16.311Z"
   },
   {
    "duration": 453,
    "start_time": "2021-09-27T14:11:26.537Z"
   },
   {
    "duration": 110,
    "start_time": "2021-09-27T14:11:49.610Z"
   },
   {
    "duration": 41,
    "start_time": "2021-09-27T14:12:07.976Z"
   },
   {
    "duration": 6398,
    "start_time": "2021-09-27T14:12:17.468Z"
   },
   {
    "duration": 7,
    "start_time": "2021-09-27T14:12:52.545Z"
   },
   {
    "duration": 7077,
    "start_time": "2021-09-27T14:15:09.329Z"
   },
   {
    "duration": 6887,
    "start_time": "2021-09-27T14:15:16.980Z"
   },
   {
    "duration": 6815,
    "start_time": "2021-09-27T14:15:51.446Z"
   },
   {
    "duration": 36,
    "start_time": "2021-09-27T14:16:36.586Z"
   },
   {
    "duration": 12,
    "start_time": "2021-09-27T14:16:40.662Z"
   },
   {
    "duration": 10,
    "start_time": "2021-09-27T14:17:07.497Z"
   },
   {
    "duration": 8,
    "start_time": "2021-09-27T14:17:22.897Z"
   },
   {
    "duration": 8,
    "start_time": "2021-09-27T14:17:30.287Z"
   },
   {
    "duration": 467,
    "start_time": "2021-09-27T14:18:17.051Z"
   },
   {
    "duration": 42,
    "start_time": "2021-09-27T14:18:43.578Z"
   },
   {
    "duration": 484,
    "start_time": "2021-09-27T14:19:12.139Z"
   },
   {
    "duration": 482,
    "start_time": "2021-09-27T14:19:45.839Z"
   },
   {
    "duration": 5,
    "start_time": "2021-09-27T14:20:14.215Z"
   },
   {
    "duration": 462,
    "start_time": "2021-09-27T14:20:16.362Z"
   },
   {
    "duration": 1293,
    "start_time": "2021-09-27T14:21:26.350Z"
   },
   {
    "duration": 489,
    "start_time": "2021-09-27T14:21:51.669Z"
   },
   {
    "duration": 1368,
    "start_time": "2021-09-27T14:22:00.761Z"
   },
   {
    "duration": 1495,
    "start_time": "2021-09-27T14:22:44.159Z"
   },
   {
    "duration": 1394,
    "start_time": "2021-09-27T14:22:56.684Z"
   },
   {
    "duration": 1491,
    "start_time": "2021-09-27T14:23:22.352Z"
   },
   {
    "duration": 1359,
    "start_time": "2021-09-27T14:23:38.847Z"
   },
   {
    "duration": 1844,
    "start_time": "2021-09-27T14:24:22.335Z"
   },
   {
    "duration": 1337,
    "start_time": "2021-09-27T14:24:27.343Z"
   },
   {
    "duration": 7829,
    "start_time": "2021-09-27T14:25:23.917Z"
   }
  ],
  "kernelspec": {
   "display_name": "Python 3 (ipykernel)",
   "language": "python",
   "name": "python3"
  },
  "language_info": {
   "codemirror_mode": {
    "name": "ipython",
    "version": 3
   },
   "file_extension": ".py",
   "mimetype": "text/x-python",
   "name": "python",
   "nbconvert_exporter": "python",
   "pygments_lexer": "ipython3",
   "version": "3.9.7"
  },
  "toc": {
   "base_numbering": 1,
   "nav_menu": {},
   "number_sections": true,
   "sideBar": true,
   "skip_h1_title": true,
   "title_cell": "Table of Contents",
   "title_sidebar": "Contents",
   "toc_cell": false,
   "toc_position": {},
   "toc_section_display": true,
   "toc_window_display": false
  }
 },
 "nbformat": 4,
 "nbformat_minor": 2
}
