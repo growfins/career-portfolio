{
 "cells": [
  {
   "cell_type": "markdown",
   "id": "236f99e1",
   "metadata": {},
   "source": [
    "# Отток клиентов\n",
    "\n",
    "**Заказчик:** банк А.  \n",
    "**Цель:** на основе имеющихся данных поведения клиентов Заказчика построить и обучить модель, эффективно предсказывающую возможный отказ клиента от услуг банка А.  \n",
    "\n",
    "**Задачи:**\n",
    "1. Ознакомиться с данными, провести процедуру преподготовки. Выявить дисбаланс классов.\n",
    "2. Построить и обучить модель\n",
    "3. Добиться максимального показателя целевой метрики F1"
   ]
  },
  {
   "cell_type": "markdown",
   "id": "ae3ef37b",
   "metadata": {},
   "source": [
    "## Оглавление\n",
    "\n",
    "1. [Предобработка данных](#6)\n",
    "2. [Обучениее модели без учёта дисбаланса классов](#5)  \n",
    "3. [Подготовка сбалансированной выборки](#4)  \n",
    "4. [Подбор гиперпараметров](#3)  \n",
    "5. [Итоговая проверка](#2)\n",
    "6. [Вывод](#1)"
   ]
  },
  {
   "cell_type": "markdown",
   "id": "6ea264df",
   "metadata": {},
   "source": [
    "<a id=\"6\"></a>\n",
    "###  Предобработка данных"
   ]
  },
  {
   "cell_type": "code",
   "execution_count": 5,
   "id": "f7307973",
   "metadata": {},
   "outputs": [
    {
     "data": {
      "text/html": [
       "<div>\n",
       "<style scoped>\n",
       "    .dataframe tbody tr th:only-of-type {\n",
       "        vertical-align: middle;\n",
       "    }\n",
       "\n",
       "    .dataframe tbody tr th {\n",
       "        vertical-align: top;\n",
       "    }\n",
       "\n",
       "    .dataframe thead th {\n",
       "        text-align: right;\n",
       "    }\n",
       "</style>\n",
       "<table border=\"1\" class=\"dataframe\">\n",
       "  <thead>\n",
       "    <tr style=\"text-align: right;\">\n",
       "      <th></th>\n",
       "      <th>RowNumber</th>\n",
       "      <th>CustomerId</th>\n",
       "      <th>Surname</th>\n",
       "      <th>CreditScore</th>\n",
       "      <th>Geography</th>\n",
       "      <th>Gender</th>\n",
       "      <th>Age</th>\n",
       "      <th>Tenure</th>\n",
       "      <th>Balance</th>\n",
       "      <th>NumOfProducts</th>\n",
       "      <th>HasCrCard</th>\n",
       "      <th>IsActiveMember</th>\n",
       "      <th>EstimatedSalary</th>\n",
       "      <th>Exited</th>\n",
       "    </tr>\n",
       "  </thead>\n",
       "  <tbody>\n",
       "    <tr>\n",
       "      <th>0</th>\n",
       "      <td>1</td>\n",
       "      <td>15634602</td>\n",
       "      <td>Hargrave</td>\n",
       "      <td>619</td>\n",
       "      <td>France</td>\n",
       "      <td>Female</td>\n",
       "      <td>42</td>\n",
       "      <td>2.0</td>\n",
       "      <td>0.00</td>\n",
       "      <td>1</td>\n",
       "      <td>1</td>\n",
       "      <td>1</td>\n",
       "      <td>101348.88</td>\n",
       "      <td>1</td>\n",
       "    </tr>\n",
       "    <tr>\n",
       "      <th>1</th>\n",
       "      <td>2</td>\n",
       "      <td>15647311</td>\n",
       "      <td>Hill</td>\n",
       "      <td>608</td>\n",
       "      <td>Spain</td>\n",
       "      <td>Female</td>\n",
       "      <td>41</td>\n",
       "      <td>1.0</td>\n",
       "      <td>83807.86</td>\n",
       "      <td>1</td>\n",
       "      <td>0</td>\n",
       "      <td>1</td>\n",
       "      <td>112542.58</td>\n",
       "      <td>0</td>\n",
       "    </tr>\n",
       "    <tr>\n",
       "      <th>2</th>\n",
       "      <td>3</td>\n",
       "      <td>15619304</td>\n",
       "      <td>Onio</td>\n",
       "      <td>502</td>\n",
       "      <td>France</td>\n",
       "      <td>Female</td>\n",
       "      <td>42</td>\n",
       "      <td>8.0</td>\n",
       "      <td>159660.80</td>\n",
       "      <td>3</td>\n",
       "      <td>1</td>\n",
       "      <td>0</td>\n",
       "      <td>113931.57</td>\n",
       "      <td>1</td>\n",
       "    </tr>\n",
       "    <tr>\n",
       "      <th>3</th>\n",
       "      <td>4</td>\n",
       "      <td>15701354</td>\n",
       "      <td>Boni</td>\n",
       "      <td>699</td>\n",
       "      <td>France</td>\n",
       "      <td>Female</td>\n",
       "      <td>39</td>\n",
       "      <td>1.0</td>\n",
       "      <td>0.00</td>\n",
       "      <td>2</td>\n",
       "      <td>0</td>\n",
       "      <td>0</td>\n",
       "      <td>93826.63</td>\n",
       "      <td>0</td>\n",
       "    </tr>\n",
       "    <tr>\n",
       "      <th>4</th>\n",
       "      <td>5</td>\n",
       "      <td>15737888</td>\n",
       "      <td>Mitchell</td>\n",
       "      <td>850</td>\n",
       "      <td>Spain</td>\n",
       "      <td>Female</td>\n",
       "      <td>43</td>\n",
       "      <td>2.0</td>\n",
       "      <td>125510.82</td>\n",
       "      <td>1</td>\n",
       "      <td>1</td>\n",
       "      <td>1</td>\n",
       "      <td>79084.10</td>\n",
       "      <td>0</td>\n",
       "    </tr>\n",
       "    <tr>\n",
       "      <th>...</th>\n",
       "      <td>...</td>\n",
       "      <td>...</td>\n",
       "      <td>...</td>\n",
       "      <td>...</td>\n",
       "      <td>...</td>\n",
       "      <td>...</td>\n",
       "      <td>...</td>\n",
       "      <td>...</td>\n",
       "      <td>...</td>\n",
       "      <td>...</td>\n",
       "      <td>...</td>\n",
       "      <td>...</td>\n",
       "      <td>...</td>\n",
       "      <td>...</td>\n",
       "    </tr>\n",
       "    <tr>\n",
       "      <th>9995</th>\n",
       "      <td>9996</td>\n",
       "      <td>15606229</td>\n",
       "      <td>Obijiaku</td>\n",
       "      <td>771</td>\n",
       "      <td>France</td>\n",
       "      <td>Male</td>\n",
       "      <td>39</td>\n",
       "      <td>5.0</td>\n",
       "      <td>0.00</td>\n",
       "      <td>2</td>\n",
       "      <td>1</td>\n",
       "      <td>0</td>\n",
       "      <td>96270.64</td>\n",
       "      <td>0</td>\n",
       "    </tr>\n",
       "    <tr>\n",
       "      <th>9996</th>\n",
       "      <td>9997</td>\n",
       "      <td>15569892</td>\n",
       "      <td>Johnstone</td>\n",
       "      <td>516</td>\n",
       "      <td>France</td>\n",
       "      <td>Male</td>\n",
       "      <td>35</td>\n",
       "      <td>10.0</td>\n",
       "      <td>57369.61</td>\n",
       "      <td>1</td>\n",
       "      <td>1</td>\n",
       "      <td>1</td>\n",
       "      <td>101699.77</td>\n",
       "      <td>0</td>\n",
       "    </tr>\n",
       "    <tr>\n",
       "      <th>9997</th>\n",
       "      <td>9998</td>\n",
       "      <td>15584532</td>\n",
       "      <td>Liu</td>\n",
       "      <td>709</td>\n",
       "      <td>France</td>\n",
       "      <td>Female</td>\n",
       "      <td>36</td>\n",
       "      <td>7.0</td>\n",
       "      <td>0.00</td>\n",
       "      <td>1</td>\n",
       "      <td>0</td>\n",
       "      <td>1</td>\n",
       "      <td>42085.58</td>\n",
       "      <td>1</td>\n",
       "    </tr>\n",
       "    <tr>\n",
       "      <th>9998</th>\n",
       "      <td>9999</td>\n",
       "      <td>15682355</td>\n",
       "      <td>Sabbatini</td>\n",
       "      <td>772</td>\n",
       "      <td>Germany</td>\n",
       "      <td>Male</td>\n",
       "      <td>42</td>\n",
       "      <td>3.0</td>\n",
       "      <td>75075.31</td>\n",
       "      <td>2</td>\n",
       "      <td>1</td>\n",
       "      <td>0</td>\n",
       "      <td>92888.52</td>\n",
       "      <td>1</td>\n",
       "    </tr>\n",
       "    <tr>\n",
       "      <th>9999</th>\n",
       "      <td>10000</td>\n",
       "      <td>15628319</td>\n",
       "      <td>Walker</td>\n",
       "      <td>792</td>\n",
       "      <td>France</td>\n",
       "      <td>Female</td>\n",
       "      <td>28</td>\n",
       "      <td>NaN</td>\n",
       "      <td>130142.79</td>\n",
       "      <td>1</td>\n",
       "      <td>1</td>\n",
       "      <td>0</td>\n",
       "      <td>38190.78</td>\n",
       "      <td>0</td>\n",
       "    </tr>\n",
       "  </tbody>\n",
       "</table>\n",
       "<p>10000 rows × 14 columns</p>\n",
       "</div>"
      ],
      "text/plain": [
       "      RowNumber  CustomerId    Surname  CreditScore Geography  Gender  Age  \\\n",
       "0             1    15634602   Hargrave          619    France  Female   42   \n",
       "1             2    15647311       Hill          608     Spain  Female   41   \n",
       "2             3    15619304       Onio          502    France  Female   42   \n",
       "3             4    15701354       Boni          699    France  Female   39   \n",
       "4             5    15737888   Mitchell          850     Spain  Female   43   \n",
       "...         ...         ...        ...          ...       ...     ...  ...   \n",
       "9995       9996    15606229   Obijiaku          771    France    Male   39   \n",
       "9996       9997    15569892  Johnstone          516    France    Male   35   \n",
       "9997       9998    15584532        Liu          709    France  Female   36   \n",
       "9998       9999    15682355  Sabbatini          772   Germany    Male   42   \n",
       "9999      10000    15628319     Walker          792    France  Female   28   \n",
       "\n",
       "      Tenure    Balance  NumOfProducts  HasCrCard  IsActiveMember  \\\n",
       "0        2.0       0.00              1          1               1   \n",
       "1        1.0   83807.86              1          0               1   \n",
       "2        8.0  159660.80              3          1               0   \n",
       "3        1.0       0.00              2          0               0   \n",
       "4        2.0  125510.82              1          1               1   \n",
       "...      ...        ...            ...        ...             ...   \n",
       "9995     5.0       0.00              2          1               0   \n",
       "9996    10.0   57369.61              1          1               1   \n",
       "9997     7.0       0.00              1          0               1   \n",
       "9998     3.0   75075.31              2          1               0   \n",
       "9999     NaN  130142.79              1          1               0   \n",
       "\n",
       "      EstimatedSalary  Exited  \n",
       "0           101348.88       1  \n",
       "1           112542.58       0  \n",
       "2           113931.57       1  \n",
       "3            93826.63       0  \n",
       "4            79084.10       0  \n",
       "...               ...     ...  \n",
       "9995         96270.64       0  \n",
       "9996        101699.77       0  \n",
       "9997         42085.58       1  \n",
       "9998         92888.52       1  \n",
       "9999         38190.78       0  \n",
       "\n",
       "[10000 rows x 14 columns]"
      ]
     },
     "metadata": {},
     "output_type": "display_data"
    },
    {
     "name": "stdout",
     "output_type": "stream",
     "text": [
      "<class 'pandas.core.frame.DataFrame'>\n",
      "RangeIndex: 10000 entries, 0 to 9999\n",
      "Data columns (total 14 columns):\n",
      " #   Column           Non-Null Count  Dtype  \n",
      "---  ------           --------------  -----  \n",
      " 0   RowNumber        10000 non-null  int64  \n",
      " 1   CustomerId       10000 non-null  int64  \n",
      " 2   Surname          10000 non-null  object \n",
      " 3   CreditScore      10000 non-null  int64  \n",
      " 4   Geography        10000 non-null  object \n",
      " 5   Gender           10000 non-null  object \n",
      " 6   Age              10000 non-null  int64  \n",
      " 7   Tenure           9091 non-null   float64\n",
      " 8   Balance          10000 non-null  float64\n",
      " 9   NumOfProducts    10000 non-null  int64  \n",
      " 10  HasCrCard        10000 non-null  int64  \n",
      " 11  IsActiveMember   10000 non-null  int64  \n",
      " 12  EstimatedSalary  10000 non-null  float64\n",
      " 13  Exited           10000 non-null  int64  \n",
      "dtypes: float64(3), int64(8), object(3)\n",
      "memory usage: 1.1+ MB\n"
     ]
    }
   ],
   "source": [
    "data = pd.read_csv(\"Churn.csv\")\n",
    "display(data)\n",
    "data.info()"
   ]
  },
  {
   "cell_type": "markdown",
   "id": "2d40b04a",
   "metadata": {},
   "source": [
    "Данные представляют собой историческую информацию о поведении клиентов Банка А, а также расторжении договоров с банком.\n",
    "- RowNumber — индекс строки в данных  \n",
    "- CustomerId — уникальный идентификатор клиента  \n",
    "- Surname — фамилия  \n",
    "- CreditScore — кредитный рейтинг  \n",
    "- Geography — страна проживания (категориальный признак)\n",
    "- Gender — пол  (категориальный признак)\n",
    "- Age — возраст  \n",
    "- Tenure — сколько лет человек является клиентом банка  \n",
    "- Balance — баланс на счёте  \n",
    "- NumOfProducts — количество продуктов банка, используемых клиентом  \n",
    "- HasCrCard — наличие кредитной карты  \n",
    "- IsActiveMember — активность клиента  \n",
    "- EstimatedSalary — предполагаемая зарплата  \n",
    "- Exited — факт ухода клиента(1 - ушёл, 0 - остался), **целевой признак**\n",
    "\n",
    "В столбце Tenure обнаружено около 10% пропущенных значений. \n",
    "Выполним проверку на мультиколлинеарность, построим матрицу корреляции."
   ]
  },
  {
   "cell_type": "code",
   "execution_count": 6,
   "id": "8b6d1005",
   "metadata": {},
   "outputs": [
    {
     "data": {
      "text/html": [
       "<div>\n",
       "<style scoped>\n",
       "    .dataframe tbody tr th:only-of-type {\n",
       "        vertical-align: middle;\n",
       "    }\n",
       "\n",
       "    .dataframe tbody tr th {\n",
       "        vertical-align: top;\n",
       "    }\n",
       "\n",
       "    .dataframe thead th {\n",
       "        text-align: right;\n",
       "    }\n",
       "</style>\n",
       "<table border=\"1\" class=\"dataframe\">\n",
       "  <thead>\n",
       "    <tr style=\"text-align: right;\">\n",
       "      <th></th>\n",
       "      <th>RowNumber</th>\n",
       "      <th>CustomerId</th>\n",
       "      <th>CreditScore</th>\n",
       "      <th>Age</th>\n",
       "      <th>Tenure</th>\n",
       "      <th>Balance</th>\n",
       "      <th>NumOfProducts</th>\n",
       "      <th>HasCrCard</th>\n",
       "      <th>IsActiveMember</th>\n",
       "      <th>EstimatedSalary</th>\n",
       "      <th>Exited</th>\n",
       "    </tr>\n",
       "  </thead>\n",
       "  <tbody>\n",
       "    <tr>\n",
       "      <th>RowNumber</th>\n",
       "      <td>1.000000</td>\n",
       "      <td>0.004202</td>\n",
       "      <td>0.005840</td>\n",
       "      <td>0.000783</td>\n",
       "      <td>-0.007322</td>\n",
       "      <td>-0.009067</td>\n",
       "      <td>0.007246</td>\n",
       "      <td>0.000599</td>\n",
       "      <td>0.012044</td>\n",
       "      <td>-0.005988</td>\n",
       "      <td>-0.016571</td>\n",
       "    </tr>\n",
       "    <tr>\n",
       "      <th>CustomerId</th>\n",
       "      <td>0.004202</td>\n",
       "      <td>1.000000</td>\n",
       "      <td>0.005308</td>\n",
       "      <td>0.009497</td>\n",
       "      <td>-0.021418</td>\n",
       "      <td>-0.012419</td>\n",
       "      <td>0.016972</td>\n",
       "      <td>-0.014025</td>\n",
       "      <td>0.001665</td>\n",
       "      <td>0.015271</td>\n",
       "      <td>-0.006248</td>\n",
       "    </tr>\n",
       "    <tr>\n",
       "      <th>CreditScore</th>\n",
       "      <td>0.005840</td>\n",
       "      <td>0.005308</td>\n",
       "      <td>1.000000</td>\n",
       "      <td>-0.003965</td>\n",
       "      <td>-0.000062</td>\n",
       "      <td>0.006268</td>\n",
       "      <td>0.012238</td>\n",
       "      <td>-0.005458</td>\n",
       "      <td>0.025651</td>\n",
       "      <td>-0.001384</td>\n",
       "      <td>-0.027094</td>\n",
       "    </tr>\n",
       "    <tr>\n",
       "      <th>Age</th>\n",
       "      <td>0.000783</td>\n",
       "      <td>0.009497</td>\n",
       "      <td>-0.003965</td>\n",
       "      <td>1.000000</td>\n",
       "      <td>-0.013134</td>\n",
       "      <td>0.028308</td>\n",
       "      <td>-0.030680</td>\n",
       "      <td>-0.011721</td>\n",
       "      <td>0.085472</td>\n",
       "      <td>-0.007201</td>\n",
       "      <td>0.285323</td>\n",
       "    </tr>\n",
       "    <tr>\n",
       "      <th>Tenure</th>\n",
       "      <td>-0.007322</td>\n",
       "      <td>-0.021418</td>\n",
       "      <td>-0.000062</td>\n",
       "      <td>-0.013134</td>\n",
       "      <td>1.000000</td>\n",
       "      <td>-0.007911</td>\n",
       "      <td>0.011979</td>\n",
       "      <td>0.027232</td>\n",
       "      <td>-0.032178</td>\n",
       "      <td>0.010520</td>\n",
       "      <td>-0.016761</td>\n",
       "    </tr>\n",
       "    <tr>\n",
       "      <th>Balance</th>\n",
       "      <td>-0.009067</td>\n",
       "      <td>-0.012419</td>\n",
       "      <td>0.006268</td>\n",
       "      <td>0.028308</td>\n",
       "      <td>-0.007911</td>\n",
       "      <td>1.000000</td>\n",
       "      <td>-0.304180</td>\n",
       "      <td>-0.014858</td>\n",
       "      <td>-0.010084</td>\n",
       "      <td>0.012797</td>\n",
       "      <td>0.118533</td>\n",
       "    </tr>\n",
       "    <tr>\n",
       "      <th>NumOfProducts</th>\n",
       "      <td>0.007246</td>\n",
       "      <td>0.016972</td>\n",
       "      <td>0.012238</td>\n",
       "      <td>-0.030680</td>\n",
       "      <td>0.011979</td>\n",
       "      <td>-0.304180</td>\n",
       "      <td>1.000000</td>\n",
       "      <td>0.003183</td>\n",
       "      <td>0.009612</td>\n",
       "      <td>0.014204</td>\n",
       "      <td>-0.047820</td>\n",
       "    </tr>\n",
       "    <tr>\n",
       "      <th>HasCrCard</th>\n",
       "      <td>0.000599</td>\n",
       "      <td>-0.014025</td>\n",
       "      <td>-0.005458</td>\n",
       "      <td>-0.011721</td>\n",
       "      <td>0.027232</td>\n",
       "      <td>-0.014858</td>\n",
       "      <td>0.003183</td>\n",
       "      <td>1.000000</td>\n",
       "      <td>-0.011866</td>\n",
       "      <td>-0.009933</td>\n",
       "      <td>-0.007138</td>\n",
       "    </tr>\n",
       "    <tr>\n",
       "      <th>IsActiveMember</th>\n",
       "      <td>0.012044</td>\n",
       "      <td>0.001665</td>\n",
       "      <td>0.025651</td>\n",
       "      <td>0.085472</td>\n",
       "      <td>-0.032178</td>\n",
       "      <td>-0.010084</td>\n",
       "      <td>0.009612</td>\n",
       "      <td>-0.011866</td>\n",
       "      <td>1.000000</td>\n",
       "      <td>-0.011421</td>\n",
       "      <td>-0.156128</td>\n",
       "    </tr>\n",
       "    <tr>\n",
       "      <th>EstimatedSalary</th>\n",
       "      <td>-0.005988</td>\n",
       "      <td>0.015271</td>\n",
       "      <td>-0.001384</td>\n",
       "      <td>-0.007201</td>\n",
       "      <td>0.010520</td>\n",
       "      <td>0.012797</td>\n",
       "      <td>0.014204</td>\n",
       "      <td>-0.009933</td>\n",
       "      <td>-0.011421</td>\n",
       "      <td>1.000000</td>\n",
       "      <td>0.012097</td>\n",
       "    </tr>\n",
       "    <tr>\n",
       "      <th>Exited</th>\n",
       "      <td>-0.016571</td>\n",
       "      <td>-0.006248</td>\n",
       "      <td>-0.027094</td>\n",
       "      <td>0.285323</td>\n",
       "      <td>-0.016761</td>\n",
       "      <td>0.118533</td>\n",
       "      <td>-0.047820</td>\n",
       "      <td>-0.007138</td>\n",
       "      <td>-0.156128</td>\n",
       "      <td>0.012097</td>\n",
       "      <td>1.000000</td>\n",
       "    </tr>\n",
       "  </tbody>\n",
       "</table>\n",
       "</div>"
      ],
      "text/plain": [
       "                 RowNumber  CustomerId  CreditScore       Age    Tenure  \\\n",
       "RowNumber         1.000000    0.004202     0.005840  0.000783 -0.007322   \n",
       "CustomerId        0.004202    1.000000     0.005308  0.009497 -0.021418   \n",
       "CreditScore       0.005840    0.005308     1.000000 -0.003965 -0.000062   \n",
       "Age               0.000783    0.009497    -0.003965  1.000000 -0.013134   \n",
       "Tenure           -0.007322   -0.021418    -0.000062 -0.013134  1.000000   \n",
       "Balance          -0.009067   -0.012419     0.006268  0.028308 -0.007911   \n",
       "NumOfProducts     0.007246    0.016972     0.012238 -0.030680  0.011979   \n",
       "HasCrCard         0.000599   -0.014025    -0.005458 -0.011721  0.027232   \n",
       "IsActiveMember    0.012044    0.001665     0.025651  0.085472 -0.032178   \n",
       "EstimatedSalary  -0.005988    0.015271    -0.001384 -0.007201  0.010520   \n",
       "Exited           -0.016571   -0.006248    -0.027094  0.285323 -0.016761   \n",
       "\n",
       "                  Balance  NumOfProducts  HasCrCard  IsActiveMember  \\\n",
       "RowNumber       -0.009067       0.007246   0.000599        0.012044   \n",
       "CustomerId      -0.012419       0.016972  -0.014025        0.001665   \n",
       "CreditScore      0.006268       0.012238  -0.005458        0.025651   \n",
       "Age              0.028308      -0.030680  -0.011721        0.085472   \n",
       "Tenure          -0.007911       0.011979   0.027232       -0.032178   \n",
       "Balance          1.000000      -0.304180  -0.014858       -0.010084   \n",
       "NumOfProducts   -0.304180       1.000000   0.003183        0.009612   \n",
       "HasCrCard       -0.014858       0.003183   1.000000       -0.011866   \n",
       "IsActiveMember  -0.010084       0.009612  -0.011866        1.000000   \n",
       "EstimatedSalary  0.012797       0.014204  -0.009933       -0.011421   \n",
       "Exited           0.118533      -0.047820  -0.007138       -0.156128   \n",
       "\n",
       "                 EstimatedSalary    Exited  \n",
       "RowNumber              -0.005988 -0.016571  \n",
       "CustomerId              0.015271 -0.006248  \n",
       "CreditScore            -0.001384 -0.027094  \n",
       "Age                    -0.007201  0.285323  \n",
       "Tenure                  0.010520 -0.016761  \n",
       "Balance                 0.012797  0.118533  \n",
       "NumOfProducts           0.014204 -0.047820  \n",
       "HasCrCard              -0.009933 -0.007138  \n",
       "IsActiveMember         -0.011421 -0.156128  \n",
       "EstimatedSalary         1.000000  0.012097  \n",
       "Exited                  0.012097  1.000000  "
      ]
     },
     "metadata": {},
     "output_type": "display_data"
    }
   ],
   "source": [
    "display(data.corr())"
   ]
  },
  {
   "cell_type": "markdown",
   "id": "744dd5ce",
   "metadata": {},
   "source": [
    "Выраженной корреляции между признаками не обнаружено (R2 не превышает 0,8).\n",
    "\n",
    "Заполнение пропусков в столбце Tenure выполним путём заполнения средним по группам.   \n",
    "Разделим клиентов банка на три группы по возрасту:\n",
    "- до 30 лет - категория young\n",
    "- от 30 до 50 лет - категория mature\n",
    "- от 50 - категория old"
   ]
  },
  {
   "cell_type": "code",
   "execution_count": 7,
   "id": "b7f3f221",
   "metadata": {},
   "outputs": [
    {
     "name": "stdout",
     "output_type": "stream",
     "text": [
      "<class 'pandas.core.frame.DataFrame'>\n",
      "RangeIndex: 10000 entries, 0 to 9999\n",
      "Data columns (total 15 columns):\n",
      " #   Column           Non-Null Count  Dtype  \n",
      "---  ------           --------------  -----  \n",
      " 0   RowNumber        10000 non-null  int64  \n",
      " 1   CustomerId       10000 non-null  int64  \n",
      " 2   Surname          10000 non-null  object \n",
      " 3   CreditScore      10000 non-null  int64  \n",
      " 4   Geography        10000 non-null  object \n",
      " 5   Gender           10000 non-null  object \n",
      " 6   Age              10000 non-null  int64  \n",
      " 7   Tenure           10000 non-null  float64\n",
      " 8   Balance          10000 non-null  float64\n",
      " 9   NumOfProducts    10000 non-null  int64  \n",
      " 10  HasCrCard        10000 non-null  int64  \n",
      " 11  IsActiveMember   10000 non-null  int64  \n",
      " 12  EstimatedSalary  10000 non-null  float64\n",
      " 13  Exited           10000 non-null  int64  \n",
      " 14  AgeCategory      10000 non-null  object \n",
      "dtypes: float64(3), int64(8), object(4)\n",
      "memory usage: 1.1+ MB\n"
     ]
    }
   ],
   "source": [
    "def age_categoriser(row):\n",
    "        if row['Age'] <= 30:\n",
    "            return 'young' \n",
    "        elif 30 < row['Age'] <= 50:\n",
    "            return 'mature'\n",
    "        else:\n",
    "            return 'old'\n",
    "\n",
    "data['AgeCategory'] = data.apply(age_categoriser, axis = 1)\n",
    "data.loc[data['Tenure'].isnull(), 'Tenure'] = data.groupby('AgeCategory')['Age'].transform('median')\n",
    "data.info()"
   ]
  },
  {
   "cell_type": "markdown",
   "id": "90f6f68e",
   "metadata": {},
   "source": [
    "Удалим из датафрейма признаки, которые точно не повлияют на предсказания, а именно:\n",
    "- RowNumber\n",
    "- CustomerId\n",
    "- Surname\n",
    "- AgeCategory\n",
    "\n"
   ]
  },
  {
   "cell_type": "code",
   "execution_count": 8,
   "id": "3a1d3dfd",
   "metadata": {},
   "outputs": [
    {
     "data": {
      "text/html": [
       "<div>\n",
       "<style scoped>\n",
       "    .dataframe tbody tr th:only-of-type {\n",
       "        vertical-align: middle;\n",
       "    }\n",
       "\n",
       "    .dataframe tbody tr th {\n",
       "        vertical-align: top;\n",
       "    }\n",
       "\n",
       "    .dataframe thead th {\n",
       "        text-align: right;\n",
       "    }\n",
       "</style>\n",
       "<table border=\"1\" class=\"dataframe\">\n",
       "  <thead>\n",
       "    <tr style=\"text-align: right;\">\n",
       "      <th></th>\n",
       "      <th>CreditScore</th>\n",
       "      <th>Geography</th>\n",
       "      <th>Gender</th>\n",
       "      <th>Age</th>\n",
       "      <th>Tenure</th>\n",
       "      <th>Balance</th>\n",
       "      <th>NumOfProducts</th>\n",
       "      <th>HasCrCard</th>\n",
       "      <th>IsActiveMember</th>\n",
       "      <th>EstimatedSalary</th>\n",
       "      <th>Exited</th>\n",
       "    </tr>\n",
       "  </thead>\n",
       "  <tbody>\n",
       "    <tr>\n",
       "      <th>0</th>\n",
       "      <td>619</td>\n",
       "      <td>France</td>\n",
       "      <td>Female</td>\n",
       "      <td>42</td>\n",
       "      <td>2.0</td>\n",
       "      <td>0.00</td>\n",
       "      <td>1</td>\n",
       "      <td>1</td>\n",
       "      <td>1</td>\n",
       "      <td>101348.88</td>\n",
       "      <td>1</td>\n",
       "    </tr>\n",
       "    <tr>\n",
       "      <th>1</th>\n",
       "      <td>608</td>\n",
       "      <td>Spain</td>\n",
       "      <td>Female</td>\n",
       "      <td>41</td>\n",
       "      <td>1.0</td>\n",
       "      <td>83807.86</td>\n",
       "      <td>1</td>\n",
       "      <td>0</td>\n",
       "      <td>1</td>\n",
       "      <td>112542.58</td>\n",
       "      <td>0</td>\n",
       "    </tr>\n",
       "    <tr>\n",
       "      <th>2</th>\n",
       "      <td>502</td>\n",
       "      <td>France</td>\n",
       "      <td>Female</td>\n",
       "      <td>42</td>\n",
       "      <td>8.0</td>\n",
       "      <td>159660.80</td>\n",
       "      <td>3</td>\n",
       "      <td>1</td>\n",
       "      <td>0</td>\n",
       "      <td>113931.57</td>\n",
       "      <td>1</td>\n",
       "    </tr>\n",
       "    <tr>\n",
       "      <th>3</th>\n",
       "      <td>699</td>\n",
       "      <td>France</td>\n",
       "      <td>Female</td>\n",
       "      <td>39</td>\n",
       "      <td>1.0</td>\n",
       "      <td>0.00</td>\n",
       "      <td>2</td>\n",
       "      <td>0</td>\n",
       "      <td>0</td>\n",
       "      <td>93826.63</td>\n",
       "      <td>0</td>\n",
       "    </tr>\n",
       "    <tr>\n",
       "      <th>4</th>\n",
       "      <td>850</td>\n",
       "      <td>Spain</td>\n",
       "      <td>Female</td>\n",
       "      <td>43</td>\n",
       "      <td>2.0</td>\n",
       "      <td>125510.82</td>\n",
       "      <td>1</td>\n",
       "      <td>1</td>\n",
       "      <td>1</td>\n",
       "      <td>79084.10</td>\n",
       "      <td>0</td>\n",
       "    </tr>\n",
       "    <tr>\n",
       "      <th>...</th>\n",
       "      <td>...</td>\n",
       "      <td>...</td>\n",
       "      <td>...</td>\n",
       "      <td>...</td>\n",
       "      <td>...</td>\n",
       "      <td>...</td>\n",
       "      <td>...</td>\n",
       "      <td>...</td>\n",
       "      <td>...</td>\n",
       "      <td>...</td>\n",
       "      <td>...</td>\n",
       "    </tr>\n",
       "    <tr>\n",
       "      <th>9995</th>\n",
       "      <td>771</td>\n",
       "      <td>France</td>\n",
       "      <td>Male</td>\n",
       "      <td>39</td>\n",
       "      <td>5.0</td>\n",
       "      <td>0.00</td>\n",
       "      <td>2</td>\n",
       "      <td>1</td>\n",
       "      <td>0</td>\n",
       "      <td>96270.64</td>\n",
       "      <td>0</td>\n",
       "    </tr>\n",
       "    <tr>\n",
       "      <th>9996</th>\n",
       "      <td>516</td>\n",
       "      <td>France</td>\n",
       "      <td>Male</td>\n",
       "      <td>35</td>\n",
       "      <td>10.0</td>\n",
       "      <td>57369.61</td>\n",
       "      <td>1</td>\n",
       "      <td>1</td>\n",
       "      <td>1</td>\n",
       "      <td>101699.77</td>\n",
       "      <td>0</td>\n",
       "    </tr>\n",
       "    <tr>\n",
       "      <th>9997</th>\n",
       "      <td>709</td>\n",
       "      <td>France</td>\n",
       "      <td>Female</td>\n",
       "      <td>36</td>\n",
       "      <td>7.0</td>\n",
       "      <td>0.00</td>\n",
       "      <td>1</td>\n",
       "      <td>0</td>\n",
       "      <td>1</td>\n",
       "      <td>42085.58</td>\n",
       "      <td>1</td>\n",
       "    </tr>\n",
       "    <tr>\n",
       "      <th>9998</th>\n",
       "      <td>772</td>\n",
       "      <td>Germany</td>\n",
       "      <td>Male</td>\n",
       "      <td>42</td>\n",
       "      <td>3.0</td>\n",
       "      <td>75075.31</td>\n",
       "      <td>2</td>\n",
       "      <td>1</td>\n",
       "      <td>0</td>\n",
       "      <td>92888.52</td>\n",
       "      <td>1</td>\n",
       "    </tr>\n",
       "    <tr>\n",
       "      <th>9999</th>\n",
       "      <td>792</td>\n",
       "      <td>France</td>\n",
       "      <td>Female</td>\n",
       "      <td>28</td>\n",
       "      <td>27.0</td>\n",
       "      <td>130142.79</td>\n",
       "      <td>1</td>\n",
       "      <td>1</td>\n",
       "      <td>0</td>\n",
       "      <td>38190.78</td>\n",
       "      <td>0</td>\n",
       "    </tr>\n",
       "  </tbody>\n",
       "</table>\n",
       "<p>10000 rows × 11 columns</p>\n",
       "</div>"
      ],
      "text/plain": [
       "      CreditScore Geography  Gender  Age  Tenure    Balance  NumOfProducts  \\\n",
       "0             619    France  Female   42     2.0       0.00              1   \n",
       "1             608     Spain  Female   41     1.0   83807.86              1   \n",
       "2             502    France  Female   42     8.0  159660.80              3   \n",
       "3             699    France  Female   39     1.0       0.00              2   \n",
       "4             850     Spain  Female   43     2.0  125510.82              1   \n",
       "...           ...       ...     ...  ...     ...        ...            ...   \n",
       "9995          771    France    Male   39     5.0       0.00              2   \n",
       "9996          516    France    Male   35    10.0   57369.61              1   \n",
       "9997          709    France  Female   36     7.0       0.00              1   \n",
       "9998          772   Germany    Male   42     3.0   75075.31              2   \n",
       "9999          792    France  Female   28    27.0  130142.79              1   \n",
       "\n",
       "      HasCrCard  IsActiveMember  EstimatedSalary  Exited  \n",
       "0             1               1        101348.88       1  \n",
       "1             0               1        112542.58       0  \n",
       "2             1               0        113931.57       1  \n",
       "3             0               0         93826.63       0  \n",
       "4             1               1         79084.10       0  \n",
       "...         ...             ...              ...     ...  \n",
       "9995          1               0         96270.64       0  \n",
       "9996          1               1        101699.77       0  \n",
       "9997          0               1         42085.58       1  \n",
       "9998          1               0         92888.52       1  \n",
       "9999          1               0         38190.78       0  \n",
       "\n",
       "[10000 rows x 11 columns]"
      ]
     },
     "execution_count": 8,
     "metadata": {},
     "output_type": "execute_result"
    }
   ],
   "source": [
    "data = data.drop(['RowNumber', 'CustomerId', 'Surname', 'AgeCategory'], axis = 1)\n",
    "data"
   ]
  },
  {
   "cell_type": "markdown",
   "id": "86518d97",
   "metadata": {},
   "source": [
    "**Промежуточный результат:** в сухом остатке имеем \"обезличенную\" информацию о клиенах банка без пропусков."
   ]
  },
  {
   "cell_type": "markdown",
   "id": "5adf50ea",
   "metadata": {},
   "source": [
    "Преобразуем категориальные признаки в численные техникой прямого отображения (OHE), во избежание дамми-ловушек передадим методу аргумент `drop_first = True`"
   ]
  },
  {
   "cell_type": "code",
   "execution_count": 9,
   "id": "cae3ae77",
   "metadata": {},
   "outputs": [
    {
     "data": {
      "text/html": [
       "<div>\n",
       "<style scoped>\n",
       "    .dataframe tbody tr th:only-of-type {\n",
       "        vertical-align: middle;\n",
       "    }\n",
       "\n",
       "    .dataframe tbody tr th {\n",
       "        vertical-align: top;\n",
       "    }\n",
       "\n",
       "    .dataframe thead th {\n",
       "        text-align: right;\n",
       "    }\n",
       "</style>\n",
       "<table border=\"1\" class=\"dataframe\">\n",
       "  <thead>\n",
       "    <tr style=\"text-align: right;\">\n",
       "      <th></th>\n",
       "      <th>CreditScore</th>\n",
       "      <th>Age</th>\n",
       "      <th>Tenure</th>\n",
       "      <th>Balance</th>\n",
       "      <th>NumOfProducts</th>\n",
       "      <th>HasCrCard</th>\n",
       "      <th>IsActiveMember</th>\n",
       "      <th>EstimatedSalary</th>\n",
       "      <th>Exited</th>\n",
       "      <th>Geography_Germany</th>\n",
       "      <th>Geography_Spain</th>\n",
       "      <th>Gender_Male</th>\n",
       "    </tr>\n",
       "  </thead>\n",
       "  <tbody>\n",
       "    <tr>\n",
       "      <th>0</th>\n",
       "      <td>619</td>\n",
       "      <td>42</td>\n",
       "      <td>2.0</td>\n",
       "      <td>0.00</td>\n",
       "      <td>1</td>\n",
       "      <td>1</td>\n",
       "      <td>1</td>\n",
       "      <td>101348.88</td>\n",
       "      <td>1</td>\n",
       "      <td>0</td>\n",
       "      <td>0</td>\n",
       "      <td>0</td>\n",
       "    </tr>\n",
       "    <tr>\n",
       "      <th>1</th>\n",
       "      <td>608</td>\n",
       "      <td>41</td>\n",
       "      <td>1.0</td>\n",
       "      <td>83807.86</td>\n",
       "      <td>1</td>\n",
       "      <td>0</td>\n",
       "      <td>1</td>\n",
       "      <td>112542.58</td>\n",
       "      <td>0</td>\n",
       "      <td>0</td>\n",
       "      <td>1</td>\n",
       "      <td>0</td>\n",
       "    </tr>\n",
       "    <tr>\n",
       "      <th>2</th>\n",
       "      <td>502</td>\n",
       "      <td>42</td>\n",
       "      <td>8.0</td>\n",
       "      <td>159660.80</td>\n",
       "      <td>3</td>\n",
       "      <td>1</td>\n",
       "      <td>0</td>\n",
       "      <td>113931.57</td>\n",
       "      <td>1</td>\n",
       "      <td>0</td>\n",
       "      <td>0</td>\n",
       "      <td>0</td>\n",
       "    </tr>\n",
       "    <tr>\n",
       "      <th>3</th>\n",
       "      <td>699</td>\n",
       "      <td>39</td>\n",
       "      <td>1.0</td>\n",
       "      <td>0.00</td>\n",
       "      <td>2</td>\n",
       "      <td>0</td>\n",
       "      <td>0</td>\n",
       "      <td>93826.63</td>\n",
       "      <td>0</td>\n",
       "      <td>0</td>\n",
       "      <td>0</td>\n",
       "      <td>0</td>\n",
       "    </tr>\n",
       "    <tr>\n",
       "      <th>4</th>\n",
       "      <td>850</td>\n",
       "      <td>43</td>\n",
       "      <td>2.0</td>\n",
       "      <td>125510.82</td>\n",
       "      <td>1</td>\n",
       "      <td>1</td>\n",
       "      <td>1</td>\n",
       "      <td>79084.10</td>\n",
       "      <td>0</td>\n",
       "      <td>0</td>\n",
       "      <td>1</td>\n",
       "      <td>0</td>\n",
       "    </tr>\n",
       "    <tr>\n",
       "      <th>...</th>\n",
       "      <td>...</td>\n",
       "      <td>...</td>\n",
       "      <td>...</td>\n",
       "      <td>...</td>\n",
       "      <td>...</td>\n",
       "      <td>...</td>\n",
       "      <td>...</td>\n",
       "      <td>...</td>\n",
       "      <td>...</td>\n",
       "      <td>...</td>\n",
       "      <td>...</td>\n",
       "      <td>...</td>\n",
       "    </tr>\n",
       "    <tr>\n",
       "      <th>9995</th>\n",
       "      <td>771</td>\n",
       "      <td>39</td>\n",
       "      <td>5.0</td>\n",
       "      <td>0.00</td>\n",
       "      <td>2</td>\n",
       "      <td>1</td>\n",
       "      <td>0</td>\n",
       "      <td>96270.64</td>\n",
       "      <td>0</td>\n",
       "      <td>0</td>\n",
       "      <td>0</td>\n",
       "      <td>1</td>\n",
       "    </tr>\n",
       "    <tr>\n",
       "      <th>9996</th>\n",
       "      <td>516</td>\n",
       "      <td>35</td>\n",
       "      <td>10.0</td>\n",
       "      <td>57369.61</td>\n",
       "      <td>1</td>\n",
       "      <td>1</td>\n",
       "      <td>1</td>\n",
       "      <td>101699.77</td>\n",
       "      <td>0</td>\n",
       "      <td>0</td>\n",
       "      <td>0</td>\n",
       "      <td>1</td>\n",
       "    </tr>\n",
       "    <tr>\n",
       "      <th>9997</th>\n",
       "      <td>709</td>\n",
       "      <td>36</td>\n",
       "      <td>7.0</td>\n",
       "      <td>0.00</td>\n",
       "      <td>1</td>\n",
       "      <td>0</td>\n",
       "      <td>1</td>\n",
       "      <td>42085.58</td>\n",
       "      <td>1</td>\n",
       "      <td>0</td>\n",
       "      <td>0</td>\n",
       "      <td>0</td>\n",
       "    </tr>\n",
       "    <tr>\n",
       "      <th>9998</th>\n",
       "      <td>772</td>\n",
       "      <td>42</td>\n",
       "      <td>3.0</td>\n",
       "      <td>75075.31</td>\n",
       "      <td>2</td>\n",
       "      <td>1</td>\n",
       "      <td>0</td>\n",
       "      <td>92888.52</td>\n",
       "      <td>1</td>\n",
       "      <td>1</td>\n",
       "      <td>0</td>\n",
       "      <td>1</td>\n",
       "    </tr>\n",
       "    <tr>\n",
       "      <th>9999</th>\n",
       "      <td>792</td>\n",
       "      <td>28</td>\n",
       "      <td>27.0</td>\n",
       "      <td>130142.79</td>\n",
       "      <td>1</td>\n",
       "      <td>1</td>\n",
       "      <td>0</td>\n",
       "      <td>38190.78</td>\n",
       "      <td>0</td>\n",
       "      <td>0</td>\n",
       "      <td>0</td>\n",
       "      <td>0</td>\n",
       "    </tr>\n",
       "  </tbody>\n",
       "</table>\n",
       "<p>10000 rows × 12 columns</p>\n",
       "</div>"
      ],
      "text/plain": [
       "      CreditScore  Age  Tenure    Balance  NumOfProducts  HasCrCard  \\\n",
       "0             619   42     2.0       0.00              1          1   \n",
       "1             608   41     1.0   83807.86              1          0   \n",
       "2             502   42     8.0  159660.80              3          1   \n",
       "3             699   39     1.0       0.00              2          0   \n",
       "4             850   43     2.0  125510.82              1          1   \n",
       "...           ...  ...     ...        ...            ...        ...   \n",
       "9995          771   39     5.0       0.00              2          1   \n",
       "9996          516   35    10.0   57369.61              1          1   \n",
       "9997          709   36     7.0       0.00              1          0   \n",
       "9998          772   42     3.0   75075.31              2          1   \n",
       "9999          792   28    27.0  130142.79              1          1   \n",
       "\n",
       "      IsActiveMember  EstimatedSalary  Exited  Geography_Germany  \\\n",
       "0                  1        101348.88       1                  0   \n",
       "1                  1        112542.58       0                  0   \n",
       "2                  0        113931.57       1                  0   \n",
       "3                  0         93826.63       0                  0   \n",
       "4                  1         79084.10       0                  0   \n",
       "...              ...              ...     ...                ...   \n",
       "9995               0         96270.64       0                  0   \n",
       "9996               1        101699.77       0                  0   \n",
       "9997               1         42085.58       1                  0   \n",
       "9998               0         92888.52       1                  1   \n",
       "9999               0         38190.78       0                  0   \n",
       "\n",
       "      Geography_Spain  Gender_Male  \n",
       "0                   0            0  \n",
       "1                   1            0  \n",
       "2                   0            0  \n",
       "3                   0            0  \n",
       "4                   1            0  \n",
       "...               ...          ...  \n",
       "9995                0            1  \n",
       "9996                0            1  \n",
       "9997                0            0  \n",
       "9998                0            1  \n",
       "9999                0            0  \n",
       "\n",
       "[10000 rows x 12 columns]"
      ]
     },
     "metadata": {},
     "output_type": "display_data"
    }
   ],
   "source": [
    "data = pd.get_dummies(data, drop_first = True)\n",
    "display(data)"
   ]
  },
  {
   "cell_type": "markdown",
   "id": "6dfb9996",
   "metadata": {},
   "source": [
    "Чтобы избежать возможного непонимания данных моделью, приведём признаки к одинаковой размерности. Сначала выделим целевой признак и данные для обучения. Разделим выборку на тестовую, валидационную и обучающую. Соотношение 20:20:60"
   ]
  },
  {
   "cell_type": "code",
   "execution_count": 10,
   "id": "8e441030",
   "metadata": {},
   "outputs": [],
   "source": [
    "target = data['Exited']\n",
    "features = data.drop('Exited', axis = 1)\n",
    "\n",
    "features_train, features_check, target_train, target_check = train_test_split(features, target, \n",
    "                                                                              test_size = 0.4, random_state = 12345)\n",
    "features_valid, features_test, target_valid, target_test = train_test_split(features_check, target_check,\n",
    "                                                                           test_size = 0.5, random_state = 12345)"
   ]
  },
  {
   "cell_type": "markdown",
   "id": "4e03fd17",
   "metadata": {},
   "source": [
    "Воспользуемся структурой StandardScaler для масштабирования признаков. Посмотрим на результат."
   ]
  },
  {
   "cell_type": "code",
   "execution_count": 11,
   "id": "6bd5f9a5",
   "metadata": {},
   "outputs": [
    {
     "data": {
      "text/html": [
       "<div>\n",
       "<style scoped>\n",
       "    .dataframe tbody tr th:only-of-type {\n",
       "        vertical-align: middle;\n",
       "    }\n",
       "\n",
       "    .dataframe tbody tr th {\n",
       "        vertical-align: top;\n",
       "    }\n",
       "\n",
       "    .dataframe thead th {\n",
       "        text-align: right;\n",
       "    }\n",
       "</style>\n",
       "<table border=\"1\" class=\"dataframe\">\n",
       "  <thead>\n",
       "    <tr style=\"text-align: right;\">\n",
       "      <th></th>\n",
       "      <th>CreditScore</th>\n",
       "      <th>Age</th>\n",
       "      <th>Tenure</th>\n",
       "      <th>Balance</th>\n",
       "      <th>NumOfProducts</th>\n",
       "      <th>HasCrCard</th>\n",
       "      <th>IsActiveMember</th>\n",
       "      <th>EstimatedSalary</th>\n",
       "      <th>Geography_Germany</th>\n",
       "      <th>Geography_Spain</th>\n",
       "      <th>Gender_Male</th>\n",
       "    </tr>\n",
       "  </thead>\n",
       "  <tbody>\n",
       "    <tr>\n",
       "      <th>7479</th>\n",
       "      <td>-0.886751</td>\n",
       "      <td>-0.373192</td>\n",
       "      <td>-0.006183</td>\n",
       "      <td>1.232271</td>\n",
       "      <td>1</td>\n",
       "      <td>1</td>\n",
       "      <td>0</td>\n",
       "      <td>-0.187705</td>\n",
       "      <td>0</td>\n",
       "      <td>1</td>\n",
       "      <td>1</td>\n",
       "    </tr>\n",
       "    <tr>\n",
       "      <th>3411</th>\n",
       "      <td>0.608663</td>\n",
       "      <td>-0.183385</td>\n",
       "      <td>-0.006183</td>\n",
       "      <td>0.600563</td>\n",
       "      <td>1</td>\n",
       "      <td>0</td>\n",
       "      <td>0</td>\n",
       "      <td>-0.333945</td>\n",
       "      <td>0</td>\n",
       "      <td>0</td>\n",
       "      <td>0</td>\n",
       "    </tr>\n",
       "    <tr>\n",
       "      <th>6027</th>\n",
       "      <td>2.052152</td>\n",
       "      <td>0.480939</td>\n",
       "      <td>-0.495636</td>\n",
       "      <td>1.027098</td>\n",
       "      <td>2</td>\n",
       "      <td>0</td>\n",
       "      <td>1</td>\n",
       "      <td>1.503095</td>\n",
       "      <td>1</td>\n",
       "      <td>0</td>\n",
       "      <td>1</td>\n",
       "    </tr>\n",
       "    <tr>\n",
       "      <th>1247</th>\n",
       "      <td>-1.457915</td>\n",
       "      <td>-1.417129</td>\n",
       "      <td>-0.201964</td>\n",
       "      <td>-1.233163</td>\n",
       "      <td>2</td>\n",
       "      <td>1</td>\n",
       "      <td>0</td>\n",
       "      <td>-1.071061</td>\n",
       "      <td>0</td>\n",
       "      <td>0</td>\n",
       "      <td>1</td>\n",
       "    </tr>\n",
       "    <tr>\n",
       "      <th>3716</th>\n",
       "      <td>0.130961</td>\n",
       "      <td>-1.132419</td>\n",
       "      <td>-0.593526</td>\n",
       "      <td>1.140475</td>\n",
       "      <td>1</td>\n",
       "      <td>0</td>\n",
       "      <td>0</td>\n",
       "      <td>1.524268</td>\n",
       "      <td>1</td>\n",
       "      <td>0</td>\n",
       "      <td>0</td>\n",
       "    </tr>\n",
       "    <tr>\n",
       "      <th>...</th>\n",
       "      <td>...</td>\n",
       "      <td>...</td>\n",
       "      <td>...</td>\n",
       "      <td>...</td>\n",
       "      <td>...</td>\n",
       "      <td>...</td>\n",
       "      <td>...</td>\n",
       "      <td>...</td>\n",
       "      <td>...</td>\n",
       "      <td>...</td>\n",
       "      <td>...</td>\n",
       "    </tr>\n",
       "    <tr>\n",
       "      <th>4478</th>\n",
       "      <td>-1.073677</td>\n",
       "      <td>-0.752805</td>\n",
       "      <td>-0.397745</td>\n",
       "      <td>-1.233163</td>\n",
       "      <td>2</td>\n",
       "      <td>0</td>\n",
       "      <td>1</td>\n",
       "      <td>-1.278361</td>\n",
       "      <td>0</td>\n",
       "      <td>0</td>\n",
       "      <td>1</td>\n",
       "    </tr>\n",
       "    <tr>\n",
       "      <th>4094</th>\n",
       "      <td>-1.447531</td>\n",
       "      <td>-0.942612</td>\n",
       "      <td>0.189597</td>\n",
       "      <td>-1.233163</td>\n",
       "      <td>2</td>\n",
       "      <td>0</td>\n",
       "      <td>1</td>\n",
       "      <td>-1.281307</td>\n",
       "      <td>0</td>\n",
       "      <td>0</td>\n",
       "      <td>1</td>\n",
       "    </tr>\n",
       "    <tr>\n",
       "      <th>3492</th>\n",
       "      <td>0.027113</td>\n",
       "      <td>0.575842</td>\n",
       "      <td>2.930529</td>\n",
       "      <td>-0.310229</td>\n",
       "      <td>1</td>\n",
       "      <td>0</td>\n",
       "      <td>1</td>\n",
       "      <td>-0.903158</td>\n",
       "      <td>0</td>\n",
       "      <td>0</td>\n",
       "      <td>0</td>\n",
       "    </tr>\n",
       "    <tr>\n",
       "      <th>2177</th>\n",
       "      <td>0.151731</td>\n",
       "      <td>-1.417129</td>\n",
       "      <td>-0.397745</td>\n",
       "      <td>-1.233163</td>\n",
       "      <td>2</td>\n",
       "      <td>0</td>\n",
       "      <td>1</td>\n",
       "      <td>-1.128539</td>\n",
       "      <td>0</td>\n",
       "      <td>0</td>\n",
       "      <td>0</td>\n",
       "    </tr>\n",
       "    <tr>\n",
       "      <th>4578</th>\n",
       "      <td>0.400966</td>\n",
       "      <td>-0.088482</td>\n",
       "      <td>-0.691416</td>\n",
       "      <td>-1.233163</td>\n",
       "      <td>2</td>\n",
       "      <td>0</td>\n",
       "      <td>0</td>\n",
       "      <td>-0.949841</td>\n",
       "      <td>0</td>\n",
       "      <td>0</td>\n",
       "      <td>1</td>\n",
       "    </tr>\n",
       "  </tbody>\n",
       "</table>\n",
       "<p>6000 rows × 11 columns</p>\n",
       "</div>"
      ],
      "text/plain": [
       "      CreditScore       Age    Tenure   Balance  NumOfProducts  HasCrCard  \\\n",
       "7479    -0.886751 -0.373192 -0.006183  1.232271              1          1   \n",
       "3411     0.608663 -0.183385 -0.006183  0.600563              1          0   \n",
       "6027     2.052152  0.480939 -0.495636  1.027098              2          0   \n",
       "1247    -1.457915 -1.417129 -0.201964 -1.233163              2          1   \n",
       "3716     0.130961 -1.132419 -0.593526  1.140475              1          0   \n",
       "...           ...       ...       ...       ...            ...        ...   \n",
       "4478    -1.073677 -0.752805 -0.397745 -1.233163              2          0   \n",
       "4094    -1.447531 -0.942612  0.189597 -1.233163              2          0   \n",
       "3492     0.027113  0.575842  2.930529 -0.310229              1          0   \n",
       "2177     0.151731 -1.417129 -0.397745 -1.233163              2          0   \n",
       "4578     0.400966 -0.088482 -0.691416 -1.233163              2          0   \n",
       "\n",
       "      IsActiveMember  EstimatedSalary  Geography_Germany  Geography_Spain  \\\n",
       "7479               0        -0.187705                  0                1   \n",
       "3411               0        -0.333945                  0                0   \n",
       "6027               1         1.503095                  1                0   \n",
       "1247               0        -1.071061                  0                0   \n",
       "3716               0         1.524268                  1                0   \n",
       "...              ...              ...                ...              ...   \n",
       "4478               1        -1.278361                  0                0   \n",
       "4094               1        -1.281307                  0                0   \n",
       "3492               1        -0.903158                  0                0   \n",
       "2177               1        -1.128539                  0                0   \n",
       "4578               0        -0.949841                  0                0   \n",
       "\n",
       "      Gender_Male  \n",
       "7479            1  \n",
       "3411            0  \n",
       "6027            1  \n",
       "1247            1  \n",
       "3716            0  \n",
       "...           ...  \n",
       "4478            1  \n",
       "4094            1  \n",
       "3492            0  \n",
       "2177            0  \n",
       "4578            1  \n",
       "\n",
       "[6000 rows x 11 columns]"
      ]
     },
     "execution_count": 11,
     "metadata": {},
     "output_type": "execute_result"
    }
   ],
   "source": [
    "numeric = ['CreditScore', 'Tenure', 'Balance', 'EstimatedSalary', 'Age']\n",
    "\n",
    "scaler = StandardScaler()\n",
    "scaler.fit(features_train[numeric])\n",
    "\n",
    "features_train[numeric] = scaler.transform(features_train[numeric])\n",
    "features_valid[numeric] = scaler.transform(features_valid[numeric])\n",
    "features_test[numeric] = scaler.transform(features_test[numeric])\n",
    "features_train"
   ]
  },
  {
   "cell_type": "code",
   "execution_count": 12,
   "id": "a0c1db3e",
   "metadata": {},
   "outputs": [
    {
     "data": {
      "text/html": [
       "<div>\n",
       "<style scoped>\n",
       "    .dataframe tbody tr th:only-of-type {\n",
       "        vertical-align: middle;\n",
       "    }\n",
       "\n",
       "    .dataframe tbody tr th {\n",
       "        vertical-align: top;\n",
       "    }\n",
       "\n",
       "    .dataframe thead th {\n",
       "        text-align: right;\n",
       "    }\n",
       "</style>\n",
       "<table border=\"1\" class=\"dataframe\">\n",
       "  <thead>\n",
       "    <tr style=\"text-align: right;\">\n",
       "      <th></th>\n",
       "      <th>CreditScore</th>\n",
       "      <th>Age</th>\n",
       "      <th>Tenure</th>\n",
       "      <th>Balance</th>\n",
       "      <th>NumOfProducts</th>\n",
       "      <th>HasCrCard</th>\n",
       "      <th>IsActiveMember</th>\n",
       "      <th>EstimatedSalary</th>\n",
       "      <th>Geography_Germany</th>\n",
       "      <th>Geography_Spain</th>\n",
       "      <th>Gender_Male</th>\n",
       "    </tr>\n",
       "  </thead>\n",
       "  <tbody>\n",
       "    <tr>\n",
       "      <th>8532</th>\n",
       "      <td>-0.699824</td>\n",
       "      <td>-0.373192</td>\n",
       "      <td>-0.593526</td>\n",
       "      <td>-1.233163</td>\n",
       "      <td>2</td>\n",
       "      <td>1</td>\n",
       "      <td>0</td>\n",
       "      <td>-0.015173</td>\n",
       "      <td>0</td>\n",
       "      <td>0</td>\n",
       "      <td>0</td>\n",
       "    </tr>\n",
       "    <tr>\n",
       "      <th>5799</th>\n",
       "      <td>-0.284431</td>\n",
       "      <td>0.575842</td>\n",
       "      <td>-0.495636</td>\n",
       "      <td>-1.233163</td>\n",
       "      <td>1</td>\n",
       "      <td>1</td>\n",
       "      <td>1</td>\n",
       "      <td>1.471724</td>\n",
       "      <td>0</td>\n",
       "      <td>0</td>\n",
       "      <td>0</td>\n",
       "    </tr>\n",
       "    <tr>\n",
       "      <th>5511</th>\n",
       "      <td>0.151731</td>\n",
       "      <td>-0.657902</td>\n",
       "      <td>-0.789307</td>\n",
       "      <td>0.438711</td>\n",
       "      <td>1</td>\n",
       "      <td>1</td>\n",
       "      <td>0</td>\n",
       "      <td>-1.367107</td>\n",
       "      <td>1</td>\n",
       "      <td>0</td>\n",
       "      <td>1</td>\n",
       "    </tr>\n",
       "    <tr>\n",
       "      <th>7365</th>\n",
       "      <td>-0.876366</td>\n",
       "      <td>-0.278288</td>\n",
       "      <td>0.189597</td>\n",
       "      <td>1.239884</td>\n",
       "      <td>1</td>\n",
       "      <td>1</td>\n",
       "      <td>1</td>\n",
       "      <td>-0.786517</td>\n",
       "      <td>0</td>\n",
       "      <td>1</td>\n",
       "      <td>0</td>\n",
       "    </tr>\n",
       "    <tr>\n",
       "      <th>7367</th>\n",
       "      <td>-0.481743</td>\n",
       "      <td>0.291132</td>\n",
       "      <td>0.189597</td>\n",
       "      <td>-1.233163</td>\n",
       "      <td>2</td>\n",
       "      <td>1</td>\n",
       "      <td>0</td>\n",
       "      <td>1.358533</td>\n",
       "      <td>0</td>\n",
       "      <td>1</td>\n",
       "      <td>1</td>\n",
       "    </tr>\n",
       "    <tr>\n",
       "      <th>...</th>\n",
       "      <td>...</td>\n",
       "      <td>...</td>\n",
       "      <td>...</td>\n",
       "      <td>...</td>\n",
       "      <td>...</td>\n",
       "      <td>...</td>\n",
       "      <td>...</td>\n",
       "      <td>...</td>\n",
       "      <td>...</td>\n",
       "      <td>...</td>\n",
       "      <td>...</td>\n",
       "    </tr>\n",
       "    <tr>\n",
       "      <th>6480</th>\n",
       "      <td>0.276349</td>\n",
       "      <td>-1.417129</td>\n",
       "      <td>-0.201964</td>\n",
       "      <td>0.617449</td>\n",
       "      <td>2</td>\n",
       "      <td>0</td>\n",
       "      <td>1</td>\n",
       "      <td>0.628182</td>\n",
       "      <td>0</td>\n",
       "      <td>0</td>\n",
       "      <td>0</td>\n",
       "    </tr>\n",
       "    <tr>\n",
       "      <th>8194</th>\n",
       "      <td>-0.211738</td>\n",
       "      <td>0.291132</td>\n",
       "      <td>-0.397745</td>\n",
       "      <td>0.797229</td>\n",
       "      <td>1</td>\n",
       "      <td>1</td>\n",
       "      <td>0</td>\n",
       "      <td>0.026002</td>\n",
       "      <td>0</td>\n",
       "      <td>0</td>\n",
       "      <td>1</td>\n",
       "    </tr>\n",
       "    <tr>\n",
       "      <th>1279</th>\n",
       "      <td>-1.364452</td>\n",
       "      <td>0.006422</td>\n",
       "      <td>-0.201964</td>\n",
       "      <td>-1.233163</td>\n",
       "      <td>2</td>\n",
       "      <td>0</td>\n",
       "      <td>1</td>\n",
       "      <td>-1.249087</td>\n",
       "      <td>0</td>\n",
       "      <td>0</td>\n",
       "      <td>0</td>\n",
       "    </tr>\n",
       "    <tr>\n",
       "      <th>6532</th>\n",
       "      <td>1.075979</td>\n",
       "      <td>2.663716</td>\n",
       "      <td>-0.397745</td>\n",
       "      <td>-1.233163</td>\n",
       "      <td>3</td>\n",
       "      <td>1</td>\n",
       "      <td>1</td>\n",
       "      <td>-0.111107</td>\n",
       "      <td>0</td>\n",
       "      <td>0</td>\n",
       "      <td>1</td>\n",
       "    </tr>\n",
       "    <tr>\n",
       "      <th>6895</th>\n",
       "      <td>-0.440204</td>\n",
       "      <td>0.955455</td>\n",
       "      <td>-0.201964</td>\n",
       "      <td>0.600280</td>\n",
       "      <td>1</td>\n",
       "      <td>1</td>\n",
       "      <td>0</td>\n",
       "      <td>1.668116</td>\n",
       "      <td>1</td>\n",
       "      <td>0</td>\n",
       "      <td>1</td>\n",
       "    </tr>\n",
       "  </tbody>\n",
       "</table>\n",
       "<p>2000 rows × 11 columns</p>\n",
       "</div>"
      ],
      "text/plain": [
       "      CreditScore       Age    Tenure   Balance  NumOfProducts  HasCrCard  \\\n",
       "8532    -0.699824 -0.373192 -0.593526 -1.233163              2          1   \n",
       "5799    -0.284431  0.575842 -0.495636 -1.233163              1          1   \n",
       "5511     0.151731 -0.657902 -0.789307  0.438711              1          1   \n",
       "7365    -0.876366 -0.278288  0.189597  1.239884              1          1   \n",
       "7367    -0.481743  0.291132  0.189597 -1.233163              2          1   \n",
       "...           ...       ...       ...       ...            ...        ...   \n",
       "6480     0.276349 -1.417129 -0.201964  0.617449              2          0   \n",
       "8194    -0.211738  0.291132 -0.397745  0.797229              1          1   \n",
       "1279    -1.364452  0.006422 -0.201964 -1.233163              2          0   \n",
       "6532     1.075979  2.663716 -0.397745 -1.233163              3          1   \n",
       "6895    -0.440204  0.955455 -0.201964  0.600280              1          1   \n",
       "\n",
       "      IsActiveMember  EstimatedSalary  Geography_Germany  Geography_Spain  \\\n",
       "8532               0        -0.015173                  0                0   \n",
       "5799               1         1.471724                  0                0   \n",
       "5511               0        -1.367107                  1                0   \n",
       "7365               1        -0.786517                  0                1   \n",
       "7367               0         1.358533                  0                1   \n",
       "...              ...              ...                ...              ...   \n",
       "6480               1         0.628182                  0                0   \n",
       "8194               0         0.026002                  0                0   \n",
       "1279               1        -1.249087                  0                0   \n",
       "6532               1        -0.111107                  0                0   \n",
       "6895               0         1.668116                  1                0   \n",
       "\n",
       "      Gender_Male  \n",
       "8532            0  \n",
       "5799            0  \n",
       "5511            1  \n",
       "7365            0  \n",
       "7367            1  \n",
       "...           ...  \n",
       "6480            0  \n",
       "8194            1  \n",
       "1279            0  \n",
       "6532            1  \n",
       "6895            1  \n",
       "\n",
       "[2000 rows x 11 columns]"
      ]
     },
     "execution_count": 12,
     "metadata": {},
     "output_type": "execute_result"
    }
   ],
   "source": [
    "features_valid"
   ]
  },
  {
   "cell_type": "code",
   "execution_count": 13,
   "id": "51cf5561",
   "metadata": {},
   "outputs": [
    {
     "data": {
      "text/html": [
       "<div>\n",
       "<style scoped>\n",
       "    .dataframe tbody tr th:only-of-type {\n",
       "        vertical-align: middle;\n",
       "    }\n",
       "\n",
       "    .dataframe tbody tr th {\n",
       "        vertical-align: top;\n",
       "    }\n",
       "\n",
       "    .dataframe thead th {\n",
       "        text-align: right;\n",
       "    }\n",
       "</style>\n",
       "<table border=\"1\" class=\"dataframe\">\n",
       "  <thead>\n",
       "    <tr style=\"text-align: right;\">\n",
       "      <th></th>\n",
       "      <th>CreditScore</th>\n",
       "      <th>Age</th>\n",
       "      <th>Tenure</th>\n",
       "      <th>Balance</th>\n",
       "      <th>NumOfProducts</th>\n",
       "      <th>HasCrCard</th>\n",
       "      <th>IsActiveMember</th>\n",
       "      <th>EstimatedSalary</th>\n",
       "      <th>Geography_Germany</th>\n",
       "      <th>Geography_Spain</th>\n",
       "      <th>Gender_Male</th>\n",
       "    </tr>\n",
       "  </thead>\n",
       "  <tbody>\n",
       "    <tr>\n",
       "      <th>7041</th>\n",
       "      <td>-2.226392</td>\n",
       "      <td>-0.088482</td>\n",
       "      <td>-0.593526</td>\n",
       "      <td>-1.233163</td>\n",
       "      <td>2</td>\n",
       "      <td>1</td>\n",
       "      <td>0</td>\n",
       "      <td>0.647083</td>\n",
       "      <td>0</td>\n",
       "      <td>0</td>\n",
       "      <td>1</td>\n",
       "    </tr>\n",
       "    <tr>\n",
       "      <th>5709</th>\n",
       "      <td>-0.087120</td>\n",
       "      <td>0.006422</td>\n",
       "      <td>0.091707</td>\n",
       "      <td>-1.233163</td>\n",
       "      <td>1</td>\n",
       "      <td>1</td>\n",
       "      <td>0</td>\n",
       "      <td>-1.658410</td>\n",
       "      <td>0</td>\n",
       "      <td>0</td>\n",
       "      <td>0</td>\n",
       "    </tr>\n",
       "    <tr>\n",
       "      <th>7117</th>\n",
       "      <td>-0.917905</td>\n",
       "      <td>-0.752805</td>\n",
       "      <td>-0.299855</td>\n",
       "      <td>0.722307</td>\n",
       "      <td>1</td>\n",
       "      <td>1</td>\n",
       "      <td>1</td>\n",
       "      <td>-1.369334</td>\n",
       "      <td>0</td>\n",
       "      <td>1</td>\n",
       "      <td>1</td>\n",
       "    </tr>\n",
       "    <tr>\n",
       "      <th>7775</th>\n",
       "      <td>-0.253277</td>\n",
       "      <td>0.101325</td>\n",
       "      <td>0.189597</td>\n",
       "      <td>-1.233163</td>\n",
       "      <td>2</td>\n",
       "      <td>1</td>\n",
       "      <td>0</td>\n",
       "      <td>0.075086</td>\n",
       "      <td>0</td>\n",
       "      <td>1</td>\n",
       "      <td>1</td>\n",
       "    </tr>\n",
       "    <tr>\n",
       "      <th>8735</th>\n",
       "      <td>0.785204</td>\n",
       "      <td>-0.847708</td>\n",
       "      <td>0.189597</td>\n",
       "      <td>0.615625</td>\n",
       "      <td>1</td>\n",
       "      <td>0</td>\n",
       "      <td>1</td>\n",
       "      <td>-1.070919</td>\n",
       "      <td>0</td>\n",
       "      <td>0</td>\n",
       "      <td>1</td>\n",
       "    </tr>\n",
       "    <tr>\n",
       "      <th>...</th>\n",
       "      <td>...</td>\n",
       "      <td>...</td>\n",
       "      <td>...</td>\n",
       "      <td>...</td>\n",
       "      <td>...</td>\n",
       "      <td>...</td>\n",
       "      <td>...</td>\n",
       "      <td>...</td>\n",
       "      <td>...</td>\n",
       "      <td>...</td>\n",
       "      <td>...</td>\n",
       "    </tr>\n",
       "    <tr>\n",
       "      <th>9335</th>\n",
       "      <td>0.878668</td>\n",
       "      <td>1.050359</td>\n",
       "      <td>-0.397745</td>\n",
       "      <td>0.820368</td>\n",
       "      <td>2</td>\n",
       "      <td>1</td>\n",
       "      <td>0</td>\n",
       "      <td>-1.650024</td>\n",
       "      <td>1</td>\n",
       "      <td>0</td>\n",
       "      <td>1</td>\n",
       "    </tr>\n",
       "    <tr>\n",
       "      <th>7999</th>\n",
       "      <td>1.802916</td>\n",
       "      <td>-1.227322</td>\n",
       "      <td>-0.299855</td>\n",
       "      <td>1.063628</td>\n",
       "      <td>1</td>\n",
       "      <td>0</td>\n",
       "      <td>0</td>\n",
       "      <td>-0.679113</td>\n",
       "      <td>0</td>\n",
       "      <td>0</td>\n",
       "      <td>1</td>\n",
       "    </tr>\n",
       "    <tr>\n",
       "      <th>6139</th>\n",
       "      <td>-0.004041</td>\n",
       "      <td>-0.183385</td>\n",
       "      <td>-0.397745</td>\n",
       "      <td>-1.233163</td>\n",
       "      <td>2</td>\n",
       "      <td>1</td>\n",
       "      <td>0</td>\n",
       "      <td>0.760240</td>\n",
       "      <td>0</td>\n",
       "      <td>0</td>\n",
       "      <td>0</td>\n",
       "    </tr>\n",
       "    <tr>\n",
       "      <th>9473</th>\n",
       "      <td>-0.460973</td>\n",
       "      <td>0.575842</td>\n",
       "      <td>-0.397745</td>\n",
       "      <td>-1.233163</td>\n",
       "      <td>2</td>\n",
       "      <td>0</td>\n",
       "      <td>0</td>\n",
       "      <td>-1.087632</td>\n",
       "      <td>0</td>\n",
       "      <td>1</td>\n",
       "      <td>1</td>\n",
       "    </tr>\n",
       "    <tr>\n",
       "      <th>3366</th>\n",
       "      <td>-0.128659</td>\n",
       "      <td>3.328040</td>\n",
       "      <td>-0.593526</td>\n",
       "      <td>0.647257</td>\n",
       "      <td>1</td>\n",
       "      <td>1</td>\n",
       "      <td>1</td>\n",
       "      <td>-1.132091</td>\n",
       "      <td>1</td>\n",
       "      <td>0</td>\n",
       "      <td>0</td>\n",
       "    </tr>\n",
       "  </tbody>\n",
       "</table>\n",
       "<p>2000 rows × 11 columns</p>\n",
       "</div>"
      ],
      "text/plain": [
       "      CreditScore       Age    Tenure   Balance  NumOfProducts  HasCrCard  \\\n",
       "7041    -2.226392 -0.088482 -0.593526 -1.233163              2          1   \n",
       "5709    -0.087120  0.006422  0.091707 -1.233163              1          1   \n",
       "7117    -0.917905 -0.752805 -0.299855  0.722307              1          1   \n",
       "7775    -0.253277  0.101325  0.189597 -1.233163              2          1   \n",
       "8735     0.785204 -0.847708  0.189597  0.615625              1          0   \n",
       "...           ...       ...       ...       ...            ...        ...   \n",
       "9335     0.878668  1.050359 -0.397745  0.820368              2          1   \n",
       "7999     1.802916 -1.227322 -0.299855  1.063628              1          0   \n",
       "6139    -0.004041 -0.183385 -0.397745 -1.233163              2          1   \n",
       "9473    -0.460973  0.575842 -0.397745 -1.233163              2          0   \n",
       "3366    -0.128659  3.328040 -0.593526  0.647257              1          1   \n",
       "\n",
       "      IsActiveMember  EstimatedSalary  Geography_Germany  Geography_Spain  \\\n",
       "7041               0         0.647083                  0                0   \n",
       "5709               0        -1.658410                  0                0   \n",
       "7117               1        -1.369334                  0                1   \n",
       "7775               0         0.075086                  0                1   \n",
       "8735               1        -1.070919                  0                0   \n",
       "...              ...              ...                ...              ...   \n",
       "9335               0        -1.650024                  1                0   \n",
       "7999               0        -0.679113                  0                0   \n",
       "6139               0         0.760240                  0                0   \n",
       "9473               0        -1.087632                  0                1   \n",
       "3366               1        -1.132091                  1                0   \n",
       "\n",
       "      Gender_Male  \n",
       "7041            1  \n",
       "5709            0  \n",
       "7117            1  \n",
       "7775            1  \n",
       "8735            1  \n",
       "...           ...  \n",
       "9335            1  \n",
       "7999            1  \n",
       "6139            0  \n",
       "9473            1  \n",
       "3366            0  \n",
       "\n",
       "[2000 rows x 11 columns]"
      ]
     },
     "execution_count": 13,
     "metadata": {},
     "output_type": "execute_result"
    }
   ],
   "source": [
    "features_test"
   ]
  },
  {
   "cell_type": "markdown",
   "id": "d1883dca",
   "metadata": {},
   "source": [
    "<div style=\"border:solid green 2px; padding: 20px\">\n",
    " \n",
    "    ВЫВОД:\n",
    "Данные были подготовлены для анализа: заполнены пропущенные значение, категориальные признаки замещены техникой ОНЕ, числовые признаки подвергнуты масштабированию."
   ]
  },
  {
   "cell_type": "markdown",
   "id": "28f290d1",
   "metadata": {},
   "source": [
    "<a id=\"5\"></a>\n",
    "### Обучение модели без учета дисбаланса классов.\n",
    "\n",
    "Задача этого исследования - задача бинарной классификации. Простейшие модели для решения задач бинарной классификации: модель дерева или случайного леса.\n",
    "\n",
    "Обучим три модели без учета баланса классов. В качестве показателя качества модели используем F1. "
   ]
  },
  {
   "cell_type": "markdown",
   "id": "5b342dcf",
   "metadata": {},
   "source": [
    "<div class=\"alert alert-info\">\n",
    "В требованиях Заказчика указано:  \n",
    "    \n",
    "    \"сохранять текущих клиентов дешевле, чем привлекать новых\".   \n",
    "\n",
    "Определяемся с Accuracy, Recall и Precision, подберём наиболее подходящие к заданию метрики из этих трёх. \n",
    "    \n",
    "По сути эта фраза призывает нас к минимизации FN-результатов, то есть ситуация\n",
    "    \n",
    "    клиент ушел, а мы предсказали, что он останется  \n",
    "    \n",
    "страшнее, чем  \n",
    "    \n",
    "    предсказали, что клиент уйдёт, а он остался.  \n",
    "    \n",
    "Наряду с универсальной  Accuracy в этом исследовании пригодится метрика, в смысл которой вписана минимизация FN. Такой смысл заложен в формуле расчёта Recall (полноты)."
   ]
  },
  {
   "cell_type": "code",
   "execution_count": 14,
   "id": "a6df3f00",
   "metadata": {},
   "outputs": [
    {
     "name": "stdout",
     "output_type": "stream",
     "text": [
      "Полнота: 0.5\n",
      "F1-мера: 0.49880668257756566\n",
      "Accuracy 0.79\n"
     ]
    }
   ],
   "source": [
    "model = DecisionTreeClassifier(random_state=12345)\n",
    "model.fit(features_train, target_train)\n",
    "predicted_valid = model.predict(features_valid)\n",
    "print('Полнота:', recall_score(target_valid, predicted_valid))\n",
    "print('F1-мера:', f1_score(target_valid, predicted_valid))\n",
    "print('Accuracy', accuracy_score(target_valid, predicted_valid))"
   ]
  },
  {
   "cell_type": "code",
   "execution_count": 15,
   "id": "dcb57139",
   "metadata": {},
   "outputs": [
    {
     "name": "stdout",
     "output_type": "stream",
     "text": [
      "Полнота: 0.46172248803827753\n",
      "F1-мера: 0.5693215339233039\n",
      "Accuracy 0.854\n"
     ]
    }
   ],
   "source": [
    "model = RandomForestClassifier(random_state=12345)\n",
    "model.fit(features_train, target_train)\n",
    "predicted_valid = model.predict(features_valid)\n",
    "print('Полнота:', recall_score(target_valid, predicted_valid))\n",
    "print('F1-мера:', f1_score(target_valid, predicted_valid))\n",
    "print('Accuracy', accuracy_score(target_valid, predicted_valid))"
   ]
  },
  {
   "cell_type": "markdown",
   "id": "ceb82731",
   "metadata": {},
   "source": [
    "<div style=\"border:solid green 2px; padding: 20px\">\n",
    "ВЫВОД:\n",
    "Без учёта баланса классов точность, полнота и F1 нашей модели невысоки."
   ]
  },
  {
   "cell_type": "markdown",
   "id": "3e957dcd",
   "metadata": {},
   "source": [
    "<a id=\"4\"></a>\n",
    "### Подготовка сбалансированной выборки"
   ]
  },
  {
   "cell_type": "markdown",
   "id": "8f41bad7",
   "metadata": {},
   "source": [
    "Сначала посмотрим, какую долю от всех значений заанимают значения целевого признака. "
   ]
  },
  {
   "cell_type": "code",
   "execution_count": 16,
   "id": "d5e1cf13",
   "metadata": {},
   "outputs": [
    {
     "data": {
      "text/plain": [
       "0    0.7963\n",
       "1    0.2037\n",
       "Name: Exited, dtype: float64"
      ]
     },
     "execution_count": 16,
     "metadata": {},
     "output_type": "execute_result"
    }
   ],
   "source": [
    "data['Exited'].value_counts(normalize = True)"
   ]
  },
  {
   "cell_type": "markdown",
   "id": "0854dddb",
   "metadata": {},
   "source": [
    "80 на 20 — ушедших клиентов в датасете в четыре раза меньше, чем оставшихся.\n",
    "Налицо явная несбалансированность классов. Попробуем устранить эту проблему, использовав последовательно upsampling и downsampling.\n",
    "\n",
    "#### Upsampling"
   ]
  },
  {
   "cell_type": "code",
   "execution_count": 17,
   "id": "6a257025",
   "metadata": {},
   "outputs": [],
   "source": [
    "features_train_zeros = features_train[target == 0]\n",
    "features_train_ones = features_train[target == 1]\n",
    "target_train_zeros = target_train[target == 0]\n",
    "target_train_ones = target_train[target == 1]\n",
    "features_train_upsampled = pd.concat([features_train_zeros] + [features_train_ones] * 4)\n",
    "target_train_upsampled = pd.concat([target_train_zeros] + [target_train_ones] * 4)\n",
    "features_train, target_train = shuffle(\n",
    "        features_train_upsampled, target_train_upsampled, random_state=12345)"
   ]
  },
  {
   "cell_type": "code",
   "execution_count": 18,
   "id": "3129fbee",
   "metadata": {},
   "outputs": [
    {
     "data": {
      "text/html": [
       "<div>\n",
       "<style scoped>\n",
       "    .dataframe tbody tr th:only-of-type {\n",
       "        vertical-align: middle;\n",
       "    }\n",
       "\n",
       "    .dataframe tbody tr th {\n",
       "        vertical-align: top;\n",
       "    }\n",
       "\n",
       "    .dataframe thead th {\n",
       "        text-align: right;\n",
       "    }\n",
       "</style>\n",
       "<table border=\"1\" class=\"dataframe\">\n",
       "  <thead>\n",
       "    <tr style=\"text-align: right;\">\n",
       "      <th></th>\n",
       "      <th>CreditScore</th>\n",
       "      <th>Age</th>\n",
       "      <th>Tenure</th>\n",
       "      <th>Balance</th>\n",
       "      <th>NumOfProducts</th>\n",
       "      <th>HasCrCard</th>\n",
       "      <th>IsActiveMember</th>\n",
       "      <th>EstimatedSalary</th>\n",
       "      <th>Geography_Germany</th>\n",
       "      <th>Geography_Spain</th>\n",
       "      <th>Gender_Male</th>\n",
       "    </tr>\n",
       "  </thead>\n",
       "  <tbody>\n",
       "    <tr>\n",
       "      <th>3637</th>\n",
       "      <td>2.000228</td>\n",
       "      <td>1.240166</td>\n",
       "      <td>-0.789307</td>\n",
       "      <td>-1.233163</td>\n",
       "      <td>1</td>\n",
       "      <td>1</td>\n",
       "      <td>0</td>\n",
       "      <td>-1.173721</td>\n",
       "      <td>0</td>\n",
       "      <td>1</td>\n",
       "      <td>0</td>\n",
       "    </tr>\n",
       "    <tr>\n",
       "      <th>3248</th>\n",
       "      <td>-1.416376</td>\n",
       "      <td>-0.373192</td>\n",
       "      <td>-0.299855</td>\n",
       "      <td>0.838089</td>\n",
       "      <td>1</td>\n",
       "      <td>1</td>\n",
       "      <td>0</td>\n",
       "      <td>0.485993</td>\n",
       "      <td>0</td>\n",
       "      <td>0</td>\n",
       "      <td>1</td>\n",
       "    </tr>\n",
       "    <tr>\n",
       "      <th>7516</th>\n",
       "      <td>-0.087120</td>\n",
       "      <td>0.101325</td>\n",
       "      <td>-0.006183</td>\n",
       "      <td>0.267035</td>\n",
       "      <td>1</td>\n",
       "      <td>1</td>\n",
       "      <td>0</td>\n",
       "      <td>-0.443622</td>\n",
       "      <td>0</td>\n",
       "      <td>0</td>\n",
       "      <td>1</td>\n",
       "    </tr>\n",
       "    <tr>\n",
       "      <th>7542</th>\n",
       "      <td>-1.509840</td>\n",
       "      <td>-0.468095</td>\n",
       "      <td>-0.397745</td>\n",
       "      <td>-1.233163</td>\n",
       "      <td>2</td>\n",
       "      <td>1</td>\n",
       "      <td>1</td>\n",
       "      <td>-0.672132</td>\n",
       "      <td>0</td>\n",
       "      <td>1</td>\n",
       "      <td>0</td>\n",
       "    </tr>\n",
       "    <tr>\n",
       "      <th>3490</th>\n",
       "      <td>-2.070620</td>\n",
       "      <td>-0.942612</td>\n",
       "      <td>1.853735</td>\n",
       "      <td>-1.233163</td>\n",
       "      <td>1</td>\n",
       "      <td>0</td>\n",
       "      <td>0</td>\n",
       "      <td>1.712492</td>\n",
       "      <td>0</td>\n",
       "      <td>0</td>\n",
       "      <td>1</td>\n",
       "    </tr>\n",
       "    <tr>\n",
       "      <th>...</th>\n",
       "      <td>...</td>\n",
       "      <td>...</td>\n",
       "      <td>...</td>\n",
       "      <td>...</td>\n",
       "      <td>...</td>\n",
       "      <td>...</td>\n",
       "      <td>...</td>\n",
       "      <td>...</td>\n",
       "      <td>...</td>\n",
       "      <td>...</td>\n",
       "      <td>...</td>\n",
       "    </tr>\n",
       "    <tr>\n",
       "      <th>3636</th>\n",
       "      <td>0.110192</td>\n",
       "      <td>-0.752805</td>\n",
       "      <td>-0.397745</td>\n",
       "      <td>0.432005</td>\n",
       "      <td>2</td>\n",
       "      <td>0</td>\n",
       "      <td>1</td>\n",
       "      <td>-1.091412</td>\n",
       "      <td>0</td>\n",
       "      <td>1</td>\n",
       "      <td>1</td>\n",
       "    </tr>\n",
       "    <tr>\n",
       "      <th>9507</th>\n",
       "      <td>1.615990</td>\n",
       "      <td>0.196229</td>\n",
       "      <td>-0.789307</td>\n",
       "      <td>-1.233163</td>\n",
       "      <td>1</td>\n",
       "      <td>1</td>\n",
       "      <td>1</td>\n",
       "      <td>-0.339599</td>\n",
       "      <td>0</td>\n",
       "      <td>0</td>\n",
       "      <td>1</td>\n",
       "    </tr>\n",
       "    <tr>\n",
       "      <th>2870</th>\n",
       "      <td>0.567123</td>\n",
       "      <td>1.524876</td>\n",
       "      <td>-0.691416</td>\n",
       "      <td>-1.233163</td>\n",
       "      <td>2</td>\n",
       "      <td>0</td>\n",
       "      <td>1</td>\n",
       "      <td>-0.780877</td>\n",
       "      <td>0</td>\n",
       "      <td>0</td>\n",
       "      <td>0</td>\n",
       "    </tr>\n",
       "    <tr>\n",
       "      <th>5585</th>\n",
       "      <td>-2.288701</td>\n",
       "      <td>-0.088482</td>\n",
       "      <td>-0.593526</td>\n",
       "      <td>0.949276</td>\n",
       "      <td>2</td>\n",
       "      <td>1</td>\n",
       "      <td>1</td>\n",
       "      <td>-0.478714</td>\n",
       "      <td>1</td>\n",
       "      <td>0</td>\n",
       "      <td>1</td>\n",
       "    </tr>\n",
       "    <tr>\n",
       "      <th>9208</th>\n",
       "      <td>0.764435</td>\n",
       "      <td>0.480939</td>\n",
       "      <td>-0.593526</td>\n",
       "      <td>-1.233163</td>\n",
       "      <td>2</td>\n",
       "      <td>1</td>\n",
       "      <td>1</td>\n",
       "      <td>-1.260193</td>\n",
       "      <td>0</td>\n",
       "      <td>0</td>\n",
       "      <td>0</td>\n",
       "    </tr>\n",
       "  </tbody>\n",
       "</table>\n",
       "<p>9588 rows × 11 columns</p>\n",
       "</div>"
      ],
      "text/plain": [
       "      CreditScore       Age    Tenure   Balance  NumOfProducts  HasCrCard  \\\n",
       "3637     2.000228  1.240166 -0.789307 -1.233163              1          1   \n",
       "3248    -1.416376 -0.373192 -0.299855  0.838089              1          1   \n",
       "7516    -0.087120  0.101325 -0.006183  0.267035              1          1   \n",
       "7542    -1.509840 -0.468095 -0.397745 -1.233163              2          1   \n",
       "3490    -2.070620 -0.942612  1.853735 -1.233163              1          0   \n",
       "...           ...       ...       ...       ...            ...        ...   \n",
       "3636     0.110192 -0.752805 -0.397745  0.432005              2          0   \n",
       "9507     1.615990  0.196229 -0.789307 -1.233163              1          1   \n",
       "2870     0.567123  1.524876 -0.691416 -1.233163              2          0   \n",
       "5585    -2.288701 -0.088482 -0.593526  0.949276              2          1   \n",
       "9208     0.764435  0.480939 -0.593526 -1.233163              2          1   \n",
       "\n",
       "      IsActiveMember  EstimatedSalary  Geography_Germany  Geography_Spain  \\\n",
       "3637               0        -1.173721                  0                1   \n",
       "3248               0         0.485993                  0                0   \n",
       "7516               0        -0.443622                  0                0   \n",
       "7542               1        -0.672132                  0                1   \n",
       "3490               0         1.712492                  0                0   \n",
       "...              ...              ...                ...              ...   \n",
       "3636               1        -1.091412                  0                1   \n",
       "9507               1        -0.339599                  0                0   \n",
       "2870               1        -0.780877                  0                0   \n",
       "5585               1        -0.478714                  1                0   \n",
       "9208               1        -1.260193                  0                0   \n",
       "\n",
       "      Gender_Male  \n",
       "3637            0  \n",
       "3248            1  \n",
       "7516            1  \n",
       "7542            0  \n",
       "3490            1  \n",
       "...           ...  \n",
       "3636            1  \n",
       "9507            1  \n",
       "2870            0  \n",
       "5585            1  \n",
       "9208            0  \n",
       "\n",
       "[9588 rows x 11 columns]"
      ]
     },
     "execution_count": 18,
     "metadata": {},
     "output_type": "execute_result"
    }
   ],
   "source": [
    "features_train"
   ]
  },
  {
   "cell_type": "markdown",
   "id": "36e55cd9",
   "metadata": {},
   "source": [
    "В сбалансированной выборке посмотрим на соотношение долей классов"
   ]
  },
  {
   "cell_type": "code",
   "execution_count": 19,
   "id": "2c27af6f",
   "metadata": {},
   "outputs": [
    {
     "data": {
      "text/plain": [
       "0    0.501043\n",
       "1    0.498957\n",
       "Name: Exited, dtype: float64"
      ]
     },
     "execution_count": 19,
     "metadata": {},
     "output_type": "execute_result"
    }
   ],
   "source": [
    "target_train.value_counts(normalize = True)"
   ]
  },
  {
   "cell_type": "markdown",
   "id": "d521bfda",
   "metadata": {},
   "source": [
    "Почти 50 на 50. Такое соотношение классов допустимо. Сбалансированные выборки дадут следующие результаты метрик:"
   ]
  },
  {
   "cell_type": "code",
   "execution_count": 20,
   "id": "c26ed10c",
   "metadata": {},
   "outputs": [
    {
     "name": "stdout",
     "output_type": "stream",
     "text": [
      "Полнота: 0.48564593301435405\n",
      "F1: 0.49331713244228437\n",
      "Accuracy 0.7915\n"
     ]
    }
   ],
   "source": [
    "model = DecisionTreeClassifier(random_state=12345)\n",
    "model.fit(features_train, target_train)\n",
    "predicted_valid = model.predict(features_valid)\n",
    "print(\"Полнота:\", recall_score(target_valid, predicted_valid))\n",
    "print(\"F1:\", f1_score(target_valid, predicted_valid))\n",
    "print('Accuracy', accuracy_score(target_valid, predicted_valid))"
   ]
  },
  {
   "cell_type": "code",
   "execution_count": 21,
   "id": "9d914c10",
   "metadata": {},
   "outputs": [
    {
     "name": "stdout",
     "output_type": "stream",
     "text": [
      "Полнота: 0.5406698564593302\n",
      "F1: 0.601063829787234\n",
      "Accuracy 0.85\n"
     ]
    }
   ],
   "source": [
    "model = RandomForestClassifier(random_state=12345)\n",
    "model.fit(features_train, target_train)\n",
    "predicted_valid = model.predict(features_valid)\n",
    "print(\"Полнота:\", recall_score(target_valid, predicted_valid))\n",
    "print(\"F1:\", f1_score(target_valid, predicted_valid))\n",
    "print('Accuracy', accuracy_score(target_valid, predicted_valid))"
   ]
  },
  {
   "cell_type": "markdown",
   "id": "f54e361e",
   "metadata": {},
   "source": [
    "<div style=\"border:solid green 2px; padding: 20px\">\n",
    "Модель случайного леса ожидаемо даёт лучшие результаты. Далее будем работать только с ней."
   ]
  },
  {
   "cell_type": "markdown",
   "id": "68f60637",
   "metadata": {},
   "source": [
    "#### Downsampling"
   ]
  },
  {
   "cell_type": "code",
   "execution_count": 22,
   "id": "4332caad",
   "metadata": {},
   "outputs": [
    {
     "data": {
      "text/plain": [
       "0    0.501043\n",
       "1    0.498957\n",
       "Name: Exited, dtype: float64"
      ]
     },
     "execution_count": 22,
     "metadata": {},
     "output_type": "execute_result"
    }
   ],
   "source": [
    "features_downsampled = pd.concat([features_train_zeros.sample(frac=0.25, random_state=12345)] + [features_train_ones])\n",
    "target_downsampled = pd.concat([target_train_zeros.sample(frac=0.25, random_state=12345)] + [target_train_ones])\n",
    "features_downsampled, target_downsampled = shuffle(features_downsampled, target_downsampled, random_state=12345)\n",
    "\n",
    "target_downsampled.value_counts(normalize = True)"
   ]
  },
  {
   "cell_type": "code",
   "execution_count": 23,
   "id": "b34e297b",
   "metadata": {},
   "outputs": [
    {
     "name": "stdout",
     "output_type": "stream",
     "text": [
      "Полнота: 0.7392344497607656\n",
      "F1: 0.5841209829867675\n",
      "Accuracy 0.78\n"
     ]
    }
   ],
   "source": [
    "model1 = RandomForestClassifier(random_state=12345)\n",
    "model1.fit(features_downsampled, target_downsampled)\n",
    "predicted_valid = model1.predict(features_valid)\n",
    "print(\"Полнота:\", recall_score(target_valid, predicted_valid))\n",
    "print(\"F1:\", f1_score(target_valid, predicted_valid))\n",
    "print('Accuracy', accuracy_score(target_valid, predicted_valid))"
   ]
  },
  {
   "cell_type": "markdown",
   "id": "ece608fd",
   "metadata": {},
   "source": [
    "<a id=\"3\"></a>\n",
    "### Подбор гиперпараметров"
   ]
  },
  {
   "cell_type": "markdown",
   "id": "8f0bb5c4",
   "metadata": {},
   "source": [
    "Подбор гиперпараметров модели, обученной на уменьшенных данных."
   ]
  },
  {
   "cell_type": "markdown",
   "id": "38d55f25",
   "metadata": {},
   "source": [
    "Сориентируемся, как ведут себя результаты на разных интервалах значений гиперпараметров. Более пристально рассмотрим необходимые значения вложенным циклом."
   ]
  },
  {
   "cell_type": "code",
   "execution_count": 24,
   "id": "d75b2410",
   "metadata": {},
   "outputs": [
    {
     "name": "stdout",
     "output_type": "stream",
     "text": [
      "Лучшая F1 модели: 0.6291666666666668 , при максимальной глубине дерева: 8 , и максимальном количестве деревьев: 25\n"
     ]
    }
   ],
   "source": [
    "best_model = None\n",
    "best_result = 0 \n",
    "for depth in range(1, 10, 1):\n",
    "    for n in range(1, 30, 1):\n",
    "        model = RandomForestClassifier(max_depth=depth, random_state=12345, n_estimators = n)\n",
    "        model.fit(features_train, target_train)\n",
    "        predicted_valid = model.predict(features_valid)\n",
    "        result = f1_score(target_valid, predicted_valid)\n",
    "        if result > best_result:\n",
    "            best_model = model\n",
    "            best_result = result\n",
    "            best_depth = depth\n",
    "            best_n = n\n",
    "print(\"Лучшая F1 модели:\", best_result, ', при максимальной глубине дерева:', best_depth, \", и максимальном количестве деревьев:\", best_n)       "
   ]
  },
  {
   "cell_type": "markdown",
   "id": "ebdde23c",
   "metadata": {},
   "source": [
    "Итак, подобранные гиперпараметры:  \n",
    "    **Глубина дерева: 8**  \n",
    "    **Максимальное количество деревьев: 25**  \n",
    "\n",
    "Обучим и проверим эффективность модели с подобранными гиперпараметрами на тестовой выборке."
   ]
  },
  {
   "cell_type": "code",
   "execution_count": 25,
   "id": "9080737f",
   "metadata": {},
   "outputs": [
    {
     "name": "stdout",
     "output_type": "stream",
     "text": [
      "Полнота: 0.6855791962174941\n",
      "Accuracy: 0.8055\n",
      "F1: 0.5985552115583075\n"
     ]
    }
   ],
   "source": [
    "model = RandomForestClassifier(n_estimators=25, max_depth=8, random_state=12345)\n",
    "model.fit(features_train, target_train)\n",
    "predicted_test = model.predict(features_test)\n",
    "print(\"Полнота:\", recall_score(target_test, predicted_test))\n",
    "print(\"Accuracy:\",accuracy_score(target_test, predicted_test))\n",
    "print(\"F1:\", f1_score(target_test, predicted_test))"
   ]
  },
  {
   "cell_type": "markdown",
   "id": "9b5eebde",
   "metadata": {},
   "source": [
    "<a id=\"2\"></a>\n",
    "### Итоговая проверка\n",
    "\n",
    "Выполним проверку модели, обучив её на 75% известных данных."
   ]
  },
  {
   "cell_type": "code",
   "execution_count": 26,
   "id": "f2f5b306",
   "metadata": {},
   "outputs": [
    {
     "name": "stdout",
     "output_type": "stream",
     "text": [
      "Полнота: 0.6832151300236406\n",
      "Accuracy 0.804\n",
      "F1: 0.5958762886597939\n"
     ]
    }
   ],
   "source": [
    "features_train_final = pd.concat([features_train, features_valid], ignore_index = True)\n",
    "target_train_final = pd.concat([target_train, target_valid], ignore_index = True)\n",
    "\n",
    "model = RandomForestClassifier(n_estimators=25, max_depth=8, random_state=12345, class_weight = 'balanced')\n",
    "model.fit(features_train_final, target_train_final)\n",
    "predicted_test = model.predict(features_test)\n",
    "print(\"Полнота:\", recall_score(target_test, predicted_test))\n",
    "print(\"Accuracy\",accuracy_score(target_test, predicted_test))\n",
    "print(\"F1:\", f1_score(target_test, predicted_test))"
   ]
  },
  {
   "cell_type": "markdown",
   "id": "5ec08b60",
   "metadata": {},
   "source": [
    "#### Визуализация ROC-кривой"
   ]
  },
  {
   "cell_type": "code",
   "execution_count": 28,
   "id": "5d97cf7f",
   "metadata": {},
   "outputs": [
    {
     "data": {
      "image/png": "[encoded data removed]",
      "text/plain": [
       "<Figure size 432x288 with 1 Axes>"
      ]
     },
     "metadata": {
      "needs_background": "light"
     },
     "output_type": "display_data"
    }
   ],
   "source": [
    "probabilities_test = model.predict_proba(features_test)\n",
    "probabilities_one_test = probabilities_test[:, 1]\n",
    "\n",
    "fpr, tpr, thresholds = roc_curve(target_test, probabilities_one_test)\n",
    "\n",
    "plt.figure()\n",
    "plt.plot([0, 1], [0, 1], linestyle='--')\n",
    "plt.plot(fpr, tpr)\n",
    "plt.xlim([0.0, 1.0])\n",
    "plt.ylim([0.0, 1.0])\n",
    "plt.xlabel('False Positive Rate')\n",
    "plt.ylabel('True Positive Rate')\n",
    "plt.title('ROC-кривая')\n",
    "plt.show()"
   ]
  },
  {
   "cell_type": "code",
   "execution_count": 29,
   "id": "30a92e2c",
   "metadata": {},
   "outputs": [
    {
     "name": "stdout",
     "output_type": "stream",
     "text": [
      "ROC-AUC 0.8547793263385756\n"
     ]
    }
   ],
   "source": [
    "print(\"ROC-AUC\", roc_auc_score(target_test, probabilities_one_test))"
   ]
  },
  {
   "cell_type": "markdown",
   "id": "9bf991a0",
   "metadata": {},
   "source": [
    "<a id=\"1\"></a>\n",
    "### Вывод\n",
    "\n",
    "Проанализировав модель, мы подобрали такие гиперпараметры, которые сделали нашу модель максимально эффективной, то есть сделали F1-меру максимально высокой, при этом полнота: 0.71, точность: 0.83. \n",
    "Обученная в результате работы модель будет полезна при необходимости вычленить возможных нелояльных клиентов банка, что позволит маркетологам удержать их путём своевременного предложения дополнительных продуктов и/или услуг, а значит предотвратит потерю клиентов Банком А."
   ]
  }
 ],
 "metadata": {
  "ExecuteTimeLog": [
   {
    "duration": 78,
    "start_time": "2021-09-09T18:14:31.318Z"
   },
   {
    "duration": 459,
    "start_time": "2021-09-10T12:40:46.947Z"
   },
   {
    "duration": 1498,
    "start_time": "2021-09-10T12:40:54.577Z"
   },
   {
    "duration": 89,
    "start_time": "2021-09-10T12:40:56.078Z"
   },
   {
    "duration": 24,
    "start_time": "2021-09-10T12:40:56.170Z"
   },
   {
    "duration": 351,
    "start_time": "2021-09-10T12:40:56.196Z"
   },
   {
    "duration": 31,
    "start_time": "2021-09-10T12:40:56.550Z"
   },
   {
    "duration": 79,
    "start_time": "2021-09-10T12:40:56.583Z"
   },
   {
    "duration": 16,
    "start_time": "2021-09-10T12:40:56.664Z"
   },
   {
    "duration": 79,
    "start_time": "2021-09-10T12:40:56.685Z"
   },
   {
    "duration": 24,
    "start_time": "2021-09-10T12:40:56.767Z"
   },
   {
    "duration": 47,
    "start_time": "2021-09-10T12:40:56.793Z"
   },
   {
    "duration": 82,
    "start_time": "2021-09-10T12:40:56.843Z"
   },
   {
    "duration": 145,
    "start_time": "2021-09-10T12:40:56.928Z"
   },
   {
    "duration": 15,
    "start_time": "2021-09-10T12:40:57.075Z"
   },
   {
    "duration": 46,
    "start_time": "2021-09-10T12:40:57.092Z"
   },
   {
    "duration": 23,
    "start_time": "2021-09-10T12:40:57.140Z"
   },
   {
    "duration": 7,
    "start_time": "2021-09-10T12:40:57.165Z"
   },
   {
    "duration": 95,
    "start_time": "2021-09-10T12:40:57.175Z"
   },
   {
    "duration": 181,
    "start_time": "2021-09-10T12:40:57.272Z"
   },
   {
    "duration": 1441,
    "start_time": "2021-09-10T12:40:57.455Z"
   },
   {
    "duration": 4990,
    "start_time": "2021-09-10T12:40:58.899Z"
   },
   {
    "duration": 31771,
    "start_time": "2021-09-10T12:41:03.891Z"
   },
   {
    "duration": 284,
    "start_time": "2021-09-10T12:41:35.664Z"
   },
   {
    "duration": 244,
    "start_time": "2021-09-10T12:41:35.952Z"
   },
   {
    "duration": 584,
    "start_time": "2021-09-10T12:45:02.258Z"
   },
   {
    "duration": 35,
    "start_time": "2021-09-10T12:45:11.034Z"
   },
   {
    "duration": 454,
    "start_time": "2021-09-10T12:45:15.485Z"
   },
   {
    "duration": 419,
    "start_time": "2021-09-10T12:45:38.493Z"
   },
   {
    "duration": 421,
    "start_time": "2021-09-10T12:46:29.958Z"
   },
   {
    "duration": 391,
    "start_time": "2021-09-10T12:46:57.886Z"
   },
   {
    "duration": 44,
    "start_time": "2021-09-10T12:47:10.432Z"
   },
   {
    "duration": 404,
    "start_time": "2021-09-10T12:48:13.128Z"
   },
   {
    "duration": 6308,
    "start_time": "2021-09-10T12:48:55.252Z"
   },
   {
    "duration": 27,
    "start_time": "2021-09-10T12:49:41.764Z"
   },
   {
    "duration": 28,
    "start_time": "2021-09-10T12:49:50.261Z"
   },
   {
    "duration": 30,
    "start_time": "2021-09-10T12:50:01.445Z"
   },
   {
    "duration": 27,
    "start_time": "2021-09-10T12:50:38.861Z"
   },
   {
    "duration": 32,
    "start_time": "2021-09-10T12:51:39.095Z"
   },
   {
    "duration": 31,
    "start_time": "2021-09-10T12:52:03.394Z"
   },
   {
    "duration": 20,
    "start_time": "2021-09-10T12:52:30.626Z"
   },
   {
    "duration": 402,
    "start_time": "2021-09-10T12:52:55.729Z"
   },
   {
    "duration": 19,
    "start_time": "2021-09-10T12:53:18.625Z"
   },
   {
    "duration": 21,
    "start_time": "2021-09-10T12:53:57.733Z"
   },
   {
    "duration": 19,
    "start_time": "2021-09-10T12:54:06.857Z"
   },
   {
    "duration": 19,
    "start_time": "2021-09-10T12:55:19.705Z"
   },
   {
    "duration": 382,
    "start_time": "2021-09-10T12:57:25.147Z"
   },
   {
    "duration": 62,
    "start_time": "2021-09-10T12:57:29.626Z"
   },
   {
    "duration": 718,
    "start_time": "2021-09-10T12:57:32.686Z"
   },
   {
    "duration": 74,
    "start_time": "2021-09-10T12:57:55.016Z"
   },
   {
    "duration": 459,
    "start_time": "2021-09-10T13:03:08.578Z"
   },
   {
    "duration": 511,
    "start_time": "2021-09-10T13:03:23.893Z"
   },
   {
    "duration": 1420,
    "start_time": "2021-09-10T13:03:27.036Z"
   },
   {
    "duration": 88,
    "start_time": "2021-09-10T13:03:28.459Z"
   },
   {
    "duration": 27,
    "start_time": "2021-09-10T13:03:28.551Z"
   },
   {
    "duration": 327,
    "start_time": "2021-09-10T13:03:28.581Z"
   },
   {
    "duration": 36,
    "start_time": "2021-09-10T13:03:28.916Z"
   },
   {
    "duration": 67,
    "start_time": "2021-09-10T13:03:28.955Z"
   },
   {
    "duration": 17,
    "start_time": "2021-09-10T13:03:29.025Z"
   },
   {
    "duration": 48,
    "start_time": "2021-09-10T13:03:29.045Z"
   },
   {
    "duration": 29,
    "start_time": "2021-09-10T13:03:29.118Z"
   },
   {
    "duration": 24,
    "start_time": "2021-09-10T13:03:29.149Z"
   },
   {
    "duration": 90,
    "start_time": "2021-09-10T13:03:29.175Z"
   },
   {
    "duration": 126,
    "start_time": "2021-09-10T13:03:29.268Z"
   },
   {
    "duration": 22,
    "start_time": "2021-09-10T13:03:29.396Z"
   },
   {
    "duration": 55,
    "start_time": "2021-09-10T13:03:29.421Z"
   },
   {
    "duration": 636,
    "start_time": "2021-09-10T13:03:29.479Z"
   },
   {
    "duration": -14712549,
    "start_time": "2021-09-10T17:08:42.667Z"
   },
   {
    "duration": -14712579,
    "start_time": "2021-09-10T17:08:42.699Z"
   },
   {
    "duration": -14712595,
    "start_time": "2021-09-10T17:08:42.717Z"
   },
   {
    "duration": -14712610,
    "start_time": "2021-09-10T17:08:42.733Z"
   },
   {
    "duration": -14712616,
    "start_time": "2021-09-10T17:08:42.741Z"
   },
   {
    "duration": -14712618,
    "start_time": "2021-09-10T17:08:42.745Z"
   },
   {
    "duration": -14712621,
    "start_time": "2021-09-10T17:08:42.750Z"
   },
   {
    "duration": -14712624,
    "start_time": "2021-09-10T17:08:42.755Z"
   },
   {
    "duration": -14712625,
    "start_time": "2021-09-10T17:08:42.759Z"
   },
   {
    "duration": 25,
    "start_time": "2021-09-10T13:03:48.793Z"
   },
   {
    "duration": 9,
    "start_time": "2021-09-10T13:04:29.165Z"
   },
   {
    "duration": 6,
    "start_time": "2021-09-10T13:05:13.458Z"
   },
   {
    "duration": 7,
    "start_time": "2021-09-10T13:05:26.434Z"
   },
   {
    "duration": 6,
    "start_time": "2021-09-10T13:05:54.690Z"
   },
   {
    "duration": 19,
    "start_time": "2021-09-10T13:06:48.210Z"
   },
   {
    "duration": 24,
    "start_time": "2021-09-10T13:08:18.716Z"
   },
   {
    "duration": 66,
    "start_time": "2021-09-10T13:08:48.332Z"
   },
   {
    "duration": 160,
    "start_time": "2021-09-10T13:09:10.054Z"
   },
   {
    "duration": 127,
    "start_time": "2021-09-10T13:10:24.258Z"
   },
   {
    "duration": 120,
    "start_time": "2021-09-10T13:11:19.291Z"
   },
   {
    "duration": 66,
    "start_time": "2021-09-10T13:11:55.917Z"
   },
   {
    "duration": 14293,
    "start_time": "2021-09-10T13:13:48.135Z"
   },
   {
    "duration": 14114,
    "start_time": "2021-09-10T13:14:46.810Z"
   },
   {
    "duration": 100,
    "start_time": "2021-09-10T13:15:36.531Z"
   },
   {
    "duration": 112,
    "start_time": "2021-09-10T13:19:06.693Z"
   },
   {
    "duration": 1328,
    "start_time": "2021-09-10T13:19:14.289Z"
   },
   {
    "duration": 5262,
    "start_time": "2021-09-10T13:19:18.870Z"
   },
   {
    "duration": 32612,
    "start_time": "2021-09-10T13:19:24.135Z"
   },
   {
    "duration": 307,
    "start_time": "2021-09-10T13:20:27.338Z"
   },
   {
    "duration": 281,
    "start_time": "2021-09-10T13:20:39.692Z"
   },
   {
    "duration": 1818,
    "start_time": "2021-09-10T13:21:04.223Z"
   },
   {
    "duration": 105,
    "start_time": "2021-09-10T13:21:06.044Z"
   },
   {
    "duration": 25,
    "start_time": "2021-09-10T13:21:06.152Z"
   },
   {
    "duration": 331,
    "start_time": "2021-09-10T13:21:06.180Z"
   },
   {
    "duration": 32,
    "start_time": "2021-09-10T13:21:06.513Z"
   },
   {
    "duration": 53,
    "start_time": "2021-09-10T13:21:06.548Z"
   },
   {
    "duration": 26,
    "start_time": "2021-09-10T13:21:06.603Z"
   },
   {
    "duration": 51,
    "start_time": "2021-09-10T13:21:06.633Z"
   },
   {
    "duration": 32,
    "start_time": "2021-09-10T13:21:06.687Z"
   },
   {
    "duration": 24,
    "start_time": "2021-09-10T13:21:06.722Z"
   },
   {
    "duration": 53,
    "start_time": "2021-09-10T13:21:06.749Z"
   },
   {
    "duration": 123,
    "start_time": "2021-09-10T13:21:06.805Z"
   },
   {
    "duration": 14,
    "start_time": "2021-09-10T13:21:06.930Z"
   },
   {
    "duration": 20,
    "start_time": "2021-09-10T13:21:06.946Z"
   },
   {
    "duration": 24,
    "start_time": "2021-09-10T13:21:06.968Z"
   },
   {
    "duration": 912,
    "start_time": "2021-09-10T13:21:06.994Z"
   },
   {
    "duration": -14712782,
    "start_time": "2021-09-10T17:26:20.691Z"
   },
   {
    "duration": -14712787,
    "start_time": "2021-09-10T17:26:20.697Z"
   },
   {
    "duration": -14712789,
    "start_time": "2021-09-10T17:26:20.701Z"
   },
   {
    "duration": -14712790,
    "start_time": "2021-09-10T17:26:20.704Z"
   },
   {
    "duration": -14712792,
    "start_time": "2021-09-10T17:26:20.707Z"
   },
   {
    "duration": -14712795,
    "start_time": "2021-09-10T17:26:20.712Z"
   },
   {
    "duration": -14712798,
    "start_time": "2021-09-10T17:26:20.716Z"
   },
   {
    "duration": -14712799,
    "start_time": "2021-09-10T17:26:20.719Z"
   },
   {
    "duration": -14712801,
    "start_time": "2021-09-10T17:26:20.722Z"
   },
   {
    "duration": -14712802,
    "start_time": "2021-09-10T17:26:20.725Z"
   },
   {
    "duration": -14712804,
    "start_time": "2021-09-10T17:26:20.728Z"
   },
   {
    "duration": 9,
    "start_time": "2021-09-10T13:24:22.744Z"
   },
   {
    "duration": 69,
    "start_time": "2021-09-10T13:24:25.350Z"
   },
   {
    "duration": 157,
    "start_time": "2021-09-10T13:24:29.137Z"
   },
   {
    "duration": 18,
    "start_time": "2021-09-10T13:24:35.051Z"
   },
   {
    "duration": 67,
    "start_time": "2021-09-10T13:24:38.107Z"
   },
   {
    "duration": 15225,
    "start_time": "2021-09-10T13:24:42.349Z"
   },
   {
    "duration": 123,
    "start_time": "2021-09-10T13:25:03.201Z"
   },
   {
    "duration": 1759,
    "start_time": "2021-09-10T13:25:14.781Z"
   },
   {
    "duration": 6369,
    "start_time": "2021-09-10T13:25:18.354Z"
   },
   {
    "duration": 35043,
    "start_time": "2021-09-10T13:25:24.726Z"
   },
   {
    "duration": 305,
    "start_time": "2021-09-10T13:26:20.367Z"
   },
   {
    "duration": 105,
    "start_time": "2021-09-10T13:26:46.519Z"
   },
   {
    "duration": 106,
    "start_time": "2021-09-10T13:27:08.694Z"
   },
   {
    "duration": 1560,
    "start_time": "2021-09-10T13:27:16.695Z"
   },
   {
    "duration": 4929,
    "start_time": "2021-09-10T13:27:32.449Z"
   },
   {
    "duration": 32773,
    "start_time": "2021-09-10T13:27:57.744Z"
   },
   {
    "duration": 279,
    "start_time": "2021-09-10T13:28:55.386Z"
   },
   {
    "duration": 246,
    "start_time": "2021-09-10T13:29:02.352Z"
   },
   {
    "duration": 125,
    "start_time": "2021-09-10T13:30:15.157Z"
   },
   {
    "duration": 237,
    "start_time": "2021-09-10T13:30:41.441Z"
   },
   {
    "duration": 119,
    "start_time": "2021-09-10T13:33:13.562Z"
   },
   {
    "duration": 442,
    "start_time": "2021-09-10T13:34:23.403Z"
   },
   {
    "duration": 981,
    "start_time": "2021-09-10T13:35:18.131Z"
   },
   {
    "duration": 1101,
    "start_time": "2021-09-10T13:35:40.137Z"
   },
   {
    "duration": 643,
    "start_time": "2021-09-10T13:35:57.256Z"
   },
   {
    "duration": 422,
    "start_time": "2021-09-10T13:40:50.838Z"
   },
   {
    "duration": 294,
    "start_time": "2021-09-10T13:41:27.703Z"
   },
   {
    "duration": 412,
    "start_time": "2021-09-10T13:42:48.938Z"
   },
   {
    "duration": 401,
    "start_time": "2021-09-10T13:43:41.856Z"
   },
   {
    "duration": 113,
    "start_time": "2021-09-10T13:44:01.786Z"
   },
   {
    "duration": 269,
    "start_time": "2021-09-10T13:44:05.522Z"
   },
   {
    "duration": 266,
    "start_time": "2021-09-10T13:44:40.116Z"
   },
   {
    "duration": 135,
    "start_time": "2021-09-10T13:45:39.600Z"
   },
   {
    "duration": 1542,
    "start_time": "2021-09-10T13:45:57.794Z"
   },
   {
    "duration": 74,
    "start_time": "2021-09-10T13:45:59.339Z"
   },
   {
    "duration": 24,
    "start_time": "2021-09-10T13:45:59.415Z"
   },
   {
    "duration": 294,
    "start_time": "2021-09-10T13:45:59.442Z"
   },
   {
    "duration": 29,
    "start_time": "2021-09-10T13:45:59.738Z"
   },
   {
    "duration": 63,
    "start_time": "2021-09-10T13:45:59.770Z"
   },
   {
    "duration": 16,
    "start_time": "2021-09-10T13:45:59.835Z"
   },
   {
    "duration": 69,
    "start_time": "2021-09-10T13:45:59.854Z"
   },
   {
    "duration": 24,
    "start_time": "2021-09-10T13:45:59.926Z"
   },
   {
    "duration": 24,
    "start_time": "2021-09-10T13:45:59.953Z"
   },
   {
    "duration": 84,
    "start_time": "2021-09-10T13:45:59.980Z"
   },
   {
    "duration": 126,
    "start_time": "2021-09-10T13:46:00.066Z"
   },
   {
    "duration": 23,
    "start_time": "2021-09-10T13:46:00.195Z"
   },
   {
    "duration": 21,
    "start_time": "2021-09-10T13:46:00.220Z"
   },
   {
    "duration": 23,
    "start_time": "2021-09-10T13:46:00.243Z"
   },
   {
    "duration": 20,
    "start_time": "2021-09-10T13:46:00.268Z"
   },
   {
    "duration": 86,
    "start_time": "2021-09-10T13:46:00.290Z"
   },
   {
    "duration": 205,
    "start_time": "2021-09-10T13:46:00.378Z"
   },
   {
    "duration": 30,
    "start_time": "2021-09-10T13:46:00.586Z"
   },
   {
    "duration": 68,
    "start_time": "2021-09-10T13:46:00.619Z"
   },
   {
    "duration": 14467,
    "start_time": "2021-09-10T13:46:00.689Z"
   },
   {
    "duration": 102,
    "start_time": "2021-09-10T13:46:15.159Z"
   },
   {
    "duration": 1344,
    "start_time": "2021-09-10T13:46:15.265Z"
   },
   {
    "duration": 4560,
    "start_time": "2021-09-10T13:46:16.612Z"
   },
   {
    "duration": 30858,
    "start_time": "2021-09-10T13:46:21.174Z"
   },
   {
    "duration": 319,
    "start_time": "2021-09-10T13:46:52.036Z"
   },
   {
    "duration": 358,
    "start_time": "2021-09-10T13:46:52.358Z"
   },
   {
    "duration": 300,
    "start_time": "2021-09-10T13:46:52.718Z"
   },
   {
    "duration": 292,
    "start_time": "2021-09-12T10:03:09.361Z"
   },
   {
    "duration": 1271,
    "start_time": "2021-09-12T10:03:25.785Z"
   },
   {
    "duration": 54,
    "start_time": "2021-09-12T10:03:27.058Z"
   },
   {
    "duration": 17,
    "start_time": "2021-09-12T10:03:27.114Z"
   },
   {
    "duration": 173,
    "start_time": "2021-09-12T10:03:27.133Z"
   },
   {
    "duration": 20,
    "start_time": "2021-09-12T10:03:27.308Z"
   },
   {
    "duration": 29,
    "start_time": "2021-09-12T10:03:27.330Z"
   },
   {
    "duration": 32,
    "start_time": "2021-09-12T10:03:27.361Z"
   },
   {
    "duration": 32,
    "start_time": "2021-09-12T10:03:27.395Z"
   },
   {
    "duration": 16,
    "start_time": "2021-09-12T10:03:27.430Z"
   },
   {
    "duration": 15,
    "start_time": "2021-09-12T10:03:27.448Z"
   },
   {
    "duration": 39,
    "start_time": "2021-09-12T10:03:27.492Z"
   },
   {
    "duration": 94,
    "start_time": "2021-09-12T10:03:27.533Z"
   },
   {
    "duration": 7,
    "start_time": "2021-09-12T10:03:27.628Z"
   },
   {
    "duration": 15,
    "start_time": "2021-09-12T10:03:27.637Z"
   },
   {
    "duration": 14,
    "start_time": "2021-09-12T10:03:27.653Z"
   },
   {
    "duration": 28,
    "start_time": "2021-09-12T10:03:27.668Z"
   },
   {
    "duration": 58,
    "start_time": "2021-09-12T10:03:27.699Z"
   },
   {
    "duration": 176,
    "start_time": "2021-09-12T10:03:27.759Z"
   },
   {
    "duration": 17,
    "start_time": "2021-09-12T10:03:27.937Z"
   },
   {
    "duration": 78,
    "start_time": "2021-09-12T10:03:27.956Z"
   },
   {
    "duration": 13748,
    "start_time": "2021-09-12T10:03:28.036Z"
   },
   {
    "duration": 87,
    "start_time": "2021-09-12T10:03:41.786Z"
   },
   {
    "duration": 1304,
    "start_time": "2021-09-12T10:03:41.875Z"
   },
   {
    "duration": 3114,
    "start_time": "2021-09-12T10:03:43.181Z"
   },
   {
    "duration": 20310,
    "start_time": "2021-09-12T10:03:46.297Z"
   },
   {
    "duration": 190,
    "start_time": "2021-09-12T10:04:06.609Z"
   },
   {
    "duration": 223,
    "start_time": "2021-09-12T10:04:06.802Z"
   },
   {
    "duration": 182,
    "start_time": "2021-09-12T10:04:07.027Z"
   },
   {
    "duration": 6,
    "start_time": "2021-09-12T10:04:07.211Z"
   }
  ],
  "kernelspec": {
   "display_name": "Python 3 (ipykernel)",
   "language": "python",
   "name": "python3"
  },
  "language_info": {
   "codemirror_mode": {
    "name": "ipython",
    "version": 3
   },
   "file_extension": ".py",
   "mimetype": "text/x-python",
   "name": "python",
   "nbconvert_exporter": "python",
   "pygments_lexer": "ipython3",
   "version": "3.9.7"
  },
  "toc": {
   "base_numbering": 1,
   "nav_menu": {},
   "number_sections": true,
   "sideBar": true,
   "skip_h1_title": true,
   "title_cell": "Table of Contents",
   "title_sidebar": "Contents",
   "toc_cell": false,
   "toc_position": {},
   "toc_section_display": true,
   "toc_window_display": false
  }
 },
 "nbformat": 4,
 "nbformat_minor": 5
}
